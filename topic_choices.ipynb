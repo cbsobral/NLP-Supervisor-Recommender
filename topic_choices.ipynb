{
  "nbformat": 4,
  "nbformat_minor": 0,
  "metadata": {
    "colab": {
      "name": "topic_choices",
      "provenance": [],
      "collapsed_sections": [
        "CjWKu9FTOuOm",
        "MKybSxIEVSIK",
        "DlpwYwr6Qw-X"
      ],
      "include_colab_link": true
    },
    "kernelspec": {
      "display_name": "Python 3",
      "name": "python3"
    }
  },
  "cells": [
    {
      "cell_type": "markdown",
      "metadata": {
        "id": "view-in-github",
        "colab_type": "text"
      },
      "source": [
        "<a href=\"https://colab.research.google.com/github/cbsobral/python/blob/master/topic_choices.ipynb\" target=\"_parent\"><img src=\"https://colab.research.google.com/assets/colab-badge.svg\" alt=\"Open In Colab\"/></a>"
      ]
    },
    {
      "cell_type": "markdown",
      "metadata": {
        "id": "F_ZS-wYopk8j"
      },
      "source": [
        "# **Supervisor Recommendation Tool - Midterm Report**\n",
        "\n",
        "In this script, we use \"The Natural Language Toolkit\" ([nltk](https://www.nltk.org/)) and  [Gensim](https://radimrehurek.com/gensim/) packages to employ Topic Modelling techniques for  classifying the content of the 31 supervisor plans – downloaded from the Hertie School’s mystudies database – into different topics. \n",
        "\n",
        "These supervisor plans compose the “corpus” of the work, from which we derive a model that associates topics and supervisors through a propensity score.\n",
        "\n",
        "Then, we apply the model to the text of a student's research proposal, to extract the best matches between their interests and the topics of our model. \n",
        "\n",
        "Finally, we recommend three supervisors that match the student's most prominent topic interest.\n",
        "\n",
        "Topic modelling is based on the  assumption that each document in a text is a combination of certain topics and that each topic is a combination of related words.\n",
        "\n",
        "The objective of this script is to extract the underlying topics from the collection of Master Thesis Colloquia Supervisor's plans and compare them to the underlying topics of a student’s research proposal. \n",
        "\n",
        "Due to the scope of  our project, our aim is to unveil topics that best represent research interests and/or research methodologies, as these are the main criteria for optimal matching of students and supervisors.\n",
        "\n"
      ]
    },
    {
      "cell_type": "markdown",
      "metadata": {
        "id": "w30m8ygSecD7"
      },
      "source": [
        "## Data"
      ]
    },
    {
      "cell_type": "code",
      "metadata": {
        "id": "sF-gEBJTYGdm"
      },
      "source": [
        "# install and update packages\n",
        "#!pip install pyLDAvis\n",
        "#!pip install -U gensim"
      ],
      "execution_count": null,
      "outputs": []
    },
    {
      "cell_type": "markdown",
      "metadata": {
        "id": "M0MZfd54uvXD"
      },
      "source": [
        "First, we saved the supervisor plans that were downloaded as .pdf in .txt format. \n",
        "\n",
        "\n",
        "Then, we uploaded the texts to a G-drive, and imported them to define our corpus.\n",
        "\n"
      ]
    },
    {
      "cell_type": "code",
      "metadata": {
        "id": "fkuQ6ee1ebES",
        "outputId": "083052e3-6f33-4f70-af8a-833091f90aad",
        "colab": {
          "base_uri": "https://localhost:8080/",
          "height": 54
        }
      },
      "source": [
        "# import supervision plans from drive\n",
        "import nltk\n",
        "from nltk.corpus import PlaintextCorpusReader\n",
        "url = (r'/content/drive/My Drive/data/')\n",
        "corpus_list = PlaintextCorpusReader(url, '.*txt')  # Import all files ending in 'txt'\n",
        "\n",
        "print(corpus_list.fileids())\n"
      ],
      "execution_count": null,
      "outputs": [
        {
          "output_type": "stream",
          "text": [
            "['Anheier.txt', 'Bryson.txt', 'Cali.txt', 'Cingolani.txt', 'Costello.txt', 'Dawson.txt', 'Flachsland.txt', 'GohdesHW.txt', 'Graf.txt', 'Hallerberg.txt', 'Hammerschmid.txt', 'Hassel.txt', 'Hirth.txt', 'Hustedt.txt', 'Iacovone.txt', 'Jachtenfuchs.txt', 'Jankin.txt', 'Kayser.txt', 'Kreyenfeld.txt', 'Mair.txt', 'Mena.txt', 'MungiuPippidi.txt', 'Munzert.txt', 'Patz.txt', 'Reh.txt', 'Roemmele.txt', 'Shaikh.txt', 'Snower.txt', 'Stockman.txt', 'Traxler.txt', 'Wegrich.txt']\n"
          ],
          "name": "stdout"
        }
      ]
    },
    {
      "cell_type": "markdown",
      "metadata": {
        "id": "DJ3AKoTMvgxg"
      },
      "source": [
        "\n",
        "Before deriving the topics from our corpus, we took some text preprocessing actions:\n",
        "\n",
        "* **Stopwords removal**: we exclude from the topic modelling analysis words that do not carry substantive meaning, such as “the”, “only” “not”, “own”, etc.\n",
        "* **Defining additional stopwords**: we define additional words that, in the context of our analysis, do not add substantive value to our topic modelling. The list was constructed by running the topic modelling a few times and checking which irrelevant words kept being signaled as relevant, without being informative of a research/methodological interest. \n",
        "* **Lowercasing**: standardizing the words to be analyzed with all lower case characters\n",
        "* **Lemmatization with WordNet**: transforms words to their root in order allow for a broader matching sample (for example, maps the word “better” as “good”). It is used as an alternative to stemming (which just removes inflections).\n",
        "* **Punctuation Removal**\n",
        "\n",
        "Preprocessing our corpus will allows us to extract a group of topics that better represents the substantive and methodological ideas conveyed in the supervisor plans. \n",
        "\n",
        "Our aim is to represent concepts by a sample of the most relevant keywords, so, eliminating noise by removing stopwords and punctuation, and standardizing the targets – by lowercasing and lemmatization – should ultimately result in a better model.\n"
      ]
    },
    {
      "cell_type": "code",
      "metadata": {
        "id": "_KtePiVtA4Hf",
        "outputId": "79b5f32e-4ea5-4f47-f0cf-5a57f8fc82d1",
        "colab": {
          "base_uri": "https://localhost:8080/",
          "height": 119
        }
      },
      "source": [
        "import nltk\n",
        "from nltk.corpus import stopwords\n",
        "import gensim\n",
        "import pandas as pd\n",
        "nltk.download('stopwords')\n",
        "nltk.download('wordnet')\n",
        "nltk.download('punkt')\n",
        "\n",
        "wordnet = nltk.WordNetLemmatizer()\n",
        "stoplist = stopwords.words('english')\n",
        "\n",
        "# define additional stopwords in a string\n",
        "additional_stopwords = \"\"\"question impact professor school dissertation paper take following http nuffield\n",
        "                          title school session study work topics project partner practice happy plan see supervise\n",
        "                          research thesis issue design student topic supervision university lab mia mpp\"\"\"  \n",
        "\n",
        "stoplist += additional_stopwords.split()"
      ],
      "execution_count": null,
      "outputs": [
        {
          "output_type": "stream",
          "text": [
            "[nltk_data] Downloading package stopwords to /root/nltk_data...\n",
            "[nltk_data]   Unzipping corpora/stopwords.zip.\n",
            "[nltk_data] Downloading package wordnet to /root/nltk_data...\n",
            "[nltk_data]   Unzipping corpora/wordnet.zip.\n",
            "[nltk_data] Downloading package punkt to /root/nltk_data...\n",
            "[nltk_data]   Unzipping tokenizers/punkt.zip.\n"
          ],
          "name": "stdout"
        }
      ]
    },
    {
      "cell_type": "code",
      "metadata": {
        "id": "NLx3rLWMBHyu"
      },
      "source": [
        "# convert token to lowercase and stem using the Porter algorithm\n",
        "def normalize_token(token):\n",
        "  return wordnet.lemmatize(token.lower())\n",
        "\n",
        "# evaluate whether or not to retain `token`\n",
        "def filter_token(token):\n",
        "    token = token.lower()\n",
        "    return token not in stoplist and token.isalpha() and len(token) > 2"
      ],
      "execution_count": null,
      "outputs": []
    },
    {
      "cell_type": "markdown",
      "metadata": {
        "id": "h7e8KEEE4hQW"
      },
      "source": [
        "Using gensim, we created a dictionary that contains a map of all words (tokens) present in our corpus and relates them to their unique ids.\n",
        "\n",
        "\n",
        "With this dictionary, we generate a “bag-of-words” corpus in which the words in the documents were replaced with their respective id (provided by the dictionary).\n"
      ]
    },
    {
      "cell_type": "code",
      "metadata": {
        "id": "jpj9VPt7BOTG"
      },
      "source": [
        "# tokenize and apply functions to files\n",
        "documents=[[normalize_token(token) \n",
        "            for token in corpus_list.words(fileids=[fileid])\n",
        "            if filter_token(token)]\n",
        "            for fileid in corpus_list.fileids()]\n",
        "\n",
        "# create bag of words for each document\n",
        "dictionary = gensim.corpora.Dictionary(documents)         \n",
        "documents_bow = [dictionary.doc2bow(document) for document in documents]"
      ],
      "execution_count": null,
      "outputs": []
    },
    {
      "cell_type": "markdown",
      "metadata": {
        "id": "J_08VzPlhs-w"
      },
      "source": [
        "## Latent Dirichlet Allocation (LDA)  Model\n",
        "\n",
        "We employed LDA, a generative probabilistic model, to identify the corpus' topics.\n",
        "\n",
        "The model provides topic probabilities as a representation of the content of a document. The distribution of probabilities, evidently, depends on the number of topics you choose to apply in the LDA model.\n",
        "\n",
        "We experimented applying different topic quantities into the LDA model, ranging from 5 to 20, and found 10 to be the one that presented more accurate results for content representation."
      ]
    },
    {
      "cell_type": "markdown",
      "metadata": {
        "id": "hv3XXtjJvr1d"
      },
      "source": [
        "### Model"
      ]
    },
    {
      "cell_type": "code",
      "metadata": {
        "id": "uz9jL-ZKB0t2"
      },
      "source": [
        "model = gensim.models.LdaModel(documents_bow, \n",
        "                               id2word=dictionary,\n",
        "                               num_topics=10, # best results with 10 topics\n",
        "                               random_state=123, # seed for consistency\n",
        "                               passes=500)"
      ],
      "execution_count": null,
      "outputs": []
    },
    {
      "cell_type": "markdown",
      "metadata": {
        "id": "E7xm0rWsiYAI"
      },
      "source": [
        "### LDA Vis"
      ]
    },
    {
      "cell_type": "markdown",
      "metadata": {
        "id": "NKkQizEzDs-r"
      },
      "source": [
        "Here we can see a sample of the probability of certain words being associated with each one of the ten topics. We set the sample of words to displayed to be 7."
      ]
    },
    {
      "cell_type": "code",
      "metadata": {
        "id": "fZ6Z7Q1uB6Rn",
        "outputId": "8bb8f9f7-d72f-4438-cf23-6c4906ba4122",
        "colab": {
          "base_uri": "https://localhost:8080/",
          "height": 187
        }
      },
      "source": [
        "# visualize words per topic\n",
        "for i, topic in enumerate(model.print_topics(num_topics=10, num_words=7)):\n",
        "    print (i, ':', topic)"
      ],
      "execution_count": null,
      "outputs": [
        {
          "output_type": "stream",
          "text": [
            "0 : (0, '0.014*\"international\" + 0.010*\"science\" + 0.010*\"transparency\" + 0.007*\"organization\" + 0.007*\"method\" + 0.006*\"student\" + 0.006*\"dissertation\"')\n",
            "1 : (1, '0.021*\"energy\" + 0.018*\"electricity\" + 0.017*\"market\" + 0.013*\"review\" + 0.012*\"system\" + 0.010*\"emission\" + 0.009*\"generation\"')\n",
            "2 : (2, '0.014*\"country\" + 0.013*\"public\" + 0.012*\"policy\" + 0.012*\"medium\" + 0.010*\"database\" + 0.008*\"corruption\" + 0.008*\"ercas\"')\n",
            "3 : (3, '0.016*\"public\" + 0.016*\"policy\" + 0.015*\"innovation\" + 0.013*\"lab\" + 0.011*\"evaluation\" + 0.011*\"economic\" + 0.009*\"economics\"')\n",
            "4 : (4, '0.027*\"law\" + 0.021*\"european\" + 0.013*\"governance\" + 0.011*\"legal\" + 0.011*\"policy\" + 0.009*\"including\" + 0.009*\"right\"')\n",
            "5 : (5, '0.018*\"policy\" + 0.016*\"political\" + 0.014*\"analysis\" + 0.011*\"social\" + 0.011*\"data\" + 0.008*\"comparative\" + 0.007*\"governance\"')\n",
            "6 : (6, '0.025*\"health\" + 0.011*\"data\" + 0.010*\"social\" + 0.008*\"http\" + 0.007*\"inequality\" + 0.007*\"org\" + 0.007*\"policy\"')\n",
            "7 : (7, '0.019*\"social\" + 0.015*\"organizational\" + 0.015*\"corporate\" + 0.011*\"business\" + 0.011*\"theory\" + 0.011*\"organization\" + 0.011*\"sage\"')\n",
            "8 : (8, '0.019*\"law\" + 0.018*\"international\" + 0.017*\"climate\" + 0.014*\"right\" + 0.012*\"policy\" + 0.009*\"human\" + 0.009*\"development\"')\n",
            "9 : (9, '0.025*\"public\" + 0.019*\"policy\" + 0.011*\"government\" + 0.011*\"tax\" + 0.011*\"management\" + 0.011*\"digital\" + 0.009*\"data\"')\n"
          ],
          "name": "stdout"
        }
      ]
    },
    {
      "cell_type": "markdown",
      "metadata": {
        "id": "ZoN87IeLEzB4"
      },
      "source": [
        "And we generate a table to display the 10 words that appear more frequently in each topic."
      ]
    },
    {
      "cell_type": "code",
      "metadata": {
        "id": "bxc4Tlo7mpIm"
      },
      "source": [
        "# create table with top 10 words per topic\n",
        "n_words = 10\n",
        "topic_words = pd.DataFrame({})\n",
        "\n",
        "for i, topic in enumerate(model.get_topics()):\n",
        "    top_feature_ids = topic.argsort()[-n_words:][::-1]\n",
        "    feature_values = topic[top_feature_ids]\n",
        "    words = [dictionary[id] for id in top_feature_ids]\n",
        "    topic_df = pd.DataFrame({'value': feature_values, 'word': words, 'topic': i})\n",
        "    topic_words = pd.concat([topic_words, topic_df], ignore_index=True"
      ],
      "execution_count": null,
      "outputs": []
    },
    {
      "cell_type": "markdown",
      "metadata": {
        "id": "P9hshoQ0FZ53"
      },
      "source": [
        "Visualization of the table using FacetGrid reveals the words that are substantively associated with the definition of topic content, as well as their relative weight **in the respective topic.** **(Carol, confere se essa parte em negrito ta certa? Acho que dá pra apagar também, mas foi minha interpretação da importância da frequência aqui)**\n",
        "\n",
        "A quick eyeball exam reveals that we could probably improve our model by adding a few more words to our additional_stopwords list, such as \"http\", \"one\" and \"org\".\n",
        "\n"
      ]
    },
    {
      "cell_type": "code",
      "metadata": {
        "id": "guLS9hAmind7",
        "outputId": "e67456f7-fb41-4793-c282-2ca43b729653",
        "colab": {
          "base_uri": "https://localhost:8080/",
          "height": 890
        }
      },
      "source": [
        "import seaborn as sns\n",
        "from matplotlib import pyplot as plt\n",
        "\n",
        "# visualize table above\n",
        "g = sns.FacetGrid(topic_words, col=\"topic\", col_wrap=3, sharey=False)\n",
        "g.map(plt.barh, \"word\", \"value\")"
      ],
      "execution_count": null,
      "outputs": [
        {
          "output_type": "execute_result",
          "data": {
            "text/plain": [
              "<seaborn.axisgrid.FacetGrid at 0x7f220bb03978>"
            ]
          },
          "metadata": {
            "tags": []
          },
          "execution_count": 11
        },
        {
          "output_type": "display_data",
          "data": {
            "image/png": "[encoded data removed]",
            "text/plain": [
              "<Figure size 648x864 with 10 Axes>"
            ]
          },
          "metadata": {
            "tags": [],
            "needs_background": "light"
          }
        }
      ]
    },
    {
      "cell_type": "markdown",
      "metadata": {
        "id": "HXXHavA3Iuaq"
      },
      "source": [
        "Using pyLDAvis function, we can see the words that are most salient in each topic, as well as how topics can overlap in their use of relevant words.\n",
        "\n",
        "On top of providing a good overview of how our LDA model associated words to topics, this interactive visualization tool helped us define the number of topics to input in the LDA model. Our aim is a good balance of precision and recall, to reach a reasonable coverage of the keywords that best represent ideas of research interests and research methodologies. "
      ]
    },
    {
      "cell_type": "code",
      "metadata": {
        "id": "Y3EO8VEjjI_4",
        "outputId": "b1ebe74b-253f-4535-8bd7-758c2a98cc19",
        "colab": {
          "base_uri": "https://localhost:8080/",
          "height": 861
        }
      },
      "source": [
        "import pyLDAvis\n",
        "import pyLDAvis.gensim\n",
        "\n",
        "# visualize model\n",
        "pyLDAvis.enable_notebook()\n",
        "vis = pyLDAvis.gensim.prepare(model, documents_bow, dictionary)\n",
        "vis"
      ],
      "execution_count": null,
      "outputs": [
        {
          "output_type": "execute_result",
          "data": {
            "text/html": [
              "\n",
              "<link rel=\"stylesheet\" type=\"text/css\" href=\"https://cdn.rawgit.com/bmabey/pyLDAvis/files/ldavis.v1.0.0.css\">\n",
              "\n",
              "\n",
              "<div id=\"ldavis_el1001397840640865687319152798\"></div>\n",
              "<script type=\"text/javascript\">\n",
              "\n",
              "var ldavis_el1001397840640865687319152798_data = {\"mdsDat\": {\"x\": [-0.047719394129481264, -0.03176706059878694, -0.10154864804649162, -0.02553945204205923, 0.22648970280412756, -0.0010571422274450303, 0.001505863201851906, 0.010310541283192871, 0.001816983254007072, -0.03249139349891519], \"y\": [-0.055522698484520384, -0.1220224370677101, 0.16163556945661764, -0.0416186754019967, 0.04869189182287165, -0.04944056542563094, 0.06503364928151349, -0.06299655267353282, 0.0036020572861551097, 0.05263776120623301], \"topics\": [1, 2, 3, 4, 5, 6, 7, 8, 9, 10], \"cluster\": [1, 1, 1, 1, 1, 1, 1, 1, 1, 1], \"Freq\": [26.14592207627998, 19.943593339083105, 12.581254565503782, 9.862239507353374, 8.267060236960665, 7.085127203688471, 6.88927847411103, 4.88595224508511, 2.190055456216087, 2.149516895718397]}, \"tinfo\": {\"Term\": [\"law\", \"public\", \"social\", \"health\", \"european\", \"energy\", \"international\", \"right\", \"electricity\", \"climate\", \"innovation\", \"market\", \"management\", \"governance\", \"policy\", \"human\", \"organization\", \"economic\", \"medium\", \"system\", \"legal\", \"tax\", \"political\", \"qualitative\", \"review\", \"project\", \"comparative\", \"digital\", \"sage\", \"country\", \"educational\", \"employment\", \"angeles\", \"los\", \"federal\", \"framework\", \"cambridge\", \"designing\", \"historical\", \"ministry\", \"presentation\", \"bit\", \"training\", \"wikipedia\", \"former\", \"transfer\", \"vocational\", \"whitten\", \"kellstedt\", \"forecasting\", \"food\", \"firm\", \"contact\", \"submitting\", \"coalition\", \"negotiation\", \"voting\", \"education\", \"affair\", \"electoral\", \"labour\", \"election\", \"party\", \"political\", \"working\", \"advice\", \"press\", \"institutional\", \"give\", \"oxford\", \"politics\", \"analysis\", \"please\", \"empirical\", \"social\", \"economy\", \"colloquium\", \"comparative\", \"effect\", \"german\", \"policy\", \"case\", \"data\", \"project\", \"question\", \"quantitative\", \"qualitative\", \"governance\", \"science\", \"method\", \"approach\", \"change\", \"system\", \"student\", \"medium\", \"tax\", \"city\", \"taxation\", \"crime\", \"alcohol\", \"traffic\", \"enforcement\", \"administration\", \"car\", \"violation\", \"performance\", \"chinese\", \"delivery\", \"administrative\", \"filing\", \"diplomatic\", \"morale\", \"improve\", \"collaborative\", \"innovative\", \"politician\", \"digitalisation\", \"local\", \"rule\", \"taxpayer\", \"refund\", \"timing\", \"nudge\", \"motif\", \"variation\", \"reporting\", \"smart\", \"digital\", \"vol\", \"controlled\", \"massive\", \"inertia\", \"immunity\", \"management\", \"informed\", \"public\", \"pro\", \"government\", \"making\", \"sector\", \"capacity\", \"opinion\", \"service\", \"building\", \"germany\", \"policy\", \"based\", \"regulation\", \"digitalization\", \"data\", \"norm\", \"focus\", \"evidence\", \"governance\", \"country\", \"area\", \"quantitative\", \"also\", \"analysis\", \"medium\", \"related\", \"different\", \"survey\", \"method\", \"comparative\", \"german\", \"case\", \"sdg\", \"aid\", \"significant\", \"displacement\", \"forced\", \"environmental\", \"mcc\", \"sdgs\", \"asylum\", \"rsc\", \"smuggling\", \"justice\", \"machine\", \"nlp\", \"humanitarian\", \"transition\", \"coal\", \"climate\", \"right\", \"regime\", \"yet\", \"natural\", \"identify\", \"processing\", \"linked\", \"changed\", \"democratisation\", \"track\", \"sanitation\", \"deeper\", \"law\", \"migration\", \"interaction\", \"little\", \"human\", \"legal\", \"refugee\", \"issue\", \"international\", \"indicator\", \"development\", \"foreign\", \"aim\", \"study\", \"goal\", \"court\", \"general\", \"progress\", \"policy\", \"particular\", \"change\", \"european\", \"approach\", \"comparative\", \"also\", \"method\", \"gender\", \"data\", \"different\", \"literature\", \"country\", \"mair\", \"physician\", \"health\", \"ihds\", \"seelos\", \"organizing\", \"homelessness\", \"pharmaceutical\", \"societal\", \"gsoep\", \"healthcare\", \"retirement\", \"comtrade\", \"dhs\", \"mortality\", \"inclination\", \"archive\", \"risky\", \"expenditure\", \"solidarity\", \"hackathon\", \"eurosceptic\", \"next\", \"delors\", \"monetary\", \"category\", \"academy\", \"annals\", \"submit\", \"campaigning\", \"share\", \"stanford\", \"inequality\", \"union\", \"org\", \"funding\", \"finance\", \"hospital\", \"http\", \"outcome\", \"doi\", \"make\", \"internet\", \"society\", \"social\", \"power\", \"data\", \"www\", \"survey\", \"european\", \"focus\", \"state\", \"innovation\", \"strategy\", \"management\", \"governance\", \"project\", \"political\", \"also\", \"policy\", \"comparative\", \"method\", \"international\", \"interested\", \"approach\", \"analysis\", \"electricity\", \"emission\", \"intensity\", \"incentive\", \"balancing\", \"carbon\", \"solar\", \"marginal\", \"storage\", \"meter\", \"flexibility\", \"pricing\", \"energy\", \"instrument\", \"battery\", \"congestion\", \"peak\", \"mentoring\", \"wind\", \"locational\", \"tariff\", \"transmission\", \"variable\", \"environment\", \"heen\", \"generation\", \"econometrics\", \"price\", \"renewable\", \"loan\", \"redispatch\", \"infrastructure\", \"bid\", \"low\", \"line\", \"side\", \"numerical\", \"liberalization\", \"market\", \"review\", \"literature\", \"system\", \"power\", \"option\", \"value\", \"network\", \"discussion\", \"consumption\", \"modeling\", \"able\", \"based\", \"effect\", \"field\", \"analysis\", \"country\", \"data\", \"ercas\", \"client\", \"trust\", \"integrity\", \"procurement\", \"anticorruption\", \"freedom\", \"againstcorruption\", \"capstone\", \"anti\", \"database\", \"occasionally\", \"barometer\", \"norad\", \"europam\", \"enlarge\", \"alina\", \"seek\", \"coronavirus\", \"cipe\", \"macro\", \"whistleblower\", \"backslide\", \"legislation\", \"instance\", \"help\", \"involved\", \"tracing\", \"traditional\", \"corruption\", \"several\", \"medium\", \"country\", \"transparency\", \"accountability\", \"one\", \"world\", \"public\", \"index\", \"centre\", \"level\", \"like\", \"policy\", \"using\", \"governance\", \"government\", \"also\", \"social\", \"analysis\", \"indicator\", \"survey\", \"state\", \"well\", \"encourage\", \"arxiv\", \"lobbying\", \"men\", \"undergraduate\", \"polarisation\", \"brussels\", \"agency\", \"week\", \"deriving\", \"psychology\", \"pandemic\", \"bath\", \"philosophy\", \"show\", \"bureaucrat\", \"unhcr\", \"io\", \"conference\", \"secrecy\", \"ecpr\", \"financing\", \"semester\", \"concerning\", \"dissertation\", \"published\", \"ethic\", \"drawing\", \"earlier\", \"embeddings\", \"endeavour\", \"wrong\", \"workforce\", \"word\", \"withdrawing\", \"cognitive\", \"clinical\", \"publish\", \"racism\", \"aisimpact\", \"attempted\", \"html\", \"hopefully\", \"came\", \"biological\", \"transparency\", \"requires\", \"slack\", \"living\", \"bbvaopenmind\", \"dataset\", \"near\", \"alters\", \"usa\", \"appropriate\", \"jjb\", \"woman\", \"intelligence\", \"phd\", \"organization\", \"international\", \"science\", \"year\", \"past\", \"technology\", \"large\", \"master\", \"including\", \"nation\", \"system\", \"method\", \"able\", \"http\", \"student\", \"particular\", \"focus\", \"meeting\", \"well\", \"general\", \"individual\", \"interested\", \"policy\", \"also\", \"quantitative\", \"political\", \"lab\", \"monitoring\", \"macroeconomics\", \"australia\", \"shareholder\", \"psychological\", \"wellbeing\", \"fiscal\", \"report\", \"labor\", \"foundation\", \"nicol\\u00e1s\", \"percentage\", \"rainer\", \"precedent\", \"preliminary\", \"proof\", \"piret\", \"relatively\", \"real\", \"mary\", \"sebasti\\u00e1n\", \"simple\", \"strictly\", \"evaluated\", \"taught\", \"technical\", \"t\\u00f5nurist\", \"uruguay\", \"money\", \"goldilocks\", \"grader\", \"gugerty\", \"idb\", \"guided\", \"hallerberg\", \"evaluator\", \"finland\", \"creation\", \"dean\", \"dassen\", \"karlan\", \"complete\", \"complain\", \"coming\", \"back\", \"audit\", \"acevedo\", \"veiko\", \"argentina\", \"struggle\", \"kay\", \"evaluation\", \"lember\", \"likely\", \"fellow\", \"done\", \"solution\", \"intentionally\", \"kattel\", \"write\", \"joint\", \"president\", \"innovation\", \"economic\", \"response\", \"economics\", \"institute\", \"welfare\", \"though\", \"learn\", \"possible\", \"authored\", \"single\", \"note\", \"global\", \"public\", \"policy\", \"social\", \"also\", \"thesis\", \"colloquium\", \"management\", \"focus\", \"student\", \"specific\", \"reading\", \"value\", \"one\", \"reform\", \"different\", \"corporate\", \"memory\", \"organizational\", \"substantial\", \"every\", \"submitted\", \"strauss\", \"stability\", \"sourcebook\", \"rhetorical\", \"remembering\", \"phillips\", \"nostalgia\", \"mile\", \"feldman\", \"flux\", \"maintenance\", \"looking\", \"launch\", \"irresponsibility\", \"interpreting\", \"intermediary\", \"huberman\", \"forgetting\", \"hardy\", \"temporality\", \"conduct\", \"yin\", \"approx\", \"certification\", \"translation\", \"wrongdoing\", \"corbin\", \"activism\", \"conceptual\", \"contention\", \"business\", \"identity\", \"transnational\", \"responsibility\", \"sage\", \"theory\", \"history\", \"stakeholder\", \"organization\", \"social\", \"standard\", \"meeting\", \"code\", \"sustainable\", \"institutional\", \"etc\", \"qualitative\", \"student\", \"regulation\", \"sustainability\", \"discourse\", \"change\", \"society\", \"analysis\", \"process\", \"management\", \"case\", \"governance\", \"leviathan\", \"dawson\", \"emu\", \"carry\", \"maastricht\", \"dimension\", \"florence\", \"wisconsin\", \"braudel\", \"unification\", \"eurozone\", \"judicial\", \"fernand\", \"largely\", \"edinburgh\", \"participative\", \"tribunal\", \"supported\", \"aberdeen\", \"kind\", \"kennedy\", \"board\", \"visiting\", \"focusing\", \"hold\", \"investigator\", \"generalist\", \"protection\", \"position\", \"grant\", \"law\", \"regulatory\", \"legal\", \"european\", \"including\", \"accountability\", \"court\", \"human\", \"right\", \"governance\", \"comparison\", \"project\", \"rule\", \"field\", \"economic\", \"hertie\", \"influence\", \"particularly\", \"policy\", \"europe\", \"comparative\", \"political\", \"institution\"], \"Freq\": [32.0, 80.0, 56.0, 30.0, 29.0, 20.0, 50.0, 22.0, 15.0, 26.0, 26.0, 25.0, 30.0, 56.0, 129.0, 19.0, 17.0, 20.0, 28.0, 29.0, 12.0, 23.0, 61.0, 32.0, 20.0, 33.0, 41.0, 29.0, 9.0, 39.0, 7.321134661218878, 5.513360306195718, 5.513341085052427, 5.513341085052427, 4.609446699612112, 4.609310950287613, 9.128906613599124, 3.7055817465474647, 3.705550812519979, 3.7055487102074314, 3.7053748189267117, 7.321135261879605, 6.417247784037662, 2.801686760446423, 2.8016864601160587, 2.8016864601160587, 2.8016864601160587, 2.8016864601160587, 2.8016864601160587, 2.8016864601160587, 2.8016864601160587, 2.801685859455331, 2.8016429122132878, 2.8014002452792264, 2.8014002452792264, 2.8013999449488627, 6.417248985359118, 11.840552228624574, 5.513359705534991, 5.513360906856446, 10.032788685494516, 5.513362108177902, 6.417136061142277, 40.08710228419574, 8.22493444259455, 5.415351696549851, 16.35993916233315, 10.032648130884194, 6.417248985359118, 8.225021538400092, 16.6173162776202, 36.72056949210445, 6.1510643818192365, 18.167751358982166, 29.014310993976302, 13.539361321664702, 13.946019446329013, 20.99434181353664, 11.451241185781287, 13.482164004513557, 45.28423513963014, 16.718073510756824, 27.474070326487833, 15.976870185773937, 10.43887798444953, 15.36519574279287, 14.236781284871345, 18.734884406348407, 13.162172813631383, 14.942598485053676, 11.853354711378497, 11.29579619601458, 10.753108838951384, 11.435990409900548, 10.032721411492995, 21.19898203614026, 12.402525794167897, 4.485886532776297, 4.485886532776297, 4.485886532776297, 4.485886532776297, 7.124736810831944, 17.59815030794607, 3.6062454903005445, 3.6062454903005445, 3.6062450321283963, 3.6062450321283963, 3.606027400357872, 3.605743791797967, 2.7266007824476053, 2.7266007824476053, 2.7266007824476053, 2.7266003242754566, 2.7265089189318363, 2.7262088161745868, 2.72140327759533, 4.485716092737064, 4.485716092737064, 4.485885158259851, 1.846945651178288, 1.846945651178288, 1.846945651178288, 1.846945651178288, 1.846945651178288, 1.846945651178288, 4.485886990948445, 8.004380144168438, 21.000316759873858, 1.846945651178288, 1.846945651178288, 1.846945651178288, 1.846945651178288, 1.846945651178288, 21.066196416758466, 1.846945651178288, 48.86599128840268, 1.846945651178288, 22.545610459225436, 10.356732170579003, 12.468081981515683, 7.124769341054486, 5.365526200735602, 5.365525742563454, 8.004437873859146, 10.643329845580306, 37.081444422717716, 10.643285861054052, 8.883974453085045, 5.103482429343106, 18.575506640870916, 5.365525742563454, 11.212842407853488, 7.12473818534839, 14.122117342241497, 11.489675518026539, 7.715509018966413, 10.724108344388952, 10.669682991216163, 12.562776084817745, 8.88407525095771, 7.204796437539637, 8.031499353636544, 7.124801413104879, 8.247412062260057, 7.932285840261946, 7.286354745344984, 7.193666061536788, 7.481106160413115, 6.658985968808137, 3.370513584379864, 3.370513584379864, 3.370512717277281, 3.3704179140615085, 3.3703459445470956, 6.658986546876526, 2.548390791467136, 2.548390791467136, 2.548390791467136, 2.548390791467136, 2.548390791467136, 2.548390791467136, 2.548390791467136, 2.5482751777893653, 2.5482179490188686, 20.63584372445266, 17.337890729412955, 5.809615633352494, 1.72626221787052, 1.72626221787052, 1.72626221787052, 1.72626221787052, 1.72626221787052, 1.72626221787052, 1.72626221787052, 1.72626221787052, 1.72626221787052, 1.72626221787052, 23.9234412023744, 9.947458642270604, 3.370513584379864, 3.370514740516642, 11.591692088659894, 7.481107894618281, 6.658990593355248, 6.658987703013303, 22.03223959821422, 5.836869823681881, 11.12220575369316, 5.836872135955437, 4.192632908882259, 7.7497773177752105, 4.192633486950648, 3.370512717277281, 6.2498326315862895, 4.192634354053231, 15.15706992561532, 6.867126429036357, 7.149275250884627, 5.836869245613492, 5.692013400323656, 5.799752052433446, 5.623408822002632, 5.842601371757387, 4.1926337759848415, 6.410063939882913, 5.014752522418847, 4.639600589761113, 5.014750788213681, 4.780055830424789, 3.212778298215158, 24.370980235633372, 2.4291385125490605, 2.4291385125490605, 2.4291385125490605, 2.4291385125490605, 2.4291385125490605, 2.4291385125490605, 2.4291385125490605, 2.4291385125490605, 3.996417404173734, 1.6454924962306856, 1.6454924962306856, 1.6454924962306856, 1.6454924962306856, 1.6454924962306856, 1.6454924962306856, 1.6454924962306856, 1.645492269661512, 1.645492269661512, 1.645492269661512, 1.645492269661512, 1.645492269661512, 1.645492269661512, 1.645492269661512, 1.645492269661512, 1.645492269661512, 1.645491476669404, 1.645491476669404, 4.780055830424789, 3.2127801107685476, 7.1309679372095225, 5.563698788059319, 6.347331776650204, 2.4291385125490605, 2.429138739118234, 2.4291385125490605, 7.91460591032223, 3.212779884199374, 2.4291385125490605, 3.2127801107685476, 3.212778298215158, 3.9964192167271237, 9.481879137717561, 3.996416951035387, 10.265515751415226, 4.780056736701484, 4.780056736701484, 5.563690631569065, 5.5636933503991495, 4.780056736701484, 4.780058096116527, 3.9964187635887765, 4.780056736701484, 5.563692444122455, 4.780056283563137, 5.56368972529237, 4.780054924148095, 6.3473240732982985, 4.780054924148095, 4.780054017871399, 4.780053564733052, 3.9964192167271237, 3.996418310450429, 3.996416044758692, 14.404743590320313, 8.371175262054582, 6.108755220351651, 4.6003954251071875, 4.6003954251071875, 4.60004444836014, 3.846212868570205, 3.846212868570205, 3.846212868570205, 3.0920299321882583, 3.0918491259852336, 6.862788117972685, 17.08641561218589, 6.108671274614533, 2.3378469958063115, 2.3378469958063115, 2.3378469958063115, 2.3378469958063115, 2.3378469958063115, 2.3378469958063115, 2.3378469958063115, 2.3378469958063115, 2.3378469958063115, 2.3375959182848844, 2.3375959182848844, 7.6171229923403665, 4.600396184797116, 6.812131233838714, 3.846215527484955, 1.5836585516723818, 1.5836585516723818, 1.5836585516723818, 1.5836585516723818, 1.5836585516723818, 1.5836585516723818, 1.5836585516723818, 1.5836585516723818, 1.5836585516723818, 13.650573568667154, 10.421489495826512, 7.1362255930704315, 9.901344995461374, 5.3545791211790625, 4.4116109584516146, 5.3545821599387775, 4.284413034933859, 3.846215527484955, 3.0920314515681158, 3.0920318314130797, 3.0916675600922803, 5.354581020403884, 4.844085341822846, 4.031748141400835, 4.405682338248235, 3.846215147639991, 3.9179746986126944, 5.868927047085996, 5.144358462577298, 4.419786297140442, 3.6952157593982036, 3.6952157593982036, 2.9706435939613476, 2.9706435939613476, 2.246071102985568, 2.246071102985568, 2.246071102985568, 7.3180720290375545, 1.5214940544648594, 1.5214940544648594, 1.5214940544648594, 1.5214940544648594, 1.5214940544648594, 1.5214940544648594, 1.5214940544648594, 1.5214940544648594, 1.5214940544648594, 1.5214940544648594, 1.5214940544648594, 1.5214940544648594, 1.5214940544648594, 2.9706448961170415, 2.970644570578118, 2.2460714285244916, 2.2460714285244916, 2.246071102985568, 5.868928349241689, 2.970645872733812, 8.042646147707952, 9.49178917642597, 4.41978792483506, 3.6952190147874386, 5.144363345661151, 3.6952190147874386, 8.76721766206696, 2.2460714285244916, 2.970647174889506, 4.419790203607524, 2.970645872733812, 8.042646798785798, 2.970645872733812, 5.144363345661151, 4.419791180224294, 4.419788575912906, 4.419790203607524, 4.419790529146447, 2.9706448961170415, 2.970645872733812, 2.970645872733812, 2.970645872733812, 2.970645872733812, 2.9445702522904242, 2.9445680365083167, 2.2263572440856767, 2.2263572440856767, 2.2263572440856767, 2.226355028303569, 3.662780569902613, 1.5081405956674667, 1.5081405956674667, 1.5081405956674667, 1.5081405956674667, 1.5081405956674667, 1.5081405956674667, 1.508139487776413, 1.5081380633450583, 1.5081380633450583, 1.5081380633450583, 1.5081380633450583, 1.5081380633450583, 1.5081380633450583, 2.9445680365083167, 2.944571518451628, 2.226358035436429, 4.380994369458113, 2.9445702522904242, 1.5081405956674667, 0.7899067749379243, 0.7899067749379243, 0.7899067749379243, 0.7899067749379243, 0.7899067749379243, 0.7899067749379243, 0.7899067749379243, 0.7899067749379243, 0.7899067749379243, 0.7899067749379243, 0.7899067749379243, 0.7899067749379243, 0.7899067749379243, 0.7899067749379243, 0.7899067749379243, 0.7899067749379243, 0.7899067749379243, 0.7899067749379243, 6.531755300573888, 0.7899067749379243, 0.7899067749379243, 0.7899067749379243, 0.7899067749379243, 1.5081380633450583, 0.7899067749379243, 0.7899067749379243, 1.5081407539376173, 0.7899067749379243, 0.7899067749379243, 2.2263583519767303, 2.226358035436429, 2.944571518451628, 5.086034394763993, 9.389878713184439, 6.534345233317182, 2.938412277273554, 2.2263572440856767, 2.9445708853710264, 2.2246487178106915, 2.9445731011531335, 2.9445702522904242, 2.2263564527349238, 4.373040977853616, 5.053483922525133, 2.2263583519767303, 3.66278278568472, 4.380997534861123, 3.64902499457964, 3.608853498052398, 2.93650448887905, 2.93935841623343, 2.918452828590057, 2.9393334095496457, 2.9374075783579814, 3.605057230221755, 2.9230689358004516, 2.878632375256693, 2.9321023629121736, 6.5020465236078575, 2.639401832306193, 1.9956272681015066, 1.3518504589581077, 1.351850346711172, 1.351850346711172, 1.351850346711172, 1.9956274925953779, 3.283177294486365, 3.283177743474107, 2.639403403763292, 0.7080613587752589, 0.7080613587752589, 0.7080613587752589, 0.7080613587752589, 0.7080613587752589, 0.7080613587752589, 0.7080613587752589, 0.7080613587752589, 0.7080613587752589, 0.7080613587752589, 0.7080613587752589, 0.7080613587752589, 0.7080613587752589, 0.7080613587752589, 0.7080613587752589, 0.7080613587752589, 0.7080613587752589, 0.7080613587752589, 0.7080613587752589, 0.7080613587752589, 0.7080613587752589, 0.7080613587752589, 0.7080613587752589, 0.7080613587752589, 0.7080613587752589, 0.7080613587752589, 0.7080613587752589, 0.7080613587752589, 0.7080613587752589, 0.7080613587752589, 0.7080613587752589, 0.7080613587752589, 0.7080613587752589, 0.7080613587752589, 0.7080613587752589, 0.7080613587752589, 0.7080613587752589, 0.7080613587752589, 0.7080613587752589, 0.7080613587752589, 0.7080613587752589, 5.21450008912494, 0.7080613587752589, 0.7080613587752589, 2.6394025057878068, 1.3518506834519788, 1.3518504589581077, 0.7080613587752589, 0.7080613587752589, 2.639403403763292, 1.35185090794585, 1.35185090794585, 7.145823108257385, 5.214496048235257, 1.9956292885463476, 4.570725300426382, 1.35185090794585, 1.9956281660769914, 1.9956281660769914, 1.3518507956989145, 1.9956292885463476, 1.3518514691805281, 1.9956297375340901, 1.9956297375340901, 3.2831811108821753, 7.789591611127549, 7.789588917201094, 3.9269500627400813, 3.2831770699924934, 2.639404526232648, 2.6394054242081326, 2.639404526232648, 2.639403403763292, 2.639403403763292, 1.9956297375340901, 1.9956304110157037, 1.9956297375340901, 1.9956292885463476, 1.9956288395586053, 1.9956288395586053, 3.1838189843258324, 0.9416688497188072, 3.1838248206361706, 0.49323227204217773, 0.49323227204217773, 0.49323227204217773, 0.49323227204217773, 0.49323227204217773, 0.49323227204217773, 0.49323227204217773, 0.49323227204217773, 0.49323227204217773, 0.49323227204217773, 0.49323227204217773, 0.49323227204217773, 0.49323227204217773, 0.49323227204217773, 0.49323227204217773, 0.49323227204217773, 0.49323227204217773, 0.49323227204217773, 0.49323227204217773, 0.49323227204217773, 0.49323227204217773, 0.49323227204217773, 0.49323227204217773, 0.49323227204217773, 0.49323227204217773, 0.49323227204217773, 0.49323227204217773, 0.49323227204217773, 0.49323227204217773, 0.49323227204217773, 0.49323227204217773, 0.49323227204217773, 0.49323227204217773, 2.2869688723358053, 1.3901006476585218, 0.9416701578573312, 0.9416710634916939, 2.286962029765064, 2.28696404228587, 0.9416695541010893, 0.9416701578573312, 2.286962633521306, 4.08068539773439, 0.9416698559792103, 1.8385335524846798, 0.9416698559792103, 0.9416695541010893, 1.3901018551710054, 1.3901021570491263, 1.838533351232599, 1.838533351232599, 1.3901016539189248, 0.9416695541010893, 0.9416695541010893, 1.3901021570491263, 0.9416700572312908, 1.3901016539189248, 0.9416698559792103, 0.9416701578573312, 0.9416698559792103, 0.9416691515969281, 1.3757867314934886, 1.3757867314934886, 0.9319728454276209, 0.9319728454276209, 0.9319728454276209, 1.8195993336348553, 0.48815392242717115, 0.48815392242717115, 0.48815392242717115, 0.48815392242717115, 0.48815392242717115, 0.48815392242717115, 0.48815392242717115, 0.48815392242717115, 0.48815392242717115, 0.48815392242717115, 0.48815392242717115, 0.48815392242717115, 0.48815392242717115, 0.48815392242717115, 0.48815392242717115, 0.9319736355350063, 0.48815397180888276, 0.48815397180888276, 0.48815397180888276, 0.4881540705723059, 0.4881540705723059, 0.4881544656259986, 0.48815402119059437, 0.48815402119059437, 5.813912357853461, 1.375789101815645, 2.2634145036252242, 4.482481464868984, 1.819602494064397, 1.3757889042887985, 0.9319731417178905, 1.819600913849626, 1.8196022965375505, 2.7072278958739764, 0.9319741293521222, 1.8196011113764723, 0.9319730429544673, 1.3757889042887985, 1.3757879166545668, 1.3757889042887985, 0.9319744256423917, 0.9319742281155453, 2.2634139110446854, 0.9319742281155453, 1.3757884104716827, 1.37578801541799, 0.9319744256423917], \"Total\": [32.0, 80.0, 56.0, 30.0, 29.0, 20.0, 50.0, 22.0, 15.0, 26.0, 26.0, 25.0, 30.0, 56.0, 129.0, 19.0, 17.0, 20.0, 28.0, 29.0, 12.0, 23.0, 61.0, 32.0, 20.0, 33.0, 41.0, 29.0, 9.0, 39.0, 7.942970722431664, 6.135196367408504, 6.135179086337904, 6.135179086337904, 5.231285123275039, 5.231168844252486, 10.475185194372484, 4.327417807760249, 4.3273898876464285, 4.3273877853338805, 4.327238750749756, 8.764860585408341, 7.79311533032302, 3.423522821659208, 3.423522521328844, 3.423522521328844, 3.423522521328844, 3.423522521328844, 3.423522521328844, 3.423522521328844, 3.423522521328844, 3.423521920668116, 3.4234831327701083, 3.423274813095139, 3.423274813095139, 3.4232745127647752, 7.860974525663498, 14.726806642580616, 6.918652647368102, 6.91865469832396, 13.016760750005542, 7.014474277750181, 8.266217528885896, 61.28264770690742, 11.072763778391424, 7.0118587437252815, 24.004762668771388, 14.284971788019885, 8.740250760876457, 11.680662287224756, 26.705354445177512, 67.84651176921277, 8.53239015067161, 30.389917354561323, 56.85650847331496, 22.820370787089963, 24.154631329927753, 41.93558146537493, 19.25363753231045, 24.09695981874276, 129.22638586160335, 32.44676115205964, 73.53275173141661, 33.152784411847676, 18.131518903749708, 35.21075431727028, 32.96864728430287, 56.16033405035309, 29.907310106070252, 46.41382169407393, 28.599304415874933, 29.324640174875224, 29.019499597910414, 36.67513505992687, 28.98799080535328, 23.331130405893813, 13.670479369133771, 5.110147423181713, 5.110147423181713, 5.110147423181713, 5.110147423181713, 8.192778678146846, 20.628491211460428, 4.23050638070596, 4.23050638070596, 4.230505922533812, 4.230505922533812, 4.230306188575914, 4.230049187454779, 3.3508616728530214, 3.3508616728530214, 3.3508616728530214, 3.3508612146808727, 3.35078175006241, 3.3505063682482423, 3.3466451956369294, 5.864022575464837, 5.93188040226407, 5.997737935724464, 2.4712065415837046, 2.4712065415837046, 2.4712065415837046, 2.4712065415837046, 2.4712065415837046, 2.4712065415837046, 6.013559429422203, 10.891077457377902, 29.405677436017978, 2.4712065415837046, 2.4712065415837046, 2.4712065415837046, 2.4712065415837046, 2.4712065415837046, 30.903868938930025, 2.4712065415837046, 80.10614251014123, 2.4712065415837046, 37.013796829031, 16.700716947328225, 21.69419419270954, 10.885129272802573, 7.796776267294593, 7.797174106171335, 13.513361658036818, 20.286673342707317, 129.22638586160335, 23.88766604343348, 18.477395368009955, 7.683922414331302, 73.53275173141661, 8.455914340541982, 35.364589069168524, 14.652563634721272, 56.16033405035309, 39.1320221594331, 17.715737378462425, 35.21075431727028, 38.20485387100545, 67.84651176921277, 28.98799080535328, 17.07537423714733, 25.671471850551022, 20.325721498016776, 46.41382169407393, 41.93558146537493, 24.09695981874276, 32.44676115205964, 8.111118956424093, 7.288998764819115, 4.000526380390841, 4.000526380390841, 4.000525513288259, 4.000441209488459, 4.000378049315291, 8.007081633372, 3.1784035874781136, 3.1784035874781136, 3.1784035874781136, 3.1784035874781136, 3.1784035874781136, 3.1784035874781136, 3.1784035874781136, 3.1783013013643986, 3.1782507393434685, 26.886897150091233, 22.89705254821704, 7.816778818134599, 2.3562750138814974, 2.3562750138814974, 2.3562750138814974, 2.3562750138814974, 2.3562750138814974, 2.3562750138814974, 2.3562750138814974, 2.3562750138814974, 2.3562750138814974, 2.3562750138814974, 32.71014451158075, 15.096551378046271, 4.783984450499329, 4.903936832118231, 19.18528285119643, 12.112834846918062, 10.855959473378011, 11.213878990310123, 50.81076527838201, 11.172455597703015, 27.354473824386265, 12.672193431356813, 7.335658848112748, 22.544623493407126, 8.108507937143209, 5.531801304652685, 19.1142686381626, 8.792438568743899, 129.22638586160335, 25.16202372684414, 29.324640174875224, 29.89787077218933, 28.599304415874933, 41.93558146537493, 38.20485387100545, 46.41382169407393, 10.482530222133827, 73.53275173141661, 25.671471850551022, 16.885631658993358, 39.1320221594331, 5.413916674791902, 3.8466391425822706, 30.157662348670954, 3.062999356916173, 3.062999356916173, 3.062999356916173, 3.062999356916173, 3.062999356916173, 3.062999356916173, 3.062999356916173, 3.062999356916173, 5.509554585986414, 2.279353340597798, 2.279353340597798, 2.279353340597798, 2.279353340597798, 2.279353340597798, 2.279353340597798, 2.279353340597798, 2.2793531140286243, 2.2793531140286243, 2.2793531140286243, 2.2793531140286243, 2.2793531140286243, 2.2793531140286243, 2.2793531140286243, 2.2793531140286243, 2.2793531140286243, 2.2793523210365163, 2.2793523210365163, 6.78204289324829, 4.750052353038819, 12.283910823653871, 10.683472697338122, 13.094278351323291, 3.78108196394097, 3.8846849867740274, 3.9422758089047774, 22.2801223811618, 6.1470038828273585, 4.424765993976649, 7.287335638977486, 7.364920620269669, 11.37588728989129, 56.85650847331496, 11.63473763136908, 73.53275173141661, 18.001952426525346, 20.325721498016776, 29.89787077218933, 35.364589069168524, 24.81039520931326, 26.307375685562906, 16.658607393286292, 30.903868938930025, 56.16033405035309, 33.152784411847676, 61.28264770690742, 38.20485387100545, 129.22638586160335, 41.93558146537493, 46.41382169407393, 50.81076527838201, 22.555501708386473, 28.599304415874933, 67.84651176921277, 15.041550019290163, 9.007998094927688, 6.7455616493215, 5.237201854077036, 5.237201854077036, 5.2368975060652, 4.483019297540054, 4.483019297540054, 4.483019297540054, 3.7288363611581072, 3.7286796406727305, 8.283072202137465, 20.71542749773776, 7.469931401474331, 2.9746534247761605, 2.9746534247761605, 2.9746534247761605, 2.9746534247761605, 2.9746534247761605, 2.9746534247761605, 2.9746534247761605, 2.9746534247761605, 2.9746534247761605, 2.9744356289778775, 2.9744356289778775, 9.940795648877844, 6.116478722126458, 9.196663847797524, 5.386275453345825, 2.2204649806422307, 2.2204649806422307, 2.2204649806422307, 2.2204649806422307, 2.2204649806422307, 2.2204649806422307, 2.2204649806422307, 2.2204649806422307, 2.2204649806422307, 25.97643043722455, 20.154766590344448, 16.885631658993358, 29.019499597910414, 11.63473763136908, 8.506298239607236, 12.034057612892648, 9.502556999377008, 7.991573672284061, 5.391572118165139, 5.5115265963923825, 5.883059625924115, 23.88766604343348, 19.25363753231045, 18.869361253171817, 67.84651176921277, 39.1320221594331, 73.53275173141661, 6.5086945032659695, 5.784125918757272, 5.059553753320416, 4.334983215578178, 4.334983215578178, 3.610411050141322, 3.610411050141322, 2.885838559165542, 2.885838559165542, 2.885838559165542, 9.620572299236667, 2.1612615106448336, 2.1612615106448336, 2.1612615106448336, 2.1612615106448336, 2.1612615106448336, 2.1612615106448336, 2.1612615106448336, 2.1612615106448336, 2.1612615106448336, 2.1612615106448336, 2.1612615106448336, 2.1612615106448336, 2.1612615106448336, 4.5138240505305385, 4.513823950239388, 3.6692963883900194, 3.6692963883900194, 3.7651148966111094, 9.911725790670516, 6.036784476220541, 28.98799080535328, 39.1320221594331, 13.283210322970206, 9.888272314810779, 17.735655382836736, 11.74585172973371, 80.10614251014123, 4.956769745177722, 9.4258114742545, 23.75260268320655, 10.944091817552852, 129.22638586160335, 11.138129131025924, 56.16033405035309, 37.013796829031, 38.20485387100545, 56.85650847331496, 67.84651176921277, 11.172455597703015, 20.325721498016776, 24.81039520931326, 18.181621724827238, 15.163893904610129, 3.584973710878287, 3.584971767135893, 2.8667607026735396, 2.8667607026735396, 2.8667607026735396, 2.866758766090085, 4.946868048800479, 2.14854405425533, 2.14854405425533, 2.14854405425533, 2.14854405425533, 2.14854405425533, 2.14854405425533, 2.1485430967020123, 2.1485418297673333, 2.1485418297673333, 2.1485418297673333, 2.1485418297673333, 2.1485418297673333, 2.1485418297673333, 4.368429554032914, 4.488385473951559, 3.6886507563402406, 7.3898893087012, 5.034010776676707, 2.596933432029925, 1.430310233525787, 1.430310233525787, 1.430310233525787, 1.430310233525787, 1.430310233525787, 1.430310233525787, 1.430310233525787, 1.430310233525787, 1.430310233525787, 1.430310233525787, 1.430310233525787, 1.430310233525787, 1.430310233525787, 1.430310233525787, 1.430310233525787, 1.430310233525787, 1.430310233525787, 1.430310233525787, 13.283210322970206, 1.430310233525787, 1.430310233525787, 1.430310233525787, 1.430310233525787, 2.8729843493279077, 1.430310233525787, 1.430310233525787, 2.9320023959185546, 1.430310233525787, 1.430310233525787, 4.592060179190634, 4.625742788960323, 6.499286522901935, 17.213327342044522, 50.81076527838201, 29.907310106070252, 7.7343586692020025, 4.780723031577713, 9.269497324952795, 5.093605725553723, 10.00579681126108, 10.199346801019326, 5.375518559549694, 29.019499597910414, 46.41382169407393, 5.883059625924115, 22.2801223811618, 36.67513505992687, 25.16202372684414, 35.364589069168524, 16.35817899460901, 18.181621724827238, 19.1142686381626, 21.22164954682787, 22.555501708386473, 129.22638586160335, 38.20485387100545, 35.21075431727028, 61.28264770690742, 7.971510053221953, 3.287249060659963, 2.6434744964552763, 1.9996976873118772, 1.9996975750649415, 1.9996975750649415, 1.9996975750649415, 3.0872474380993364, 5.5588764881565025, 5.73840854073561, 5.012550018756166, 1.3559085871290284, 1.3559085871290284, 1.3559085871290284, 1.3559085871290284, 1.3559085871290284, 1.3559085871290284, 1.3559085871290284, 1.3559085871290284, 1.3559085871290284, 1.3559085871290284, 1.3559085871290284, 1.3559085871290284, 1.3559085871290284, 1.3559085871290284, 1.3559085871290284, 1.3559085871290284, 1.3559085871290284, 1.3559085871290284, 1.3559085871290284, 1.3559085871290284, 1.3559085871290284, 1.3559085871290284, 1.3559085871290284, 1.3559085871290284, 1.3559085871290284, 1.3559085871290284, 1.3559085871290284, 1.3559085871290284, 1.3559085871290284, 1.3559085871290284, 1.3559085871290284, 1.3559085871290284, 1.3559085871290284, 1.3559085871290284, 1.3559085871290284, 1.3559085871290284, 1.3559085871290284, 1.3559085871290284, 1.3559085871290284, 1.3559085871290284, 1.3559085871290284, 10.816302526234825, 1.3559085871290284, 1.3559085871290284, 5.538408671771014, 2.717780518830546, 2.783155870704952, 1.3559085871290284, 1.3559085871290284, 5.9496426568895355, 2.9031096092853703, 2.9031096092853703, 26.307375685562906, 20.453990349506938, 5.618679155745194, 18.307990067145692, 3.346882146529403, 6.138230657149484, 6.42586504200561, 3.597059806548514, 6.565336968628917, 3.6624311163158314, 6.892514135691362, 7.017505909149962, 15.987463120024024, 80.10614251014123, 129.22638586160335, 56.85650847331496, 38.20485387100545, 20.438750152643383, 24.154631329927753, 30.903868938930025, 35.364589069168524, 36.67513505992687, 11.180940668123062, 12.16890595084038, 12.034057612892648, 17.735655382836736, 13.103319459584355, 25.671471850551022, 4.730474581489489, 1.6090504002976385, 7.3213151552852676, 1.160613822621009, 1.160613822621009, 1.160613822621009, 1.160613822621009, 1.160613822621009, 1.160613822621009, 1.160613822621009, 1.160613822621009, 1.160613822621009, 1.160613822621009, 1.160613822621009, 1.160613822621009, 1.160613822621009, 1.160613822621009, 1.160613822621009, 1.160613822621009, 1.160613822621009, 1.160613822621009, 1.160613822621009, 1.160613822621009, 1.160613822621009, 1.160613822621009, 1.160613822621009, 1.160613822621009, 1.160613822621009, 1.160613822621009, 1.160613822621009, 1.160613822621009, 1.160613822621009, 1.160613822621009, 1.160613822621009, 1.160613822621009, 1.160613822621009, 6.34236667394932, 3.8164629204581986, 2.5123059561530936, 2.512457404705678, 9.095377476596369, 11.87508110503276, 3.230545485020832, 3.295919795949668, 17.213327342044522, 56.85650847331496, 3.8805884269984943, 16.35817899460901, 4.27144366041659, 4.754641396680305, 14.284971788019885, 14.739625858066368, 32.96864728430287, 36.67513505992687, 18.477395368009955, 6.47774204607487, 6.751774805053637, 29.324640174875224, 11.37588728989129, 67.84651176921277, 19.956424629127717, 30.903868938930025, 32.44676115205964, 56.16033405035309, 2.043630020444631, 2.043630020444631, 1.5998161343787634, 1.5998161343787634, 1.5998161343787634, 4.246423917522029, 1.1559972113783137, 1.1559972113783137, 1.1559972113783137, 1.1559972113783137, 1.1559972113783137, 1.1559972113783137, 1.1559972113783137, 1.1559972113783137, 1.1559972113783137, 1.1559972113783137, 1.1559972113783137, 1.1559972113783137, 1.1559972113783137, 1.1559972113783137, 1.1559972113783137, 2.503228172224126, 1.7996810663018334, 1.8740799469198974, 1.8740829703043234, 1.9394550897781755, 1.9394550897781755, 1.9776228713803972, 1.9778867892333312, 2.035273533044267, 32.71014451158075, 6.5476129456350325, 12.112834846918062, 29.89787077218933, 10.199346801019326, 9.888272314810779, 5.531801304652685, 19.18528285119643, 22.89705254821704, 56.16033405035309, 5.770110752803403, 33.152784411847676, 5.997737935724464, 18.869361253171817, 20.453990349506938, 21.47189509296002, 7.5138225256207685, 8.169632064804377, 129.22638586160335, 10.67391566715612, 41.93558146537493, 61.28264770690742, 13.942175490877752], \"Category\": [\"Default\", \"Default\", \"Default\", \"Default\", \"Default\", \"Default\", \"Default\", \"Default\", \"Default\", \"Default\", \"Default\", \"Default\", \"Default\", \"Default\", \"Default\", \"Default\", \"Default\", \"Default\", \"Default\", \"Default\", \"Default\", \"Default\", \"Default\", \"Default\", \"Default\", \"Default\", \"Default\", \"Default\", \"Default\", \"Default\", \"Topic1\", \"Topic1\", \"Topic1\", \"Topic1\", \"Topic1\", \"Topic1\", \"Topic1\", \"Topic1\", \"Topic1\", \"Topic1\", \"Topic1\", \"Topic1\", \"Topic1\", \"Topic1\", \"Topic1\", \"Topic1\", \"Topic1\", \"Topic1\", \"Topic1\", \"Topic1\", \"Topic1\", \"Topic1\", \"Topic1\", \"Topic1\", \"Topic1\", \"Topic1\", \"Topic1\", \"Topic1\", \"Topic1\", \"Topic1\", \"Topic1\", \"Topic1\", \"Topic1\", \"Topic1\", \"Topic1\", \"Topic1\", \"Topic1\", \"Topic1\", \"Topic1\", \"Topic1\", \"Topic1\", \"Topic1\", \"Topic1\", \"Topic1\", \"Topic1\", \"Topic1\", \"Topic1\", \"Topic1\", \"Topic1\", \"Topic1\", \"Topic1\", \"Topic1\", \"Topic1\", \"Topic1\", \"Topic1\", \"Topic1\", \"Topic1\", \"Topic1\", \"Topic1\", \"Topic1\", \"Topic1\", \"Topic1\", \"Topic1\", \"Topic1\", \"Topic1\", \"Topic2\", \"Topic2\", \"Topic2\", \"Topic2\", \"Topic2\", \"Topic2\", \"Topic2\", \"Topic2\", \"Topic2\", \"Topic2\", \"Topic2\", \"Topic2\", \"Topic2\", \"Topic2\", \"Topic2\", \"Topic2\", \"Topic2\", \"Topic2\", \"Topic2\", \"Topic2\", \"Topic2\", \"Topic2\", \"Topic2\", \"Topic2\", \"Topic2\", \"Topic2\", \"Topic2\", \"Topic2\", \"Topic2\", \"Topic2\", \"Topic2\", \"Topic2\", \"Topic2\", \"Topic2\", \"Topic2\", \"Topic2\", \"Topic2\", \"Topic2\", \"Topic2\", \"Topic2\", \"Topic2\", \"Topic2\", \"Topic2\", \"Topic2\", \"Topic2\", \"Topic2\", \"Topic2\", \"Topic2\", \"Topic2\", \"Topic2\", \"Topic2\", \"Topic2\", \"Topic2\", \"Topic2\", \"Topic2\", \"Topic2\", \"Topic2\", \"Topic2\", \"Topic2\", \"Topic2\", \"Topic2\", \"Topic2\", \"Topic2\", \"Topic2\", \"Topic2\", \"Topic2\", \"Topic2\", \"Topic2\", \"Topic2\", \"Topic2\", \"Topic2\", \"Topic2\", \"Topic3\", \"Topic3\", \"Topic3\", \"Topic3\", \"Topic3\", \"Topic3\", \"Topic3\", \"Topic3\", \"Topic3\", \"Topic3\", \"Topic3\", \"Topic3\", \"Topic3\", \"Topic3\", \"Topic3\", \"Topic3\", \"Topic3\", \"Topic3\", \"Topic3\", \"Topic3\", \"Topic3\", \"Topic3\", \"Topic3\", \"Topic3\", \"Topic3\", \"Topic3\", \"Topic3\", \"Topic3\", \"Topic3\", \"Topic3\", \"Topic3\", \"Topic3\", \"Topic3\", \"Topic3\", \"Topic3\", \"Topic3\", \"Topic3\", \"Topic3\", \"Topic3\", \"Topic3\", \"Topic3\", \"Topic3\", \"Topic3\", \"Topic3\", \"Topic3\", \"Topic3\", \"Topic3\", \"Topic3\", \"Topic3\", \"Topic3\", \"Topic3\", \"Topic3\", \"Topic3\", \"Topic3\", \"Topic3\", \"Topic3\", \"Topic3\", \"Topic3\", \"Topic3\", \"Topic3\", \"Topic3\", \"Topic4\", \"Topic4\", \"Topic4\", \"Topic4\", \"Topic4\", \"Topic4\", \"Topic4\", \"Topic4\", \"Topic4\", \"Topic4\", \"Topic4\", \"Topic4\", \"Topic4\", \"Topic4\", \"Topic4\", \"Topic4\", \"Topic4\", \"Topic4\", \"Topic4\", \"Topic4\", \"Topic4\", \"Topic4\", \"Topic4\", \"Topic4\", \"Topic4\", \"Topic4\", \"Topic4\", \"Topic4\", \"Topic4\", \"Topic4\", \"Topic4\", \"Topic4\", \"Topic4\", \"Topic4\", \"Topic4\", \"Topic4\", \"Topic4\", \"Topic4\", \"Topic4\", \"Topic4\", \"Topic4\", \"Topic4\", \"Topic4\", \"Topic4\", \"Topic4\", \"Topic4\", \"Topic4\", \"Topic4\", \"Topic4\", \"Topic4\", \"Topic4\", \"Topic4\", \"Topic4\", \"Topic4\", \"Topic4\", \"Topic4\", \"Topic4\", \"Topic4\", \"Topic4\", \"Topic4\", \"Topic4\", \"Topic4\", \"Topic4\", \"Topic4\", \"Topic4\", \"Topic4\", \"Topic5\", \"Topic5\", \"Topic5\", \"Topic5\", \"Topic5\", \"Topic5\", \"Topic5\", \"Topic5\", \"Topic5\", \"Topic5\", \"Topic5\", \"Topic5\", \"Topic5\", \"Topic5\", \"Topic5\", \"Topic5\", \"Topic5\", \"Topic5\", \"Topic5\", \"Topic5\", \"Topic5\", \"Topic5\", \"Topic5\", \"Topic5\", \"Topic5\", \"Topic5\", \"Topic5\", \"Topic5\", \"Topic5\", \"Topic5\", \"Topic5\", \"Topic5\", \"Topic5\", \"Topic5\", \"Topic5\", \"Topic5\", \"Topic5\", \"Topic5\", \"Topic5\", \"Topic5\", \"Topic5\", \"Topic5\", \"Topic5\", \"Topic5\", \"Topic5\", \"Topic5\", \"Topic5\", \"Topic5\", \"Topic5\", \"Topic5\", \"Topic5\", \"Topic5\", \"Topic5\", \"Topic5\", \"Topic5\", \"Topic5\", \"Topic6\", \"Topic6\", \"Topic6\", \"Topic6\", \"Topic6\", \"Topic6\", \"Topic6\", \"Topic6\", \"Topic6\", \"Topic6\", \"Topic6\", \"Topic6\", \"Topic6\", \"Topic6\", \"Topic6\", \"Topic6\", \"Topic6\", \"Topic6\", \"Topic6\", \"Topic6\", \"Topic6\", \"Topic6\", \"Topic6\", \"Topic6\", \"Topic6\", \"Topic6\", \"Topic6\", \"Topic6\", \"Topic6\", \"Topic6\", \"Topic6\", \"Topic6\", \"Topic6\", \"Topic6\", \"Topic6\", \"Topic6\", \"Topic6\", \"Topic6\", \"Topic6\", \"Topic6\", \"Topic6\", \"Topic6\", \"Topic6\", \"Topic6\", \"Topic6\", \"Topic6\", \"Topic6\", \"Topic6\", \"Topic6\", \"Topic6\", \"Topic6\", \"Topic6\", \"Topic6\", \"Topic6\", \"Topic7\", \"Topic7\", \"Topic7\", \"Topic7\", \"Topic7\", \"Topic7\", \"Topic7\", \"Topic7\", \"Topic7\", \"Topic7\", \"Topic7\", \"Topic7\", \"Topic7\", \"Topic7\", \"Topic7\", \"Topic7\", \"Topic7\", \"Topic7\", \"Topic7\", \"Topic7\", \"Topic7\", \"Topic7\", \"Topic7\", \"Topic7\", \"Topic7\", \"Topic7\", \"Topic7\", \"Topic7\", \"Topic7\", \"Topic7\", \"Topic7\", \"Topic7\", \"Topic7\", \"Topic7\", \"Topic7\", \"Topic7\", \"Topic7\", \"Topic7\", \"Topic7\", \"Topic7\", \"Topic7\", \"Topic7\", \"Topic7\", \"Topic7\", \"Topic7\", \"Topic7\", \"Topic7\", \"Topic7\", \"Topic7\", \"Topic7\", \"Topic7\", \"Topic7\", \"Topic7\", \"Topic7\", \"Topic7\", \"Topic7\", \"Topic7\", \"Topic7\", \"Topic7\", \"Topic7\", \"Topic7\", \"Topic7\", \"Topic7\", \"Topic7\", \"Topic7\", \"Topic7\", \"Topic7\", \"Topic7\", \"Topic7\", \"Topic7\", \"Topic7\", \"Topic7\", \"Topic7\", \"Topic7\", \"Topic7\", \"Topic7\", \"Topic7\", \"Topic7\", \"Topic7\", \"Topic7\", \"Topic7\", \"Topic7\", \"Topic7\", \"Topic7\", \"Topic8\", \"Topic8\", \"Topic8\", \"Topic8\", \"Topic8\", \"Topic8\", \"Topic8\", \"Topic8\", \"Topic8\", \"Topic8\", \"Topic8\", \"Topic8\", \"Topic8\", \"Topic8\", \"Topic8\", \"Topic8\", \"Topic8\", \"Topic8\", \"Topic8\", \"Topic8\", \"Topic8\", \"Topic8\", \"Topic8\", \"Topic8\", \"Topic8\", \"Topic8\", \"Topic8\", \"Topic8\", \"Topic8\", \"Topic8\", \"Topic8\", \"Topic8\", \"Topic8\", \"Topic8\", \"Topic8\", \"Topic8\", \"Topic8\", \"Topic8\", \"Topic8\", \"Topic8\", \"Topic8\", \"Topic8\", \"Topic8\", \"Topic8\", \"Topic8\", \"Topic8\", \"Topic8\", \"Topic8\", \"Topic8\", \"Topic8\", \"Topic8\", \"Topic8\", \"Topic8\", \"Topic8\", \"Topic8\", \"Topic8\", \"Topic8\", \"Topic8\", \"Topic8\", \"Topic8\", \"Topic8\", \"Topic8\", \"Topic8\", \"Topic8\", \"Topic8\", \"Topic8\", \"Topic8\", \"Topic8\", \"Topic8\", \"Topic8\", \"Topic8\", \"Topic8\", \"Topic8\", \"Topic8\", \"Topic8\", \"Topic8\", \"Topic8\", \"Topic8\", \"Topic8\", \"Topic8\", \"Topic8\", \"Topic8\", \"Topic8\", \"Topic8\", \"Topic8\", \"Topic8\", \"Topic8\", \"Topic8\", \"Topic8\", \"Topic8\", \"Topic8\", \"Topic9\", \"Topic9\", \"Topic9\", \"Topic9\", \"Topic9\", \"Topic9\", \"Topic9\", \"Topic9\", \"Topic9\", \"Topic9\", \"Topic9\", \"Topic9\", \"Topic9\", \"Topic9\", \"Topic9\", \"Topic9\", \"Topic9\", \"Topic9\", \"Topic9\", \"Topic9\", \"Topic9\", \"Topic9\", \"Topic9\", \"Topic9\", \"Topic9\", \"Topic9\", \"Topic9\", \"Topic9\", \"Topic9\", \"Topic9\", \"Topic9\", \"Topic9\", \"Topic9\", \"Topic9\", \"Topic9\", \"Topic9\", \"Topic9\", \"Topic9\", \"Topic9\", \"Topic9\", \"Topic9\", \"Topic9\", \"Topic9\", \"Topic9\", \"Topic9\", \"Topic9\", \"Topic9\", \"Topic9\", \"Topic9\", \"Topic9\", \"Topic9\", \"Topic9\", \"Topic9\", \"Topic9\", \"Topic9\", \"Topic9\", \"Topic9\", \"Topic9\", \"Topic9\", \"Topic9\", \"Topic9\", \"Topic9\", \"Topic9\", \"Topic9\", \"Topic10\", \"Topic10\", \"Topic10\", \"Topic10\", \"Topic10\", \"Topic10\", \"Topic10\", \"Topic10\", \"Topic10\", \"Topic10\", \"Topic10\", \"Topic10\", \"Topic10\", \"Topic10\", \"Topic10\", \"Topic10\", \"Topic10\", \"Topic10\", \"Topic10\", \"Topic10\", \"Topic10\", \"Topic10\", \"Topic10\", \"Topic10\", \"Topic10\", \"Topic10\", \"Topic10\", \"Topic10\", \"Topic10\", \"Topic10\", \"Topic10\", \"Topic10\", \"Topic10\", \"Topic10\", \"Topic10\", \"Topic10\", \"Topic10\", \"Topic10\", \"Topic10\", \"Topic10\", \"Topic10\", \"Topic10\", \"Topic10\", \"Topic10\", \"Topic10\", \"Topic10\", \"Topic10\", \"Topic10\", \"Topic10\", \"Topic10\", \"Topic10\", \"Topic10\", \"Topic10\"], \"logprob\": [30.0, 29.0, 28.0, 27.0, 26.0, 25.0, 24.0, 23.0, 22.0, 21.0, 20.0, 19.0, 18.0, 17.0, 16.0, 15.0, 14.0, 13.0, 12.0, 11.0, 10.0, 9.0, 8.0, 7.0, 6.0, 5.0, 4.0, 3.0, 2.0, 1.0, -5.864699840545654, -6.1483001708984375, -6.1483001708984375, -6.1483001708984375, -6.327400207519531, -6.327400207519531, -5.644000053405762, -6.545599937438965, -6.545599937438965, -6.545599937438965, -6.5457000732421875, -5.864699840545654, -5.996500015258789, -6.825300216674805, -6.825300216674805, -6.825300216674805, -6.825300216674805, -6.825300216674805, -6.825300216674805, -6.825300216674805, -6.825300216674805, -6.825300216674805, -6.825300216674805, -6.825399875640869, -6.825399875640869, -6.825399875640869, -5.996500015258789, -5.383900165557861, -6.1483001708984375, -6.1483001708984375, -5.549600124359131, -6.1483001708984375, -5.996500015258789, -4.164400100708008, -5.748300075531006, -6.166200160980225, -5.0605998039245605, -5.549600124359131, -5.996500015258789, -5.748300075531006, -5.045000076293945, -4.252099990844727, -6.03879976272583, -4.9558000564575195, -4.48769998550415, -5.249899864196777, -5.220300197601318, -4.811200141906738, -5.417399883270264, -5.2540998458862305, -4.042500019073486, -5.039000034332275, -4.542200088500977, -5.0843000411987305, -5.509900093078613, -5.1234002113342285, -5.1996002197265625, -4.925099849700928, -5.27810001373291, -5.151299953460693, -5.382900238037109, -5.431000232696533, -5.480299949645996, -5.418700218200684, -5.549600124359131, -4.530700206756592, -5.066800117492676, -6.083799839019775, -6.083799839019775, -6.083799839019775, -6.083799839019775, -5.621099948883057, -4.716899871826172, -6.302000045776367, -6.302000045776367, -6.302000045776367, -6.302000045776367, -6.30210018157959, -6.302199840545654, -6.581600189208984, -6.581600189208984, -6.581600189208984, -6.581600189208984, -6.581699848175049, -6.5817999839782715, -6.583499908447266, -6.083799839019775, -6.083799839019775, -6.083799839019775, -6.971199989318848, -6.971199989318848, -6.971199989318848, -6.971199989318848, -6.971199989318848, -6.971199989318848, -6.083799839019775, -5.504700183868408, -4.540200233459473, -6.971199989318848, -6.971199989318848, -6.971199989318848, -6.971199989318848, -6.971199989318848, -4.5370001792907715, -6.971199989318848, -3.6956000328063965, -6.971199989318848, -4.469099998474121, -5.247099876403809, -5.061500072479248, -5.621099948883057, -5.904699802398682, -5.904699802398682, -5.504700183868408, -5.219799995422363, -3.97160005569458, -5.219799995422363, -5.400400161743164, -5.954800128936768, -4.662799835205078, -5.904699802398682, -5.167600154876709, -5.621099948883057, -4.9369001388549805, -5.143199920654297, -5.541500091552734, -5.212200164794922, -5.217299938201904, -5.053999900817871, -5.400400161743164, -5.609899997711182, -5.501299858093262, -5.621099948883057, -5.474800109863281, -5.513700008392334, -5.598700046539307, -5.611499786376953, -5.111599922180176, -5.228000164031982, -5.908899784088135, -5.908899784088135, -5.908899784088135, -5.908999919891357, -5.908999919891357, -5.228000164031982, -6.188499927520752, -6.188499927520752, -6.188499927520752, -6.188499927520752, -6.188499927520752, -6.188499927520752, -6.188499927520752, -6.188600063323975, -6.188600063323975, -4.0970001220703125, -4.271100044250488, -5.364500045776367, -6.578000068664551, -6.578000068664551, -6.578000068664551, -6.578000068664551, -6.578000068664551, -6.578000068664551, -6.578000068664551, -6.578000068664551, -6.578000068664551, -6.578000068664551, -3.9491000175476074, -4.826700210571289, -5.908899784088135, -5.908899784088135, -4.673699855804443, -5.111599922180176, -5.228000164031982, -5.228000164031982, -4.031499862670898, -5.359799861907959, -4.715000152587891, -5.359799861907959, -5.690700054168701, -5.076300144195557, -5.690700054168701, -5.908899784088135, -5.291399955749512, -5.690700054168701, -4.4054999351501465, -5.197199821472168, -5.1570000648498535, -5.359799861907959, -5.384900093078613, -5.366199970245361, -5.39709997177124, -5.358799934387207, -5.690700054168701, -5.26609992980957, -5.511600017547607, -5.589399814605713, -5.511600017547607, -5.315999984741211, -5.713399887084961, -3.6870999336242676, -5.993000030517578, -5.993000030517578, -5.993000030517578, -5.993000030517578, -5.993000030517578, -5.993000030517578, -5.993000030517578, -5.993000030517578, -5.495100021362305, -6.382500171661377, -6.382500171661377, -6.382500171661377, -6.382500171661377, -6.382500171661377, -6.382500171661377, -6.382500171661377, -6.382500171661377, -6.382500171661377, -6.382500171661377, -6.382500171661377, -6.382500171661377, -6.382500171661377, -6.382500171661377, -6.382500171661377, -6.382500171661377, -6.382500171661377, -6.382500171661377, -5.315999984741211, -5.713399887084961, -4.915999889373779, -5.1641998291015625, -5.03249979019165, -5.993000030517578, -5.993000030517578, -5.993000030517578, -4.811800003051758, -5.713399887084961, -5.993000030517578, -5.713399887084961, -5.713399887084961, -5.495100021362305, -4.631100177764893, -5.495100021362305, -4.551700115203857, -5.315999984741211, -5.315999984741211, -5.1641998291015625, -5.1641998291015625, -5.315999984741211, -5.315999984741211, -5.495100021362305, -5.315999984741211, -5.1641998291015625, -5.315999984741211, -5.1641998291015625, -5.315999984741211, -5.03249979019165, -5.315999984741211, -5.315999984741211, -5.315999984741211, -5.495100021362305, -5.495100021362305, -5.495100021362305, -4.036499977111816, -4.5792999267578125, -4.8942999839782715, -5.1778998374938965, -5.1778998374938965, -5.177999973297119, -5.35699987411499, -5.35699987411499, -5.35699987411499, -5.575200080871582, -5.575300216674805, -4.777900218963623, -3.865799903869629, -4.894400119781494, -5.854800224304199, -5.854800224304199, -5.854800224304199, -5.854800224304199, -5.854800224304199, -5.854800224304199, -5.854800224304199, -5.854800224304199, -5.854800224304199, -5.854899883270264, -5.854899883270264, -4.673699855804443, -5.1778998374938965, -4.785399913787842, -5.35699987411499, -6.24429988861084, -6.24429988861084, -6.24429988861084, -6.24429988861084, -6.24429988861084, -6.24429988861084, -6.24429988861084, -6.24429988861084, -6.24429988861084, -4.0903000831604, -4.360199928283691, -4.738900184631348, -4.411399841308594, -5.026100158691406, -5.219799995422363, -5.026100158691406, -5.249100208282471, -5.35699987411499, -5.575200080871582, -5.575200080871582, -5.575300216674805, -5.026100158691406, -5.126299858093262, -5.309899806976318, -5.221199989318848, -5.35699987411499, -5.338500022888184, -4.780099868774414, -4.911900043487549, -5.063700199127197, -5.242700099945068, -5.242700099945068, -5.460999965667725, -5.460999965667725, -5.740600109100342, -5.740600109100342, -5.740600109100342, -4.5594000816345215, -6.130099773406982, -6.130099773406982, -6.130099773406982, -6.130099773406982, -6.130099773406982, -6.130099773406982, -6.130099773406982, -6.130099773406982, -6.130099773406982, -6.130099773406982, -6.130099773406982, -6.130099773406982, -6.130099773406982, -5.460999965667725, -5.460999965667725, -5.740600109100342, -5.740600109100342, -5.740600109100342, -4.780099868774414, -5.460999965667725, -4.465000152587891, -4.2993998527526855, -5.063700199127197, -5.242700099945068, -4.911900043487549, -5.242700099945068, -4.378799915313721, -5.740600109100342, -5.460999965667725, -5.063700199127197, -5.460999965667725, -4.465000152587891, -5.460999965667725, -4.911900043487549, -5.063700199127197, -5.063700199127197, -5.063700199127197, -5.063700199127197, -5.460999965667725, -5.460999965667725, -5.460999965667725, -5.460999965667725, -5.460999965667725, -5.441800117492676, -5.441800117492676, -5.721399784088135, -5.721399784088135, -5.721399784088135, -5.721399784088135, -5.223499774932861, -6.110899925231934, -6.110899925231934, -6.110899925231934, -6.110899925231934, -6.110899925231934, -6.110899925231934, -6.110899925231934, -6.110899925231934, -6.110899925231934, -6.110899925231934, -6.110899925231934, -6.110899925231934, -6.110899925231934, -5.441800117492676, -5.441800117492676, -5.721399784088135, -5.04449987411499, -5.441800117492676, -6.110899925231934, -6.757599830627441, -6.757599830627441, -6.757599830627441, -6.757599830627441, -6.757599830627441, -6.757599830627441, -6.757599830627441, -6.757599830627441, -6.757599830627441, -6.757599830627441, -6.757599830627441, -6.757599830627441, -6.757599830627441, -6.757599830627441, -6.757599830627441, -6.757599830627441, -6.757599830627441, -6.757599830627441, -4.645100116729736, -6.757599830627441, -6.757599830627441, -6.757599830627441, -6.757599830627441, -6.110899925231934, -6.757599830627441, -6.757599830627441, -6.110899925231934, -6.757599830627441, -6.757599830627441, -5.721399784088135, -5.721399784088135, -5.441800117492676, -4.895199775695801, -4.282100200653076, -4.644700050354004, -5.443900108337402, -5.721399784088135, -5.441800117492676, -5.722099781036377, -5.441800117492676, -5.441800117492676, -5.721399784088135, -5.046299934387207, -4.901700019836426, -5.721399784088135, -5.223499774932861, -5.04449987411499, -5.22730016708374, -5.238399982452393, -5.444499969482422, -5.443600177764893, -5.450699806213379, -5.443600177764893, -5.444200038909912, -5.2393999099731445, -5.449100017547607, -5.464399814605713, -5.446000099182129, -4.306000232696533, -5.207600116729736, -5.487199783325195, -5.876699924468994, -5.876699924468994, -5.876699924468994, -5.876699924468994, -5.487199783325195, -4.989299774169922, -4.989299774169922, -5.207600116729736, -6.523399829864502, -6.523399829864502, -6.523399829864502, -6.523399829864502, -6.523399829864502, -6.523399829864502, -6.523399829864502, -6.523399829864502, -6.523399829864502, -6.523399829864502, -6.523399829864502, -6.523399829864502, -6.523399829864502, -6.523399829864502, -6.523399829864502, -6.523399829864502, -6.523399829864502, -6.523399829864502, -6.523399829864502, -6.523399829864502, -6.523399829864502, -6.523399829864502, -6.523399829864502, -6.523399829864502, -6.523399829864502, -6.523399829864502, -6.523399829864502, -6.523399829864502, -6.523399829864502, -6.523399829864502, -6.523399829864502, -6.523399829864502, -6.523399829864502, -6.523399829864502, -6.523399829864502, -6.523399829864502, -6.523399829864502, -6.523399829864502, -6.523399829864502, -6.523399829864502, -6.523399829864502, -4.526700019836426, -6.523399829864502, -6.523399829864502, -5.207600116729736, -5.876699924468994, -5.876699924468994, -6.523399829864502, -6.523399829864502, -5.207600116729736, -5.876699924468994, -5.876699924468994, -4.211599826812744, -4.526700019836426, -5.487199783325195, -4.6585001945495605, -5.876699924468994, -5.487199783325195, -5.487199783325195, -5.876699924468994, -5.487199783325195, -5.876699924468994, -5.487199783325195, -5.487199783325195, -4.989299774169922, -4.125400066375732, -4.125400066375732, -4.810299873352051, -4.989299774169922, -5.207600116729736, -5.207600116729736, -5.207600116729736, -5.207600116729736, -5.207600116729736, -5.487199783325195, -5.487199783325195, -5.487199783325195, -5.487199783325195, -5.487199783325195, -5.487199783325195, -4.217599868774414, -5.435800075531006, -4.217599868774414, -6.082499980926514, -6.082499980926514, -6.082499980926514, -6.082499980926514, -6.082499980926514, -6.082499980926514, -6.082499980926514, -6.082499980926514, -6.082499980926514, -6.082499980926514, -6.082499980926514, -6.082499980926514, -6.082499980926514, -6.082499980926514, -6.082499980926514, -6.082499980926514, -6.082499980926514, -6.082499980926514, -6.082499980926514, -6.082499980926514, -6.082499980926514, -6.082499980926514, -6.082499980926514, -6.082499980926514, -6.082499980926514, -6.082499980926514, -6.082499980926514, -6.082499980926514, -6.082499980926514, -6.082499980926514, -6.082499980926514, -6.082499980926514, -6.082499980926514, -4.548500061035156, -5.046299934387207, -5.435800075531006, -5.435800075531006, -4.548500061035156, -4.548500061035156, -5.435800075531006, -5.435800075531006, -4.548500061035156, -3.969399929046631, -5.435800075531006, -4.76669979095459, -5.435800075531006, -5.435800075531006, -5.046299934387207, -5.046299934387207, -4.76669979095459, -4.76669979095459, -5.046299934387207, -5.435800075531006, -5.435800075531006, -5.046299934387207, -5.435800075531006, -5.046299934387207, -5.435800075531006, -5.435800075531006, -5.435800075531006, -5.435800075531006, -5.038000106811523, -5.038000106811523, -5.427499771118164, -5.427499771118164, -5.427499771118164, -4.758399963378906, -6.074100017547607, -6.074100017547607, -6.074100017547607, -6.074100017547607, -6.074100017547607, -6.074100017547607, -6.074100017547607, -6.074100017547607, -6.074100017547607, -6.074100017547607, -6.074100017547607, -6.074100017547607, -6.074100017547607, -6.074100017547607, -6.074100017547607, -5.427499771118164, -6.074100017547607, -6.074100017547607, -6.074100017547607, -6.074100017547607, -6.074100017547607, -6.074100017547607, -6.074100017547607, -6.074100017547607, -3.5968000888824463, -5.038000106811523, -4.54010009765625, -3.856800079345703, -4.758399963378906, -5.038000106811523, -5.427499771118164, -4.758399963378906, -4.758399963378906, -4.361100196838379, -5.427499771118164, -4.758399963378906, -5.427499771118164, -5.038000106811523, -5.038000106811523, -5.038000106811523, -5.427499771118164, -5.427499771118164, -4.54010009765625, -5.427499771118164, -5.038000106811523, -5.038000106811523, -5.427499771118164], \"loglift\": [30.0, 29.0, 28.0, 27.0, 26.0, 25.0, 24.0, 23.0, 22.0, 21.0, 20.0, 19.0, 18.0, 17.0, 16.0, 15.0, 14.0, 13.0, 12.0, 11.0, 10.0, 9.0, 8.0, 7.0, 6.0, 5.0, 4.0, 3.0, 2.0, 1.0, 1.26, 1.2346, 1.2346, 1.2346, 1.2149, 1.2149, 1.2039, 1.1863, 1.1863, 1.1863, 1.1863, 1.1615, 1.1472, 1.141, 1.141, 1.141, 1.141, 1.141, 1.141, 1.141, 1.141, 1.141, 1.141, 1.141, 1.141, 1.141, 1.1386, 1.1233, 1.1144, 1.1144, 1.0811, 1.1007, 1.0883, 0.917, 1.0442, 1.0831, 0.9581, 0.9881, 1.0325, 0.9907, 0.8671, 0.7276, 1.0142, 0.827, 0.6687, 0.8194, 0.7922, 0.6496, 0.8219, 0.7608, 0.2929, 0.6784, 0.357, 0.6115, 0.7894, 0.5122, 0.5017, 0.2437, 0.5207, 0.2081, 0.4607, 0.3875, 0.3487, 0.1761, 0.2804, 1.5164, 1.5149, 1.482, 1.482, 1.482, 1.482, 1.4726, 1.4534, 1.4526, 1.4526, 1.4526, 1.4526, 1.4526, 1.4526, 1.4061, 1.4061, 1.4061, 1.4061, 1.4061, 1.4061, 1.4055, 1.3443, 1.3328, 1.3218, 1.3211, 1.3211, 1.3211, 1.3211, 1.3211, 1.3211, 1.3192, 1.3043, 1.2756, 1.3211, 1.3211, 1.3211, 1.3211, 1.3211, 1.2291, 1.3211, 1.118, 1.3211, 1.1165, 1.1344, 1.0584, 1.1884, 1.2385, 1.2385, 1.0886, 0.9672, 0.3638, 0.8038, 0.88, 1.2031, 0.2364, 1.1574, 0.4636, 0.8912, 0.2318, 0.3868, 0.781, 0.4234, 0.3367, -0.0742, 0.4296, 0.7494, 0.4503, 0.564, -0.1154, -0.0529, 0.4162, 0.1059, 1.9921, 1.9826, 1.9016, 1.9016, 1.9016, 1.9016, 1.9016, 1.8886, 1.852, 1.852, 1.852, 1.852, 1.852, 1.852, 1.852, 1.852, 1.852, 1.8084, 1.7948, 1.7762, 1.7618, 1.7618, 1.7618, 1.7618, 1.7618, 1.7618, 1.7618, 1.7618, 1.7618, 1.7618, 1.7601, 1.6558, 1.7228, 1.698, 1.5691, 1.5911, 1.5842, 1.5518, 1.2374, 1.4237, 1.173, 1.2977, 1.5135, 1.0051, 1.4134, 1.5775, 0.9551, 1.3324, -0.0701, 0.7744, 0.6615, 0.4394, 0.4586, 0.0946, 0.1569, 0.0005, 1.1566, -0.3669, 0.44, 0.7811, 0.0184, 2.1919, 2.1364, 2.1034, 2.0846, 2.0846, 2.0846, 2.0846, 2.0846, 2.0846, 2.0846, 2.0846, 1.9954, 1.9906, 1.9906, 1.9906, 1.9906, 1.9906, 1.9906, 1.9906, 1.9906, 1.9906, 1.9906, 1.9906, 1.9906, 1.9906, 1.9906, 1.9906, 1.9906, 1.9906, 1.9906, 1.9666, 1.9254, 1.7726, 1.664, 1.5923, 1.874, 1.847, 1.8322, 1.2815, 1.6676, 1.7168, 1.4975, 1.4869, 1.2704, 0.5253, 1.2479, 0.3475, 0.9904, 0.869, 0.6349, 0.467, 0.6696, 0.6111, 0.8889, 0.45, 0.0045, 0.3798, -0.0828, 0.2379, -0.6971, 0.1448, 0.0433, -0.0472, 0.5859, 0.3485, -0.5154, 2.4496, 2.4196, 2.3937, 2.3632, 2.3632, 2.3632, 2.3397, 2.3397, 2.3397, 2.3056, 2.3056, 2.3048, 2.3003, 2.2917, 2.252, 2.252, 2.252, 2.252, 2.252, 2.252, 2.252, 2.252, 2.252, 2.252, 2.252, 2.2266, 2.208, 2.1928, 2.1561, 2.1549, 2.1549, 2.1549, 2.1549, 2.1549, 2.1549, 2.1549, 2.1549, 2.1549, 1.8495, 1.8333, 1.6316, 1.4176, 1.7168, 1.8363, 1.6831, 1.6963, 1.7616, 1.9369, 1.9149, 1.8495, 0.9975, 1.1129, 0.9496, -0.2415, 0.173, -0.4393, 2.5437, 2.53, 2.512, 2.4875, 2.4875, 2.4521, 2.4521, 2.3965, 2.3965, 2.3965, 2.3736, 2.2962, 2.2962, 2.2962, 2.2962, 2.2962, 2.2962, 2.2962, 2.2962, 2.2962, 2.2962, 2.2962, 2.2962, 2.2962, 2.2288, 2.2288, 2.1564, 2.1564, 2.1306, 2.1231, 1.9381, 1.365, 1.2307, 1.5468, 1.6629, 1.4095, 1.4907, 0.4348, 1.8556, 1.4925, 0.9656, 1.3432, -0.1296, 1.3256, 0.2569, 0.522, 0.4903, 0.0927, -0.084, 1.3225, 0.7241, 0.5247, 0.8355, 1.017, 2.4784, 2.4784, 2.4224, 2.4224, 2.4224, 2.4224, 2.3747, 2.3213, 2.3213, 2.3213, 2.3213, 2.3213, 2.3213, 2.3213, 2.3213, 2.3213, 2.3213, 2.3213, 2.3213, 2.3213, 2.2808, 2.2537, 2.1703, 2.1524, 2.1389, 2.1318, 2.0815, 2.0815, 2.0815, 2.0815, 2.0815, 2.0815, 2.0815, 2.0815, 2.0815, 2.0815, 2.0815, 2.0815, 2.0815, 2.0815, 2.0815, 2.0815, 2.0815, 2.0815, 1.9654, 2.0815, 2.0815, 2.0815, 2.0815, 2.0307, 2.0815, 2.0815, 2.0104, 2.0815, 2.0815, 1.9512, 1.9439, 1.8835, 1.456, 0.9867, 1.1542, 1.7074, 1.911, 1.5284, 1.8468, 1.452, 1.4328, 1.7937, 0.7827, 0.4577, 1.7035, 0.8697, 0.5504, 0.7443, 0.3929, 0.9577, 0.853, 0.7958, 0.6984, 0.6368, -0.904, 0.1049, 0.1712, -0.3646, 2.815, 2.7993, 2.7377, 2.6273, 2.6273, 2.6273, 2.6273, 2.5825, 2.4922, 2.4604, 2.3774, 2.3691, 2.3691, 2.3691, 2.3691, 2.3691, 2.3691, 2.3691, 2.3691, 2.3691, 2.3691, 2.3691, 2.3691, 2.3691, 2.3691, 2.3691, 2.3691, 2.3691, 2.3691, 2.3691, 2.3691, 2.3691, 2.3691, 2.3691, 2.3691, 2.3691, 2.3691, 2.3691, 2.3691, 2.3691, 2.3691, 2.3691, 2.3691, 2.3691, 2.3691, 2.3691, 2.3691, 2.3691, 2.3691, 2.3691, 2.3691, 2.3691, 2.2892, 2.3691, 2.3691, 2.2777, 2.3205, 2.2967, 2.3691, 2.3691, 2.206, 2.2545, 2.2545, 1.7155, 1.6521, 1.9837, 1.6311, 2.1123, 1.8952, 1.8494, 2.0402, 1.828, 2.0222, 1.7793, 1.7614, 1.4358, 0.6882, 0.21, 0.3461, 0.5647, 0.9719, 0.8049, 0.5585, 0.4236, 0.3873, 1.2956, 1.2109, 1.222, 0.8342, 1.1369, 0.4644, 3.4253, 3.2855, 2.9885, 2.9655, 2.9655, 2.9655, 2.9655, 2.9655, 2.9655, 2.9655, 2.9655, 2.9655, 2.9655, 2.9655, 2.9655, 2.9655, 2.9655, 2.9655, 2.9655, 2.9655, 2.9655, 2.9655, 2.9655, 2.9655, 2.9655, 2.9655, 2.9655, 2.9655, 2.9655, 2.9655, 2.9655, 2.9655, 2.9655, 2.9655, 2.9655, 2.9655, 2.8012, 2.8113, 2.8399, 2.8399, 2.4407, 2.174, 2.5885, 2.5685, 1.8028, 1.187, 2.4052, 1.6355, 2.3092, 2.202, 1.4914, 1.4601, 0.9347, 0.8281, 1.2341, 1.8928, 1.8513, 0.7722, 1.3296, -0.0666, 0.7676, 0.3303, 0.2815, -0.2671, 3.4442, 3.4442, 3.2996, 3.2996, 3.2996, 2.9925, 2.9778, 2.9778, 2.9778, 2.9778, 2.9778, 2.9778, 2.9778, 2.9778, 2.9778, 2.9778, 2.9778, 2.9778, 2.9778, 2.9778, 2.9778, 2.8519, 2.5352, 2.4947, 2.4947, 2.4604, 2.4604, 2.4409, 2.4408, 2.4122, 2.1125, 2.2799, 2.1625, 1.9423, 2.1162, 1.8676, 2.059, 1.4844, 1.3075, 0.8076, 2.0168, 0.9374, 1.9781, 1.2214, 1.1408, 1.0922, 1.7527, 1.6691, -0.2048, 1.4017, 0.4228, 0.0435, 1.1346]}, \"token.table\": {\"Topic\": [5, 7, 4, 1, 2, 3, 6, 7, 10, 8, 2, 3, 4, 6, 2, 1, 2, 1, 4, 6, 7, 8, 3, 2, 3, 5, 7, 2, 6, 1, 2, 3, 4, 5, 6, 7, 8, 7, 1, 2, 3, 4, 5, 6, 7, 8, 9, 1, 4, 6, 6, 1, 2, 3, 4, 7, 7, 4, 1, 2, 4, 5, 8, 7, 3, 7, 8, 8, 2, 4, 8, 8, 6, 5, 6, 1, 2, 4, 5, 6, 7, 8, 7, 5, 7, 5, 7, 1, 3, 1, 10, 7, 1, 2, 6, 7, 1, 2, 3, 4, 9, 1, 6, 7, 4, 1, 2, 5, 6, 6, 2, 5, 10, 1, 2, 3, 4, 5, 6, 8, 9, 4, 1, 2, 3, 4, 6, 8, 1, 2, 3, 5, 6, 7, 8, 9, 3, 2, 6, 2, 8, 6, 1, 3, 5, 8, 7, 3, 1, 1, 2, 9, 7, 2, 1, 2, 3, 4, 6, 7, 8, 8, 1, 2, 3, 4, 6, 10, 1, 2, 4, 6, 10, 8, 8, 4, 3, 7, 7, 5, 2, 4, 5, 1, 2, 6, 2, 9, 2, 3, 6, 1, 2, 3, 4, 5, 6, 8, 3, 8, 10, 8, 2, 8, 1, 2, 3, 4, 5, 6, 7, 9, 2, 4, 6, 6, 7, 10, 8, 3, 2, 4, 3, 7, 1, 1, 2, 3, 4, 5, 6, 7, 8, 4, 1, 2, 3, 4, 5, 6, 7, 8, 1, 2, 4, 8, 2, 5, 1, 2, 4, 2, 10, 2, 1, 3, 9, 1, 2, 3, 5, 3, 3, 6, 7, 4, 7, 8, 7, 8, 7, 7, 2, 5, 1, 2, 4, 5, 8, 10, 1, 2, 4, 5, 8, 1, 2, 4, 7, 8, 7, 1, 3, 6, 7, 1, 1, 3, 4, 5, 7, 1, 2, 1, 4, 5, 7, 5, 1, 2, 3, 4, 5, 8, 1, 10, 1, 2, 4, 5, 6, 7, 7, 1, 4, 5, 2, 6, 5, 3, 6, 1, 2, 3, 4, 5, 7, 9, 7, 6, 1, 2, 4, 5, 8, 10, 1, 2, 3, 4, 5, 6, 7, 10, 4, 8, 1, 2, 4, 6, 8, 8, 1, 2, 4, 6, 7, 8, 4, 1, 1, 8, 1, 2, 3, 4, 5, 7, 10, 2, 3, 4, 4, 7, 8, 1, 8, 5, 1, 2, 3, 4, 5, 7, 8, 7, 1, 3, 1, 1, 2, 3, 1, 1, 3, 8, 1, 6, 4, 7, 1, 3, 4, 7, 1, 2, 3, 7, 4, 1, 4, 5, 1, 2, 4, 1, 2, 5, 8, 1, 2, 3, 1, 2, 3, 4, 5, 6, 7, 8, 1, 3, 5, 6, 8, 1, 2, 3, 4, 5, 6, 7, 8, 9, 10, 1, 2, 3, 6, 7, 8, 8, 2, 4, 8, 8, 4, 8, 1, 2, 3, 4, 4, 5, 1, 6, 1, 2, 4, 5, 6, 7, 8, 10, 1, 1, 7, 9, 7, 4, 7, 2, 4, 7, 1, 3, 4, 7, 1, 2, 3, 7, 10, 3, 8, 3, 2, 9, 4, 2, 2, 5, 4, 1, 3, 4, 5, 7, 10, 4, 6, 8, 1, 3, 6, 1, 2, 3, 4, 5, 6, 7, 8, 1, 4, 2, 1, 2, 3, 4, 7, 10, 2, 5, 1, 2, 4, 8, 2, 1, 6, 1, 8, 1, 2, 3, 4, 6, 7, 8, 10, 1, 4, 7, 9, 5, 6, 6, 2, 7, 5, 8, 3, 4, 1, 2, 3, 4, 5, 6, 7, 1, 2, 3, 4, 6, 7, 10, 2, 4, 4, 4, 6, 7, 2, 3, 4, 5, 6, 7, 1, 8, 3, 8, 8, 8, 1, 3, 8, 1, 8, 1, 3, 7, 1, 2, 7, 2, 3, 4, 6, 10, 2, 7, 8, 1, 2, 3, 10, 6, 8, 1, 2, 4, 5, 6, 8, 10, 5, 1, 2, 3, 6, 7, 8, 5, 3, 1, 2, 3, 5, 1, 3, 7, 5, 7, 2, 3, 5, 1, 5, 10, 3, 6, 8, 4, 1, 2, 4, 5, 1, 2, 3, 7, 1, 2, 4, 8, 9, 5, 1, 2, 4, 5, 6, 8, 8, 2, 2, 3, 4, 5, 7, 3, 1, 2, 4, 6, 1, 2, 3, 4, 7, 8, 9, 9, 7, 5, 5, 1, 2, 3, 4, 5, 6, 7, 8, 9, 1, 3, 1, 1, 2, 5, 4, 8, 8, 2, 4, 2, 1, 3, 4, 7, 3, 7, 1, 1, 2, 3, 5, 7, 4, 8, 3, 6, 2, 3, 1, 2, 4, 8, 2, 5, 6, 1, 2, 3, 5, 6, 7, 8, 1, 2, 1, 2, 5, 6, 1, 2, 3, 4, 6, 7, 1, 2, 4, 6, 7, 9, 1, 2, 4, 9, 4, 3, 4, 5, 6, 1, 3, 6, 8, 7, 1, 2, 3, 4, 5, 6, 7, 1, 2, 4, 7, 10, 1, 4, 3, 7, 8, 5, 8, 2, 4, 1, 4, 7, 7, 4, 8, 1, 4, 5, 7, 1, 2, 3, 4, 5, 6, 7, 8, 10, 1, 2, 3, 4, 6, 7, 8, 10, 2, 1, 2, 3, 4, 3, 1, 3, 5, 6, 7, 8, 1, 3, 4, 5, 8, 8, 1, 1, 8, 1, 2, 4, 6, 8, 1, 4, 5, 4, 5, 2, 1, 2, 3, 4, 5, 6, 9, 3, 6, 2, 3, 4, 8, 1, 2, 3, 4, 5, 6, 7, 10, 8, 3, 8, 7, 1, 2, 3, 4, 6, 7, 8, 7, 6, 7, 1, 2, 3, 4, 7, 8, 9, 1, 2, 4, 5, 6, 7, 8, 1, 2, 3, 4, 6, 7, 8, 1, 2, 3, 4, 8, 8, 5, 1, 2, 4, 8, 1, 3, 4, 7, 2, 1, 3, 1, 2, 4, 5, 9, 1, 3, 5, 10, 1, 2, 3, 4, 7, 8, 8, 1, 5, 1, 6, 8, 1, 2, 7, 1, 6, 8, 1, 9, 2, 4, 1, 2, 3, 4, 5, 8, 1, 2, 3, 7, 8, 10, 4, 3, 2, 10, 1, 7, 9, 3, 1, 2, 3, 4, 5, 6, 7, 8, 3, 3, 7, 8, 7, 1, 2, 4, 8, 6, 4, 1, 7, 1, 2, 1, 2, 6, 8, 4, 6, 8, 8, 7, 5, 3, 8, 1, 2, 4, 8, 7, 2, 5, 3, 1, 2, 4, 6, 7, 8, 9, 4, 1, 2, 3, 4, 7, 9, 5, 4, 4, 8, 1, 2, 4, 5, 8, 1, 4, 9, 1, 6, 8, 9, 1, 4, 1, 2, 3, 4, 5, 6, 7, 8, 5, 1, 2, 4, 8, 8, 1, 2, 3, 4, 5, 6, 7, 8, 9, 1, 2, 3, 4, 6, 4, 1, 1, 2, 4, 6, 7, 8, 2, 3, 8, 9, 3, 4, 7, 9, 1, 2, 3, 4, 5, 7, 5, 8, 2, 5, 2, 2, 8, 2, 4, 5, 7, 1, 2, 6, 7, 8, 9, 1, 2, 3, 4, 5, 6, 7, 8, 1, 6, 7, 8, 2, 4, 6, 3, 2, 6, 2, 1, 5, 1, 3, 5, 1, 9, 2, 6, 7, 6, 8, 7, 7, 1, 2, 3, 4, 7, 8, 4, 7, 1, 2, 3, 4, 5, 6, 1, 2, 5, 6, 8, 5, 2, 8, 2, 8, 1, 2, 1, 3, 7, 1, 4, 8, 1, 2, 4, 5, 6, 7, 8, 6, 1, 1, 5, 7, 1, 3, 7, 7, 7, 1, 4, 6, 7, 1, 2, 4, 5, 6, 8, 1, 2, 8, 7, 1, 2, 3, 4, 6, 7, 2, 3, 4, 7, 3], \"Freq\": [0.5099387377922008, 0.33995915852813385, 0.8774419319633702, 0.20225980194784632, 0.10112990097392316, 0.10112990097392316, 0.40451960389569264, 0.10112990097392316, 0.10112990097392316, 0.7375128452555776, 0.8725795704341123, 0.04847664280189513, 0.04847664280189513, 0.04847664280189513, 0.9456154816976964, 0.7130776849254645, 0.1426155369850929, 0.8672208746138509, 0.14453681243564181, 0.6930394611465419, 0.8085924185849113, 0.20214810464622782, 0.9603513768977451, 0.2726408140578323, 0.5452816281156646, 0.13632040702891615, 0.6991490213524862, 0.7827562825006512, 0.9253854705455243, 0.13087342296562524, 0.28792153052437547, 0.15704810755875026, 0.13087342296562524, 0.05234936918625009, 0.10469873837250018, 0.07852405377937513, 0.07852405377937513, 0.6991490213524862, 0.5453485969309593, 0.19160896648925596, 0.014739151268404305, 0.05895660507361722, 0.05895660507361722, 0.05895660507361722, 0.02947830253680861, 0.014739151268404305, 0.014739151268404305, 0.9779665622738011, 0.8774419319633702, 0.6930394611465419, 0.8309303174447606, 0.4195906244957142, 0.2097953122478571, 0.2097953122478571, 0.13986354149857141, 0.034965885374642854, 0.6991490213524862, 0.8774418447450834, 0.395128909988817, 0.45157589713007656, 0.11289397428251914, 0.05644698714125957, 0.7375128452555776, 0.8368262202026097, 0.9438700647768691, 0.6991490213524862, 0.7375128452555776, 0.5000755895978779, 0.2730426780028931, 0.2730426780028931, 0.2730426780028931, 0.7375128452555776, 0.9253854705455243, 0.9547082849418186, 0.9253854705455243, 0.08372521603255514, 0.4604886881790533, 0.08372521603255514, 0.20931304008138787, 0.04186260801627757, 0.08372521603255514, 0.04186260801627757, 0.9308629236802808, 0.672347233241297, 0.6991490213524862, 0.9007122460546686, 0.6991490213524862, 0.7986436215144751, 0.1140919459306393, 0.3994841585341766, 0.3994841585341766, 0.6976520046462646, 0.222002494709805, 0.5920066525594799, 0.14800166313986998, 0.9308638874471348, 0.15766984966470116, 0.15766984966470116, 0.15766984966470116, 0.15766984966470116, 0.3153396993294023, 0.8591733542653749, 0.0954637060294861, 0.6991490213524862, 0.8774422372275107, 0.09186845419452992, 0.6430791793617094, 0.18373690838905984, 0.09186845419452992, 0.6930394611465419, 0.9455132884901843, 0.9547637688553512, 0.6250718307628005, 0.5239351909526686, 0.21573801980404003, 0.061639434229725724, 0.030819717114862862, 0.061639434229725724, 0.061639434229725724, 0.030819717114862862, 0.030819717114862862, 0.8774419319633702, 0.21218332293858896, 0.21218332293858896, 0.10609166146929448, 0.10609166146929448, 0.31827498440788343, 0.10609166146929448, 0.37511116707323094, 0.20460609113085323, 0.23870710631932876, 0.03410101518847554, 0.03410101518847554, 0.03410101518847554, 0.03410101518847554, 0.03410101518847554, 0.848797355239699, 0.9455133908911412, 0.9253854705455243, 0.8778038923122546, 0.07315032435935456, 0.8644348463759339, 0.11157851288131328, 0.781049590169193, 0.03719283762710443, 0.03719283762710443, 0.6991490213524862, 0.9439154572869572, 0.8763538318700049, 0.23411288536168373, 0.46822577072336746, 0.23411288536168373, 0.6991490213524862, 0.8953134592977067, 0.5795989932023473, 0.12419978425764584, 0.0827998561717639, 0.0827998561717639, 0.04139992808588195, 0.04139992808588195, 0.12419978425764584, 0.7375128452555776, 0.5007680653561255, 0.19076878680233353, 0.14307659010175017, 0.11923049175145846, 0.02384609835029169, 0.02384609835029169, 0.1733068987478535, 0.346613797495707, 0.1733068987478535, 0.1733068987478535, 0.1733068987478535, 0.7375128452555776, 0.7375128452555776, 0.8774418447450834, 0.2711018380585771, 0.5422036761171543, 0.9308638874471348, 0.672347233241297, 0.18547465898319843, 0.18547465898319843, 0.5564239769495953, 0.8763005055534048, 0.8093212632555894, 0.9253854705455243, 0.21139528027759302, 0.6341858408327791, 0.2017812076563412, 0.2017812076563412, 0.6053436229690236, 0.15332711342016989, 0.28109970793697814, 0.12777259451680822, 0.051109037806723295, 0.10221807561344659, 0.22999067013025482, 0.025554518903361648, 0.5423188279515321, 0.1807729426505107, 0.1807729426505107, 0.7375128452555776, 0.7827562825006512, 0.7375128452555776, 0.3671833212310528, 0.25838826308851864, 0.08159629360690063, 0.1359938226781677, 0.05439752907126708, 0.040798146803450314, 0.040798146803450314, 0.01359938226781677, 0.10394392026754415, 0.10394392026754415, 0.727607441872809, 0.34807011748391015, 0.6961402349678203, 0.48932536222110823, 0.7375128452555776, 0.848797355239699, 0.9455580333173368, 0.8774419319633702, 0.848797355239699, 0.9308629236802808, 0.9243387575904737, 0.14622836562968491, 0.18278545703710614, 0.4021280054816335, 0.07311418281484246, 0.03655709140742123, 0.07311418281484246, 0.03655709140742123, 0.03655709140742123, 0.8774418447450834, 0.1168612387113911, 0.31162996989704295, 0.19476873118565183, 0.07790749247426074, 0.1168612387113911, 0.03895374623713037, 0.07790749247426074, 0.07790749247426074, 0.10202111502200611, 0.7141478051540429, 0.10202111502200611, 0.034007038340668705, 0.6821256140343087, 0.17053140350857718, 0.13014186584379062, 0.6507093292189531, 0.13014186584379062, 0.4709845363642088, 0.4709845363642088, 0.895292104805303, 0.2962184103804854, 0.4443276155707281, 0.1481092051902427, 0.2502636003890311, 0.12513180019451556, 0.12513180019451556, 0.5005272007780622, 0.7499013166629607, 0.27064004837597594, 0.13532002418798797, 0.5412800967519519, 0.45200130418706036, 0.22600065209353018, 0.22600065209353018, 0.3679472985663675, 0.3679472985663675, 0.6991490213524862, 0.6991490213524862, 0.16349276200086893, 0.8174638100043448, 0.1466706470834097, 0.1955608627778796, 0.1466706470834097, 0.1466706470834097, 0.2444510784723495, 0.0488902156944699, 0.32772576224886657, 0.10924192074962219, 0.10924192074962219, 0.16386288112443329, 0.2731048018740555, 0.61348696437133, 0.219102487275475, 0.043820497455094996, 0.043820497455094996, 0.08764099491018999, 0.9308638874471348, 0.8148406026669478, 0.06790338355557898, 0.06790338355557898, 0.06790338355557898, 0.8812823620552157, 0.5713206131329923, 0.05193823755754476, 0.05193823755754476, 0.2596911877877238, 0.05193823755754476, 0.8553741538452739, 0.14256235897421232, 0.867220617536166, 0.14453676958936099, 0.9307551403974711, 0.6991490213524862, 0.8880996549615967, 0.5923017094779404, 0.19743390315931347, 0.131622602106209, 0.03290565052655225, 0.03290565052655225, 0.03290565052655225, 0.9779638076253441, 0.6250718307628005, 0.3297306108479102, 0.06594612216958204, 0.19783836650874612, 0.13189224433916408, 0.19783836650874612, 0.06594612216958204, 0.6991490213524862, 0.09654640244418856, 0.04827320122209428, 0.8206444207756028, 0.8544109727596542, 0.9253854705455243, 0.6723964642285002, 0.7499172823448675, 0.9218438500976327, 0.33922163616274653, 0.27137730893019724, 0.06784432723254931, 0.13568865446509862, 0.06784432723254931, 0.06784432723254931, 0.06784432723254931, 0.7701391092018386, 0.9253854705455243, 0.18737266270090977, 0.37474532540181954, 0.18737266270090977, 0.09368633135045489, 0.09368633135045489, 0.09368633135045489, 0.2006831872984458, 0.16723598941537152, 0.2006831872984458, 0.2006831872984458, 0.06689439576614861, 0.06689439576614861, 0.033447197883074306, 0.13378879153229722, 0.8774419319633702, 0.7375128452555776, 0.09245303536717014, 0.1849060707343403, 0.1849060707343403, 0.09245303536717014, 0.4622651768358507, 0.7375128452555776, 0.1364948858001015, 0.47773210030035523, 0.1364948858001015, 0.1364948858001015, 0.1364948858001015, 0.06824744290005075, 0.8774418447450834, 0.9557880868993348, 0.3611145580848697, 0.5416718371273046, 0.26497982273562826, 0.1059919290942513, 0.2119838581885026, 0.05299596454712565, 0.2119838581885026, 0.1059919290942513, 0.05299596454712565, 0.895292104805303, 0.25742113026014846, 0.5148422605202969, 0.22891521715780094, 0.6867456514734028, 0.7375128452555776, 0.876290577223626, 0.6478262724646716, 0.8045743504686658, 0.19793811222601548, 0.3110456049265958, 0.11310749270058028, 0.1696612390508704, 0.05655374635029014, 0.11310749270058028, 0.0848306195254352, 0.5335951658004386, 0.8762904234774967, 0.7499014792019486, 0.8762904234774967, 0.15782587370005602, 0.31565174740011204, 0.47347762110016806, 0.8762904234774967, 0.19949925611877367, 0.19949925611877367, 0.598497768356321, 0.9558093322668274, 0.8309303174447606, 0.5289491259574356, 0.2644745629787178, 0.1907936306996766, 0.3815872613993532, 0.2861904460495149, 0.0953968153498383, 0.20926775048111435, 0.20926775048111435, 0.3139016257216715, 0.15695081286083576, 0.5156087425125037, 0.10059556954205008, 0.10059556954205008, 0.8047645563364006, 0.5394871426846354, 0.29049307683018827, 0.08299802195148236, 0.24646722089589948, 0.5422278859709789, 0.14788033253753968, 0.0492934441791799, 0.6864791599409822, 0.11441319332349703, 0.11441319332349703, 0.18764703176969655, 0.06254901058989885, 0.18764703176969655, 0.06254901058989885, 0.06254901058989885, 0.1250980211797977, 0.1250980211797977, 0.18764703176969655, 0.24665450357869914, 0.4933090071573983, 0.12332725178934957, 0.12332725178934957, 0.7375128452555776, 0.33831707594482413, 0.24928626648565988, 0.08903080945916425, 0.1068369713509971, 0.017806161891832848, 0.08903080945916425, 0.035612323783665696, 0.017806161891832848, 0.017806161891832848, 0.05341848567549855, 0.16210171649545624, 0.6213899132325822, 0.054033905498485406, 0.10806781099697081, 0.027016952749242703, 0.027016952749242703, 0.7375128452555776, 0.4913344490380351, 0.6529547567432725, 0.7375128452555776, 0.7375128452555776, 0.8774419319633702, 0.7375128452555776, 0.0663181375557824, 0.0331590687778912, 0.0994772063336736, 0.7958176506693888, 0.6529547567432725, 0.6723964642285002, 0.22154164872712095, 0.6646249461813629, 0.3725800617674849, 0.09314501544187123, 0.13971752316280683, 0.09314501544187123, 0.09314501544187123, 0.09314501544187123, 0.046572507720935616, 0.046572507720935616, 0.9243447213801924, 0.3095452469673404, 0.3095452469673404, 0.3095452469673404, 0.5335943049723219, 0.6529547567432725, 0.6991490213524862, 0.2536605880646932, 0.5073211761293864, 0.6991490213524862, 0.3141813981200845, 0.13464917062289336, 0.3590644549943823, 0.17953222749719114, 0.15636986033869782, 0.10424657355913187, 0.6254794413547913, 0.05212328677956594, 0.10424657355913187, 0.9438700647768691, 0.7375128452555776, 0.848797355239699, 0.5240454425166754, 0.2620227212583377, 0.6529547567432725, 0.8093212632555894, 0.895292227220969, 0.9547082849418186, 0.8774418447450834, 0.0980454944330415, 0.196090988866083, 0.0980454944330415, 0.196090988866083, 0.2941364832991245, 0.196090988866083, 0.20174429142545244, 0.4034885828509049, 0.20174429142545244, 0.1790116758585451, 0.5370350275756354, 0.2685175137878177, 0.282730142478338, 0.141365071239169, 0.09424338082611265, 0.09424338082611265, 0.141365071239169, 0.09424338082611265, 0.141365071239169, 0.047121690413056326, 0.4070364944665677, 0.5698510922531947, 0.8093212632555894, 0.3992641547987786, 0.13308805159959286, 0.13308805159959286, 0.13308805159959286, 0.13308805159959286, 0.13308805159959286, 0.8093212632555894, 0.9007122460546686, 0.2280729203746731, 0.26608507377045193, 0.19006076697889426, 0.26608507377045193, 0.895387046098498, 0.221541643804761, 0.6646249314142829, 0.29878554314706424, 0.29878554314706424, 0.2868992721126747, 0.14344963605633734, 0.21517445408450603, 0.14344963605633734, 0.07172481802816867, 0.07172481802816867, 0.07172481802816867, 0.07172481802816867, 0.7000363842780927, 0.14000727685561853, 0.07000363842780927, 0.07000363842780927, 0.803220227539946, 0.13387003792332433, 0.9227256026333889, 0.4323629936305901, 0.4323629936305901, 0.8894737476164802, 0.7375128452555776, 0.6270923392501568, 0.20903077975005227, 0.26601048726702053, 0.17734032484468037, 0.13300524363351027, 0.17734032484468037, 0.044335081211170094, 0.044335081211170094, 0.13300524363351027, 0.15744694960151853, 0.05904260610056945, 0.432979111404176, 0.09840434350094909, 0.03936173740037963, 0.17712781830170835, 0.019680868700189817, 0.5431151544242359, 0.4073363658181769, 0.5156087425125037, 0.2725318137733678, 0.5450636275467357, 0.9308638874471348, 0.08917520876265, 0.62422646133855, 0.1783504175253, 0.08917520876265, 0.08917520876265, 0.6991490213524862, 0.3444582308575528, 0.3444582308575528, 0.9438700647768691, 0.7375128452555776, 0.7375128452555776, 0.7375128452555776, 0.8762904234774967, 0.1254467463910199, 0.8781272247371393, 0.3485286880155833, 0.5227930320233749, 0.7682402858941494, 0.15364805717882987, 0.07682402858941494, 0.19632457906649037, 0.19632457906649037, 0.39264915813298074, 0.030571555550479405, 0.7337173332115058, 0.030571555550479405, 0.030571555550479405, 0.18342933330287645, 0.2780048299946199, 0.2780048299946199, 0.2780048299946199, 0.08255705725686796, 0.08255705725686796, 0.5778994007980758, 0.16511411451373592, 0.9253854705455243, 0.7375128452555776, 0.33680519590622043, 0.25260389692966534, 0.12630194846483267, 0.08420129897655511, 0.16840259795311022, 0.042100649488277554, 0.48932536222110823, 0.9007122460546686, 0.27412050721179104, 0.27412050721179104, 0.09137350240393034, 0.27412050721179104, 0.09137350240393034, 0.7375128452555776, 0.9007122460546686, 0.848797355239699, 0.17766584399004035, 0.11844389599336023, 0.29610973998340057, 0.4145536359767608, 0.203917797931352, 0.611753393794056, 0.6991490213524862, 0.9007122460546686, 0.8368266739229473, 0.6743224287653014, 0.16858060719132534, 0.672347233241297, 0.9779665622738011, 0.9007122460546686, 0.6250718307628005, 0.9438700647768691, 0.9253854705455243, 0.7565800247673534, 0.9235457987894112, 0.2744487284629349, 0.13722436423146744, 0.41167309269440233, 0.13722436423146744, 0.1796330067422608, 0.5987766891408693, 0.05987766891408693, 0.05987766891408693, 0.03235840800309266, 0.6795265680649458, 0.1617920400154633, 0.09707522400927798, 0.03235840800309266, 0.8922558067494605, 0.26947505420024576, 0.03849643631432083, 0.07699287262864166, 0.5389501084004915, 0.03849643631432083, 0.03849643631432083, 0.7375128452555776, 0.8093212632555894, 0.09994206547094224, 0.29982619641282676, 0.19988413094188448, 0.19988413094188448, 0.29982619641282676, 0.749929122452185, 0.34497044197189675, 0.31047339777470706, 0.06899408839437934, 0.2759763535775174, 0.183394496477186, 0.24452599530291466, 0.12226299765145733, 0.12226299765145733, 0.183394496477186, 0.061131498825728665, 0.12226299765145733, 0.621484572400605, 0.6976515333612607, 0.672347233241297, 0.8045405347496278, 0.3231795928994829, 0.17236244954639088, 0.12927183715979315, 0.10772653096649429, 0.06463591857989658, 0.04309061238659772, 0.10772653096649429, 0.04309061238659772, 0.02154530619329886, 0.3312014694475923, 0.6624029388951846, 0.9243451704412895, 0.18143793421128707, 0.18143793421128707, 0.5443138026338612, 0.8774419319633702, 0.7375128452555776, 0.9126171898267138, 0.895292104805303, 0.8774418447450834, 0.8093212632555894, 0.1860285642998077, 0.1860285642998077, 0.1860285642998077, 0.3720571285996154, 0.848797355239699, 0.6991490213524862, 0.8763539087541883, 0.21046966623100719, 0.10523483311550359, 0.10523483311550359, 0.42093933246201437, 0.10523483311550359, 0.8774419319633702, 0.7375128452555776, 0.9438700647768691, 0.9253854705455243, 0.5913021110002783, 0.35478126660016696, 0.4275023119094734, 0.14250077063649114, 0.14250077063649114, 0.2850015412729823, 0.8093212632555894, 0.9007122460546686, 0.9253854705455243, 0.2255343777073446, 0.16915078328050845, 0.05638359442683615, 0.1127671888536723, 0.28191797213418074, 0.1127671888536723, 0.1127671888536723, 0.2565162743465487, 0.6412906858663718, 0.1175599505015913, 0.1175599505015913, 0.4702398020063652, 0.2351199010031826, 0.1527384668585331, 0.07636923342926655, 0.07636923342926655, 0.4582154005755993, 0.07636923342926655, 0.1527384668585331, 0.2323780824309182, 0.1161890412154591, 0.17428356182318866, 0.05809452060772955, 0.29047260303864775, 0.1161890412154591, 0.27317496345669495, 0.13658748172834748, 0.13658748172834748, 0.40976244518504246, 0.6529547567432725, 0.1626808798337773, 0.4880426395013319, 0.1626808798337773, 0.1626808798337773, 0.6848926716038757, 0.08561158395048446, 0.08561158395048446, 0.08561158395048446, 0.9308629236802808, 0.23845458795903177, 0.11922729397951588, 0.27819701928553703, 0.03974243132650529, 0.15896972530602116, 0.03974243132650529, 0.15896972530602116, 0.2448090665693756, 0.2448090665693756, 0.2448090665693756, 0.2448090665693756, 0.1224045332846878, 0.725845887678771, 0.12097431461312849, 0.20917338097078267, 0.41834676194156534, 0.20917338097078267, 0.672347233241297, 0.7375128452555776, 0.9455133908911412, 0.6529547567432725, 0.1538630427318812, 0.3077260854637624, 0.4615891281956436, 0.9308629236802808, 0.7799015943008585, 0.7375128452555776, 0.7032027244473487, 0.11720045407455812, 0.11720045407455812, 0.6976515333612607, 0.3482260971702275, 0.28631923545107596, 0.11607536572340917, 0.046430146289363664, 0.03095343085957578, 0.06190686171915156, 0.03095343085957578, 0.06190686171915156, 0.01547671542978789, 0.6527133127684924, 0.09790699691527387, 0.03263566563842463, 0.09790699691527387, 0.016317832819212313, 0.04895349845763693, 0.016317832819212313, 0.016317832819212313, 0.8964200937437719, 0.6365764601589058, 0.18722837063497227, 0.11233702238098338, 0.07489134825398891, 0.5055901103356983, 0.15231510656319544, 0.15231510656319544, 0.15231510656319544, 0.15231510656319544, 0.15231510656319544, 0.3046302131263909, 0.08594951013797192, 0.08594951013797192, 0.3437980405518877, 0.4297475506898596, 0.7375128452555776, 0.7375128452555776, 0.9243770058462669, 0.3444582308575528, 0.3444582308575528, 0.6665343965601853, 0.12497519935503475, 0.08331679957002316, 0.08331679957002316, 0.04165839978501158, 0.10873508225914841, 0.10873508225914841, 0.7611455758140389, 0.12072815201851649, 0.8450970641296154, 0.8093212632555894, 0.3006550577823747, 0.20043670518824983, 0.15032752889118736, 0.15032752889118736, 0.050109176297062456, 0.10021835259412491, 0.050109176297062456, 0.848797355239699, 0.9227256026333889, 0.22746818011441883, 0.45493636022883766, 0.22746818011441883, 0.11373409005720941, 0.48261406345954294, 0.12065351586488574, 0.12065351586488574, 0.15081689483110716, 0.030163378966221434, 0.030163378966221434, 0.030163378966221434, 0.06032675793244287, 0.7375128452555776, 0.5056575823791882, 0.5000756176680988, 0.9308629236802808, 0.11235093487194972, 0.6116884231917262, 0.024966874415988827, 0.024966874415988827, 0.11235093487194972, 0.012483437207994413, 0.0998674976639553, 0.6991490213524862, 0.397297520550867, 0.5959462808263005, 0.424645872767298, 0.212322936383649, 0.151659240274035, 0.060663696109613995, 0.030331848054806997, 0.030331848054806997, 0.060663696109613995, 0.4260062100584637, 0.3124045540428734, 0.08520124201169274, 0.02840041400389758, 0.02840041400389758, 0.08520124201169274, 0.02840041400389758, 0.5515257741551889, 0.1654577322465567, 0.1654577322465567, 0.05515257741551889, 0.05515257741551889, 0.6991490213524862, 0.7375128452555776, 0.3287066245855702, 0.24652996843917765, 0.1643533122927851, 0.08217665614639255, 0.1643533122927851, 0.7375128452555776, 0.9007122460546686, 0.30526615887962805, 0.3815826985995351, 0.15263307943981402, 0.15263307943981402, 0.09211530334580675, 0.6448071234206473, 0.09211530334580675, 0.1842306066916135, 0.8093212632555894, 0.12792993421792132, 0.7675796053075279, 0.27060090994516117, 0.4870816379012901, 0.10824036397806447, 0.054120181989032234, 0.054120181989032234, 0.15272741505996476, 0.3054548301199295, 0.3054548301199295, 0.15272741505996476, 0.23425548069675886, 0.40994709121932804, 0.058563870174189715, 0.11712774034837943, 0.058563870174189715, 0.058563870174189715, 0.7375128452555776, 0.18565704792888452, 0.7426281917155381, 0.17989246606406095, 0.17989246606406095, 0.5396773981921829, 0.1662908651251298, 0.6651634605005192, 0.6991490213524862, 0.3559555448107348, 0.1779777724053674, 0.3559555448107348, 0.39801669796553035, 0.39801669796553035, 0.18150287548534436, 0.7260115019413774, 0.19846421848002357, 0.09923210924001179, 0.049616054620005894, 0.09923210924001179, 0.4961605462000589, 0.049616054620005894, 0.04367374350450484, 0.04367374350450484, 0.7424536395765823, 0.04367374350450484, 0.04367374350450484, 0.08734748700900968, 0.8774418447450834, 0.9438700647768691, 0.6669181019355161, 0.16672952548387904, 0.6596757545730024, 0.1099459590955004, 0.2198919181910008, 0.848797355239699, 0.4346763367850125, 0.06687328258230961, 0.16718320645577403, 0.033436641291154805, 0.033436641291154805, 0.033436641291154805, 0.23405648903808365, 0.033436641291154805, 0.8630128638978873, 0.8742261313816667, 0.1248894473402381, 0.7375128452555776, 0.9308638874471348, 0.13828584612781644, 0.5531433845112658, 0.13828584612781644, 0.09219056408521095, 0.9253854705455243, 0.6529547567432725, 0.2227972632483376, 0.6683917897450128, 0.25650318599619737, 0.6412579649904935, 0.1656511018306341, 0.1656511018306341, 0.4969533054919023, 0.1656511018306341, 0.7372409875168494, 0.14744819750336988, 0.14744819750336988, 0.5000756176680988, 0.930863338543209, 0.9007122460546686, 0.7499013166629607, 0.7375128452555776, 0.290169880050509, 0.1450849400252545, 0.290169880050509, 0.290169880050509, 0.6991490213524862, 0.7345462403796045, 0.18363656009490112, 0.9438700647768691, 0.5100559422077573, 0.08794067969099265, 0.15829322344378677, 0.07035254375279411, 0.017588135938198527, 0.07035254375279411, 0.07035254375279411, 0.6529547567432725, 0.2637156929873791, 0.08790523099579305, 0.08790523099579305, 0.3516209239831722, 0.1758104619915861, 0.08790523099579305, 0.8922558067494605, 0.8774419319633702, 0.35930434602166483, 0.35930434602166483, 0.08943791311325056, 0.4471895655662527, 0.08943791311325056, 0.08943791311325056, 0.1788758262265011, 0.3034054412455342, 0.3034054412455342, 0.3034054412455342, 0.25769287797764906, 0.25769287797764906, 0.25769287797764906, 0.25769287797764906, 0.21052399545875652, 0.6315719863762695, 0.16122274418661783, 0.24183411627992674, 0.12091705813996337, 0.20152843023327227, 0.04030568604665446, 0.12091705813996337, 0.04030568604665446, 0.08061137209330892, 0.8922558067494605, 0.3601741645233865, 0.3601741645233865, 0.2401161096822577, 0.7375128452555776, 0.7375128452555776, 0.299930729144585, 0.190865009455645, 0.081799289766705, 0.081799289766705, 0.081799289766705, 0.027266429922235, 0.10906571968894, 0.081799289766705, 0.05453285984447, 0.31049531619133297, 0.266138842449714, 0.354851789932952, 0.044356473741619, 0.044356473741619, 0.8774422372275107, 0.8763538318700049, 0.19679498218010558, 0.34439121881518475, 0.24599372772513195, 0.14759623663507918, 0.049198745545026394, 0.049198745545026394, 0.3087495589936129, 0.4631243384904194, 0.15437477949680645, 0.15437477949680645, 0.42064160746095425, 0.21032080373047712, 0.21032080373047712, 0.21032080373047712, 0.3790554679582438, 0.06891917599240796, 0.03445958799620398, 0.03445958799620398, 0.34459587996203983, 0.13783835198481592, 0.672347233241297, 0.7375128452555776, 0.9000849780812621, 0.0857223788648821, 0.7827562825006512, 0.8093212632555894, 0.7375128452555776, 0.32364214528917595, 0.10788071509639198, 0.21576143019278396, 0.32364214528917595, 0.4210497558522744, 0.08420995117045488, 0.08420995117045488, 0.16841990234090976, 0.08420995117045488, 0.16841990234090976, 0.1467800123586326, 0.1957066831448435, 0.1957066831448435, 0.1467800123586326, 0.04892667078621087, 0.04892667078621087, 0.09785334157242175, 0.1467800123586326, 0.15562107100959047, 0.15562107100959047, 0.31124214201918093, 0.31124214201918093, 0.8093212632555894, 0.2725318137733678, 0.5450636275467357, 0.848797355239699, 0.2655961444629688, 0.5311922889259376, 0.7827562825006512, 0.769910330552147, 0.1283183884253578, 0.8762904234774967, 0.943900441003546, 0.672347233241297, 0.39804069148139315, 0.39804069148139315, 0.15056601163210281, 0.30113202326420563, 0.5269810407123598, 0.7905835563808239, 0.7375128452555776, 0.6976515333612607, 0.9308638874471348, 0.09360252310554025, 0.09360252310554025, 0.09360252310554025, 0.5616151386332415, 0.1872050462110805, 0.7375128452555776, 0.3410638413502095, 0.682127682700419, 0.1795633697968971, 0.08978168489844855, 0.26934505469534564, 0.08978168489844855, 0.08978168489844855, 0.26934505469534564, 0.08309749148355858, 0.16619498296711716, 0.41548745741779286, 0.16619498296711716, 0.16619498296711716, 0.672347233241297, 0.8093212632555894, 0.7375128452555776, 0.9455132884901843, 0.5556540093267198, 0.8762904234774967, 0.8093212632555894, 0.7632641449748975, 0.12721069082914957, 0.9308629236802808, 0.48874018712636025, 0.16291339570878674, 0.3258267914175735, 0.33000356573291384, 0.16500178286645692, 0.055000594288818976, 0.11000118857763795, 0.16500178286645692, 0.16500178286645692, 0.5000756176680988, 0.9253854705455243, 0.8762904234774967, 0.8762903466044524, 0.672347233241297, 0.6991490213524862, 0.21776718095542322, 0.21776718095542322, 0.43553436191084643, 0.6991490213524862, 0.6991490213524862, 0.7224935129215034, 0.09031168911518793, 0.09031168911518793, 0.09031168911518793, 0.17027287982336398, 0.255409319735046, 0.17027287982336398, 0.08513643991168199, 0.34054575964672795, 0.08513643991168199, 0.1680773212223133, 0.3361546424446266, 0.5042319636669399, 0.6991490213524862, 0.16664859060396073, 0.16664859060396073, 0.16664859060396073, 0.27774765100660126, 0.11109906040264049, 0.11109906040264049, 0.2585864045798579, 0.12929320228992894, 0.2585864045798579, 0.3878796068697868, 0.848797355239699], \"Term\": [\"able\", \"able\", \"academy\", \"accountability\", \"accountability\", \"accountability\", \"accountability\", \"accountability\", \"accountability\", \"acevedo\", \"administration\", \"administration\", \"administration\", \"administration\", \"administrative\", \"advice\", \"advice\", \"affair\", \"affair\", \"againstcorruption\", \"agency\", \"agency\", \"aid\", \"aim\", \"aim\", \"aim\", \"aisimpact\", \"alcohol\", \"alina\", \"also\", \"also\", \"also\", \"also\", \"also\", \"also\", \"also\", \"also\", \"alters\", \"analysis\", \"analysis\", \"analysis\", \"analysis\", \"analysis\", \"analysis\", \"analysis\", \"analysis\", \"analysis\", \"angeles\", \"annals\", \"anti\", \"anticorruption\", \"approach\", \"approach\", \"approach\", \"approach\", \"approach\", \"appropriate\", \"archive\", \"area\", \"area\", \"area\", \"area\", \"argentina\", \"arxiv\", \"asylum\", \"attempted\", \"audit\", \"australia\", \"authored\", \"authored\", \"authored\", \"back\", \"backslide\", \"balancing\", \"barometer\", \"based\", \"based\", \"based\", \"based\", \"based\", \"based\", \"based\", \"bath\", \"battery\", \"bbvaopenmind\", \"bid\", \"biological\", \"bit\", \"bit\", \"board\", \"board\", \"brussels\", \"building\", \"building\", \"building\", \"bureaucrat\", \"business\", \"business\", \"business\", \"business\", \"business\", \"cambridge\", \"cambridge\", \"came\", \"campaigning\", \"capacity\", \"capacity\", \"capacity\", \"capacity\", \"capstone\", \"car\", \"carbon\", \"carry\", \"case\", \"case\", \"case\", \"case\", \"case\", \"case\", \"case\", \"case\", \"category\", \"centre\", \"centre\", \"centre\", \"centre\", \"centre\", \"centre\", \"change\", \"change\", \"change\", \"change\", \"change\", \"change\", \"change\", \"change\", \"changed\", \"chinese\", \"cipe\", \"city\", \"city\", \"client\", \"climate\", \"climate\", \"climate\", \"climate\", \"clinical\", \"coal\", \"coalition\", \"code\", \"code\", \"code\", \"cognitive\", \"collaborative\", \"colloquium\", \"colloquium\", \"colloquium\", \"colloquium\", \"colloquium\", \"colloquium\", \"colloquium\", \"coming\", \"comparative\", \"comparative\", \"comparative\", \"comparative\", \"comparative\", \"comparative\", \"comparison\", \"comparison\", \"comparison\", \"comparison\", \"comparison\", \"complain\", \"complete\", \"comtrade\", \"concerning\", \"concerning\", \"conference\", \"congestion\", \"consumption\", \"consumption\", \"consumption\", \"contact\", \"controlled\", \"coronavirus\", \"corporate\", \"corporate\", \"corruption\", \"corruption\", \"corruption\", \"country\", \"country\", \"country\", \"country\", \"country\", \"country\", \"country\", \"court\", \"court\", \"court\", \"creation\", \"crime\", \"dassen\", \"data\", \"data\", \"data\", \"data\", \"data\", \"data\", \"data\", \"data\", \"database\", \"database\", \"database\", \"dataset\", \"dataset\", \"dawson\", \"dean\", \"deeper\", \"delivery\", \"delors\", \"democratisation\", \"deriving\", \"designing\", \"development\", \"development\", \"development\", \"development\", \"development\", \"development\", \"development\", \"development\", \"dhs\", \"different\", \"different\", \"different\", \"different\", \"different\", \"different\", \"different\", \"different\", \"digital\", \"digital\", \"digital\", \"digital\", \"digitalisation\", \"digitalisation\", \"digitalization\", \"digitalization\", \"digitalization\", \"dimension\", \"dimension\", \"diplomatic\", \"discourse\", \"discourse\", \"discourse\", \"discussion\", \"discussion\", \"discussion\", \"discussion\", \"displacement\", \"dissertation\", \"dissertation\", \"dissertation\", \"doi\", \"doi\", \"doi\", \"done\", \"done\", \"drawing\", \"earlier\", \"econometrics\", \"econometrics\", \"economic\", \"economic\", \"economic\", \"economic\", \"economic\", \"economic\", \"economics\", \"economics\", \"economics\", \"economics\", \"economics\", \"economy\", \"economy\", \"economy\", \"economy\", \"economy\", \"ecpr\", \"education\", \"education\", \"education\", \"education\", \"educational\", \"effect\", \"effect\", \"effect\", \"effect\", \"effect\", \"election\", \"election\", \"electoral\", \"electoral\", \"electricity\", \"embeddings\", \"emission\", \"empirical\", \"empirical\", \"empirical\", \"empirical\", \"empirical\", \"empirical\", \"employment\", \"emu\", \"encourage\", \"encourage\", \"encourage\", \"encourage\", \"encourage\", \"encourage\", \"endeavour\", \"energy\", \"energy\", \"energy\", \"enforcement\", \"enlarge\", \"environment\", \"environmental\", \"ercas\", \"etc\", \"etc\", \"etc\", \"etc\", \"etc\", \"etc\", \"etc\", \"ethic\", \"europam\", \"europe\", \"europe\", \"europe\", \"europe\", \"europe\", \"europe\", \"european\", \"european\", \"european\", \"european\", \"european\", \"european\", \"european\", \"european\", \"eurosceptic\", \"evaluated\", \"evaluation\", \"evaluation\", \"evaluation\", \"evaluation\", \"evaluation\", \"evaluator\", \"evidence\", \"evidence\", \"evidence\", \"evidence\", \"evidence\", \"evidence\", \"expenditure\", \"federal\", \"fellow\", \"fellow\", \"field\", \"field\", \"field\", \"field\", \"field\", \"field\", \"field\", \"filing\", \"finance\", \"finance\", \"financing\", \"financing\", \"finland\", \"firm\", \"fiscal\", \"flexibility\", \"focus\", \"focus\", \"focus\", \"focus\", \"focus\", \"focus\", \"focus\", \"focusing\", \"food\", \"forced\", \"forecasting\", \"foreign\", \"foreign\", \"foreign\", \"former\", \"foundation\", \"foundation\", \"foundation\", \"framework\", \"freedom\", \"funding\", \"funding\", \"gender\", \"gender\", \"gender\", \"gender\", \"general\", \"general\", \"general\", \"general\", \"generalist\", \"generation\", \"generation\", \"generation\", \"german\", \"german\", \"german\", \"germany\", \"germany\", \"germany\", \"germany\", \"give\", \"give\", \"give\", \"global\", \"global\", \"global\", \"global\", \"global\", \"global\", \"global\", \"global\", \"goal\", \"goal\", \"goal\", \"goal\", \"goldilocks\", \"governance\", \"governance\", \"governance\", \"governance\", \"governance\", \"governance\", \"governance\", \"governance\", \"governance\", \"governance\", \"government\", \"government\", \"government\", \"government\", \"government\", \"government\", \"grader\", \"grant\", \"gsoep\", \"gugerty\", \"guided\", \"hackathon\", \"hallerberg\", \"health\", \"health\", \"health\", \"health\", \"healthcare\", \"heen\", \"help\", \"help\", \"hertie\", \"hertie\", \"hertie\", \"hertie\", \"hertie\", \"hertie\", \"hertie\", \"hertie\", \"historical\", \"history\", \"history\", \"history\", \"hold\", \"homelessness\", \"hopefully\", \"hospital\", \"hospital\", \"html\", \"http\", \"http\", \"http\", \"http\", \"human\", \"human\", \"human\", \"human\", \"human\", \"humanitarian\", \"idb\", \"identify\", \"identity\", \"identity\", \"ihds\", \"immunity\", \"improve\", \"incentive\", \"inclination\", \"including\", \"including\", \"including\", \"including\", \"including\", \"including\", \"index\", \"index\", \"index\", \"indicator\", \"indicator\", \"indicator\", \"individual\", \"individual\", \"individual\", \"individual\", \"individual\", \"individual\", \"individual\", \"individual\", \"inequality\", \"inequality\", \"inertia\", \"influence\", \"influence\", \"influence\", \"influence\", \"influence\", \"influence\", \"informed\", \"infrastructure\", \"innovation\", \"innovation\", \"innovation\", \"innovation\", \"innovative\", \"instance\", \"instance\", \"institute\", \"institute\", \"institution\", \"institution\", \"institution\", \"institution\", \"institution\", \"institution\", \"institution\", \"institution\", \"institutional\", \"institutional\", \"institutional\", \"institutional\", \"instrument\", \"instrument\", \"integrity\", \"intelligence\", \"intelligence\", \"intensity\", \"intentionally\", \"interaction\", \"interaction\", \"interested\", \"interested\", \"interested\", \"interested\", \"interested\", \"interested\", \"interested\", \"international\", \"international\", \"international\", \"international\", \"international\", \"international\", \"international\", \"internet\", \"internet\", \"investigator\", \"involved\", \"involved\", \"io\", \"issue\", \"issue\", \"issue\", \"issue\", \"issue\", \"jjb\", \"joint\", \"joint\", \"justice\", \"karlan\", \"kattel\", \"kay\", \"kellstedt\", \"lab\", \"lab\", \"labor\", \"labor\", \"labour\", \"labour\", \"labour\", \"large\", \"large\", \"large\", \"law\", \"law\", \"law\", \"law\", \"law\", \"learn\", \"learn\", \"learn\", \"legal\", \"legal\", \"legal\", \"legal\", \"legislation\", \"lember\", \"level\", \"level\", \"level\", \"level\", \"level\", \"level\", \"leviathan\", \"liberalization\", \"like\", \"like\", \"like\", \"like\", \"like\", \"likely\", \"line\", \"linked\", \"literature\", \"literature\", \"literature\", \"literature\", \"little\", \"little\", \"living\", \"loan\", \"lobbying\", \"local\", \"local\", \"locational\", \"los\", \"low\", \"maastricht\", \"machine\", \"macro\", \"macroeconomics\", \"mair\", \"make\", \"make\", \"make\", \"make\", \"making\", \"making\", \"making\", \"making\", \"management\", \"management\", \"management\", \"management\", \"management\", \"marginal\", \"market\", \"market\", \"market\", \"market\", \"market\", \"market\", \"mary\", \"massive\", \"master\", \"master\", \"master\", \"master\", \"master\", \"mcc\", \"medium\", \"medium\", \"medium\", \"medium\", \"meeting\", \"meeting\", \"meeting\", \"meeting\", \"meeting\", \"meeting\", \"meeting\", \"memory\", \"men\", \"mentoring\", \"meter\", \"method\", \"method\", \"method\", \"method\", \"method\", \"method\", \"method\", \"method\", \"method\", \"migration\", \"migration\", \"ministry\", \"modeling\", \"modeling\", \"modeling\", \"monetary\", \"money\", \"monitoring\", \"morale\", \"mortality\", \"motif\", \"nation\", \"nation\", \"nation\", \"nation\", \"natural\", \"near\", \"negotiation\", \"network\", \"network\", \"network\", \"network\", \"network\", \"next\", \"nicol\\u00e1s\", \"nlp\", \"norad\", \"norm\", \"norm\", \"note\", \"note\", \"note\", \"note\", \"nudge\", \"numerical\", \"occasionally\", \"one\", \"one\", \"one\", \"one\", \"one\", \"one\", \"one\", \"opinion\", \"opinion\", \"option\", \"option\", \"option\", \"option\", \"org\", \"org\", \"org\", \"org\", \"org\", \"org\", \"organization\", \"organization\", \"organization\", \"organization\", \"organization\", \"organization\", \"organizational\", \"organizational\", \"organizational\", \"organizational\", \"organizing\", \"outcome\", \"outcome\", \"outcome\", \"outcome\", \"oxford\", \"oxford\", \"oxford\", \"oxford\", \"pandemic\", \"particular\", \"particular\", \"particular\", \"particular\", \"particular\", \"particular\", \"particular\", \"particularly\", \"particularly\", \"particularly\", \"particularly\", \"particularly\", \"party\", \"party\", \"past\", \"past\", \"past\", \"peak\", \"percentage\", \"performance\", \"pharmaceutical\", \"phd\", \"phd\", \"phd\", \"philosophy\", \"physician\", \"piret\", \"please\", \"please\", \"please\", \"polarisation\", \"policy\", \"policy\", \"policy\", \"policy\", \"policy\", \"policy\", \"policy\", \"policy\", \"policy\", \"political\", \"political\", \"political\", \"political\", \"political\", \"political\", \"political\", \"political\", \"politician\", \"politics\", \"politics\", \"politics\", \"politics\", \"position\", \"possible\", \"possible\", \"possible\", \"possible\", \"possible\", \"possible\", \"power\", \"power\", \"power\", \"power\", \"precedent\", \"preliminary\", \"presentation\", \"president\", \"president\", \"press\", \"press\", \"press\", \"press\", \"press\", \"price\", \"price\", \"price\", \"pricing\", \"pricing\", \"pro\", \"process\", \"process\", \"process\", \"process\", \"process\", \"process\", \"process\", \"processing\", \"procurement\", \"progress\", \"progress\", \"progress\", \"progress\", \"project\", \"project\", \"project\", \"project\", \"project\", \"project\", \"project\", \"project\", \"proof\", \"protection\", \"psychological\", \"psychology\", \"public\", \"public\", \"public\", \"public\", \"public\", \"public\", \"public\", \"publish\", \"published\", \"published\", \"qualitative\", \"qualitative\", \"qualitative\", \"qualitative\", \"qualitative\", \"qualitative\", \"qualitative\", \"quantitative\", \"quantitative\", \"quantitative\", \"quantitative\", \"quantitative\", \"quantitative\", \"quantitative\", \"question\", \"question\", \"question\", \"question\", \"question\", \"racism\", \"rainer\", \"reading\", \"reading\", \"reading\", \"reading\", \"reading\", \"real\", \"redispatch\", \"reform\", \"reform\", \"reform\", \"reform\", \"refugee\", \"refugee\", \"refugee\", \"refugee\", \"refund\", \"regime\", \"regime\", \"regulation\", \"regulation\", \"regulation\", \"regulation\", \"regulation\", \"regulatory\", \"regulatory\", \"regulatory\", \"regulatory\", \"related\", \"related\", \"related\", \"related\", \"related\", \"related\", \"relatively\", \"renewable\", \"renewable\", \"report\", \"report\", \"report\", \"reporting\", \"reporting\", \"requires\", \"response\", \"response\", \"response\", \"responsibility\", \"responsibility\", \"retirement\", \"retirement\", \"review\", \"review\", \"review\", \"review\", \"review\", \"review\", \"right\", \"right\", \"right\", \"right\", \"right\", \"right\", \"risky\", \"rsc\", \"rule\", \"rule\", \"sage\", \"sage\", \"sage\", \"sanitation\", \"science\", \"science\", \"science\", \"science\", \"science\", \"science\", \"science\", \"science\", \"sdg\", \"sdgs\", \"sdgs\", \"sebasti\\u00e1n\", \"secrecy\", \"sector\", \"sector\", \"sector\", \"sector\", \"seek\", \"seelos\", \"semester\", \"semester\", \"service\", \"service\", \"several\", \"several\", \"several\", \"several\", \"share\", \"share\", \"share\", \"shareholder\", \"show\", \"side\", \"significant\", \"simple\", \"single\", \"single\", \"single\", \"single\", \"slack\", \"smart\", \"smart\", \"smuggling\", \"social\", \"social\", \"social\", \"social\", \"social\", \"social\", \"social\", \"societal\", \"society\", \"society\", \"society\", \"society\", \"society\", \"society\", \"solar\", \"solidarity\", \"solution\", \"solution\", \"specific\", \"specific\", \"specific\", \"specific\", \"specific\", \"stakeholder\", \"stakeholder\", \"stakeholder\", \"standard\", \"standard\", \"standard\", \"standard\", \"stanford\", \"stanford\", \"state\", \"state\", \"state\", \"state\", \"state\", \"state\", \"state\", \"state\", \"storage\", \"strategy\", \"strategy\", \"strategy\", \"strictly\", \"struggle\", \"student\", \"student\", \"student\", \"student\", \"student\", \"student\", \"student\", \"student\", \"student\", \"study\", \"study\", \"study\", \"study\", \"study\", \"submit\", \"submitting\", \"survey\", \"survey\", \"survey\", \"survey\", \"survey\", \"survey\", \"sustainability\", \"sustainability\", \"sustainability\", \"sustainability\", \"sustainable\", \"sustainable\", \"sustainable\", \"sustainable\", \"system\", \"system\", \"system\", \"system\", \"system\", \"system\", \"tariff\", \"taught\", \"tax\", \"tax\", \"taxation\", \"taxpayer\", \"technical\", \"technology\", \"technology\", \"technology\", \"technology\", \"theory\", \"theory\", \"theory\", \"theory\", \"theory\", \"theory\", \"thesis\", \"thesis\", \"thesis\", \"thesis\", \"thesis\", \"thesis\", \"thesis\", \"thesis\", \"though\", \"though\", \"though\", \"though\", \"timing\", \"tracing\", \"tracing\", \"track\", \"traditional\", \"traditional\", \"traffic\", \"training\", \"training\", \"transfer\", \"transition\", \"transmission\", \"transnational\", \"transnational\", \"transparency\", \"transparency\", \"transparency\", \"trust\", \"t\\u00f5nurist\", \"undergraduate\", \"unhcr\", \"union\", \"union\", \"union\", \"union\", \"union\", \"uruguay\", \"usa\", \"usa\", \"using\", \"using\", \"using\", \"using\", \"using\", \"using\", \"value\", \"value\", \"value\", \"value\", \"value\", \"variable\", \"variation\", \"veiko\", \"violation\", \"visiting\", \"vocational\", \"vol\", \"voting\", \"voting\", \"week\", \"welfare\", \"welfare\", \"welfare\", \"well\", \"well\", \"well\", \"well\", \"well\", \"well\", \"wellbeing\", \"whistleblower\", \"whitten\", \"wikipedia\", \"wind\", \"withdrawing\", \"woman\", \"woman\", \"woman\", \"word\", \"workforce\", \"working\", \"working\", \"working\", \"working\", \"world\", \"world\", \"world\", \"world\", \"world\", \"world\", \"write\", \"write\", \"write\", \"wrong\", \"www\", \"www\", \"www\", \"www\", \"www\", \"www\", \"year\", \"year\", \"year\", \"year\", \"yet\"]}, \"R\": 30, \"lambda.step\": 0.01, \"plot.opts\": {\"xlab\": \"PC1\", \"ylab\": \"PC2\"}, \"topic.order\": [6, 10, 9, 7, 2, 3, 1, 4, 8, 5]};\n",
              "\n",
              "function LDAvis_load_lib(url, callback){\n",
              "  var s = document.createElement('script');\n",
              "  s.src = url;\n",
              "  s.async = true;\n",
              "  s.onreadystatechange = s.onload = callback;\n",
              "  s.onerror = function(){console.warn(\"failed to load library \" + url);};\n",
              "  document.getElementsByTagName(\"head\")[0].appendChild(s);\n",
              "}\n",
              "\n",
              "if(typeof(LDAvis) !== \"undefined\"){\n",
              "   // already loaded: just create the visualization\n",
              "   !function(LDAvis){\n",
              "       new LDAvis(\"#\" + \"ldavis_el1001397840640865687319152798\", ldavis_el1001397840640865687319152798_data);\n",
              "   }(LDAvis);\n",
              "}else if(typeof define === \"function\" && define.amd){\n",
              "   // require.js is available: use it to load d3/LDAvis\n",
              "   require.config({paths: {d3: \"https://cdnjs.cloudflare.com/ajax/libs/d3/3.5.5/d3.min\"}});\n",
              "   require([\"d3\"], function(d3){\n",
              "      window.d3 = d3;\n",
              "      LDAvis_load_lib(\"https://cdn.rawgit.com/bmabey/pyLDAvis/files/ldavis.v1.0.0.js\", function(){\n",
              "        new LDAvis(\"#\" + \"ldavis_el1001397840640865687319152798\", ldavis_el1001397840640865687319152798_data);\n",
              "      });\n",
              "    });\n",
              "}else{\n",
              "    // require.js not available: dynamically load d3 & LDAvis\n",
              "    LDAvis_load_lib(\"https://cdnjs.cloudflare.com/ajax/libs/d3/3.5.5/d3.min.js\", function(){\n",
              "         LDAvis_load_lib(\"https://cdn.rawgit.com/bmabey/pyLDAvis/files/ldavis.v1.0.0.js\", function(){\n",
              "                 new LDAvis(\"#\" + \"ldavis_el1001397840640865687319152798\", ldavis_el1001397840640865687319152798_data);\n",
              "            })\n",
              "         });\n",
              "}\n",
              "</script>"
            ],
            "text/plain": [
              "PreparedData(topic_coordinates=              x         y  topics  cluster       Freq\n",
              "topic                                                \n",
              "5     -0.047719 -0.055523       1        1  26.145922\n",
              "9     -0.031767 -0.122022       2        1  19.943593\n",
              "8     -0.101549  0.161636       3        1  12.581255\n",
              "6     -0.025539 -0.041619       4        1   9.862240\n",
              "1      0.226490  0.048692       5        1   8.267060\n",
              "2     -0.001057 -0.049441       6        1   7.085127\n",
              "0      0.001506  0.065034       7        1   6.889278\n",
              "3      0.010311 -0.062997       8        1   4.885952\n",
              "7      0.001817  0.003602       9        1   2.190055\n",
              "4     -0.032491  0.052638      10        1   2.149517, topic_info=             Term       Freq       Total Category  logprob  loglift\n",
              "519           law  32.000000   32.000000  Default  30.0000  30.0000\n",
              "150        public  80.000000   80.000000  Default  29.0000  29.0000\n",
              "174        social  56.000000   56.000000  Default  28.0000  28.0000\n",
              "1311       health  30.000000   30.000000  Default  27.0000  27.0000\n",
              "487      european  29.000000   29.000000  Default  26.0000  26.0000\n",
              "...           ...        ...         ...      ...      ...      ...\n",
              "139        policy   2.263414  129.226386  Topic10  -4.5401  -0.2048\n",
              "622        europe   0.931974   10.673916  Topic10  -5.4275   1.4017\n",
              "36    comparative   1.375788   41.935581  Topic10  -5.0380   0.4228\n",
              "140     political   1.375788   61.282648  Topic10  -5.0380   0.0435\n",
              "510   institution   0.931974   13.942175  Topic10  -5.4275   1.1346\n",
              "\n",
              "[696 rows x 6 columns], token_table=      Topic      Freq            Term\n",
              "term                                 \n",
              "200       5  0.509939            able\n",
              "200       7  0.339959            able\n",
              "1842      4  0.877442         academy\n",
              "202       1  0.202260  accountability\n",
              "202       2  0.101130  accountability\n",
              "...     ...       ...             ...\n",
              "437       2  0.258586            year\n",
              "437       3  0.129293            year\n",
              "437       4  0.258586            year\n",
              "437       7  0.387880            year\n",
              "1745      3  0.848797             yet\n",
              "\n",
              "[1248 rows x 3 columns], R=30, lambda_step=0.01, plot_opts={'xlab': 'PC1', 'ylab': 'PC2'}, topic_order=[6, 10, 9, 7, 2, 3, 1, 4, 8, 5])"
            ]
          },
          "metadata": {
            "tags": []
          },
          "execution_count": 12
        }
      ]
    },
    {
      "cell_type": "markdown",
      "metadata": {
        "id": "mLhrvlYfLH_J"
      },
      "source": [
        "Now that we have mapped our topics, we check in each supervisor plan what are the three topics that are more prominant for that specific Master Thesis Colloquium.\n",
        "\n",
        "The columns of the Table show the Topic number (ranging from 0 to 9), followed by the propoensity score of the association of supervisor plan and said topic."
      ]
    },
    {
      "cell_type": "code",
      "metadata": {
        "id": "IvtkdozSibix",
        "outputId": "62f79272-6330-4bf1-87f0-e06d87666c64",
        "colab": {
          "base_uri": "https://localhost:8080/",
          "height": 1000
        }
      },
      "source": [
        "# topics per document\n",
        "documents_lda = model[documents_bow]\n",
        "\n",
        "# create table with doc_id and most prevalent topics per document\n",
        "topic_dt = pd.DataFrame(documents_lda)\n",
        "\n",
        "# supervisor names to index column\n",
        "topic_dt.index = ['Anheier', 'Bryson', 'Cali', 'Cingolani', 'Costello', 'Dawson', 'Flachsland', 'GohdesHW', \n",
        "                        'Graf', 'Hallerberg', 'Hammerschmid', 'Hassel', 'Hirth', 'Hustedt', 'Iacovone', 'Jachtenfuchs', \n",
        "                        'Jankin', 'Kayser', 'Kreyenfeld', 'Mair', 'Mena', 'MungiuPippidi', 'Munzert', 'Patz', 'Reh', \n",
        "                        'Roemmele', 'Shaikh', 'Snower', 'Stockman', 'Traxler', 'Wegrich']\n",
        "\n",
        "topic_dt.columns = ['first_topic', 'second_topic', '_third_ topic']\n",
        "topic_dt.sort_values(['first_topic'], ascending=True, inplace=True)\n",
        "topic_dt"
      ],
      "execution_count": null,
      "outputs": [
        {
          "output_type": "execute_result",
          "data": {
            "text/html": [
              "<div>\n",
              "<style scoped>\n",
              "    .dataframe tbody tr th:only-of-type {\n",
              "        vertical-align: middle;\n",
              "    }\n",
              "\n",
              "    .dataframe tbody tr th {\n",
              "        vertical-align: top;\n",
              "    }\n",
              "\n",
              "    .dataframe thead th {\n",
              "        text-align: right;\n",
              "    }\n",
              "</style>\n",
              "<table border=\"1\" class=\"dataframe\">\n",
              "  <thead>\n",
              "    <tr style=\"text-align: right;\">\n",
              "      <th></th>\n",
              "      <th>first_topic</th>\n",
              "      <th>second_topic</th>\n",
              "      <th>_third_ topic</th>\n",
              "    </tr>\n",
              "  </thead>\n",
              "  <tbody>\n",
              "    <tr>\n",
              "      <th>Patz</th>\n",
              "      <td>(0, 0.9734325)</td>\n",
              "      <td>(9, 0.023636367)</td>\n",
              "      <td>None</td>\n",
              "    </tr>\n",
              "    <tr>\n",
              "      <th>Bryson</th>\n",
              "      <td>(0, 0.9978257)</td>\n",
              "      <td>None</td>\n",
              "      <td>None</td>\n",
              "    </tr>\n",
              "    <tr>\n",
              "      <th>Flachsland</th>\n",
              "      <td>(1, 0.14515029)</td>\n",
              "      <td>(5, 0.3272048)</td>\n",
              "      <td>(8, 0.52579236)</td>\n",
              "    </tr>\n",
              "    <tr>\n",
              "      <th>Hirth</th>\n",
              "      <td>(1, 0.9988156)</td>\n",
              "      <td>None</td>\n",
              "      <td>None</td>\n",
              "    </tr>\n",
              "    <tr>\n",
              "      <th>MungiuPippidi</th>\n",
              "      <td>(2, 0.99871033)</td>\n",
              "      <td>None</td>\n",
              "      <td>None</td>\n",
              "    </tr>\n",
              "    <tr>\n",
              "      <th>Snower</th>\n",
              "      <td>(3, 0.9949992)</td>\n",
              "      <td>None</td>\n",
              "      <td>None</td>\n",
              "    </tr>\n",
              "    <tr>\n",
              "      <th>Hallerberg</th>\n",
              "      <td>(3, 0.9970292)</td>\n",
              "      <td>None</td>\n",
              "      <td>None</td>\n",
              "    </tr>\n",
              "    <tr>\n",
              "      <th>Dawson</th>\n",
              "      <td>(4, 0.9957339)</td>\n",
              "      <td>None</td>\n",
              "      <td>None</td>\n",
              "    </tr>\n",
              "    <tr>\n",
              "      <th>Hustedt</th>\n",
              "      <td>(5, 0.7501314)</td>\n",
              "      <td>(9, 0.24634309)</td>\n",
              "      <td>None</td>\n",
              "    </tr>\n",
              "    <tr>\n",
              "      <th>Hassel</th>\n",
              "      <td>(5, 0.98999697)</td>\n",
              "      <td>None</td>\n",
              "      <td>None</td>\n",
              "    </tr>\n",
              "    <tr>\n",
              "      <th>Kreyenfeld</th>\n",
              "      <td>(5, 0.9941537)</td>\n",
              "      <td>None</td>\n",
              "      <td>None</td>\n",
              "    </tr>\n",
              "    <tr>\n",
              "      <th>Iacovone</th>\n",
              "      <td>(5, 0.99508023)</td>\n",
              "      <td>None</td>\n",
              "      <td>None</td>\n",
              "    </tr>\n",
              "    <tr>\n",
              "      <th>Reh</th>\n",
              "      <td>(5, 0.9961689)</td>\n",
              "      <td>None</td>\n",
              "      <td>None</td>\n",
              "    </tr>\n",
              "    <tr>\n",
              "      <th>GohdesHW</th>\n",
              "      <td>(5, 0.9964831)</td>\n",
              "      <td>None</td>\n",
              "      <td>None</td>\n",
              "    </tr>\n",
              "    <tr>\n",
              "      <th>Anheier</th>\n",
              "      <td>(5, 0.99674976)</td>\n",
              "      <td>None</td>\n",
              "      <td>None</td>\n",
              "    </tr>\n",
              "    <tr>\n",
              "      <th>Kayser</th>\n",
              "      <td>(5, 0.996841)</td>\n",
              "      <td>None</td>\n",
              "      <td>None</td>\n",
              "    </tr>\n",
              "    <tr>\n",
              "      <th>Graf</th>\n",
              "      <td>(5, 0.99770343)</td>\n",
              "      <td>None</td>\n",
              "      <td>None</td>\n",
              "    </tr>\n",
              "    <tr>\n",
              "      <th>Munzert</th>\n",
              "      <td>(5, 0.99790627)</td>\n",
              "      <td>None</td>\n",
              "      <td>None</td>\n",
              "    </tr>\n",
              "    <tr>\n",
              "      <th>Roemmele</th>\n",
              "      <td>(6, 0.9923708)</td>\n",
              "      <td>None</td>\n",
              "      <td>None</td>\n",
              "    </tr>\n",
              "    <tr>\n",
              "      <th>Jachtenfuchs</th>\n",
              "      <td>(6, 0.9952115)</td>\n",
              "      <td>None</td>\n",
              "      <td>None</td>\n",
              "    </tr>\n",
              "    <tr>\n",
              "      <th>Mair</th>\n",
              "      <td>(6, 0.99719554)</td>\n",
              "      <td>None</td>\n",
              "      <td>None</td>\n",
              "    </tr>\n",
              "    <tr>\n",
              "      <th>Shaikh</th>\n",
              "      <td>(6, 0.9974353)</td>\n",
              "      <td>None</td>\n",
              "      <td>None</td>\n",
              "    </tr>\n",
              "    <tr>\n",
              "      <th>Mena</th>\n",
              "      <td>(7, 0.9958134)</td>\n",
              "      <td>None</td>\n",
              "      <td>None</td>\n",
              "    </tr>\n",
              "    <tr>\n",
              "      <th>Wegrich</th>\n",
              "      <td>(8, 0.46082938)</td>\n",
              "      <td>(9, 0.5341688)</td>\n",
              "      <td>None</td>\n",
              "    </tr>\n",
              "    <tr>\n",
              "      <th>Costello</th>\n",
              "      <td>(8, 0.99662846)</td>\n",
              "      <td>None</td>\n",
              "      <td>None</td>\n",
              "    </tr>\n",
              "    <tr>\n",
              "      <th>Cali</th>\n",
              "      <td>(8, 0.9971422)</td>\n",
              "      <td>None</td>\n",
              "      <td>None</td>\n",
              "    </tr>\n",
              "    <tr>\n",
              "      <th>Jankin</th>\n",
              "      <td>(8, 0.99769765)</td>\n",
              "      <td>None</td>\n",
              "      <td>None</td>\n",
              "    </tr>\n",
              "    <tr>\n",
              "      <th>Cingolani</th>\n",
              "      <td>(9, 0.99444264)</td>\n",
              "      <td>None</td>\n",
              "      <td>None</td>\n",
              "    </tr>\n",
              "    <tr>\n",
              "      <th>Hammerschmid</th>\n",
              "      <td>(9, 0.9977209)</td>\n",
              "      <td>None</td>\n",
              "      <td>None</td>\n",
              "    </tr>\n",
              "    <tr>\n",
              "      <th>Stockman</th>\n",
              "      <td>(9, 0.99819946)</td>\n",
              "      <td>None</td>\n",
              "      <td>None</td>\n",
              "    </tr>\n",
              "    <tr>\n",
              "      <th>Traxler</th>\n",
              "      <td>(9, 0.9988293)</td>\n",
              "      <td>None</td>\n",
              "      <td>None</td>\n",
              "    </tr>\n",
              "  </tbody>\n",
              "</table>\n",
              "</div>"
            ],
            "text/plain": [
              "                   first_topic      second_topic    _third_ topic\n",
              "Patz            (0, 0.9734325)  (9, 0.023636367)             None\n",
              "Bryson          (0, 0.9978257)              None             None\n",
              "Flachsland     (1, 0.14515029)    (5, 0.3272048)  (8, 0.52579236)\n",
              "Hirth           (1, 0.9988156)              None             None\n",
              "MungiuPippidi  (2, 0.99871033)              None             None\n",
              "Snower          (3, 0.9949992)              None             None\n",
              "Hallerberg      (3, 0.9970292)              None             None\n",
              "Dawson          (4, 0.9957339)              None             None\n",
              "Hustedt         (5, 0.7501314)   (9, 0.24634309)             None\n",
              "Hassel         (5, 0.98999697)              None             None\n",
              "Kreyenfeld      (5, 0.9941537)              None             None\n",
              "Iacovone       (5, 0.99508023)              None             None\n",
              "Reh             (5, 0.9961689)              None             None\n",
              "GohdesHW        (5, 0.9964831)              None             None\n",
              "Anheier        (5, 0.99674976)              None             None\n",
              "Kayser           (5, 0.996841)              None             None\n",
              "Graf           (5, 0.99770343)              None             None\n",
              "Munzert        (5, 0.99790627)              None             None\n",
              "Roemmele        (6, 0.9923708)              None             None\n",
              "Jachtenfuchs    (6, 0.9952115)              None             None\n",
              "Mair           (6, 0.99719554)              None             None\n",
              "Shaikh          (6, 0.9974353)              None             None\n",
              "Mena            (7, 0.9958134)              None             None\n",
              "Wegrich        (8, 0.46082938)    (9, 0.5341688)             None\n",
              "Costello       (8, 0.99662846)              None             None\n",
              "Cali            (8, 0.9971422)              None             None\n",
              "Jankin         (8, 0.99769765)              None             None\n",
              "Cingolani      (9, 0.99444264)              None             None\n",
              "Hammerschmid    (9, 0.9977209)              None             None\n",
              "Stockman       (9, 0.99819946)              None             None\n",
              "Traxler         (9, 0.9988293)              None             None"
            ]
          },
          "metadata": {
            "tags": []
          },
          "execution_count": 136
        }
      ]
    },
    {
      "cell_type": "code",
      "metadata": {
        "id": "tNvwJlPHMiK0"
      },
      "source": [
        ""
      ],
      "execution_count": null,
      "outputs": []
    },
    {
      "cell_type": "markdown",
      "metadata": {
        "id": "h8NUCaUGMRqJ"
      },
      "source": [
        "And, for good measure, we check the probability of each topic being associated with each supervisor plan.\n",
        "\n",
        "The resulting Table seems to indicate that Topic 0 is highly assiciated with supervisors Bryson and Patz. \n",
        "\n",
        "The results are consistent with those shown in the previous table."
      ]
    },
    {
      "cell_type": "code",
      "metadata": {
        "id": "B85_J9UIV54x",
        "outputId": "4536b69a-33bb-4c5f-8661-e2ade8e7902f",
        "colab": {
          "base_uri": "https://localhost:8080/",
          "height": 1000
        }
      },
      "source": [
        "# topic probabilities per document\n",
        "topics = [model[documents_bow[i]] for i in range(len(documents))]\n",
        "num_topics = 10\n",
        "\n",
        "def topics_document_to_dataframe(topics_document, num_topics):\n",
        "    res = pd.DataFrame(columns=range(num_topics))\n",
        "    for topic_weight in topics_document:\n",
        "        res.loc[0, topic_weight[0]] = topic_weight[1]\n",
        "    return res\n",
        "\n",
        "document_topic = \\\n",
        "pd.concat([topics_document_to_dataframe(topics_document, num_topics=num_topics) for topics_document in topics]) \\\n",
        "  .reset_index(drop=True).fillna(0)\n",
        "\n",
        "# supervisor names to index column\n",
        "document_topic.index = ['Anheier', 'Bryson', 'Cali', 'Cingolani', 'Costello', 'Dawson', 'Flachsland', 'GohdesHW', \n",
        "                        'Graf', 'Hallerberg', 'Hammerschmid', 'Hassel', 'Hirth', 'Hustedt', 'Iacovone', 'Jachtenfuchs', \n",
        "                        'Jankin', 'Kayser', 'Kreyenfeld', 'Mair', 'Mena', 'MungiuPippidi', 'Munzert', 'Patz', 'Reh', \n",
        "                        'Roemmele', 'Shaikh', 'Snower', 'Stockman', 'Traxler', 'Wegrich']\n",
        "\n",
        "document_topic # table with topic probabilities per document"
      ],
      "execution_count": null,
      "outputs": [
        {
          "output_type": "execute_result",
          "data": {
            "text/html": [
              "<div>\n",
              "<style scoped>\n",
              "    .dataframe tbody tr th:only-of-type {\n",
              "        vertical-align: middle;\n",
              "    }\n",
              "\n",
              "    .dataframe tbody tr th {\n",
              "        vertical-align: top;\n",
              "    }\n",
              "\n",
              "    .dataframe thead th {\n",
              "        text-align: right;\n",
              "    }\n",
              "</style>\n",
              "<table border=\"1\" class=\"dataframe\">\n",
              "  <thead>\n",
              "    <tr style=\"text-align: right;\">\n",
              "      <th></th>\n",
              "      <th>0</th>\n",
              "      <th>1</th>\n",
              "      <th>2</th>\n",
              "      <th>3</th>\n",
              "      <th>4</th>\n",
              "      <th>5</th>\n",
              "      <th>6</th>\n",
              "      <th>7</th>\n",
              "      <th>8</th>\n",
              "      <th>9</th>\n",
              "    </tr>\n",
              "  </thead>\n",
              "  <tbody>\n",
              "    <tr>\n",
              "      <th>Anheier</th>\n",
              "      <td>0.000000</td>\n",
              "      <td>0.000000</td>\n",
              "      <td>0.00000</td>\n",
              "      <td>0.000000</td>\n",
              "      <td>0.000000</td>\n",
              "      <td>0.996750</td>\n",
              "      <td>0.000000</td>\n",
              "      <td>0.000000</td>\n",
              "      <td>0.000000</td>\n",
              "      <td>0.000000</td>\n",
              "    </tr>\n",
              "    <tr>\n",
              "      <th>Bryson</th>\n",
              "      <td>0.997826</td>\n",
              "      <td>0.000000</td>\n",
              "      <td>0.00000</td>\n",
              "      <td>0.000000</td>\n",
              "      <td>0.000000</td>\n",
              "      <td>0.000000</td>\n",
              "      <td>0.000000</td>\n",
              "      <td>0.000000</td>\n",
              "      <td>0.000000</td>\n",
              "      <td>0.000000</td>\n",
              "    </tr>\n",
              "    <tr>\n",
              "      <th>Cali</th>\n",
              "      <td>0.000000</td>\n",
              "      <td>0.000000</td>\n",
              "      <td>0.00000</td>\n",
              "      <td>0.000000</td>\n",
              "      <td>0.000000</td>\n",
              "      <td>0.000000</td>\n",
              "      <td>0.000000</td>\n",
              "      <td>0.000000</td>\n",
              "      <td>0.997142</td>\n",
              "      <td>0.000000</td>\n",
              "    </tr>\n",
              "    <tr>\n",
              "      <th>Cingolani</th>\n",
              "      <td>0.000000</td>\n",
              "      <td>0.000000</td>\n",
              "      <td>0.00000</td>\n",
              "      <td>0.000000</td>\n",
              "      <td>0.000000</td>\n",
              "      <td>0.000000</td>\n",
              "      <td>0.000000</td>\n",
              "      <td>0.000000</td>\n",
              "      <td>0.000000</td>\n",
              "      <td>0.994443</td>\n",
              "    </tr>\n",
              "    <tr>\n",
              "      <th>Costello</th>\n",
              "      <td>0.000000</td>\n",
              "      <td>0.000000</td>\n",
              "      <td>0.00000</td>\n",
              "      <td>0.000000</td>\n",
              "      <td>0.000000</td>\n",
              "      <td>0.000000</td>\n",
              "      <td>0.000000</td>\n",
              "      <td>0.000000</td>\n",
              "      <td>0.996628</td>\n",
              "      <td>0.000000</td>\n",
              "    </tr>\n",
              "    <tr>\n",
              "      <th>Dawson</th>\n",
              "      <td>0.000000</td>\n",
              "      <td>0.000000</td>\n",
              "      <td>0.00000</td>\n",
              "      <td>0.000000</td>\n",
              "      <td>0.995734</td>\n",
              "      <td>0.000000</td>\n",
              "      <td>0.000000</td>\n",
              "      <td>0.000000</td>\n",
              "      <td>0.000000</td>\n",
              "      <td>0.000000</td>\n",
              "    </tr>\n",
              "    <tr>\n",
              "      <th>Flachsland</th>\n",
              "      <td>0.000000</td>\n",
              "      <td>0.145149</td>\n",
              "      <td>0.00000</td>\n",
              "      <td>0.000000</td>\n",
              "      <td>0.000000</td>\n",
              "      <td>0.327208</td>\n",
              "      <td>0.000000</td>\n",
              "      <td>0.000000</td>\n",
              "      <td>0.525790</td>\n",
              "      <td>0.000000</td>\n",
              "    </tr>\n",
              "    <tr>\n",
              "      <th>GohdesHW</th>\n",
              "      <td>0.000000</td>\n",
              "      <td>0.000000</td>\n",
              "      <td>0.00000</td>\n",
              "      <td>0.000000</td>\n",
              "      <td>0.000000</td>\n",
              "      <td>0.996483</td>\n",
              "      <td>0.000000</td>\n",
              "      <td>0.000000</td>\n",
              "      <td>0.000000</td>\n",
              "      <td>0.000000</td>\n",
              "    </tr>\n",
              "    <tr>\n",
              "      <th>Graf</th>\n",
              "      <td>0.000000</td>\n",
              "      <td>0.000000</td>\n",
              "      <td>0.00000</td>\n",
              "      <td>0.000000</td>\n",
              "      <td>0.000000</td>\n",
              "      <td>0.997703</td>\n",
              "      <td>0.000000</td>\n",
              "      <td>0.000000</td>\n",
              "      <td>0.000000</td>\n",
              "      <td>0.000000</td>\n",
              "    </tr>\n",
              "    <tr>\n",
              "      <th>Hallerberg</th>\n",
              "      <td>0.000000</td>\n",
              "      <td>0.000000</td>\n",
              "      <td>0.00000</td>\n",
              "      <td>0.997029</td>\n",
              "      <td>0.000000</td>\n",
              "      <td>0.000000</td>\n",
              "      <td>0.000000</td>\n",
              "      <td>0.000000</td>\n",
              "      <td>0.000000</td>\n",
              "      <td>0.000000</td>\n",
              "    </tr>\n",
              "    <tr>\n",
              "      <th>Hammerschmid</th>\n",
              "      <td>0.000000</td>\n",
              "      <td>0.000000</td>\n",
              "      <td>0.00000</td>\n",
              "      <td>0.000000</td>\n",
              "      <td>0.000000</td>\n",
              "      <td>0.000000</td>\n",
              "      <td>0.000000</td>\n",
              "      <td>0.000000</td>\n",
              "      <td>0.000000</td>\n",
              "      <td>0.997721</td>\n",
              "    </tr>\n",
              "    <tr>\n",
              "      <th>Hassel</th>\n",
              "      <td>0.000000</td>\n",
              "      <td>0.000000</td>\n",
              "      <td>0.00000</td>\n",
              "      <td>0.000000</td>\n",
              "      <td>0.000000</td>\n",
              "      <td>0.989997</td>\n",
              "      <td>0.000000</td>\n",
              "      <td>0.000000</td>\n",
              "      <td>0.000000</td>\n",
              "      <td>0.000000</td>\n",
              "    </tr>\n",
              "    <tr>\n",
              "      <th>Hirth</th>\n",
              "      <td>0.000000</td>\n",
              "      <td>0.998816</td>\n",
              "      <td>0.00000</td>\n",
              "      <td>0.000000</td>\n",
              "      <td>0.000000</td>\n",
              "      <td>0.000000</td>\n",
              "      <td>0.000000</td>\n",
              "      <td>0.000000</td>\n",
              "      <td>0.000000</td>\n",
              "      <td>0.000000</td>\n",
              "    </tr>\n",
              "    <tr>\n",
              "      <th>Hustedt</th>\n",
              "      <td>0.000000</td>\n",
              "      <td>0.000000</td>\n",
              "      <td>0.00000</td>\n",
              "      <td>0.000000</td>\n",
              "      <td>0.000000</td>\n",
              "      <td>0.750134</td>\n",
              "      <td>0.000000</td>\n",
              "      <td>0.000000</td>\n",
              "      <td>0.000000</td>\n",
              "      <td>0.246341</td>\n",
              "    </tr>\n",
              "    <tr>\n",
              "      <th>Iacovone</th>\n",
              "      <td>0.000000</td>\n",
              "      <td>0.000000</td>\n",
              "      <td>0.00000</td>\n",
              "      <td>0.000000</td>\n",
              "      <td>0.000000</td>\n",
              "      <td>0.995080</td>\n",
              "      <td>0.000000</td>\n",
              "      <td>0.000000</td>\n",
              "      <td>0.000000</td>\n",
              "      <td>0.000000</td>\n",
              "    </tr>\n",
              "    <tr>\n",
              "      <th>Jachtenfuchs</th>\n",
              "      <td>0.000000</td>\n",
              "      <td>0.000000</td>\n",
              "      <td>0.00000</td>\n",
              "      <td>0.000000</td>\n",
              "      <td>0.000000</td>\n",
              "      <td>0.000000</td>\n",
              "      <td>0.995211</td>\n",
              "      <td>0.000000</td>\n",
              "      <td>0.000000</td>\n",
              "      <td>0.000000</td>\n",
              "    </tr>\n",
              "    <tr>\n",
              "      <th>Jankin</th>\n",
              "      <td>0.000000</td>\n",
              "      <td>0.000000</td>\n",
              "      <td>0.00000</td>\n",
              "      <td>0.000000</td>\n",
              "      <td>0.000000</td>\n",
              "      <td>0.000000</td>\n",
              "      <td>0.000000</td>\n",
              "      <td>0.000000</td>\n",
              "      <td>0.997698</td>\n",
              "      <td>0.000000</td>\n",
              "    </tr>\n",
              "    <tr>\n",
              "      <th>Kayser</th>\n",
              "      <td>0.000000</td>\n",
              "      <td>0.000000</td>\n",
              "      <td>0.00000</td>\n",
              "      <td>0.000000</td>\n",
              "      <td>0.000000</td>\n",
              "      <td>0.996841</td>\n",
              "      <td>0.000000</td>\n",
              "      <td>0.000000</td>\n",
              "      <td>0.000000</td>\n",
              "      <td>0.000000</td>\n",
              "    </tr>\n",
              "    <tr>\n",
              "      <th>Kreyenfeld</th>\n",
              "      <td>0.000000</td>\n",
              "      <td>0.000000</td>\n",
              "      <td>0.00000</td>\n",
              "      <td>0.000000</td>\n",
              "      <td>0.000000</td>\n",
              "      <td>0.994154</td>\n",
              "      <td>0.000000</td>\n",
              "      <td>0.000000</td>\n",
              "      <td>0.000000</td>\n",
              "      <td>0.000000</td>\n",
              "    </tr>\n",
              "    <tr>\n",
              "      <th>Mair</th>\n",
              "      <td>0.000000</td>\n",
              "      <td>0.000000</td>\n",
              "      <td>0.00000</td>\n",
              "      <td>0.000000</td>\n",
              "      <td>0.000000</td>\n",
              "      <td>0.000000</td>\n",
              "      <td>0.997196</td>\n",
              "      <td>0.000000</td>\n",
              "      <td>0.000000</td>\n",
              "      <td>0.000000</td>\n",
              "    </tr>\n",
              "    <tr>\n",
              "      <th>Mena</th>\n",
              "      <td>0.000000</td>\n",
              "      <td>0.000000</td>\n",
              "      <td>0.00000</td>\n",
              "      <td>0.000000</td>\n",
              "      <td>0.000000</td>\n",
              "      <td>0.000000</td>\n",
              "      <td>0.000000</td>\n",
              "      <td>0.995813</td>\n",
              "      <td>0.000000</td>\n",
              "      <td>0.000000</td>\n",
              "    </tr>\n",
              "    <tr>\n",
              "      <th>MungiuPippidi</th>\n",
              "      <td>0.000000</td>\n",
              "      <td>0.000000</td>\n",
              "      <td>0.99871</td>\n",
              "      <td>0.000000</td>\n",
              "      <td>0.000000</td>\n",
              "      <td>0.000000</td>\n",
              "      <td>0.000000</td>\n",
              "      <td>0.000000</td>\n",
              "      <td>0.000000</td>\n",
              "      <td>0.000000</td>\n",
              "    </tr>\n",
              "    <tr>\n",
              "      <th>Munzert</th>\n",
              "      <td>0.000000</td>\n",
              "      <td>0.000000</td>\n",
              "      <td>0.00000</td>\n",
              "      <td>0.000000</td>\n",
              "      <td>0.000000</td>\n",
              "      <td>0.997906</td>\n",
              "      <td>0.000000</td>\n",
              "      <td>0.000000</td>\n",
              "      <td>0.000000</td>\n",
              "      <td>0.000000</td>\n",
              "    </tr>\n",
              "    <tr>\n",
              "      <th>Patz</th>\n",
              "      <td>0.973433</td>\n",
              "      <td>0.000000</td>\n",
              "      <td>0.00000</td>\n",
              "      <td>0.000000</td>\n",
              "      <td>0.000000</td>\n",
              "      <td>0.000000</td>\n",
              "      <td>0.000000</td>\n",
              "      <td>0.000000</td>\n",
              "      <td>0.000000</td>\n",
              "      <td>0.023636</td>\n",
              "    </tr>\n",
              "    <tr>\n",
              "      <th>Reh</th>\n",
              "      <td>0.000000</td>\n",
              "      <td>0.000000</td>\n",
              "      <td>0.00000</td>\n",
              "      <td>0.000000</td>\n",
              "      <td>0.000000</td>\n",
              "      <td>0.996169</td>\n",
              "      <td>0.000000</td>\n",
              "      <td>0.000000</td>\n",
              "      <td>0.000000</td>\n",
              "      <td>0.000000</td>\n",
              "    </tr>\n",
              "    <tr>\n",
              "      <th>Roemmele</th>\n",
              "      <td>0.000000</td>\n",
              "      <td>0.000000</td>\n",
              "      <td>0.00000</td>\n",
              "      <td>0.000000</td>\n",
              "      <td>0.000000</td>\n",
              "      <td>0.000000</td>\n",
              "      <td>0.992371</td>\n",
              "      <td>0.000000</td>\n",
              "      <td>0.000000</td>\n",
              "      <td>0.000000</td>\n",
              "    </tr>\n",
              "    <tr>\n",
              "      <th>Shaikh</th>\n",
              "      <td>0.000000</td>\n",
              "      <td>0.000000</td>\n",
              "      <td>0.00000</td>\n",
              "      <td>0.000000</td>\n",
              "      <td>0.000000</td>\n",
              "      <td>0.000000</td>\n",
              "      <td>0.997435</td>\n",
              "      <td>0.000000</td>\n",
              "      <td>0.000000</td>\n",
              "      <td>0.000000</td>\n",
              "    </tr>\n",
              "    <tr>\n",
              "      <th>Snower</th>\n",
              "      <td>0.000000</td>\n",
              "      <td>0.000000</td>\n",
              "      <td>0.00000</td>\n",
              "      <td>0.994999</td>\n",
              "      <td>0.000000</td>\n",
              "      <td>0.000000</td>\n",
              "      <td>0.000000</td>\n",
              "      <td>0.000000</td>\n",
              "      <td>0.000000</td>\n",
              "      <td>0.000000</td>\n",
              "    </tr>\n",
              "    <tr>\n",
              "      <th>Stockman</th>\n",
              "      <td>0.000000</td>\n",
              "      <td>0.000000</td>\n",
              "      <td>0.00000</td>\n",
              "      <td>0.000000</td>\n",
              "      <td>0.000000</td>\n",
              "      <td>0.000000</td>\n",
              "      <td>0.000000</td>\n",
              "      <td>0.000000</td>\n",
              "      <td>0.000000</td>\n",
              "      <td>0.998199</td>\n",
              "    </tr>\n",
              "    <tr>\n",
              "      <th>Traxler</th>\n",
              "      <td>0.000000</td>\n",
              "      <td>0.000000</td>\n",
              "      <td>0.00000</td>\n",
              "      <td>0.000000</td>\n",
              "      <td>0.000000</td>\n",
              "      <td>0.000000</td>\n",
              "      <td>0.000000</td>\n",
              "      <td>0.000000</td>\n",
              "      <td>0.000000</td>\n",
              "      <td>0.998829</td>\n",
              "    </tr>\n",
              "    <tr>\n",
              "      <th>Wegrich</th>\n",
              "      <td>0.000000</td>\n",
              "      <td>0.000000</td>\n",
              "      <td>0.00000</td>\n",
              "      <td>0.000000</td>\n",
              "      <td>0.000000</td>\n",
              "      <td>0.000000</td>\n",
              "      <td>0.000000</td>\n",
              "      <td>0.000000</td>\n",
              "      <td>0.460830</td>\n",
              "      <td>0.534169</td>\n",
              "    </tr>\n",
              "  </tbody>\n",
              "</table>\n",
              "</div>"
            ],
            "text/plain": [
              "                      0         1        2  ...         7         8         9\n",
              "Anheier        0.000000  0.000000  0.00000  ...  0.000000  0.000000  0.000000\n",
              "Bryson         0.997826  0.000000  0.00000  ...  0.000000  0.000000  0.000000\n",
              "Cali           0.000000  0.000000  0.00000  ...  0.000000  0.997142  0.000000\n",
              "Cingolani      0.000000  0.000000  0.00000  ...  0.000000  0.000000  0.994443\n",
              "Costello       0.000000  0.000000  0.00000  ...  0.000000  0.996628  0.000000\n",
              "Dawson         0.000000  0.000000  0.00000  ...  0.000000  0.000000  0.000000\n",
              "Flachsland     0.000000  0.145149  0.00000  ...  0.000000  0.525790  0.000000\n",
              "GohdesHW       0.000000  0.000000  0.00000  ...  0.000000  0.000000  0.000000\n",
              "Graf           0.000000  0.000000  0.00000  ...  0.000000  0.000000  0.000000\n",
              "Hallerberg     0.000000  0.000000  0.00000  ...  0.000000  0.000000  0.000000\n",
              "Hammerschmid   0.000000  0.000000  0.00000  ...  0.000000  0.000000  0.997721\n",
              "Hassel         0.000000  0.000000  0.00000  ...  0.000000  0.000000  0.000000\n",
              "Hirth          0.000000  0.998816  0.00000  ...  0.000000  0.000000  0.000000\n",
              "Hustedt        0.000000  0.000000  0.00000  ...  0.000000  0.000000  0.246341\n",
              "Iacovone       0.000000  0.000000  0.00000  ...  0.000000  0.000000  0.000000\n",
              "Jachtenfuchs   0.000000  0.000000  0.00000  ...  0.000000  0.000000  0.000000\n",
              "Jankin         0.000000  0.000000  0.00000  ...  0.000000  0.997698  0.000000\n",
              "Kayser         0.000000  0.000000  0.00000  ...  0.000000  0.000000  0.000000\n",
              "Kreyenfeld     0.000000  0.000000  0.00000  ...  0.000000  0.000000  0.000000\n",
              "Mair           0.000000  0.000000  0.00000  ...  0.000000  0.000000  0.000000\n",
              "Mena           0.000000  0.000000  0.00000  ...  0.995813  0.000000  0.000000\n",
              "MungiuPippidi  0.000000  0.000000  0.99871  ...  0.000000  0.000000  0.000000\n",
              "Munzert        0.000000  0.000000  0.00000  ...  0.000000  0.000000  0.000000\n",
              "Patz           0.973433  0.000000  0.00000  ...  0.000000  0.000000  0.023636\n",
              "Reh            0.000000  0.000000  0.00000  ...  0.000000  0.000000  0.000000\n",
              "Roemmele       0.000000  0.000000  0.00000  ...  0.000000  0.000000  0.000000\n",
              "Shaikh         0.000000  0.000000  0.00000  ...  0.000000  0.000000  0.000000\n",
              "Snower         0.000000  0.000000  0.00000  ...  0.000000  0.000000  0.000000\n",
              "Stockman       0.000000  0.000000  0.00000  ...  0.000000  0.000000  0.998199\n",
              "Traxler        0.000000  0.000000  0.00000  ...  0.000000  0.000000  0.998829\n",
              "Wegrich        0.000000  0.000000  0.00000  ...  0.000000  0.460830  0.534169\n",
              "\n",
              "[31 rows x 10 columns]"
            ]
          },
          "metadata": {
            "tags": []
          },
          "execution_count": 139
        }
      ]
    },
    {
      "cell_type": "markdown",
      "metadata": {
        "id": "dIZcN_ZZOQ51"
      },
      "source": [
        "### User's Experience - LDA comparison\n",
        "All of the previous steps concern our topic modelling choices to establish a good model to apply to students' research proposals. As such, we don't expect the final user to have access to - or even be aware of - what goes on \"inside the hood\" of our Supervisor Recommendation Tool.\n",
        "\n",
        "In these next lines, we will apply the LDA model to the Students' Master Thesis Proposal. Here, for the first time, our code expects the user to provide for some input: we need them to feed our system with their research proposal. \n",
        "\n",
        "We experimented two alternative forms of providing this input:\n",
        "- 'Add text' allows for students to copy and paste the text of their proposal; and\n",
        "- 'Add Document' allows for students to provide for a local path where the research proposal is saved, in txt format."
      ]
    },
    {
      "cell_type": "code",
      "metadata": {
        "cellView": "form",
        "id": "ekH-wIuYfpWC"
      },
      "source": [
        "#@title Add Text { run: \"auto\", vertical-output: true }\n",
        "\n",
        "yr_text = \"health inequality\" #@param {type:\"string\"}\n",
        "\n"
      ],
      "execution_count": null,
      "outputs": []
    },
    {
      "cell_type": "code",
      "metadata": {
        "id": "c7oQ6SJh7mtl",
        "cellView": "form"
      },
      "source": [
        "#@title Add Document\n",
        "path = \"/content/drive/My Drive/docs/ana.txt\" #@param {type:\"string\"}\n",
        "yr_p = open(path)\n",
        "yr_path = yr_p.read()"
      ],
      "execution_count": null,
      "outputs": []
    },
    {
      "cell_type": "markdown",
      "metadata": {
        "id": "j3SkZkgHOfUS"
      },
      "source": [
        "We proceed to tokenize the text provided, to identify the words.\n",
        "Then, we apply the dictionary to generate a bag-of-words. "
      ]
    },
    {
      "cell_type": "code",
      "metadata": {
        "id": "tqH6P0bMOZhv"
      },
      "source": [
        "# tokenize and create bag of words for external document\n",
        "yr_tokens = nltk.word_tokenize(yr_path)\n",
        "yr_bow_vector = dictionary.doc2bow(yr_tokens)"
      ],
      "execution_count": null,
      "outputs": []
    },
    {
      "cell_type": "markdown",
      "metadata": {
        "id": "Aq0seFmPO0ti"
      },
      "source": [
        "We find the three topics that are most prominantly associated with the student's research proposal(as transformed in the bag-of-words). "
      ]
    },
    {
      "cell_type": "code",
      "metadata": {
        "id": "kzSFvVvAMaE7",
        "outputId": "0b678cdd-791a-4042-8b0c-25e628a9a991",
        "colab": {
          "base_uri": "https://localhost:8080/",
          "height": 85
        }
      },
      "source": [
        "# table with proximity score for top three topics related to external doc\n",
        "results = pd.DataFrame(model[yr_bow_vector])\n",
        "results.columns = ['topic', 'proximity']\n",
        "results.sort_values(['proximity'], ascending=False, inplace=True)\n",
        "print(results.nlargest(3,['proximity']))"
      ],
      "execution_count": null,
      "outputs": [
        {
          "output_type": "stream",
          "text": [
            "   topic  proximity\n",
            "7      9   0.267140\n",
            "6      8   0.196539\n",
            "1      2   0.177550\n"
          ],
          "name": "stdout"
        }
      ]
    },
    {
      "cell_type": "markdown",
      "metadata": {
        "id": "87SoP7obPRGk"
      },
      "source": [
        "Our next step is to display to the Student a list of the top 10 keywords that are more frequent in each of the topics that our model indicated to be the best matches to their proposal. We are still working on how to display this information."
      ]
    },
    {
      "cell_type": "code",
      "metadata": {
        "id": "O5i0jo796_vJ",
        "outputId": "b8218f25-f106-464b-d760-ec4ffbd7e8c5",
        "colab": {
          "base_uri": "https://localhost:8080/",
          "height": 35
        }
      },
      "source": [
        "\"\"\"\n",
        "  from `results` top 3 topics\n",
        "    print top 10 words by topic\n",
        "  get input from best topic for user -- yr_topic_input \n",
        "\"\"\""
      ],
      "execution_count": null,
      "outputs": [
        {
          "output_type": "execute_result",
          "data": {
            "application/vnd.google.colaboratory.intrinsic+json": {
              "type": "string"
            },
            "text/plain": [
              "'\\n  from `results` top 3 topics\\n    print top 10 words by topic\\n  get input from best topic for user -- yr_topic_input \\n'"
            ]
          },
          "metadata": {
            "tags": []
          },
          "execution_count": 142
        }
      ]
    },
    {
      "cell_type": "markdown",
      "metadata": {
        "id": "ZCyyR9lBQrfd"
      },
      "source": [
        "As a final validation, as well as a way to allow for students to choose what is most relevant for them -- for example, if faced with a choice of which to prioritize, a particular methodological approach or a substantive research interes -- we ask the user to, based on the sample of words we provided, confirm which of the three topics best relates to their research."
      ]
    },
    {
      "cell_type": "code",
      "metadata": {
        "id": "QL88KD5ZfH_a",
        "cellView": "form"
      },
      "source": [
        "#@title Which topic best relates to your research?\n",
        "yr_topic_input = 6 #@param {type:\"integer\"}\n"
      ],
      "execution_count": null,
      "outputs": []
    },
    {
      "cell_type": "markdown",
      "metadata": {
        "id": "Wrxk73OQRQBK"
      },
      "source": [
        "Finally, the system provides as our final output, a list of the supervisors better suited to the student's research proposal."
      ]
    },
    {
      "cell_type": "code",
      "metadata": {
        "id": "dumVs4Fh5_2m",
        "outputId": "a23e4e56-b51b-4bed-c9fa-1c87e9eb6c39",
        "colab": {
          "base_uri": "https://localhost:8080/",
          "height": 85
        }
      },
      "source": [
        "\"\"\"\n",
        " from yr_topic_input  -- previous step\n",
        "    find top 3 related docs in corpus\n",
        "    find and print top 5 doc_ids\n",
        "    filter prob > 0\n",
        "\"\"\"\n",
        "yr_recommend = pd.DataFrame(document_topic.sort_values(yr_topic_input, ascending=False)[yr_topic_input]).head(5)  # from document_topic table\n",
        "yr_recommend.columns = ['prob']\n",
        "yr_recommend = yr_recommend[yr_recommend.prob > 0]\n",
        "print(*yr_recommend.index.tolist(), sep='\\n')\n",
        "#yr_recommend"
      ],
      "execution_count": null,
      "outputs": [
        {
          "output_type": "stream",
          "text": [
            "Shaikh\n",
            "Mair\n",
            "Jachtenfuchs\n",
            "Roemmele\n"
          ],
          "name": "stdout"
        }
      ]
    },
    {
      "cell_type": "markdown",
      "metadata": {
        "id": "CjWKu9FTOuOm"
      },
      "source": [
        "## TF-IDF\n",
        "+ 12 topics, 15, 9, 6\n"
      ]
    },
    {
      "cell_type": "markdown",
      "metadata": {
        "id": "MKybSxIEVSIK"
      },
      "source": [
        "### Model"
      ]
    },
    {
      "cell_type": "code",
      "metadata": {
        "id": "dJVIF3SpOx8V",
        "outputId": "d8b24b8a-3ac2-46d1-81f4-c22c07c7c752",
        "colab": {
          "base_uri": "https://localhost:8080/",
          "height": 230
        }
      },
      "source": [
        "#!pip install gensim\n",
        "from gensim import corpora, models\n",
        "\n",
        "documents_idf = models.TfidfModel(documents_bow)\n",
        "corpus_tfidf = documents_idf[documents_bow]\n",
        "\n",
        "model_tfidf = gensim.models.LdaMulticore(corpus_tfidf, \n",
        "                                         id2word=dictionary,\n",
        "                                         num_topics=15, \n",
        "                                         random_state=123, \n",
        "                                         passes=500)"
      ],
      "execution_count": 1,
      "outputs": [
        {
          "output_type": "error",
          "ename": "NameError",
          "evalue": "ignored",
          "traceback": [
            "\u001b[0;31m---------------------------------------------------------------------------\u001b[0m",
            "\u001b[0;31mNameError\u001b[0m                                 Traceback (most recent call last)",
            "\u001b[0;32m<ipython-input-1-8f2a443cf3bf>\u001b[0m in \u001b[0;36m<module>\u001b[0;34m()\u001b[0m\n\u001b[1;32m      2\u001b[0m \u001b[0;32mfrom\u001b[0m \u001b[0mgensim\u001b[0m \u001b[0;32mimport\u001b[0m \u001b[0mcorpora\u001b[0m\u001b[0;34m,\u001b[0m \u001b[0mmodels\u001b[0m\u001b[0;34m\u001b[0m\u001b[0;34m\u001b[0m\u001b[0m\n\u001b[1;32m      3\u001b[0m \u001b[0;34m\u001b[0m\u001b[0m\n\u001b[0;32m----> 4\u001b[0;31m \u001b[0mdocuments_idf\u001b[0m \u001b[0;34m=\u001b[0m \u001b[0mmodels\u001b[0m\u001b[0;34m.\u001b[0m\u001b[0mTfidfModel\u001b[0m\u001b[0;34m(\u001b[0m\u001b[0mdocuments_bow\u001b[0m\u001b[0;34m)\u001b[0m\u001b[0;34m\u001b[0m\u001b[0;34m\u001b[0m\u001b[0m\n\u001b[0m\u001b[1;32m      5\u001b[0m \u001b[0mcorpus_tfidf\u001b[0m \u001b[0;34m=\u001b[0m \u001b[0mdocuments_idf\u001b[0m\u001b[0;34m[\u001b[0m\u001b[0mdocuments_bow\u001b[0m\u001b[0;34m]\u001b[0m\u001b[0;34m\u001b[0m\u001b[0;34m\u001b[0m\u001b[0m\n\u001b[1;32m      6\u001b[0m \u001b[0;34m\u001b[0m\u001b[0m\n",
            "\u001b[0;31mNameError\u001b[0m: name 'documents_bow' is not defined"
          ]
        }
      ]
    },
    {
      "cell_type": "markdown",
      "metadata": {
        "id": "p15y3tFnlmkG"
      },
      "source": [
        "### TF_IDF Vis"
      ]
    },
    {
      "cell_type": "code",
      "metadata": {
        "id": "c1kP-NOmN8gJ"
      },
      "source": [
        "for idx, topic in model_tfidf.print_topics(-1):\n",
        "    print('Topic: {} Word: {}'.format(idx, topic))"
      ],
      "execution_count": null,
      "outputs": []
    },
    {
      "cell_type": "code",
      "metadata": {
        "id": "QgxmJHVQlmPa"
      },
      "source": [
        "n_words = 10\n",
        "\n",
        "topic_words = pd.DataFrame({})\n",
        "\n",
        "for i, topic in enumerate(model_tfidf.get_topics()):\n",
        "    top_feature_ids = topic.argsort()[-n_words:][::-1]\n",
        "    feature_values = topic[top_feature_ids]\n",
        "    words = [dictionary[id] for id in top_feature_ids]\n",
        "    topic_df = pd.DataFrame({'value': feature_values, 'word': words, 'topic': i})\n",
        "    topic_words = pd.concat([topic_words, topic_df], ignore_index=True)\n",
        "\n",
        "#topic_words.head()"
      ],
      "execution_count": null,
      "outputs": []
    },
    {
      "cell_type": "code",
      "metadata": {
        "id": "iAH7mmF4lsKC"
      },
      "source": [
        "import seaborn as sns\n",
        "\n",
        "g = sns.FacetGrid(topic_words, col=\"topic\", col_wrap=3, sharey=False)\n",
        "g.map(plt.barh, \"word\", \"value\")"
      ],
      "execution_count": null,
      "outputs": []
    },
    {
      "cell_type": "code",
      "metadata": {
        "id": "lBLzWmlHlspq"
      },
      "source": [
        "import pyLDAvis\n",
        "import pyLDAvis.gensim\n",
        "\n",
        "pyLDAvis.enable_notebook()\n",
        "vis = pyLDAvis.gensim.prepare(model_tfidf, corpus_tfidf, dictionary)\n",
        "vis"
      ],
      "execution_count": null,
      "outputs": []
    },
    {
      "cell_type": "code",
      "metadata": {
        "id": "YghNX5evMaXb"
      },
      "source": [
        "documents_tfidf = model_tfidf[documents_bow]\n",
        "\n",
        "topic_dt = pd.DataFrame(documents_tfidf)\n",
        "doc_dt = pd.DataFrame(file_ids)\n",
        "conc = pd.concat([doc_dt, topic_dt], axis=1)\n",
        "#conc.columns = ['doc_id', 'topic1', 'topic2']\n",
        "#conc.sort_values(['topic1'], ascending=True, inplace=True)\n",
        "conc"
      ],
      "execution_count": null,
      "outputs": []
    },
    {
      "cell_type": "code",
      "metadata": {
        "id": "YnRQR2AcNvxZ"
      },
      "source": [
        "# table with documents and topic probability\n",
        "topics = [model_tfidf[documents_bow[i]] for i in range(len(documents))]\n",
        "num_topics = 9\n",
        "\n",
        "def topics_document_to_dataframe(topics_document, num_topics):\n",
        "    res = pd.DataFrame(columns=range(num_topics))\n",
        "    for topic_weight in topics_document:\n",
        "        res.loc[0, topic_weight[0]] = topic_weight[1]\n",
        "    return res\n",
        "\n",
        "document_topic = \\\n",
        "pd.concat([topics_document_to_dataframe(topics_document, num_topics=num_topics) for topics_document in topics]) \\\n",
        "  .reset_index(drop=True).fillna(0)\n",
        "\n",
        "#document_topic"
      ],
      "execution_count": null,
      "outputs": []
    },
    {
      "cell_type": "code",
      "metadata": {
        "id": "p66Z3kZYN2TW"
      },
      "source": [
        "document_topic.sort_values(6, ascending=False)[6].head(20)"
      ],
      "execution_count": null,
      "outputs": []
    },
    {
      "cell_type": "markdown",
      "metadata": {
        "id": "DlpwYwr6Qw-X"
      },
      "source": [
        "### TF-IDF Comparison\n"
      ]
    },
    {
      "cell_type": "code",
      "metadata": {
        "cellView": "form",
        "id": "yKR1c6LsQzbK"
      },
      "source": [
        "#@title Add Document{ run: \"auto\", vertical-output: true }\n",
        "\n",
        "yr_research = \"Social Policy  Research topic: Family Policy, Health Policy, Education Policy, Social Inequality, Child Outcomes, Poverty 2.\\tWhat is your research question?  What are the effects of social inequalities on child outcomes? What are the effects of social inequalities on child development? What are the effects of social inequalities on child well-being? To define the specific question the definition of \\\"child outcomes\\\", \\\"child development\\\" and child \\\"well-being\\\" still need to be defined. 3.\\tWhy would you like to explore this topic and question? Please let us know why you are curious about your research topic, and why you think your question(s) are worth exploring. I have always been interested in social policy, especially topics related to Child, Youth, and Family Policies. In the past years, I worked with public education and early childhood development in Brazil. Now, I want to expand my view beyond the education area but still analyze the current situation of marginalized children and teenagers. However, I am still not sure if this will be related to the Brazilian or an International context. \" #@param {type:\"string\"}\n",
        "\n"
      ],
      "execution_count": null,
      "outputs": []
    },
    {
      "cell_type": "code",
      "metadata": {
        "id": "mJ9D_n5MP-EO",
        "cellView": "form"
      },
      "source": [
        "#@title Add Document\n",
        "path = \"/content/drive/My Drive/docs/stefania.txt\" #@param {type:\"string\"}\n",
        "yr_p = open(path)\n",
        "yr_path = yr_p.read()"
      ],
      "execution_count": null,
      "outputs": []
    },
    {
      "cell_type": "code",
      "metadata": {
        "id": "gAPZxFMAdLq9"
      },
      "source": [
        "# pre-process\n",
        "yr_tokens = nltk.word_tokenize(yr_path)\n",
        "yr_bow_vector = dictionary.doc2bow(yr_tokens)"
      ],
      "execution_count": null,
      "outputs": []
    },
    {
      "cell_type": "code",
      "metadata": {
        "id": "Edcan-zbbwzv"
      },
      "source": [
        "# data frame with results\n",
        "results = pd.DataFrame(model_tfidf[yr_bow_vector])\n",
        "results.columns = ['topic', 'proximity']\n",
        "results.sort_values(['proximity'], ascending=False, inplace=True)\n",
        "print(results.nlargest(3,['proximity']))"
      ],
      "execution_count": null,
      "outputs": []
    },
    {
      "cell_type": "markdown",
      "metadata": {
        "id": "F0u01PAbR5Vg"
      },
      "source": [
        "# References:\n",
        "- Bird, Steven, Edward Loper and Ewan Klein (2009), Natural Language Processing with Python. O’Reilly Media Inc.\n",
        "-[Blei, D. M., Ng, A. Y., & Jordan, M. I. (2003). Latent dirichlet allocation. Journal of machine Learning research, 3(Jan), 993-1022.](https://www.jmlr.org/papers/v3/blei03a)\n",
        "- [Machine Learning Plus 'Gensim Tutorial – A Complete Beginners Guide'](https://www.machinelearningplus.com/nlp/gensim-tutorial/#11howtocreatetopicmodelswithlda)\n",
        "- [Machine Learning Plus 'Topic modeling visualization – How to present the results of LDA models?'](https://www.machinelearningplus.com/nlp/topic-modeling-visualization-how-to-present-results-lda-models/)\n",
        "-[Ganesan,Kavita. 'All you need to know about text preprocessing for NLP and Machine Learning'](https://www.kdnuggets.com/2019/04/text-preprocessing-nlp-machine-learning.html)\n",
        "\n"
      ]
    }
  ]
}