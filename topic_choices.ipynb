{
  "nbformat": 4,
  "nbformat_minor": 0,
  "metadata": {
    "colab": {
      "name": "topic_choices",
      "provenance": [],
      "collapsed_sections": [
        "E7xm0rWsiYAI",
        "dIZcN_ZZOQ51",
        "CjWKu9FTOuOm",
        "p15y3tFnlmkG",
        "DlpwYwr6Qw-X"
      ],
      "mount_file_id": "1LEpkOJQk8b_W6Qifq5YPHEaIQ4w-TIOA",
      "authorship_tag": "ABX9TyOpRgjp8CiL1oFtsCHeP066",
      "include_colab_link": true
    },
    "kernelspec": {
      "display_name": "Python 3",
      "name": "python3"
    }
  },
  "cells": [
    {
      "cell_type": "markdown",
      "metadata": {
        "id": "view-in-github",
        "colab_type": "text"
      },
      "source": [
        "<a href=\"https://colab.research.google.com/github/cbsobral/python/blob/master/topic_choices.ipynb\" target=\"_parent\"><img src=\"https://colab.research.google.com/assets/colab-badge.svg\" alt=\"Open In Colab\"/></a>"
      ]
    },
    {
      "cell_type": "markdown",
      "metadata": {
        "id": "w30m8ygSecD7"
      },
      "source": [
        "## Data"
      ]
    },
    {
      "cell_type": "code",
      "metadata": {
        "id": "fkuQ6ee1ebES"
      },
      "source": [
        "import nltk\n",
        "from nltk.corpus import PlaintextCorpusReader\n",
        "url = (r'/content/drive/My Drive/data/')\n",
        "corpus_list = PlaintextCorpusReader(url, '.*txt')  # all files ending in 'txt'\n",
        "\n",
        "file_ids = corpus_list.fileids()"
      ],
      "execution_count": null,
      "outputs": []
    },
    {
      "cell_type": "markdown",
      "metadata": {
        "id": "J_08VzPlhs-w"
      },
      "source": [
        "## LDA\n"
      ]
    },
    {
      "cell_type": "markdown",
      "metadata": {
        "id": "hv3XXtjJvr1d"
      },
      "source": [
        "### Model"
      ]
    },
    {
      "cell_type": "code",
      "metadata": {
        "id": "_KtePiVtA4Hf",
        "outputId": "1b63418e-4769-4669-8653-4a315977cc41",
        "colab": {
          "base_uri": "https://localhost:8080/",
          "height": 119
        }
      },
      "source": [
        "#!pip install gensim\n",
        "\n",
        "import matplotlib.pyplot as plt\n",
        "import nltk\n",
        "from nltk.corpus import stopwords\n",
        "import gensim\n",
        "import pandas as pd\n",
        "nltk.download('stopwords')\n",
        "nltk.download('wordnet')\n",
        "nltk.download('punkt')\n",
        "\n",
        "\n",
        "wordnet = nltk.WordNetLemmatizer()\n",
        "\n",
        "stoplist = stopwords.words('english')\n",
        "additional_stopwords = \"\"\"question impact professor school dissertation paper take following http nuffield\n",
        "                          title school session study work topics project partner practice happy plan see supervise\n",
        "                          research thesis issue design student topic supervision university lab mia mpp\"\"\"  # define additional stopwords in a string\n",
        "stoplist += additional_stopwords.split()"
      ],
      "execution_count": null,
      "outputs": [
        {
          "output_type": "stream",
          "text": [
            "[nltk_data] Downloading package stopwords to /root/nltk_data...\n",
            "[nltk_data]   Unzipping corpora/stopwords.zip.\n",
            "[nltk_data] Downloading package wordnet to /root/nltk_data...\n",
            "[nltk_data]   Unzipping corpora/wordnet.zip.\n",
            "[nltk_data] Downloading package punkt to /root/nltk_data...\n",
            "[nltk_data]   Unzipping tokenizers/punkt.zip.\n"
          ],
          "name": "stdout"
        }
      ]
    },
    {
      "cell_type": "code",
      "metadata": {
        "id": "NLx3rLWMBHyu"
      },
      "source": [
        "def normalize_token(token):\n",
        "    \"\"\"\n",
        "    Convert token to lowercase, and stem using the Porter algorithm.\n",
        "    \"\"\"\n",
        "    return wordnet.lemmatize(token.lower())\n",
        "\n",
        "def filter_token(token):\n",
        "    \"\"\"\n",
        "    Evaluate whether or not to retain ``token``.\n",
        "    \"\"\"\n",
        "    token = token.lower()\n",
        "    return token not in stoplist and token.isalpha() and len(token) > 2"
      ],
      "execution_count": null,
      "outputs": []
    },
    {
      "cell_type": "code",
      "metadata": {
        "id": "jpj9VPt7BOTG"
      },
      "source": [
        "documents=[[normalize_token(token) \n",
        "            for token in corpus_list.words(fileids=[fileid])\n",
        "            if filter_token(token)]\n",
        "            for fileid in corpus_list.fileids()]\n",
        "\n",
        "dictionary = gensim.corpora.Dictionary(documents)         \n",
        "documents_bow = [dictionary.doc2bow(document) for document in documents]"
      ],
      "execution_count": null,
      "outputs": []
    },
    {
      "cell_type": "code",
      "metadata": {
        "id": "uz9jL-ZKB0t2"
      },
      "source": [
        "model = gensim.models.LdaModel(documents_bow, \n",
        "                               id2word=dictionary,\n",
        "                               num_topics=15, \n",
        "                               update_every=0,\n",
        "                               random_state=123,\n",
        "                               passes=500)"
      ],
      "execution_count": null,
      "outputs": []
    },
    {
      "cell_type": "code",
      "metadata": {
        "id": "fZ6Z7Q1uB6Rn",
        "outputId": "041f21e6-75f1-4e77-8c52-9a725ac85d59",
        "colab": {
          "base_uri": "https://localhost:8080/",
          "height": 153
        }
      },
      "source": [
        "for i, topic in enumerate(model.print_topics(num_topics=8, num_words=7)):\n",
        "    print (i, ':', topic)"
      ],
      "execution_count": null,
      "outputs": [
        {
          "output_type": "stream",
          "text": [
            "0 : (0, '0.013*\"international\" + 0.009*\"science\" + 0.009*\"transparency\" + 0.007*\"organization\" + 0.007*\"method\" + 0.006*\"student\" + 0.006*\"system\"')\n",
            "1 : (1, '0.016*\"policy\" + 0.014*\"energy\" + 0.012*\"market\" + 0.012*\"climate\" + 0.012*\"electricity\" + 0.009*\"system\" + 0.009*\"review\"')\n",
            "2 : (2, '0.013*\"country\" + 0.012*\"policy\" + 0.010*\"public\" + 0.009*\"development\" + 0.008*\"medium\" + 0.008*\"data\" + 0.008*\"indicator\"')\n",
            "3 : (3, '0.011*\"public\" + 0.011*\"policy\" + 0.010*\"innovation\" + 0.010*\"migration\" + 0.010*\"law\" + 0.009*\"lab\" + 0.008*\"also\"')\n",
            "4 : (4, '0.036*\"law\" + 0.022*\"right\" + 0.020*\"international\" + 0.020*\"human\" + 0.019*\"european\" + 0.009*\"legal\" + 0.008*\"governance\"')\n",
            "5 : (5, '0.015*\"political\" + 0.013*\"policy\" + 0.012*\"analysis\" + 0.009*\"data\" + 0.009*\"comparative\" + 0.008*\"empirical\" + 0.008*\"politics\"')\n",
            "6 : (6, '0.017*\"health\" + 0.013*\"data\" + 0.012*\"tax\" + 0.012*\"policy\" + 0.007*\"social\" + 0.006*\"focus\" + 0.006*\"also\"')\n",
            "7 : (7, '0.030*\"public\" + 0.016*\"policy\" + 0.014*\"management\" + 0.013*\"digital\" + 0.013*\"government\" + 0.010*\"governance\" + 0.009*\"administration\"')\n"
          ],
          "name": "stdout"
        }
      ]
    },
    {
      "cell_type": "code",
      "metadata": {
        "id": "UQErq1qRSGOX"
      },
      "source": [
        "documents_lda = model[documents_bow]\n",
        "#documents_lda[5]  \n",
        "\n",
        "#for i, topic in enumerate(documents_lda):\n",
        "#    print(i, topic)"
      ],
      "execution_count": null,
      "outputs": []
    },
    {
      "cell_type": "code",
      "metadata": {
        "id": "p6EwMkf6jrMk"
      },
      "source": [
        "#for i, file in enumerate(file_ids):\n",
        "#  print(i, file)"
      ],
      "execution_count": null,
      "outputs": []
    },
    {
      "cell_type": "code",
      "metadata": {
        "cellView": "code",
        "id": "tH0JKcJL5hv2"
      },
      "source": [
        "#from nltk import FreqDist\n",
        "\n",
        "#for token in documents:\n",
        "    #fdist = FreqDist(token)\n",
        "    #print (fdist.most_common(4))"
      ],
      "execution_count": null,
      "outputs": []
    },
    {
      "cell_type": "markdown",
      "metadata": {
        "id": "E7xm0rWsiYAI"
      },
      "source": [
        "### LDA Vis"
      ]
    },
    {
      "cell_type": "code",
      "metadata": {
        "id": "bxc4Tlo7mpIm"
      },
      "source": [
        "n_words = 10\n",
        "\n",
        "topic_words = pd.DataFrame({})\n",
        "\n",
        "for i, topic in enumerate(model.get_topics()):\n",
        "    top_feature_ids = topic.argsort()[-n_words:][::-1]\n",
        "    feature_values = topic[top_feature_ids]\n",
        "    words = [dictionary[id] for id in top_feature_ids]\n",
        "    topic_df = pd.DataFrame({'value': feature_values, 'word': words, 'topic': i})\n",
        "    topic_words = pd.concat([topic_words, topic_df], ignore_index=True)"
      ],
      "execution_count": null,
      "outputs": []
    },
    {
      "cell_type": "code",
      "metadata": {
        "id": "guLS9hAmind7",
        "outputId": "06f45be6-3be1-45e1-a69a-65f6c2c33c33",
        "colab": {
          "base_uri": "https://localhost:8080/",
          "height": 674
        }
      },
      "source": [
        "import seaborn as sns\n",
        "from matplotlib import pyplot as plt\n",
        "\n",
        "g = sns.FacetGrid(topic_words, col=\"topic\", col_wrap=3, sharey=False)\n",
        "g.map(plt.barh, \"word\", \"value\")"
      ],
      "execution_count": null,
      "outputs": [
        {
          "output_type": "execute_result",
          "data": {
            "text/plain": [
              "<seaborn.axisgrid.FacetGrid at 0x7f1d7ed4f860>"
            ]
          },
          "metadata": {
            "tags": []
          },
          "execution_count": 17
        },
        {
          "output_type": "display_data",
          "data": {
            "image/png": "[encoded data removed]",
            "text/plain": [
              "<Figure size 648x648 with 8 Axes>"
            ]
          },
          "metadata": {
            "tags": [],
            "needs_background": "light"
          }
        }
      ]
    },
    {
      "cell_type": "code",
      "metadata": {
        "id": "Y3EO8VEjjI_4",
        "outputId": "2b5e8cf5-8a8a-4bc2-cea1-001a680885ae",
        "colab": {
          "base_uri": "https://localhost:8080/",
          "height": 861
        }
      },
      "source": [
        "#!pip install pyLDAvis\n",
        "import pyLDAvis\n",
        "import pyLDAvis.gensim\n",
        "\n",
        "pyLDAvis.enable_notebook()\n",
        "vis = pyLDAvis.gensim.prepare(model, documents_bow, dictionary)\n",
        "vis"
      ],
      "execution_count": null,
      "outputs": [
        {
          "output_type": "execute_result",
          "data": {
            "text/html": [
              "\n",
              "<link rel=\"stylesheet\" type=\"text/css\" href=\"https://cdn.rawgit.com/bmabey/pyLDAvis/files/ldavis.v1.0.0.css\">\n",
              "\n",
              "\n",
              "<div id=\"ldavis_el961397644940158487155554505\"></div>\n",
              "<script type=\"text/javascript\">\n",
              "\n",
              "var ldavis_el961397644940158487155554505_data = {\"mdsDat\": {\"x\": [0.040222506710964515, -0.026441439606728824, -0.008400392161664456, 0.18085784134623306, -0.012957086712267403, -0.06943545494169347, -0.021137583428250256, -0.0827083912065932], \"y\": [0.029570739948267883, 0.027342748949206325, 0.1312635555621682, -0.06488885366571691, 0.08060035263052184, -0.054379873263441986, -0.044262394091626106, -0.10524627606937917], \"topics\": [1, 2, 3, 4, 5, 6, 7, 8], \"cluster\": [1, 1, 1, 1, 1, 1, 1, 1], \"Freq\": [23.26852210394942, 16.75116120587227, 15.744915883601484, 13.329622937244054, 11.0354206884165, 7.579534490868957, 6.961251977536598, 5.329570712510718]}, \"tinfo\": {\"Term\": [\"law\", \"public\", \"international\", \"health\", \"right\", \"human\", \"european\", \"management\", \"energy\", \"tax\", \"electricity\", \"digital\", \"climate\", \"legal\", \"innovation\", \"migration\", \"market\", \"transparency\", \"government\", \"medium\", \"lab\", \"country\", \"economic\", \"system\", \"indicator\", \"science\", \"administration\", \"review\", \"emission\", \"sector\", \"educational\", \"los\", \"angeles\", \"skill\", \"cambridge\", \"bit\", \"outline\", \"designing\", \"indicate\", \"historical\", \"inquiry\", \"voting\", \"training\", \"firm\", \"former\", \"transfer\", \"vocational\", \"whitten\", \"kellstedt\", \"forecasting\", \"food\", \"wikipedia\", \"believe\", \"contact\", \"edition\", \"paul\", \"beyond\", \"author\", \"election\", \"electoral\", \"education\", \"working\", \"politics\", \"give\", \"political\", \"press\", \"multi\", \"empirical\", \"oxford\", \"employment\", \"comparative\", \"draft\", \"analysis\", \"case\", \"colloquium\", \"effect\", \"science\", \"behavior\", \"question\", \"policy\", \"data\", \"quantitative\", \"governance\", \"economy\", \"social\", \"method\", \"qualitative\", \"medium\", \"approach\", \"student\", \"system\", \"change\", \"project\", \"interest\", \"international\", \"tax\", \"mair\", \"retirement\", \"health\", \"alcohol\", \"taxation\", \"crime\", \"traffic\", \"physician\", \"hospital\", \"car\", \"violation\", \"seelos\", \"societal\", \"ihds\", \"organizing\", \"healthcare\", \"pharmaceutical\", \"gsoep\", \"homelessness\", \"diplomatic\", \"filing\", \"morale\", \"pattern\", \"reporting\", \"hackathon\", \"category\", \"academy\", \"annals\", \"risky\", \"inclination\", \"share\", \"stanford\", \"berlin\", \"inequality\", \"norm\", \"org\", \"union\", \"data\", \"related\", \"survey\", \"evidence\", \"http\", \"focus\", \"support\", \"economic\", \"www\", \"policy\", \"also\", \"quantitative\", \"european\", \"different\", \"regulation\", \"social\", \"based\", \"level\", \"country\", \"strategy\", \"method\", \"state\", \"interested\", \"project\", \"german\", \"analysis\", \"corporate\", \"identity\", \"performance\", \"chinese\", \"delivery\", \"administrative\", \"coordination\", \"collaborative\", \"innovative\", \"transnational\", \"digitalisation\", \"partnership\", \"family\", \"aging\", \"asean\", \"phase\", \"africa\", \"facebook\", \"fake\", \"authoritarian\", \"managing\", \"kpmg\", \"institut\", \"den\", \"f\\u00fcr\", \"personnel\", \"sektor\", \"\\u00f6ffentlichen\", \"appointment\", \"wicked\", \"management\", \"smart\", \"digital\", \"administration\", \"public\", \"organizational\", \"opinion\", \"service\", \"digitalization\", \"sector\", \"government\", \"mobility\", \"participation\", \"capacity\", \"china\", \"city\", \"pick\", \"role\", \"making\", \"context\", \"qualitative\", \"policy\", \"governance\", \"area\", \"change\", \"analysis\", \"meeting\", \"social\", \"data\", \"medium\", \"innovation\", \"organization\", \"case\", \"project\", \"germany\", \"comparative\", \"country\", \"student\", \"electricity\", \"emission\", \"intensity\", \"incentive\", \"carbon\", \"balancing\", \"storage\", \"solar\", \"marginal\", \"energy\", \"mcc\", \"meter\", \"flexibility\", \"pricing\", \"instrument\", \"heen\", \"peak\", \"mentoring\", \"variable\", \"environment\", \"tariff\", \"locational\", \"transmission\", \"wind\", \"battery\", \"coal\", \"congestion\", \"responsibility\", \"generation\", \"econometrics\", \"price\", \"market\", \"climate\", \"renewable\", \"review\", \"literature\", \"system\", \"option\", \"network\", \"power\", \"discourse\", \"value\", \"policy\", \"particular\", \"effect\", \"analysis\", \"social\", \"student\", \"german\", \"based\", \"method\", \"field\", \"data\", \"political\", \"germany\", \"sdg\", \"aid\", \"ercas\", \"client\", \"trust\", \"integrity\", \"procurement\", \"anticorruption\", \"freedom\", \"significant\", \"sdgs\", \"nlp\", \"machine\", \"capstone\", \"anti\", \"againstcorruption\", \"indicator\", \"database\", \"legislation\", \"whistleblower\", \"positive\", \"natural\", \"linked\", \"identify\", \"democratisation\", \"deeper\", \"changed\", \"alina\", \"macro\", \"seek\", \"occasionally\", \"norad\", \"barometer\", \"cipe\", \"coronavirus\", \"enlarge\", \"backslide\", \"processing\", \"sanitation\", \"yet\", \"track\", \"little\", \"corruption\", \"instance\", \"help\", \"shift\", \"europam\", \"goal\", \"issue\", \"country\", \"key\", \"development\", \"tracing\", \"involved\", \"medium\", \"one\", \"progress\", \"public\", \"transparency\", \"policy\", \"time\", \"international\", \"data\", \"government\", \"governance\", \"good\", \"general\", \"also\", \"accountability\", \"level\", \"different\", \"science\", \"change\", \"social\", \"analysis\", \"lab\", \"monitoring\", \"rsc\", \"asylum\", \"smuggling\", \"macroeconomics\", \"australia\", \"psychological\", \"wellbeing\", \"doctoral\", \"doctrinal\", \"msc\", \"dublin\", \"essay\", \"awarded\", \"shareholder\", \"usually\", \"hyper\", \"fiscal\", \"forced\", \"report\", \"labor\", \"migration\", \"foundation\", \"refugee\", \"proof\", \"finland\", \"relatively\", \"goldilocks\", \"real\", \"justice\", \"humanitarian\", \"inflationunemployment\", \"inflation\", \"february\", \"blavatnik\", \"cooperative\", \"compensation\", \"grader\", \"evaluation\", \"done\", \"maximization\", \"numerous\", \"status\", \"fellow\", \"write\", \"migrant\", \"legal\", \"innovation\", \"law\", \"economic\", \"economics\", \"global\", \"study\", \"also\", \"public\", \"right\", \"policy\", \"problem\", \"reading\", \"social\", \"focus\", \"student\", \"thesis\", \"colloquium\", \"state\", \"climate\", \"qualitative\", \"empirical\", \"arxiv\", \"lobbying\", \"polarisation\", \"undergraduate\", \"brussels\", \"men\", \"agency\", \"ecpr\", \"conference\", \"secrecy\", \"bureaucrat\", \"unhcr\", \"io\", \"show\", \"deriving\", \"week\", \"pandemic\", \"philosophy\", \"psychology\", \"bath\", \"financing\", \"semester\", \"concerning\", \"dissertation\", \"published\", \"focused\", \"ecology\", \"engineering\", \"moderate\", \"iom\", \"earlier\", \"drawing\", \"disproving\", \"suggested\", \"confirming\", \"discovering\", \"near\", \"replacing\", \"luxembourg\", \"endeavour\", \"embeddings\", \"transparency\", \"otherwise\", \"sectionid\", \"persuade\", \"publish\", \"woman\", \"persistentid\", \"politically\", \"palestine\", \"explicitly\", \"dataset\", \"intelligence\", \"ngo\", \"emergence\", \"phd\", \"past\", \"year\", \"international\", \"organization\", \"science\", \"technology\", \"large\", \"master\", \"nation\", \"including\", \"system\", \"method\", \"http\", \"may\", \"student\", \"particular\", \"focus\", \"meeting\", \"well\", \"general\", \"individual\", \"interested\", \"policy\", \"quantitative\", \"also\", \"political\", \"dawson\", \"leviathan\", \"court\", \"induced\", \"maastricht\", \"emu\", \"position\", \"carry\", \"regime\", \"law\", \"human\", \"right\", \"displacement\", \"dimension\", \"brics\", \"remedial\", \"constituting\", \"interpretation\", \"participative\", \"constraining\", \"governs\", \"regionally\", \"regionalism\", \"largely\", \"kind\", \"kennedy\", \"judicial\", \"reviewing\", \"settlement\", \"supported\", \"venezuela\", \"unification\", \"backlash\", \"property\", \"prospect\", \"wisconsin\", \"reconciliation\", \"appropriateness\", \"redress\", \"adjusting\", \"advancing\", \"unique\", \"wto\", \"guiding\", \"appropriately\", \"biotechnology\", \"intellectual\", \"judgment\", \"indigenous\", \"identified\", \"operation\", \"nagorno\", \"trained\", \"mercosur\", \"mass\", \"shaping\", \"mainstreaming\", \"domestically\", \"listening\", \"convention\", \"submission\", \"swim\", \"syria\", \"trans\", \"trip\", \"uncac\", \"contestation\", \"karabakh\", \"tribunal\", \"paving\", \"peaceful\", \"legal\", \"feminist\", \"interaction\", \"protecting\", \"european\", \"board\", \"beginning\", \"regulatory\", \"international\", \"florence\", \"combat\", \"including\", \"exception\", \"catalyst\", \"exporting\", \"feasibility\", \"principle\", \"relationship\", \"accountability\", \"environmental\", \"towards\", \"military\", \"trade\", \"field\", \"interested\", \"governance\", \"comparative\", \"policy\", \"project\", \"institution\", \"method\", \"political\", \"economic\", \"hertie\", \"gender\"], \"Freq\": [29.0, 77.0, 46.0, 31.0, 19.0, 16.0, 30.0, 30.0, 21.0, 22.0, 15.0, 28.0, 25.0, 11.0, 26.0, 13.0, 26.0, 13.0, 35.0, 28.0, 8.0, 39.0, 21.0, 28.0, 10.0, 29.0, 19.0, 20.0, 9.0, 21.0, 7.078376228379524, 5.335856015942887, 5.335856015942887, 4.463369903125519, 8.820746764841566, 7.078373555594263, 7.078193409867697, 3.593635957291018, 3.5935279767664885, 3.593400752188083, 3.5917241139940925, 6.207191494705555, 6.207193632933763, 2.722453361845257, 2.722453361845257, 2.722453361845257, 2.722453361845257, 2.722450689059997, 2.722450689059997, 2.722450689059997, 2.722448550831788, 2.7224456107680015, 2.7223785238579596, 2.7221243419796743, 2.722067946210675, 2.71964560092897, 2.71964560092897, 5.3359736184943545, 5.33600783014569, 5.33601531394442, 10.338459543564039, 7.949545994456034, 17.314897345774458, 6.206218600870687, 35.42212156889339, 15.035027555172405, 4.464800645075532, 17.91996568041719, 7.949564703952858, 4.464828709320769, 20.43091379351189, 6.409029546446956, 28.420078483886176, 15.984014929554975, 11.606378622841913, 9.68822969092957, 12.511221206745887, 5.630550904094838, 8.74150937300506, 29.755414829463966, 20.915932374502468, 13.01532347449733, 17.19275426670618, 9.944144603178051, 16.83500730514197, 13.74996095477646, 11.371471802741947, 10.563059034584926, 9.941865251907789, 9.748753309485279, 8.971986318814064, 8.889929138527599, 8.89265110303702, 7.781483395496106, 7.94949467697903, 20.055191969843694, 5.09173129647258, 5.091729372316995, 27.536830716723387, 4.260422196021998, 4.260422196021998, 4.260422196021998, 4.260422196021998, 3.42912425567381, 3.4291227163493416, 3.429118483207054, 3.429118483207054, 2.5978220821833347, 2.5978220821833347, 2.5978220821833347, 2.5978220821833347, 2.5978220821833347, 2.5978220821833347, 2.5978220821833347, 2.5978220821833347, 2.5978145779765516, 2.5978145779765516, 2.5978145779765516, 2.5951149876902897, 4.239811026222724, 1.766519139030625, 1.766519139030625, 1.766519139030625, 1.766519139030625, 1.7665187541995078, 1.7665187541995078, 5.091733605459283, 3.429129643309449, 3.413512042085305, 7.585657828162095, 5.091733605459283, 7.580456450783745, 5.923053481181143, 21.77386159260867, 7.576735903543891, 8.40617087645433, 6.70940968918428, 8.699869367030484, 10.555761299858856, 6.872237122453197, 7.543361040084681, 6.735494311961673, 19.462488937249198, 9.88484134271942, 9.40224234103047, 8.386044209031452, 7.525859690542468, 6.700874904669852, 10.74524059697173, 6.812303524280361, 6.6758801236160075, 7.491099435061798, 5.940859616968077, 7.755662361764409, 6.42505913127293, 5.937504274458324, 6.21511759400309, 5.887034827947647, 6.470060897272245, 6.6777288693965495, 4.2120972322226224, 3.3903049021066227, 3.39030417867814, 3.3902922421081745, 3.3902068775472105, 3.390195302691487, 2.5683123631580225, 2.568295362588678, 2.568278181162213, 4.212188384211449, 4.2121576385009325, 3.3903049021066227, 1.7465203947562637, 1.7465200330420225, 1.7465200330420225, 1.7465200330420225, 1.7465200330420225, 1.7465200330420225, 1.7465200330420225, 1.746519671327781, 1.746519671327781, 1.746519671327781, 1.746519671327781, 1.746519671327781, 1.746519671327781, 1.746519671327781, 1.746519671327781, 1.746493808759523, 1.7464674036199026, 22.293818869351, 7.499702780061719, 19.80407174370475, 13.25299711592488, 46.25183287640742, 6.677738273966826, 5.034097548027413, 5.034093930884999, 4.97884569765772, 13.190746094984624, 19.704305168506274, 4.022161807506257, 5.758373888954758, 5.725512873554524, 4.212202852781104, 6.677798318530893, 2.568413281431366, 8.223655025028796, 7.4410558798225015, 5.855989711274032, 11.279594176124347, 25.320708749721902, 15.023500069169762, 7.213967338517771, 9.279564727587882, 12.933594759650918, 6.82960689192112, 11.95660748741696, 12.881415310047446, 8.321669456442061, 7.571950135776554, 6.6139796280685275, 7.39073419456272, 7.143135008915187, 6.305114731074238, 7.003221046638263, 6.451558358836424, 6.39321819227389, 15.247971926024775, 8.869734762973739, 6.477896822066543, 4.883337684417159, 4.883337684417159, 4.883337684417159, 4.086058268705844, 4.086058268705844, 4.086058268705844, 18.43714593459237, 3.288777934314273, 3.288777321860769, 3.2887770156340177, 7.275184505900158, 6.477899271880557, 2.491498824829709, 2.491498824829709, 2.491498824829709, 2.491498824829709, 2.491498824829709, 2.491498824829709, 2.491498824829709, 2.491498824829709, 2.491498824829709, 2.491498824829709, 2.491498824829709, 2.491498824829709, 2.4913304001162144, 8.072484438803844, 4.88333952177767, 7.275197979877237, 16.045337391453348, 15.24804909516623, 4.086067455508398, 11.261610063544653, 8.07247525200129, 11.261619862800712, 4.883352077074495, 4.883356670475772, 5.680636698640591, 4.085965482000046, 5.680631799012562, 21.626206026808294, 7.275209616493806, 6.477919482846176, 10.650360643516127, 9.330021743802808, 6.346535957250335, 5.680614037860957, 5.680642210722124, 6.445562951796606, 5.334814215369953, 5.282821812540929, 5.227179799283854, 4.883346871219714, 6.987873307992467, 6.222077250315497, 6.222074715104225, 5.456284234892053, 4.690489698341846, 3.9246956688338934, 3.9246956688338934, 3.1589013858048136, 3.1589013858048136, 3.158900625241432, 6.222082827780295, 2.393107356296861, 2.393107356296861, 2.393107356296861, 2.393107356296861, 2.393107356296861, 8.51947708531826, 7.753672914965218, 1.6273119324227086, 1.6273119324227086, 1.6273119324227086, 1.6273119324227086, 1.6273119324227086, 1.6273119324227086, 1.6273119324227086, 1.6273119324227086, 1.6273119324227086, 1.6273119324227086, 1.6273119324227086, 1.6273119324227086, 1.6273119324227086, 1.6273119324227086, 1.6273119324227086, 1.6273119324227086, 1.6273119324227086, 1.6273119324227086, 1.6273119324227086, 1.6273119324227086, 1.6273119324227086, 1.6273119324227086, 1.6273119324227086, 3.158909498480884, 6.222082827780295, 3.1589062027062305, 3.158905442142849, 3.1589049351005944, 1.6273119324227086, 4.690496289891153, 5.4562928546103775, 14.645888138283391, 3.1589135548189193, 10.05111077813706, 2.3931119196771506, 2.3931119196771506, 8.519489254332365, 6.222114771442323, 3.924711640664907, 10.81689973722247, 4.690495782848899, 13.114276755323782, 4.690508965947513, 7.753689140317359, 8.51947708531826, 6.222122377076139, 6.987900688274205, 3.9247004857353103, 4.6905115011587855, 5.45630350249772, 3.9247098660170168, 4.690507951863005, 4.690507951863005, 4.690506937778496, 4.690507951863005, 4.690516064539075, 4.690507951863005, 6.999201824920332, 2.8515050259871195, 2.1602315710167153, 2.1602315710167153, 2.1602315710167153, 2.1602315710167153, 1.4689572454079447, 1.4689572454079447, 1.4689570712802713, 1.4689570712802713, 1.4689570712802713, 1.4689570712802713, 1.4689570712802713, 1.4689570712802713, 1.4689570712802713, 1.4689570712802713, 1.4689570712802713, 1.4689570712802713, 2.160232964038101, 2.1602322675274084, 3.542791888788364, 3.5428061672575706, 7.690470578443559, 2.851514254753802, 5.616647601617247, 0.7776832680545205, 0.7776832680545205, 0.7776832680545205, 0.7776832680545205, 0.7776832680545205, 1.4689574195356179, 1.4689574195356179, 0.7776832680545205, 0.7776832680545205, 0.7776832680545205, 0.7776832680545205, 0.7776832680545205, 0.7776832680545205, 0.7776832680545205, 5.61663436791408, 1.4689582901739842, 0.7776832680545205, 0.7776832680545205, 2.160232964038101, 2.851513558243109, 2.851516866668901, 2.1602416704217635, 4.2340644731204025, 7.690497742360586, 7.690423912227128, 5.616616606891409, 4.9253475051128355, 4.234094074824855, 4.925352728943033, 6.307903817948, 8.381745600563022, 4.2340655178864415, 8.381696844814513, 2.851513906498455, 2.851519826839346, 4.234069348695253, 3.542795371341829, 3.542795371341829, 2.8515227870097912, 2.851523483520484, 2.8515147771368214, 2.85151146871103, 2.8515151253921682, 2.851513906498455, 2.7781061649952283, 2.7781061649952283, 2.1046263720353497, 2.1046263720353497, 2.1046263720353497, 2.1046263720353497, 3.4515909155873925, 1.4311456195337384, 1.4311456195337384, 1.4311456195337384, 1.4311456195337384, 1.4311456195337384, 1.4311456195337384, 1.431145139762872, 1.431145139762872, 1.431145139762872, 1.431145139762872, 1.431145139762872, 1.431145139762872, 1.431145139762872, 2.7781112825511363, 2.7781151207180668, 2.1046273315770825, 4.125074066943336, 2.7781074443842053, 0.7576653468029936, 0.7576653468029936, 0.7576653468029936, 0.7576653468029936, 0.7576653468029936, 0.7576653468029936, 0.7576653468029936, 0.7576653468029936, 0.7576653468029936, 0.7576653468029936, 0.7576653468029936, 0.7576653468029936, 0.7576653468029936, 0.7576653468029936, 0.7576653468029936, 0.7576653468029936, 6.145523840858409, 0.7576653468029936, 0.7576653468029936, 0.7576653468029936, 0.7576653468029936, 2.1046356476054324, 0.7576653468029936, 0.7576653468029936, 0.7576653468029936, 0.7576653468029936, 1.431146259228227, 2.1046276514243267, 0.7576653468029936, 1.4311472187699597, 2.778120877968463, 2.104636287299921, 2.77812215735744, 8.83948651192314, 4.798576089286689, 6.145556465277322, 2.7781151207180668, 2.1046367670707875, 2.7781227970519287, 2.104636287299921, 2.778125675677127, 4.125087500527593, 4.798570012189048, 3.451599231615743, 2.104636607147165, 4.125098055486653, 3.4516139445889777, 3.4516056285606274, 2.778133032163744, 2.7781199184267305, 2.7781227970519287, 2.7781224772046844, 2.77812215735744, 3.451577801850379, 2.7781170398015322, 2.7781138413290902, 2.7781151207180668, 1.9133601170881693, 1.9133601170881693, 3.750190384199681, 1.301084585767899, 1.301084585767899, 1.301084585767899, 1.301084585767899, 1.301084585767899, 4.362478649109048, 19.057138417124506, 10.485293712229819, 11.709871221555405, 1.9133624434169465, 2.525636627915293, 0.6888095442010556, 0.6888095442010556, 0.6888095442010556, 0.6888095442010556, 0.6888095442010556, 0.6888095442010556, 0.6888095442010556, 0.6888095442010556, 0.6888095442010556, 0.6888095442010556, 0.6888095442010556, 0.6888095442010556, 0.6888095442010556, 0.6888095442010556, 0.6888095442010556, 0.6888095442010556, 0.6888095442010556, 0.6888095442010556, 0.6888095442010556, 0.6888095442010556, 0.6888095442010556, 0.6888095442010556, 0.6888095442010556, 0.6888095442010556, 0.6888095442010556, 0.6888095442010556, 0.6888095442010556, 0.6888095442010556, 0.6888095442010556, 0.6888095442010556, 0.6888095442010556, 0.6888095442010556, 0.6888095442010556, 0.6888095442010556, 0.6888095442010556, 0.6888095442010556, 0.6888095442010556, 0.6888095442010556, 0.6888095442010556, 0.6888095442010556, 0.6888095442010556, 0.6888095442010556, 0.6888095442010556, 0.6888095442010556, 0.6888095442010556, 0.6888095442010556, 0.6888095442010556, 0.6888095442010556, 0.6888095442010556, 0.6888095442010556, 0.6888095442010556, 0.6888095442010556, 0.6888095442010556, 0.6888095442010556, 0.6888095442010556, 0.6888095442010556, 0.6888095442010556, 4.974760547223866, 0.6888095442010556, 1.913365871690934, 1.3010862999048929, 9.873061768964533, 1.3010885037953133, 0.6888095442010556, 2.52565156539481, 10.485311343353182, 0.6888095442010556, 0.6888095442010556, 3.1379390956740365, 0.6888095442010556, 0.6888095442010556, 0.6888095442010556, 0.6888095442010556, 1.301090585247377, 1.3010896057405237, 2.5256486268742493, 1.3010962174117853, 1.9133708916635586, 1.3010926666994411, 2.525654014161944, 3.137933218632915, 3.1379341981397686, 4.362485015903596, 3.13793934055075, 4.362460528232257, 2.5256469127372556, 1.9133787277183871, 2.525643974216695, 2.5256422600797013, 1.9133607292799528, 1.9133705243484884, 1.3011040534666138], \"Total\": [29.0, 77.0, 46.0, 31.0, 19.0, 16.0, 30.0, 30.0, 21.0, 22.0, 15.0, 28.0, 25.0, 11.0, 26.0, 13.0, 26.0, 13.0, 35.0, 28.0, 8.0, 39.0, 21.0, 28.0, 10.0, 29.0, 19.0, 20.0, 9.0, 21.0, 7.727538591207613, 5.985161945414091, 5.985161945414091, 5.113918932728144, 10.235704470768264, 8.339815769337772, 8.33980561318342, 4.242800003755244, 4.2427958073726, 4.242786903095881, 4.242713426472565, 7.622150291745321, 7.653635658032437, 3.3716157246733465, 3.3716157246733465, 3.3716157246733465, 3.3716157246733465, 3.371615372900761, 3.371615372900761, 3.371615372900761, 3.3716155677112, 3.3716149606860606, 3.3716121405725694, 3.3715969765018716, 3.3715937979406343, 3.3714869054486956, 3.3714869054486956, 6.676442850481733, 6.807062826082328, 6.816474823406518, 14.22653075070345, 10.835280171988295, 25.839197911305053, 8.369477340878282, 60.0254859759652, 23.472260479433306, 5.911274575406896, 28.995510027243824, 11.438342927115041, 5.9358773688426245, 40.7008988713368, 9.927668039858698, 66.73564513033931, 32.06276040877158, 23.574576853519872, 18.98974014187704, 29.002762615444908, 8.473739221497567, 17.13441520917759, 125.4748304734643, 72.31455320895104, 34.429219679802955, 56.434073117062816, 21.882313009751257, 59.23788515446175, 45.75643988463147, 33.00006120289772, 28.6522162705351, 27.46900329092844, 36.95004434120043, 28.67729424968151, 29.078863943871497, 32.741788919129746, 22.43828780680888, 46.64843193763654, 22.30389643092659, 5.745878900826151, 5.74587812930921, 31.28573996576212, 4.9145768080844245, 4.9145768080844245, 4.9145768080844245, 4.9145768080844245, 4.083271860027382, 4.083272108128057, 4.083273228908744, 4.083273228908744, 3.2519696865369063, 3.2519696865369063, 3.2519696865369063, 3.2519696865369063, 3.2519696865369063, 3.2519696865369063, 3.2519696865369063, 3.2519696865369063, 3.2519695658994054, 3.2519695658994054, 3.2519695658994054, 3.252099528081759, 5.7867501853545225, 2.4206667433841966, 2.4206667433841966, 2.4206667433841966, 2.4206667433841966, 2.4206663585530794, 2.4206663585530794, 7.202946782074496, 4.954457195380882, 4.955206595159073, 12.497127869352765, 8.000227486346759, 13.473232524747875, 10.841763997048197, 72.31455320895104, 16.710526127248066, 20.148652071944053, 14.386566824528034, 22.08049967438688, 34.60790721435853, 17.621829289532492, 21.411503048907882, 17.84875551578416, 125.4748304734643, 37.26108246483638, 34.429219679802955, 30.107540391347186, 24.99041743767488, 19.266350410569466, 59.23788515446175, 23.82675901914994, 23.621149702021704, 39.02899637239843, 16.581508726066943, 45.75643988463147, 24.492863752778213, 21.497195254344973, 32.741788919129746, 22.940563221778596, 66.73564513033931, 7.333192046222179, 4.867519106715102, 4.045628889303971, 4.045628165875487, 4.045628991855142, 4.045633666747645, 4.045635046547981, 3.2237425768645727, 3.223743425489297, 3.2237344334107876, 5.664801037362638, 5.698823345609357, 4.657903724256087, 2.4018443819536115, 2.40184402023937, 2.40184402023937, 2.40184402023937, 2.40184402023937, 2.40184402023937, 2.40184402023937, 2.401843658525129, 2.401843658525129, 2.401843658525129, 2.401843658525129, 2.401843658525129, 2.401843658525129, 2.401843658525129, 2.401843658525129, 2.4018459520791007, 2.401847819996065, 30.702063526364636, 10.54693166801323, 28.4339341598068, 19.438622790310028, 77.5140861445832, 9.90686375738425, 7.3578770353105565, 7.431782265376019, 7.435090764487301, 21.665750345337827, 35.45509797910664, 6.583258180001755, 10.614167802364776, 10.583676801837905, 7.222165392845291, 13.01229675349958, 3.897217241502667, 17.124798743680657, 15.841786169034538, 11.43395753460135, 33.00006120289772, 125.4748304734643, 56.434073117062816, 17.396934089079647, 29.078863943871497, 66.73564513033931, 17.422119798968815, 59.23788515446175, 72.31455320895104, 28.6522162705351, 26.603414807167727, 18.755935993673205, 32.06276040877158, 32.741788919129746, 19.646579468205314, 40.7008988713368, 39.02899637239843, 36.95004434120043, 15.906372466651709, 9.528135303600672, 7.136297362693475, 5.541738225044091, 5.541738225044091, 5.541738225044091, 4.744458809332776, 4.744458809332776, 4.744458809332776, 21.570580492880826, 3.9471784749412056, 3.9471778624877016, 3.94717755626095, 8.764879787966619, 7.902091528635156, 3.1498993654566414, 3.1498993654566414, 3.1498993654566414, 3.1498993654566414, 3.1498993654566414, 3.1498993654566414, 3.1498993654566414, 3.1498993654566414, 3.1498993654566414, 3.1498993654566414, 3.1498993654566414, 3.1498993654566414, 3.149904507061156, 10.433343921748952, 6.373041016836524, 9.63606378005018, 26.465018503280284, 25.57439934265161, 5.5663553344947045, 20.648372373613846, 16.68606868899758, 28.67729424968151, 8.766401806814349, 9.347652110779102, 12.1325118914228, 7.099106151203972, 12.41010479064611, 125.4748304734643, 24.350354839800673, 18.98974014187704, 66.73564513033931, 59.23788515446175, 36.95004434120043, 22.940563221778596, 23.82675901914994, 45.75643988463147, 19.02904115748505, 72.31455320895104, 60.0254859759652, 19.646579468205314, 7.650209518913436, 6.884413461236466, 6.884410926025194, 6.118620445813022, 5.352825909262815, 4.587031879754862, 4.587031879754862, 3.8212375967257834, 3.8212375967257834, 3.8212368361624023, 7.557895493255532, 3.0554435672178313, 3.0554435672178313, 3.0554435672178313, 3.0554435672178313, 3.0554435672178313, 10.92416601691702, 10.078609301367543, 2.289648143343679, 2.289648143343679, 2.289648143343679, 2.289648143343679, 2.289648143343679, 2.289648143343679, 2.289648143343679, 2.289648143343679, 2.289648143343679, 2.289648143343679, 2.289648143343679, 2.289648143343679, 2.289648143343679, 2.289648143343679, 2.289648143343679, 2.289648143343679, 2.289648143343679, 2.289648143343679, 2.289648143343679, 2.289648143343679, 2.289648143343679, 2.289648143343679, 2.289648143343679, 4.64312911238169, 9.771570313054935, 4.69242229452543, 4.692421447255727, 4.692420940213473, 2.289648143343679, 7.892473454721159, 10.79235607844905, 39.02899637239843, 5.514312845151905, 26.944864764211257, 3.886745469647688, 3.886745469647688, 28.6522162705351, 17.8331957994797, 8.5846946118034, 77.5140861445832, 13.057932059060402, 125.4748304734643, 14.053805227788825, 46.64843193763654, 72.31455320895104, 35.45509797910664, 56.434073117062816, 9.83061498884397, 18.707225381503253, 37.26108246483638, 10.229764756964315, 23.621149702021704, 24.99041743767488, 29.002762615444908, 29.078863943871497, 59.23788515446175, 66.73564513033931, 8.541960212153413, 3.523156258793077, 2.8318828038226727, 2.8318828038226727, 2.8318828038226727, 2.8318828038226727, 2.140608478213902, 2.140608478213902, 2.1406083040862285, 2.1406083040862285, 2.1406083040862285, 2.1406083040862285, 2.1406083040862285, 2.1406083040862285, 2.1406083040862285, 2.1406083040862285, 2.1406083040862285, 2.1406083040862285, 3.444157684974251, 3.444157539436163, 5.851407960991373, 5.907501988737386, 13.182388035803054, 5.00661494107477, 9.949968204700072, 1.4493345008604777, 1.4493345008604777, 1.4493345008604777, 1.4493345008604777, 1.4493345008604777, 2.752883426074513, 2.752883426074513, 1.4493345008604777, 1.4493345008604777, 1.4493345008604777, 1.4493345008604777, 1.4493345008604777, 1.4493345008604777, 1.4493345008604777, 11.250931761403892, 2.8140888561594064, 1.4493345008604777, 1.4493345008604777, 4.302641897131286, 5.877800465842911, 6.048923588687647, 4.524957240625272, 11.507771431844944, 26.603414807167727, 29.770987274063785, 21.411503048907882, 18.785141828084022, 15.820565540133325, 21.564219866401757, 37.26108246483638, 77.5140861445832, 19.702734687719254, 125.4748304734643, 11.53539846439456, 12.000922845463368, 59.23788515446175, 34.60790721435853, 36.95004434120043, 20.18363701114264, 23.574576853519872, 24.492863752778213, 25.57439934265161, 33.00006120289772, 28.995510027243824, 3.451981607213037, 3.451981607213037, 2.7785018142531586, 2.7785018142531586, 2.7785018142531586, 2.7785018142531586, 4.816736966876446, 2.1050210617515472, 2.1050210617515472, 2.1050210617515472, 2.1050210617515472, 2.1050210617515472, 2.1050210617515472, 2.105020581980681, 2.105020581980681, 2.105020581980681, 2.105020581980681, 2.105020581980681, 2.105020581980681, 2.105020581980681, 4.283283967610733, 4.323164630526164, 3.390776751678511, 6.947284663198026, 4.983570280124961, 1.4315407890208023, 1.4315407890208023, 1.4315407890208023, 1.4315407890208023, 1.4315407890208023, 1.4315407890208023, 1.4315407890208023, 1.4315407890208023, 1.4315407890208023, 1.4315407890208023, 1.4315407890208023, 1.4315407890208023, 1.4315407890208023, 1.4315407890208023, 1.4315407890208023, 1.4315407890208023, 13.057932059060402, 1.4315407890208023, 1.4315407890208023, 1.4315407890208023, 1.4315407890208023, 4.29166634390212, 1.4315407890208023, 1.4315407890208023, 1.4315407890208023, 1.4315407890208023, 2.8708154457427204, 4.422284628153573, 1.4315407890208023, 2.902300631691599, 6.5980443347968585, 4.9829321363948385, 7.459058317447383, 46.64843193763654, 18.755935993673205, 29.002762615444908, 9.140798682363501, 5.043969554173995, 9.604857590760377, 5.09326159960069, 10.501665412258784, 28.67729424968151, 45.75643988463147, 22.08049967438688, 5.904031458906589, 36.95004434120043, 24.350354839800673, 34.60790721435853, 17.422119798968815, 18.043593911966624, 18.707225381503253, 21.297611458064118, 21.497195254344973, 125.4748304734643, 34.429219679802955, 37.26108246483638, 60.0254859759652, 2.5948862102347268, 2.5948862102347268, 5.122985432204587, 1.9826106789144564, 1.9826106789144564, 1.9826106789144564, 1.9826106789144564, 1.9826106789144564, 6.71244505022317, 29.770987274063785, 16.80325309703152, 19.702734687719254, 3.286159842145442, 4.869766838901462, 1.3703356373476128, 1.3703356373476128, 1.3703356373476128, 1.3703356373476128, 1.3703356373476128, 1.3703356373476128, 1.3703356373476128, 1.3703356373476128, 1.3703356373476128, 1.3703356373476128, 1.3703356373476128, 1.3703356373476128, 1.3703356373476128, 1.3703356373476128, 1.3703356373476128, 1.3703356373476128, 1.3703356373476128, 1.3703356373476128, 1.3703356373476128, 1.3703356373476128, 1.3703356373476128, 1.3703356373476128, 1.3703356373476128, 1.3703356373476128, 1.3703356373476128, 1.3703356373476128, 1.3703356373476128, 1.3703356373476128, 1.3703356373476128, 1.3703356373476128, 1.3703356373476128, 1.3703356373476128, 1.3703356373476128, 1.3703356373476128, 1.3703356373476128, 1.3703356373476128, 1.3703356373476128, 1.3703356373476128, 1.3703356373476128, 1.3703356373476128, 1.3703356373476128, 1.3703356373476128, 1.3703356373476128, 1.3703356373476128, 1.3703356373476128, 1.3703356373476128, 1.3703356373476128, 1.3703356373476128, 1.3703356373476128, 1.3703356373476128, 1.3703356373476128, 1.3703356373476128, 1.3703356373476128, 1.3703356373476128, 1.3703356373476128, 1.3703356373476128, 1.3703356373476128, 11.507771431844944, 1.3703356373476128, 4.191980827599168, 2.779889827858465, 30.107540391347186, 2.8537944778401005, 1.3703356373476128, 7.341361238821601, 46.64843193763654, 1.3703356373476128, 1.3703356373476128, 10.501665412258784, 1.3703356373476128, 1.3703356373476128, 1.3703356373476128, 1.3703356373476128, 3.54506759745803, 3.6195882549678915, 10.229764756964315, 3.6510586804021528, 6.676480339444736, 3.685094910679692, 11.553938593181632, 19.02904115748505, 21.497195254344973, 56.434073117062816, 40.7008988713368, 125.4748304734643, 32.741788919129746, 13.845425214253462, 45.75643988463147, 60.0254859759652, 21.411503048907882, 21.895874065949563, 9.857418809351483], \"Category\": [\"Default\", \"Default\", \"Default\", \"Default\", \"Default\", \"Default\", \"Default\", \"Default\", \"Default\", \"Default\", \"Default\", \"Default\", \"Default\", \"Default\", \"Default\", \"Default\", \"Default\", \"Default\", \"Default\", \"Default\", \"Default\", \"Default\", \"Default\", \"Default\", \"Default\", \"Default\", \"Default\", \"Default\", \"Default\", \"Default\", \"Topic1\", \"Topic1\", \"Topic1\", \"Topic1\", \"Topic1\", \"Topic1\", \"Topic1\", \"Topic1\", \"Topic1\", \"Topic1\", \"Topic1\", \"Topic1\", \"Topic1\", \"Topic1\", \"Topic1\", \"Topic1\", \"Topic1\", \"Topic1\", \"Topic1\", \"Topic1\", \"Topic1\", \"Topic1\", \"Topic1\", \"Topic1\", \"Topic1\", \"Topic1\", \"Topic1\", \"Topic1\", \"Topic1\", \"Topic1\", \"Topic1\", \"Topic1\", \"Topic1\", \"Topic1\", \"Topic1\", \"Topic1\", \"Topic1\", \"Topic1\", \"Topic1\", \"Topic1\", \"Topic1\", \"Topic1\", \"Topic1\", \"Topic1\", \"Topic1\", \"Topic1\", \"Topic1\", \"Topic1\", \"Topic1\", \"Topic1\", \"Topic1\", \"Topic1\", \"Topic1\", \"Topic1\", \"Topic1\", \"Topic1\", \"Topic1\", \"Topic1\", \"Topic1\", \"Topic1\", \"Topic1\", \"Topic1\", \"Topic1\", \"Topic1\", \"Topic1\", \"Topic2\", \"Topic2\", \"Topic2\", \"Topic2\", \"Topic2\", \"Topic2\", \"Topic2\", \"Topic2\", \"Topic2\", \"Topic2\", \"Topic2\", \"Topic2\", \"Topic2\", \"Topic2\", \"Topic2\", \"Topic2\", \"Topic2\", \"Topic2\", \"Topic2\", \"Topic2\", \"Topic2\", \"Topic2\", \"Topic2\", \"Topic2\", \"Topic2\", \"Topic2\", \"Topic2\", \"Topic2\", \"Topic2\", \"Topic2\", \"Topic2\", \"Topic2\", \"Topic2\", \"Topic2\", \"Topic2\", \"Topic2\", \"Topic2\", \"Topic2\", \"Topic2\", \"Topic2\", \"Topic2\", \"Topic2\", \"Topic2\", \"Topic2\", \"Topic2\", \"Topic2\", \"Topic2\", \"Topic2\", \"Topic2\", \"Topic2\", \"Topic2\", \"Topic2\", \"Topic2\", \"Topic2\", \"Topic2\", \"Topic2\", \"Topic2\", \"Topic2\", \"Topic2\", \"Topic2\", \"Topic2\", \"Topic2\", \"Topic2\", \"Topic2\", \"Topic3\", \"Topic3\", \"Topic3\", \"Topic3\", \"Topic3\", \"Topic3\", \"Topic3\", \"Topic3\", \"Topic3\", \"Topic3\", \"Topic3\", \"Topic3\", \"Topic3\", \"Topic3\", \"Topic3\", \"Topic3\", \"Topic3\", \"Topic3\", \"Topic3\", \"Topic3\", \"Topic3\", \"Topic3\", \"Topic3\", \"Topic3\", \"Topic3\", \"Topic3\", \"Topic3\", \"Topic3\", \"Topic3\", \"Topic3\", \"Topic3\", \"Topic3\", \"Topic3\", \"Topic3\", \"Topic3\", \"Topic3\", \"Topic3\", \"Topic3\", \"Topic3\", \"Topic3\", \"Topic3\", \"Topic3\", \"Topic3\", \"Topic3\", \"Topic3\", \"Topic3\", \"Topic3\", \"Topic3\", \"Topic3\", \"Topic3\", \"Topic3\", \"Topic3\", \"Topic3\", \"Topic3\", \"Topic3\", \"Topic3\", \"Topic3\", \"Topic3\", \"Topic3\", \"Topic3\", \"Topic3\", \"Topic3\", \"Topic3\", \"Topic3\", \"Topic3\", \"Topic3\", \"Topic3\", \"Topic3\", \"Topic4\", \"Topic4\", \"Topic4\", \"Topic4\", \"Topic4\", \"Topic4\", \"Topic4\", \"Topic4\", \"Topic4\", \"Topic4\", \"Topic4\", \"Topic4\", \"Topic4\", \"Topic4\", \"Topic4\", \"Topic4\", \"Topic4\", \"Topic4\", \"Topic4\", \"Topic4\", \"Topic4\", \"Topic4\", \"Topic4\", \"Topic4\", \"Topic4\", \"Topic4\", \"Topic4\", \"Topic4\", \"Topic4\", \"Topic4\", \"Topic4\", \"Topic4\", \"Topic4\", \"Topic4\", \"Topic4\", \"Topic4\", \"Topic4\", \"Topic4\", \"Topic4\", \"Topic4\", \"Topic4\", \"Topic4\", \"Topic4\", \"Topic4\", \"Topic4\", \"Topic4\", \"Topic4\", \"Topic4\", \"Topic4\", \"Topic4\", \"Topic4\", \"Topic4\", \"Topic4\", \"Topic4\", \"Topic4\", \"Topic5\", \"Topic5\", \"Topic5\", \"Topic5\", \"Topic5\", \"Topic5\", \"Topic5\", \"Topic5\", \"Topic5\", \"Topic5\", \"Topic5\", \"Topic5\", \"Topic5\", \"Topic5\", \"Topic5\", \"Topic5\", \"Topic5\", \"Topic5\", \"Topic5\", \"Topic5\", \"Topic5\", \"Topic5\", \"Topic5\", \"Topic5\", \"Topic5\", \"Topic5\", \"Topic5\", \"Topic5\", \"Topic5\", \"Topic5\", \"Topic5\", \"Topic5\", \"Topic5\", \"Topic5\", \"Topic5\", \"Topic5\", \"Topic5\", \"Topic5\", \"Topic5\", \"Topic5\", \"Topic5\", \"Topic5\", \"Topic5\", \"Topic5\", \"Topic5\", \"Topic5\", \"Topic5\", \"Topic5\", \"Topic5\", \"Topic5\", \"Topic5\", \"Topic5\", \"Topic5\", \"Topic5\", \"Topic5\", \"Topic5\", \"Topic5\", \"Topic5\", \"Topic5\", \"Topic5\", \"Topic5\", \"Topic5\", \"Topic5\", \"Topic5\", \"Topic5\", \"Topic5\", \"Topic5\", \"Topic5\", \"Topic5\", \"Topic5\", \"Topic5\", \"Topic5\", \"Topic5\", \"Topic5\", \"Topic5\", \"Topic6\", \"Topic6\", \"Topic6\", \"Topic6\", \"Topic6\", \"Topic6\", \"Topic6\", \"Topic6\", \"Topic6\", \"Topic6\", \"Topic6\", \"Topic6\", \"Topic6\", \"Topic6\", \"Topic6\", \"Topic6\", \"Topic6\", \"Topic6\", \"Topic6\", \"Topic6\", \"Topic6\", \"Topic6\", \"Topic6\", \"Topic6\", \"Topic6\", \"Topic6\", \"Topic6\", \"Topic6\", \"Topic6\", \"Topic6\", \"Topic6\", \"Topic6\", \"Topic6\", \"Topic6\", \"Topic6\", \"Topic6\", \"Topic6\", \"Topic6\", \"Topic6\", \"Topic6\", \"Topic6\", \"Topic6\", \"Topic6\", \"Topic6\", \"Topic6\", \"Topic6\", \"Topic6\", \"Topic6\", \"Topic6\", \"Topic6\", \"Topic6\", \"Topic6\", \"Topic6\", \"Topic6\", \"Topic6\", \"Topic6\", \"Topic6\", \"Topic6\", \"Topic6\", \"Topic6\", \"Topic6\", \"Topic6\", \"Topic6\", \"Topic6\", \"Topic6\", \"Topic6\", \"Topic6\", \"Topic6\", \"Topic6\", \"Topic7\", \"Topic7\", \"Topic7\", \"Topic7\", \"Topic7\", \"Topic7\", \"Topic7\", \"Topic7\", \"Topic7\", \"Topic7\", \"Topic7\", \"Topic7\", \"Topic7\", \"Topic7\", \"Topic7\", \"Topic7\", \"Topic7\", \"Topic7\", \"Topic7\", \"Topic7\", \"Topic7\", \"Topic7\", \"Topic7\", \"Topic7\", \"Topic7\", \"Topic7\", \"Topic7\", \"Topic7\", \"Topic7\", \"Topic7\", \"Topic7\", \"Topic7\", \"Topic7\", \"Topic7\", \"Topic7\", \"Topic7\", \"Topic7\", \"Topic7\", \"Topic7\", \"Topic7\", \"Topic7\", \"Topic7\", \"Topic7\", \"Topic7\", \"Topic7\", \"Topic7\", \"Topic7\", \"Topic7\", \"Topic7\", \"Topic7\", \"Topic7\", \"Topic7\", \"Topic7\", \"Topic7\", \"Topic7\", \"Topic7\", \"Topic7\", \"Topic7\", \"Topic7\", \"Topic7\", \"Topic7\", \"Topic7\", \"Topic7\", \"Topic7\", \"Topic7\", \"Topic7\", \"Topic7\", \"Topic7\", \"Topic7\", \"Topic7\", \"Topic7\", \"Topic7\", \"Topic7\", \"Topic7\", \"Topic7\", \"Topic7\", \"Topic7\", \"Topic7\", \"Topic7\", \"Topic7\", \"Topic7\", \"Topic7\", \"Topic8\", \"Topic8\", \"Topic8\", \"Topic8\", \"Topic8\", \"Topic8\", \"Topic8\", \"Topic8\", \"Topic8\", \"Topic8\", \"Topic8\", \"Topic8\", \"Topic8\", \"Topic8\", \"Topic8\", \"Topic8\", \"Topic8\", \"Topic8\", \"Topic8\", \"Topic8\", \"Topic8\", \"Topic8\", \"Topic8\", \"Topic8\", \"Topic8\", \"Topic8\", \"Topic8\", \"Topic8\", \"Topic8\", \"Topic8\", \"Topic8\", \"Topic8\", \"Topic8\", \"Topic8\", \"Topic8\", \"Topic8\", \"Topic8\", \"Topic8\", \"Topic8\", \"Topic8\", \"Topic8\", \"Topic8\", \"Topic8\", \"Topic8\", \"Topic8\", \"Topic8\", \"Topic8\", \"Topic8\", \"Topic8\", \"Topic8\", \"Topic8\", \"Topic8\", \"Topic8\", \"Topic8\", \"Topic8\", \"Topic8\", \"Topic8\", \"Topic8\", \"Topic8\", \"Topic8\", \"Topic8\", \"Topic8\", \"Topic8\", \"Topic8\", \"Topic8\", \"Topic8\", \"Topic8\", \"Topic8\", \"Topic8\", \"Topic8\", \"Topic8\", \"Topic8\", \"Topic8\", \"Topic8\", \"Topic8\", \"Topic8\", \"Topic8\", \"Topic8\", \"Topic8\", \"Topic8\", \"Topic8\", \"Topic8\", \"Topic8\", \"Topic8\", \"Topic8\", \"Topic8\", \"Topic8\", \"Topic8\", \"Topic8\", \"Topic8\", \"Topic8\", \"Topic8\", \"Topic8\", \"Topic8\", \"Topic8\", \"Topic8\", \"Topic8\", \"Topic8\", \"Topic8\", \"Topic8\", \"Topic8\", \"Topic8\", \"Topic8\", \"Topic8\", \"Topic8\", \"Topic8\"], \"logprob\": [30.0, 29.0, 28.0, 27.0, 26.0, 25.0, 24.0, 23.0, 22.0, 21.0, 20.0, 19.0, 18.0, 17.0, 16.0, 15.0, 14.0, 13.0, 12.0, 11.0, 10.0, 9.0, 8.0, 7.0, 6.0, 5.0, 4.0, 3.0, 2.0, 1.0, -5.781799793243408, -6.0644001960754395, -6.0644001960754395, -6.243000030517578, -5.561800003051758, -5.781799793243408, -5.781899929046631, -6.459700107574463, -6.459700107574463, -6.459799766540527, -6.46019983291626, -5.9131999015808105, -5.9131999015808105, -6.737299919128418, -6.737299919128418, -6.737299919128418, -6.737299919128418, -6.737400054931641, -6.737400054931641, -6.737400054931641, -6.737400054931641, -6.737400054931641, -6.737400054931641, -6.737500190734863, -6.737500190734863, -6.738399982452393, -6.738399982452393, -6.0644001960754395, -6.0644001960754395, -6.0644001960754395, -5.4029998779296875, -5.665800094604492, -4.88730001449585, -5.913300037384033, -4.171500205993652, -5.028500080108643, -6.242700099945068, -4.853000164031982, -5.665800094604492, -6.242700099945068, -4.721799850463867, -5.881199836730957, -4.3917999267578125, -4.967299938201904, -5.287300109863281, -5.4679999351501465, -5.212299823760986, -6.010700225830078, -5.570799827575684, -4.345900058746338, -4.698400020599365, -5.172800064086914, -4.894400119781494, -5.44189977645874, -4.91540002822876, -5.117800235748291, -5.307799816131592, -5.381499767303467, -5.4421000480651855, -5.461699962615967, -5.5447998046875, -5.553999900817871, -5.553699970245361, -5.687099933624268, -5.665800094604492, -4.411799907684326, -5.782599925994873, -5.782599925994873, -4.094699859619141, -5.960899829864502, -5.960899829864502, -5.960899829864502, -5.960899829864502, -6.1778998374938965, -6.1778998374938965, -6.1778998374938965, -6.1778998374938965, -6.455599784851074, -6.455599784851074, -6.455599784851074, -6.455599784851074, -6.455599784851074, -6.455599784851074, -6.455599784851074, -6.455599784851074, -6.455599784851074, -6.455599784851074, -6.455599784851074, -6.456600189208984, -5.965700149536133, -6.84119987487793, -6.84119987487793, -6.84119987487793, -6.84119987487793, -6.84119987487793, -6.84119987487793, -5.782599925994873, -6.1778998374938965, -6.182499885559082, -5.383999824523926, -5.782599925994873, -5.384699821472168, -5.631400108337402, -4.329500198364258, -5.385200023651123, -5.281300067901611, -5.506700038909912, -5.2469000816345215, -5.053599834442139, -5.482800006866455, -5.389599800109863, -5.502900123596191, -4.441800117492676, -5.119200229644775, -5.169300079345703, -5.283699989318848, -5.391900062561035, -5.507999897003174, -5.035799980163574, -5.491499900817871, -5.51170015335083, -5.396500110626221, -5.628399848937988, -5.361800193786621, -5.550000190734863, -5.629000186920166, -5.5833001136779785, -5.637499809265137, -5.543099880218506, -5.44950008392334, -5.910299777984619, -6.127399921417236, -6.127399921417236, -6.127399921417236, -6.127399921417236, -6.127399921417236, -6.40500020980835, -6.405099868774414, -6.405099868774414, -5.910299777984619, -5.910299777984619, -6.127399921417236, -6.7906999588012695, -6.7906999588012695, -6.7906999588012695, -6.7906999588012695, -6.7906999588012695, -6.7906999588012695, -6.7906999588012695, -6.7906999588012695, -6.7906999588012695, -6.7906999588012695, -6.7906999588012695, -6.7906999588012695, -6.7906999588012695, -6.7906999588012695, -6.7906999588012695, -6.7906999588012695, -6.7906999588012695, -4.24399995803833, -5.333399772644043, -4.362400054931641, -4.764100074768066, -3.51419997215271, -5.44950008392334, -5.732100009918213, -5.732100009918213, -5.743100166320801, -4.768799781799316, -4.367499828338623, -5.956500053405762, -5.597599983215332, -5.603400230407715, -5.910299777984619, -5.44950008392334, -6.40500020980835, -5.241300106048584, -5.341300010681152, -5.5808000564575195, -4.925300121307373, -4.116700172424316, -4.638700008392334, -5.372300148010254, -5.120500087738037, -4.78849983215332, -5.427000045776367, -4.867000102996826, -4.792500019073486, -5.229400157928467, -5.323800086975098, -5.459099769592285, -5.348100185394287, -5.3821001052856445, -5.506899833679199, -5.401899814605713, -5.484000205993652, -5.493100166320801, -4.457300186157227, -4.999100208282471, -5.313399791717529, -5.595900058746338, -5.595900058746338, -5.595900058746338, -5.774199962615967, -5.774199962615967, -5.774199962615967, -4.267399787902832, -5.991300106048584, -5.991300106048584, -5.991300106048584, -5.197299957275391, -5.313399791717529, -6.268899917602539, -6.268899917602539, -6.268899917602539, -6.268899917602539, -6.268899917602539, -6.268899917602539, -6.268899917602539, -6.268899917602539, -6.268899917602539, -6.268899917602539, -6.268899917602539, -6.268899917602539, -6.269000053405762, -5.093299865722656, -5.595900058746338, -5.197299957275391, -4.406400203704834, -4.457300186157227, -5.774199962615967, -4.76039981842041, -5.093299865722656, -4.76039981842041, -5.595900058746338, -5.595900058746338, -5.444699764251709, -5.774199962615967, -5.444699764251709, -4.107900142669678, -5.197299957275391, -5.313399791717529, -4.816199779510498, -4.948500156402588, -5.333899974822998, -5.444699764251709, -5.444699764251709, -5.318399906158447, -5.507500171661377, -5.517300128936768, -5.527900218963623, -5.595900058746338, -5.048699855804443, -5.16480016708374, -5.16480016708374, -5.29610013961792, -5.447400093078613, -5.6255998611450195, -5.6255998611450195, -5.842700004577637, -5.842700004577637, -5.842700004577637, -5.16480016708374, -6.120299816131592, -6.120299816131592, -6.120299816131592, -6.120299816131592, -6.120299816131592, -4.850500106811523, -4.944699764251709, -6.50600004196167, -6.50600004196167, -6.50600004196167, -6.50600004196167, -6.50600004196167, -6.50600004196167, -6.50600004196167, -6.50600004196167, -6.50600004196167, -6.50600004196167, -6.50600004196167, -6.50600004196167, -6.50600004196167, -6.50600004196167, -6.50600004196167, -6.50600004196167, -6.50600004196167, -6.50600004196167, -6.50600004196167, -6.50600004196167, -6.50600004196167, -6.50600004196167, -6.50600004196167, -5.842700004577637, -5.16480016708374, -5.842700004577637, -5.842700004577637, -5.842700004577637, -6.50600004196167, -5.447400093078613, -5.29610013961792, -4.308700084686279, -5.842700004577637, -4.685200214385986, -6.120299816131592, -6.120299816131592, -4.850500106811523, -5.16480016708374, -5.6255998611450195, -4.611800193786621, -5.447400093078613, -4.4191999435424805, -5.447400093078613, -4.944699764251709, -4.850500106811523, -5.16480016708374, -5.048699855804443, -5.6255998611450195, -5.447299957275391, -5.29610013961792, -5.6255998611450195, -5.447400093078613, -5.447400093078613, -5.447400093078613, -5.447400093078613, -5.447299957275391, -5.447400093078613, -4.67140007019043, -5.569399833679199, -5.8470001220703125, -5.8470001220703125, -5.8470001220703125, -5.8470001220703125, -6.232699871063232, -6.232699871063232, -6.232699871063232, -6.232699871063232, -6.232699871063232, -6.232699871063232, -6.232699871063232, -6.232699871063232, -6.232699871063232, -6.232699871063232, -6.232699871063232, -6.232699871063232, -5.8470001220703125, -5.8470001220703125, -5.35230016708374, -5.35230016708374, -4.577300071716309, -5.569399833679199, -4.891499996185303, -6.86870002746582, -6.86870002746582, -6.86870002746582, -6.86870002746582, -6.86870002746582, -6.232699871063232, -6.232699871063232, -6.86870002746582, -6.86870002746582, -6.86870002746582, -6.86870002746582, -6.86870002746582, -6.86870002746582, -6.86870002746582, -4.891499996185303, -6.232699871063232, -6.86870002746582, -6.86870002746582, -5.8470001220703125, -5.569399833679199, -5.569399833679199, -5.8470001220703125, -5.174099922180176, -4.577199935913086, -4.577300071716309, -4.891499996185303, -5.022799968719482, -5.174099922180176, -5.022799968719482, -4.775400161743164, -4.491199970245361, -5.174099922180176, -4.491199970245361, -5.569399833679199, -5.569399833679199, -5.174099922180176, -5.35230016708374, -5.35230016708374, -5.569399833679199, -5.569399833679199, -5.569399833679199, -5.569399833679199, -5.569399833679199, -5.569399833679199, -5.51039981842041, -5.51039981842041, -5.788000106811523, -5.788000106811523, -5.788000106811523, -5.788000106811523, -5.293300151824951, -6.173699855804443, -6.173699855804443, -6.173699855804443, -6.173699855804443, -6.173699855804443, -6.173699855804443, -6.173699855804443, -6.173699855804443, -6.173699855804443, -6.173699855804443, -6.173699855804443, -6.173699855804443, -6.173699855804443, -5.51039981842041, -5.51039981842041, -5.788000106811523, -5.115099906921387, -5.51039981842041, -6.809700012207031, -6.809700012207031, -6.809700012207031, -6.809700012207031, -6.809700012207031, -6.809700012207031, -6.809700012207031, -6.809700012207031, -6.809700012207031, -6.809700012207031, -6.809700012207031, -6.809700012207031, -6.809700012207031, -6.809700012207031, -6.809700012207031, -6.809700012207031, -4.716400146484375, -6.809700012207031, -6.809700012207031, -6.809700012207031, -6.809700012207031, -5.788000106811523, -6.809700012207031, -6.809700012207031, -6.809700012207031, -6.809700012207031, -6.173699855804443, -5.788000106811523, -6.809700012207031, -6.173699855804443, -5.51039981842041, -5.788000106811523, -5.51039981842041, -4.35290002822876, -4.963799953460693, -4.716400146484375, -5.51039981842041, -5.788000106811523, -5.51039981842041, -5.788000106811523, -5.51039981842041, -5.115099906921387, -4.963799953460693, -5.293300151824951, -5.788000106811523, -5.115099906921387, -5.293300151824951, -5.293300151824951, -5.51039981842041, -5.51039981842041, -5.51039981842041, -5.51039981842041, -5.51039981842041, -5.293300151824951, -5.51039981842041, -5.51039981842041, -5.51039981842041, -5.616199970245361, -5.616199970245361, -4.94320011138916, -6.0019001960754395, -6.0019001960754395, -6.0019001960754395, -6.0019001960754395, -6.0019001960754395, -4.791999816894531, -3.3176000118255615, -3.91510009765625, -3.8046000003814697, -5.616199970245361, -5.338600158691406, -6.637800216674805, -6.637800216674805, -6.637800216674805, -6.637800216674805, -6.637800216674805, -6.637800216674805, -6.637800216674805, -6.637800216674805, -6.637800216674805, -6.637800216674805, -6.637800216674805, -6.637800216674805, -6.637800216674805, -6.637800216674805, -6.637800216674805, -6.637800216674805, -6.637800216674805, -6.637800216674805, -6.637800216674805, -6.637800216674805, -6.637800216674805, -6.637800216674805, -6.637800216674805, -6.637800216674805, -6.637800216674805, -6.637800216674805, -6.637800216674805, -6.637800216674805, -6.637800216674805, -6.637800216674805, -6.637800216674805, -6.637800216674805, -6.637800216674805, -6.637800216674805, -6.637800216674805, -6.637800216674805, -6.637800216674805, -6.637800216674805, -6.637800216674805, -6.637800216674805, -6.637800216674805, -6.637800216674805, -6.637800216674805, -6.637800216674805, -6.637800216674805, -6.637800216674805, -6.637800216674805, -6.637800216674805, -6.637800216674805, -6.637800216674805, -6.637800216674805, -6.637800216674805, -6.637800216674805, -6.637800216674805, -6.637800216674805, -6.637800216674805, -6.637800216674805, -4.660699844360352, -6.637800216674805, -5.616199970245361, -6.0019001960754395, -3.9751999378204346, -6.0019001960754395, -6.637800216674805, -5.338600158691406, -3.91510009765625, -6.637800216674805, -6.637800216674805, -5.121500015258789, -6.637800216674805, -6.637800216674805, -6.637800216674805, -6.637800216674805, -6.001800060272217, -6.001800060272217, -5.338600158691406, -6.001800060272217, -5.616199970245361, -6.001800060272217, -5.338600158691406, -5.121500015258789, -5.121500015258789, -4.791999816894531, -5.121500015258789, -4.791999816894531, -5.338600158691406, -5.616199970245361, -5.338600158691406, -5.338600158691406, -5.616199970245361, -5.616199970245361, -6.001800060272217], \"loglift\": [30.0, 29.0, 28.0, 27.0, 26.0, 25.0, 24.0, 23.0, 22.0, 21.0, 20.0, 19.0, 18.0, 17.0, 16.0, 15.0, 14.0, 13.0, 12.0, 11.0, 10.0, 9.0, 8.0, 7.0, 6.0, 5.0, 4.0, 3.0, 2.0, 1.0, 1.3703, 1.3432, 1.3432, 1.322, 1.3093, 1.2941, 1.294, 1.292, 1.292, 1.2919, 1.2915, 1.2527, 1.2486, 1.2442, 1.2442, 1.2442, 1.2442, 1.2442, 1.2442, 1.2442, 1.2442, 1.2442, 1.2442, 1.2441, 1.2441, 1.2432, 1.2432, 1.234, 1.2146, 1.2132, 1.1388, 1.1484, 1.0577, 1.159, 0.9306, 1.0126, 1.1774, 0.9768, 1.0942, 1.1733, 0.7689, 1.0205, 0.6044, 0.762, 0.7495, 0.7851, 0.6173, 1.0493, 0.7851, 0.019, 0.2176, 0.4853, 0.2695, 0.6694, 0.2, 0.2558, 0.3927, 0.4602, 0.4418, 0.1256, 0.2961, 0.273, 0.1546, 0.399, -0.3115, 1.6804, 1.6658, 1.6658, 1.6591, 1.6439, 1.6439, 1.6439, 1.6439, 1.6121, 1.6121, 1.6121, 1.6121, 1.5621, 1.5621, 1.5621, 1.5621, 1.5621, 1.5621, 1.5621, 1.5621, 1.5621, 1.5621, 1.5621, 1.561, 1.4757, 1.4717, 1.4717, 1.4717, 1.4717, 1.4717, 1.4717, 1.4398, 1.4187, 1.414, 1.2875, 1.3349, 1.2116, 1.1821, 0.5864, 0.9957, 0.9125, 1.0239, 0.8553, 0.5993, 0.8451, 0.7434, 0.8122, -0.0769, 0.4598, 0.4887, 0.5085, 0.5866, 0.7306, 0.0796, 0.5346, 0.5231, 0.1361, 0.7603, 0.0118, 0.4485, 0.5001, 0.125, 0.4265, -0.5469, 1.755, 1.704, 1.6719, 1.6719, 1.6719, 1.6719, 1.6719, 1.6214, 1.6214, 1.6213, 1.5524, 1.5464, 1.531, 1.53, 1.53, 1.53, 1.53, 1.53, 1.53, 1.53, 1.53, 1.53, 1.53, 1.53, 1.53, 1.53, 1.53, 1.53, 1.53, 1.53, 1.5286, 1.5077, 1.487, 1.4656, 1.3323, 1.4542, 1.4691, 1.4591, 1.4476, 1.3524, 1.2612, 1.3559, 1.2371, 1.2343, 1.3095, 1.1815, 1.4317, 1.1151, 1.093, 1.1795, 0.7751, 0.2482, 0.5252, 0.9684, 0.7065, 0.2077, 0.9122, 0.2484, 0.1234, 0.6123, 0.5921, 0.8063, 0.3812, 0.3262, 0.7121, 0.0888, 0.0487, 0.0943, 1.9729, 1.9436, 1.9184, 1.8887, 1.8887, 1.8887, 1.8658, 1.8658, 1.8658, 1.8582, 1.8327, 1.8327, 1.8327, 1.8289, 1.8165, 1.7807, 1.7807, 1.7807, 1.7807, 1.7807, 1.7807, 1.7807, 1.7807, 1.7807, 1.7807, 1.7807, 1.7807, 1.7806, 1.7586, 1.7489, 1.7341, 1.5148, 1.498, 1.706, 1.4089, 1.2891, 1.0805, 1.4301, 1.3659, 1.2564, 1.4628, 1.2337, 0.257, 0.8071, 0.9397, 0.18, 0.1669, 0.2535, 0.6193, 0.5814, 0.0552, 0.7435, -0.6014, -0.4257, 0.6231, 2.1135, 2.1029, 2.1029, 2.0895, 2.072, 2.0481, 2.0481, 2.0137, 2.0137, 2.0137, 2.0096, 1.9597, 1.9597, 1.9597, 1.9597, 1.9597, 1.9554, 1.9418, 1.8626, 1.8626, 1.8626, 1.8626, 1.8626, 1.8626, 1.8626, 1.8626, 1.8626, 1.8626, 1.8626, 1.8626, 1.8626, 1.8626, 1.8626, 1.8626, 1.8626, 1.8626, 1.8626, 1.8626, 1.8626, 1.8626, 1.8626, 1.8189, 1.7527, 1.8083, 1.8083, 1.8083, 1.8626, 1.6837, 1.522, 1.2239, 1.6469, 1.218, 1.7191, 1.7191, 0.9912, 1.1511, 1.4214, 0.2347, 1.1802, -0.0543, 1.1067, 0.4096, 0.0654, 0.4639, 0.1152, 1.2858, 0.8207, 0.2829, 1.2461, 0.5875, 0.5311, 0.3822, 0.3796, -0.332, -0.4511, 2.3805, 2.3682, 2.309, 2.309, 2.309, 2.309, 2.2032, 2.2032, 2.2032, 2.2032, 2.2032, 2.2032, 2.2032, 2.2032, 2.2032, 2.2032, 2.2032, 2.2032, 2.1133, 2.1133, 2.078, 2.0684, 2.0408, 2.0168, 2.0079, 1.9572, 1.9572, 1.9572, 1.9572, 1.9572, 1.9516, 1.9516, 1.9572, 1.9572, 1.9572, 1.9572, 1.9572, 1.9572, 1.9572, 1.885, 1.9296, 1.9572, 1.9572, 1.8907, 1.8564, 1.8277, 1.8403, 1.5799, 1.3387, 1.2262, 1.2415, 1.241, 1.2616, 1.1031, 0.8036, 0.3553, 1.0421, -0.1263, 1.1821, 1.1426, -0.0587, 0.3006, 0.2351, 0.6227, 0.4674, 0.4292, 0.386, 0.1311, 0.2604, 2.4476, 2.4476, 2.387, 2.387, 2.387, 2.387, 2.3315, 2.279, 2.279, 2.279, 2.279, 2.279, 2.279, 2.279, 2.279, 2.279, 2.279, 2.279, 2.279, 2.279, 2.2319, 2.2226, 2.1879, 2.1435, 2.0804, 2.0285, 2.0285, 2.0285, 2.0285, 2.0285, 2.0285, 2.0285, 2.0285, 2.0285, 2.0285, 2.0285, 2.0285, 2.0285, 2.0285, 2.0285, 2.0285, 1.9111, 2.0285, 2.0285, 2.0285, 2.0285, 1.9523, 2.0285, 2.0285, 2.0285, 2.0285, 1.9687, 1.9223, 2.0285, 1.9578, 1.7998, 1.8029, 1.6772, 1.0014, 1.3016, 1.1131, 1.4738, 1.7908, 1.4243, 1.781, 1.3351, 0.7258, 0.4098, 0.809, 1.6333, 0.4723, 0.7111, 0.3596, 0.8288, 0.7938, 0.7577, 0.628, 0.6187, -0.9285, 0.1477, 0.0686, -0.4082, 2.6272, 2.6272, 2.62, 2.5107, 2.5107, 2.5107, 2.5107, 2.5107, 2.501, 2.4858, 2.4603, 2.4116, 2.391, 2.2753, 2.2441, 2.2441, 2.2441, 2.2441, 2.2441, 2.2441, 2.2441, 2.2441, 2.2441, 2.2441, 2.2441, 2.2441, 2.2441, 2.2441, 2.2441, 2.2441, 2.2441, 2.2441, 2.2441, 2.2441, 2.2441, 2.2441, 2.2441, 2.2441, 2.2441, 2.2441, 2.2441, 2.2441, 2.2441, 2.2441, 2.2441, 2.2441, 2.2441, 2.2441, 2.2441, 2.2441, 2.2441, 2.2441, 2.2441, 2.2441, 2.2441, 2.2441, 2.2441, 2.2441, 2.2441, 2.2441, 2.2441, 2.2441, 2.2441, 2.2441, 2.2441, 2.2441, 2.2441, 2.2441, 2.2441, 2.2441, 2.2441, 2.0933, 2.2441, 2.1476, 2.1727, 1.8169, 2.1465, 2.2441, 1.8649, 1.4392, 2.2441, 2.2441, 1.7239, 2.2441, 2.2441, 2.2441, 2.2441, 1.9295, 1.9087, 1.5331, 1.9001, 1.6822, 1.8908, 1.4114, 1.1295, 1.0075, 0.3719, 0.3692, -0.4272, 0.3697, 0.9528, 0.0351, -0.2364, 0.5168, 0.4945, 0.9069]}, \"token.table\": {\"Topic\": [2, 1, 3, 5, 7, 8, 8, 2, 3, 5, 7, 3, 8, 3, 5, 6, 7, 3, 5, 2, 5, 1, 2, 3, 4, 5, 6, 7, 8, 1, 2, 3, 4, 5, 6, 7, 8, 1, 2, 5, 5, 3, 1, 2, 3, 4, 5, 6, 7, 8, 8, 8, 1, 2, 3, 4, 7, 3, 6, 6, 1, 6, 3, 6, 8, 5, 4, 5, 1, 2, 3, 4, 5, 6, 7, 8, 7, 4, 8, 1, 2, 3, 1, 1, 2, 1, 8, 1, 8, 6, 1, 8, 8, 7, 7, 1, 5, 1, 2, 3, 4, 5, 5, 2, 4, 8, 1, 2, 3, 4, 5, 6, 8, 8, 2, 1, 3, 4, 5, 6, 7, 8, 5, 1, 3, 8, 3, 5, 2, 3, 6, 5, 1, 3, 4, 5, 6, 8, 4, 3, 1, 2, 3, 4, 5, 6, 7, 8, 1, 2, 3, 4, 5, 6, 8, 6, 7, 8, 7, 7, 4, 8, 8, 1, 8, 3, 4, 5, 6, 7, 8, 8, 6, 3, 5, 3, 2, 5, 8, 1, 2, 3, 4, 5, 6, 8, 6, 8, 2, 1, 2, 3, 4, 5, 7, 2, 5, 5, 7, 8, 5, 3, 5, 3, 7, 1, 1, 2, 3, 4, 5, 6, 7, 1, 2, 3, 4, 5, 6, 7, 8, 1, 2, 3, 6, 8, 3, 4, 1, 3, 2, 8, 2, 1, 4, 8, 7, 6, 8, 7, 5, 6, 7, 6, 6, 8, 6, 7, 1, 2, 3, 4, 8, 7, 6, 7, 7, 2, 4, 1, 2, 4, 6, 8, 1, 2, 4, 6, 8, 1, 2, 4, 6, 7, 7, 1, 1, 3, 5, 7, 1, 1, 2, 4, 5, 7, 1, 3, 1, 2, 4, 7, 4, 7, 4, 1, 2, 3, 4, 6, 8, 1, 3, 8, 7, 2, 3, 4, 7, 5, 4, 1, 4, 8, 5, 6, 5, 1, 2, 3, 4, 5, 6, 7, 8, 1, 2, 5, 6, 1, 2, 3, 5, 6, 7, 8, 7, 8, 3, 3, 3, 8, 8, 6, 1, 6, 8, 8, 1, 2, 3, 4, 5, 7, 8, 2, 2, 7, 6, 1, 6, 8, 4, 8, 1, 2, 3, 4, 5, 6, 7, 8, 7, 1, 6, 8, 1, 1, 1, 6, 8, 5, 3, 2, 3, 5, 6, 7, 8, 1, 2, 3, 4, 5, 7, 8, 1, 2, 4, 1, 2, 3, 4, 8, 1, 2, 3, 4, 6, 1, 3, 6, 1, 2, 3, 4, 5, 6, 7, 8, 1, 4, 5, 6, 2, 4, 5, 7, 1, 2, 3, 4, 5, 6, 7, 8, 1, 2, 3, 4, 5, 6, 7, 8, 6, 2, 8, 2, 2, 4, 5, 2, 4, 1, 5, 1, 2, 3, 4, 5, 6, 7, 8, 1, 2, 2, 1, 2, 6, 7, 8, 1, 2, 3, 6, 7, 8, 6, 8, 6, 8, 5, 3, 2, 4, 2, 1, 2, 4, 6, 7, 8, 1, 1, 5, 8, 1, 3, 4, 5, 6, 7, 8, 1, 2, 3, 6, 6, 1, 2, 3, 4, 6, 3, 1, 1, 5, 3, 1, 2, 3, 4, 5, 6, 7, 8, 4, 5, 5, 8, 3, 7, 4, 2, 5, 8, 1, 2, 3, 4, 5, 6, 7, 1, 2, 3, 4, 5, 7, 8, 1, 2, 3, 4, 5, 6, 7, 8, 8, 2, 5, 7, 7, 2, 4, 5, 6, 8, 8, 6, 8, 8, 1, 8, 1, 3, 5, 8, 3, 1, 6, 1, 3, 6, 2, 3, 7, 8, 8, 2, 5, 6, 8, 1, 2, 6, 8, 5, 1, 2, 3, 4, 5, 6, 8, 5, 8, 1, 2, 4, 5, 8, 3, 5, 7, 4, 1, 7, 8, 5, 5, 6, 8, 2, 1, 2, 3, 7, 8, 2, 3, 6, 3, 4, 1, 2, 3, 4, 5, 6, 8, 2, 3, 4, 6, 7, 6, 1, 4, 5, 6, 7, 4, 1, 3, 4, 5, 1, 2, 3, 4, 5, 6, 7, 7, 4, 8, 4, 1, 2, 3, 4, 5, 6, 7, 8, 1, 3, 6, 1, 3, 6, 8, 1, 2, 8, 1, 2, 3, 7, 6, 2, 6, 1, 4, 8, 1, 2, 7, 8, 5, 7, 1, 3, 4, 7, 8, 7, 5, 5, 2, 4, 5, 6, 6, 5, 1, 2, 3, 4, 5, 6, 7, 8, 1, 3, 4, 1, 3, 4, 5, 1, 2, 5, 7, 8, 1, 2, 3, 5, 7, 1, 2, 3, 2, 7, 1, 8, 1, 5, 6, 7, 7, 1, 3, 8, 8, 1, 2, 3, 4, 5, 6, 7, 2, 3, 3, 6, 7, 2, 1, 8, 8, 4, 3, 7, 3, 7, 2, 3, 1, 2, 7, 8, 7, 2, 3, 7, 7, 1, 2, 3, 4, 5, 6, 7, 8, 1, 2, 3, 4, 5, 6, 7, 8, 7, 1, 3, 4, 5, 8, 8, 5, 1, 2, 4, 5, 1, 2, 3, 4, 5, 6, 1, 2, 4, 2, 4, 1, 6, 8, 1, 3, 5, 6, 7, 5, 5, 2, 3, 5, 6, 1, 2, 3, 4, 5, 7, 8, 6, 8, 8, 4, 8, 6, 7, 1, 2, 3, 4, 5, 6, 7, 7, 5, 7, 1, 2, 3, 4, 6, 7, 8, 1, 2, 3, 4, 5, 6, 7, 1, 2, 3, 4, 5, 6, 8, 1, 3, 4, 6, 6, 8, 8, 1, 2, 6, 7, 8, 1, 4, 8, 8, 8, 1, 2, 3, 4, 1, 4, 8, 1, 2, 3, 6, 7, 8, 1, 5, 8, 6, 8, 3, 4, 7, 1, 5, 6, 1, 2, 4, 2, 1, 2, 4, 6, 8, 8, 1, 3, 4, 6, 7, 8, 2, 1, 2, 3, 4, 5, 6, 7, 8, 6, 5, 1, 2, 3, 4, 5, 6, 7, 8, 5, 5, 7, 7, 7, 1, 2, 3, 6, 8, 5, 2, 3, 1, 7, 1, 3, 8, 8, 2, 5, 6, 6, 1, 5, 7, 5, 1, 3, 4, 6, 1, 2, 3, 4, 5, 6, 7, 8, 2, 4, 1, 2, 1, 2, 3, 4, 5, 6, 7, 8, 4, 6, 7, 4, 1, 2, 3, 4, 1, 2, 3, 4, 5, 6, 7, 8, 1, 2, 3, 5, 6, 8, 7, 1, 2, 3, 4, 5, 6, 7, 8, 1, 2, 3, 4, 5, 6, 7, 8, 8, 1, 2, 3, 4, 6, 7, 4, 2, 4, 2, 2, 3, 4, 7, 1, 2, 3, 4, 5, 6, 7, 8, 2, 3, 4, 5, 6, 7, 2, 3, 5, 8, 2, 5, 5, 1, 2, 5, 6, 8, 2, 8, 1, 4, 8, 1, 4, 3, 3, 5, 7, 8, 8, 5, 8, 7, 7, 8, 1, 2, 3, 7, 8, 8, 6, 3, 4, 5, 6, 4, 8, 2, 1, 1, 5, 7, 1, 2, 3, 4, 5, 7, 8, 6, 5, 1, 3, 1, 4, 8, 3, 6, 7, 1, 4, 5, 7, 1, 2, 3, 6, 8, 1, 2, 3, 5, 6, 7, 8, 2, 3, 6, 7, 5, 3], \"Freq\": [0.8262186463568767, 0.09775395854721006, 0.19550791709442011, 0.39101583418884023, 0.09775395854721006, 0.2932618756416302, 0.7297482257234256, 0.15433192116344127, 0.6687716583749121, 0.10288794744229418, 0.05144397372114709, 0.741540200403699, 0.7297482257234256, 0.8326935401078536, 0.6545694449926047, 0.20760942664645424, 0.6228282799393627, 0.8326934147054276, 0.8715339416761843, 0.8139052773414883, 0.8734966574730157, 0.10735061182870456, 0.2683765295717614, 0.16102591774305683, 0.05367530591435228, 0.1341882647858807, 0.16102591774305683, 0.08051295887152841, 0.02683765295717614, 0.4195658848478062, 0.0899069753245299, 0.19479844653648146, 0.16482945476163816, 0.07492247943710825, 0.01498449588742165, 0.0299689917748433, 0.01498449588742165, 0.8353992833612573, 0.8262186463568767, 0.6545694449926047, 0.785085963398492, 0.8326928703602942, 0.3640466999871987, 0.14561867999487949, 0.21842801999231923, 0.07280933999743974, 0.07280933999743974, 0.03640466999871987, 0.03640466999871987, 0.03640466999871987, 0.7297482257234256, 0.7297482257234256, 0.22992557076541828, 0.22992557076541828, 0.402369748839482, 0.11496278538270914, 0.8690660441907901, 0.8326935401078536, 0.7062439156381263, 0.4671568902849474, 0.7489017897665715, 0.1497803579533143, 0.8326935401078536, 0.46715692828580085, 0.7297482257234256, 0.8734966574730157, 0.9022439886106708, 0.8734966574730157, 0.1259088572469656, 0.2937873335762531, 0.16787847632928748, 0.2518177144939312, 0.04196961908232187, 0.04196961908232187, 0.08393923816464374, 0.04196961908232187, 0.47505473749765814, 0.6349409196792101, 0.7297482257234256, 0.7080699373870533, 0.11801165623117554, 0.2360233124623511, 0.8897820611983376, 0.2018079328875889, 0.6054237986627666, 0.8898151124809853, 0.7297482257234256, 0.8393470783534873, 0.11990672547906962, 0.6899718452891963, 0.3504106577278304, 0.3504106577278304, 0.7297482257234256, 0.7198123786496737, 0.4750546292244313, 0.8792750929555203, 0.09769723255061337, 0.09448512258295201, 0.09448512258295201, 0.5669107354977121, 0.18897024516590402, 0.09448512258295201, 0.6545694449926047, 0.7347046920006749, 0.9022439886106708, 0.5043854603605447, 0.4990212881241128, 0.0623776610155141, 0.21832181355429936, 0.0623776610155141, 0.0623776610155141, 0.03118883050775705, 0.03118883050775705, 0.7297482257234256, 0.8262186463568767, 0.30950315037657417, 0.30950315037657417, 0.13755695572292184, 0.1719461946536523, 0.03438923893073046, 0.03438923893073046, 0.03438923893073046, 0.8734966574730157, 0.27692525596011963, 0.5538505119202393, 0.13846262798005982, 0.7415412086816906, 0.8734966574730157, 0.3842519191437345, 0.5379526868012283, 0.07685038382874691, 0.8171776700778204, 0.07820320521328951, 0.07820320521328951, 0.5865240390996712, 0.07820320521328951, 0.11730480781993426, 0.039101602606644754, 0.6349409196792101, 0.9305953960250183, 0.5090229222166635, 0.04241857685138862, 0.12725573055416586, 0.08483715370277724, 0.08483715370277724, 0.12725573055416586, 0.04241857685138862, 0.7297482257234256, 0.4913896389174049, 0.09827792778348098, 0.1719863736210917, 0.07370844583761073, 0.04913896389174049, 0.024569481945870244, 0.07370844583761073, 0.6899718452891963, 0.5898353523303931, 0.29491767616519654, 0.4750546292244313, 0.6985480313725582, 0.6349409196792101, 0.7297482257234256, 0.7297482257234256, 0.8897860630758383, 0.7297482257234256, 0.5247526923064783, 0.0874587820510797, 0.0874587820510797, 0.1749175641021594, 0.0874587820510797, 0.0874587820510797, 0.7297482257234256, 0.6899718452891963, 0.7415399474947226, 0.8734966574730157, 0.9545638455774755, 0.20467539360874024, 0.6140261808262207, 0.10233769680437012, 0.12810987892929868, 0.17935383050101814, 0.1537318547151584, 0.10248790314343893, 0.384329636787896, 0.025621975785859733, 0.025621975785859733, 0.19519868116620187, 0.7807947246648075, 0.8139052773414883, 0.29039797755952446, 0.3042264526814066, 0.1797701765844675, 0.06914237560941058, 0.12445627609693904, 0.041485425365646346, 0.19844007642290734, 0.7937603056916294, 0.34833308476271135, 0.34833308476271135, 0.7707467063918325, 0.8734966574730157, 0.7415410572842311, 0.8734966574730157, 0.8326936655103171, 0.47505473749765814, 0.9427736392145882, 0.14845129248200514, 0.11133846936150386, 0.22267693872300773, 0.07422564624100257, 0.37112823120501287, 0.037112823120501286, 0.037112823120501286, 0.12004601393641713, 0.32012270383044567, 0.08003067595761142, 0.12004601393641713, 0.20007668989402855, 0.08003067595761142, 0.08003067595761142, 0.04001533797880571, 0.10550773533972282, 0.10550773533972282, 0.7033849022648189, 0.035169245113240946, 0.035169245113240946, 0.7061148262079616, 0.1765287065519904, 0.2689946986999443, 0.6724867467498608, 0.41069728103269243, 0.6160459215490386, 0.9225178585489875, 0.28172560846421635, 0.5634512169284327, 0.14086280423210817, 0.6985480313725582, 0.3043065608601461, 0.6086131217202922, 0.6985480313725582, 0.14394112930154104, 0.14394112930154104, 0.5757645172061642, 0.46715692828580085, 0.46715692828580085, 0.7297482257234256, 0.35535480616087345, 0.35535480616087345, 0.604371537798256, 0.10072858963304268, 0.10072858963304268, 0.10072858963304268, 0.10072858963304268, 0.6985480313725582, 0.46715692828580085, 0.6985480313725582, 0.6985480313725582, 0.15691096249940412, 0.7845548124970205, 0.14011160230776132, 0.3736309394873635, 0.14011160230776132, 0.28022320461552264, 0.09340773487184087, 0.2661678067569837, 0.21293424540558697, 0.15970068405419025, 0.2661678067569837, 0.053233561351396744, 0.45699008123792817, 0.13709702437137847, 0.22849504061896408, 0.09139801624758563, 0.045699008123792816, 0.4750546292244313, 0.8897869019193227, 0.7029120574252115, 0.07029120574252115, 0.1405824114850423, 0.07029120574252115, 0.9058511862968365, 0.526600149622245, 0.05266001496222449, 0.315960089773347, 0.05266001496222449, 0.05266001496222449, 0.7345311961631552, 0.14690623923263105, 0.7335169760813789, 0.1467033952162758, 0.9430182797145011, 0.6985480313725582, 0.34455424399544454, 0.34455424399544454, 0.9445709693688868, 0.6207857693514417, 0.13795239318920927, 0.10346429489190695, 0.034488098297302316, 0.10346429489190695, 0.034488098297302316, 0.6738683688103076, 0.1684670922025769, 0.5043854603605447, 0.6985480313725582, 0.046359438510708645, 0.09271887702141729, 0.8344698931927556, 0.6985480313725582, 0.8734966574730157, 0.6349409196792101, 0.2738931601860349, 0.2738931601860349, 0.2738931601860349, 0.8715342626219698, 0.46715692828580085, 0.8734966574730157, 0.1328570832424952, 0.2657141664849904, 0.09964281243187141, 0.0664285416212476, 0.0664285416212476, 0.0332142708106238, 0.0332142708106238, 0.332142708106238, 0.088881527433175, 0.266644582299525, 0.088881527433175, 0.53328916459905, 0.13901857367319545, 0.48656500785618406, 0.06950928683659773, 0.13901857367319545, 0.06950928683659773, 0.06950928683659773, 0.7297482257234256, 0.6985480313725582, 0.7297482257234256, 0.8326935401078536, 0.8326935401078536, 0.6440665538829121, 0.214688851294304, 0.7297482257234256, 0.6899718452891963, 0.3402633368761674, 0.5103950053142511, 0.1701316684380837, 0.7297482257234256, 0.1576537659029632, 0.05255125530098773, 0.21020502120395093, 0.26275627650493866, 0.10510251060197547, 0.05255125530098773, 0.1576537659029632, 0.9225178585489875, 0.2334657257286194, 0.7003971771858581, 0.6899718452891963, 0.8897811153406725, 0.5806935056212307, 0.29034675281061534, 0.7600367496114908, 0.7297482257234256, 0.20226591445251446, 0.3178464369968084, 0.17337078381644097, 0.05779026127214699, 0.05779026127214699, 0.11558052254429398, 0.08668539190822049, 0.028895130636073494, 0.6985480313725582, 0.8897811567635308, 0.5806935301593134, 0.2903467650796567, 0.8897812081746909, 0.8897811153406725, 0.1997357519540598, 0.5992072558621794, 0.1997357519540598, 0.785085963398492, 0.8326936655103171, 0.40578574141592744, 0.10144643535398186, 0.20289287070796372, 0.10144643535398186, 0.10144643535398186, 0.10144643535398186, 0.2138211262454236, 0.1069105631227118, 0.2138211262454236, 0.0534552815613559, 0.2672764078067795, 0.1603658446840677, 0.0534552815613559, 0.09584654809618977, 0.09584654809618977, 0.7667723847695181, 0.2615454530036955, 0.2615454530036955, 0.21795454416974627, 0.2615454530036955, 0.043590908833949255, 0.20359778181608293, 0.1526983363620622, 0.3053966727241244, 0.25449722727010365, 0.05089944545402073, 0.7168906438989615, 0.11948177398316026, 0.11948177398316026, 0.1896265966213189, 0.06320886554043963, 0.06320886554043963, 0.12641773108087925, 0.12641773108087925, 0.2528354621617585, 0.06320886554043963, 0.06320886554043963, 0.25340598374817846, 0.12670299187408923, 0.6335149593704461, 0.6899718452891963, 0.10172303575461203, 0.20344607150922406, 0.4068921430184481, 0.20344607150922406, 0.3012364527496786, 0.10631874802929833, 0.2657968700732458, 0.053159374014649166, 0.12403853936751472, 0.035439582676432775, 0.035439582676432775, 0.07087916535286555, 0.11281875465009751, 0.056409377325048755, 0.5640937732504876, 0.028204688662524378, 0.16922813197514627, 0.028204688662524378, 0.028204688662524378, 0.7297482257234256, 0.6899718452891963, 0.9225178243265747, 0.7297482257234256, 0.8262186463568767, 0.8949764343321301, 0.03196344408329036, 0.06392688816658072, 0.9225178243265747, 0.6349409196792101, 0.21310958771293462, 0.6393287631388038, 0.3196949333429786, 0.18268281905313064, 0.09134140952656532, 0.09134140952656532, 0.09134140952656532, 0.04567070476328266, 0.09134140952656532, 0.09134140952656532, 0.9427765502625822, 0.9225178243265747, 0.734704893663167, 0.31702181124641476, 0.4075994716025333, 0.09057766035611851, 0.13586649053417776, 0.04528883017805926, 0.17853685727854587, 0.05951228575951529, 0.05951228575951529, 0.05951228575951529, 0.05951228575951529, 0.5951228575951529, 0.3632554835153171, 0.3632554835153171, 0.46715692828580085, 0.7297482257234256, 0.8734966574730157, 0.8217738672009945, 0.9225178243265747, 0.9022439886106708, 0.8262187777069256, 0.09522299185352848, 0.09522299185352848, 0.19044598370705695, 0.09522299185352848, 0.2856689755605854, 0.2856689755605854, 0.9427745716749555, 0.18308033738253576, 0.823861518221411, 0.7297482257234256, 0.2817217325902601, 0.18781448839350676, 0.18781448839350676, 0.14086086629513006, 0.04695362209837669, 0.14086086629513006, 0.5043854603605447, 0.24005515758200946, 0.6401470868853586, 0.16003677172133965, 0.6899718452891963, 0.6899718452891963, 0.11276747822582962, 0.18794579704304937, 0.300713275268879, 0.11276747822582962, 0.300713275268879, 0.9305951510532084, 0.942792877558464, 0.21310954923359798, 0.6393286477007939, 0.8326936655103171, 0.2889040920088259, 0.14445204600441294, 0.14445204600441294, 0.07222602300220647, 0.14445204600441294, 0.07222602300220647, 0.07222602300220647, 0.14445204600441294, 0.7592926478081831, 0.1265487746346972, 0.8720235884241916, 0.7297482257234256, 0.4522549243590989, 0.4522549243590989, 0.840772139256176, 0.23855070934871622, 0.23855070934871622, 0.47710141869743244, 0.3565334426975487, 0.13370004101158078, 0.13370004101158078, 0.13370004101158078, 0.08913336067438718, 0.04456668033719359, 0.08913336067438718, 0.1860707851733136, 0.2791061777599704, 0.1860707851733136, 0.0465176962933284, 0.0465176962933284, 0.1395530888799852, 0.1395530888799852, 0.17149558233157886, 0.10718473895723679, 0.06431084337434208, 0.042873895582894714, 0.17149558233157886, 0.021436947791447357, 0.19293253012302622, 0.21436947791447358, 0.7297482257234256, 0.25728466343093065, 0.5145693268618613, 0.4750546292244313, 0.6985480313725582, 0.27797451994663286, 0.0926581733155443, 0.46329086657772145, 0.0926581733155443, 0.7297482257234256, 0.7297482257234256, 0.3632554835153171, 0.3632554835153171, 0.7297482257234256, 0.8897812081746909, 0.7297482257234256, 0.18134625801638798, 0.18134625801638798, 0.544038774049164, 0.7297482257234256, 0.8326936655103171, 0.11706914749815978, 0.8194840324871184, 0.16927628664476008, 0.16927628664476008, 0.6771051465790403, 0.1982565495805735, 0.1982565495805735, 0.396513099161147, 0.1982565495805735, 0.7297482257234256, 0.06717949867058598, 0.03358974933529299, 0.2687179946823439, 0.6382052373705668, 0.0868977982333525, 0.0868977982333525, 0.34759119293341, 0.43448899116676254, 0.8734966574730157, 0.2116747094478664, 0.29634459322701295, 0.1693397675582931, 0.08466988377914655, 0.2116747094478664, 0.04233494188957328, 0.7707467063918325, 0.8734966574730157, 0.7297482257234256, 0.17979070180731863, 0.11986046787154575, 0.479441871486183, 0.17979070180731863, 0.059930233935772875, 0.21537199931256074, 0.6461159979376822, 0.8690660441907901, 0.6349409196792101, 0.8353992833612573, 0.6985480313725582, 0.5043854603605447, 0.6545694449926047, 0.8734966574730157, 0.7062439156381263, 0.7297482257234256, 0.8701888929961773, 0.18937258513588634, 0.18937258513588634, 0.44186936531706816, 0.06312419504529546, 0.06312419504529546, 0.16285550304155855, 0.7165642133828577, 0.09771330182493514, 0.8326936655103171, 0.8430887822509159, 0.15114291340866468, 0.07557145670433234, 0.1133571850564985, 0.6045716536346587, 0.03778572835216617, 0.03778572835216617, 0.7297482257234256, 0.20822797018083308, 0.10411398509041654, 0.20822797018083308, 0.20822797018083308, 0.31234195527124964, 0.6899718452891963, 0.1693757912640251, 0.1693757912640251, 0.1693757912640251, 0.1693757912640251, 0.3387515825280502, 0.7600365727178541, 0.3839144552078508, 0.2792105128784369, 0.03490131410980461, 0.3141118269882415, 0.229593186486799, 0.05739829662169975, 0.4017880763518982, 0.05739829662169975, 0.05739829662169975, 0.05739829662169975, 0.17219488986509923, 0.7198123786496737, 0.6349409196792101, 0.7297482257234256, 0.7600366906469361, 0.30596786015911775, 0.17483877723378158, 0.13112908292533618, 0.13112908292533618, 0.043709694308445395, 0.06556454146266809, 0.10927423577111349, 0.06556454146266809, 0.22099656346405983, 0.22099656346405983, 0.44199312692811965, 0.15171757913422418, 0.22757636870133627, 0.6068703165368967, 0.07585878956711209, 0.2713634314008907, 0.2713634314008907, 0.2713634314008907, 0.151900468226773, 0.151900468226773, 0.607601872907092, 0.6985480313725582, 0.8515092092530991, 0.9225178585489875, 0.46715692828580085, 0.6766730167875283, 0.16916825419688208, 0.7297482257234256, 0.1963378437263854, 0.1963378437263854, 0.3926756874527708, 0.1963378437263854, 0.8734966574730157, 0.6985480313725582, 0.10697873521061672, 0.21395747042123345, 0.5348936760530836, 0.10697873521061672, 0.10697873521061672, 0.6985480313725582, 0.6545694449926047, 0.8734966574730157, 0.6249822281345165, 0.1249964456269033, 0.1249964456269033, 0.1249964456269033, 0.6899718452891963, 0.8734966574730157, 0.1682255964512837, 0.1682255964512837, 0.05607519881709457, 0.11215039763418914, 0.3364511929025674, 0.11215039763418914, 0.05607519881709457, 0.7297482257234256, 0.13590876759709164, 0.6795438379854581, 0.13590876759709164, 0.1140718874216642, 0.1140718874216642, 0.5703594371083209, 0.2281437748433284, 0.14844247631935129, 0.5937699052774051, 0.14844247631935129, 0.07422123815967564, 0.07422123815967564, 0.15994936221855133, 0.15994936221855133, 0.3732151785099531, 0.05331645407285045, 0.2665822703642522, 0.2018802366701839, 0.10094011833509195, 0.7065808283456437, 0.9225178243265747, 0.6985480313725582, 0.8393481005042277, 0.11990687150060396, 0.6994020070018784, 0.0874252508752348, 0.1748505017504696, 0.6985480313725582, 0.47505473749765814, 0.37685479205527755, 0.5652821880829163, 0.09421369801381939, 0.7297482257234256, 0.20533581678356064, 0.12320149007013638, 0.04106716335671213, 0.2874701434969849, 0.08213432671342426, 0.04106716335671213, 0.12320149007013638, 0.17547481986267346, 0.7018992794506939, 0.20068505302251657, 0.20068505302251657, 0.40137010604503315, 0.9224809923851073, 0.8898151124809853, 0.7297482257234256, 0.7297482257234256, 0.6349409196792101, 0.7415410760812849, 0.6985480313725582, 0.8326936655103171, 0.6985480313725582, 0.9225178243265747, 0.8326935401078536, 0.1515600607177169, 0.3031201214354338, 0.45468018215315076, 0.1515600607177169, 0.47505473749765814, 0.7347049383040302, 0.7697800286963928, 0.2565933428987976, 0.7198123786496737, 0.23909177551225677, 0.1514247911577626, 0.19924314626021397, 0.1753339687089883, 0.10360643605531127, 0.06375780680326847, 0.023909177551225676, 0.03187890340163423, 0.5830856582154844, 0.08329795117364062, 0.09995754140836875, 0.08329795117364062, 0.033319180469456255, 0.016659590234728128, 0.049978770704184376, 0.049978770704184376, 0.6985480313725582, 0.657915158912972, 0.15480356680305224, 0.07740178340152612, 0.03870089170076306, 0.03870089170076306, 0.5043854603605447, 0.8734966574730157, 0.08242316256924175, 0.329692650276967, 0.49453897541545044, 0.08242316256924175, 0.6390522128511309, 0.08520696171348412, 0.04260348085674206, 0.08520696171348412, 0.08520696171348412, 0.04260348085674206, 0.10377681414586824, 0.10377681414586824, 0.7264376990210777, 0.11409169597202107, 0.7986418718041475, 0.28208206825648235, 0.28208206825648235, 0.28208206825648235, 0.0866896798655568, 0.433448399327784, 0.1733793597311136, 0.2600690395966704, 0.0866896798655568, 0.8734966574730157, 0.8720235884241916, 0.2329727602948309, 0.2329727602948309, 0.4659455205896618, 0.11648638014741546, 0.2748780777442998, 0.1832520518295332, 0.21379406046778873, 0.0916260259147666, 0.0916260259147666, 0.030542008638255534, 0.0916260259147666, 0.6899718452891963, 0.7297482257234256, 0.7297482257234256, 0.3597264862724315, 0.3597264862724315, 0.4671568902849474, 0.47505473749765814, 0.09030616689388875, 0.03870264295452375, 0.5934405253026974, 0.0258017619696825, 0.14190969083325375, 0.10320704787873, 0.01290088098484125, 0.6985480313725582, 0.4013187107998106, 0.6019780661997158, 0.3333327151233918, 0.09090892230637959, 0.3333327151233918, 0.06060594820425306, 0.09090892230637959, 0.03030297410212653, 0.03030297410212653, 0.3775862514719184, 0.2614058664036358, 0.14522548133535323, 0.08713528880121194, 0.029045096267070646, 0.029045096267070646, 0.08713528880121194, 0.5252586615958386, 0.11672414702129745, 0.058362073510648725, 0.11672414702129745, 0.058362073510648725, 0.058362073510648725, 0.058362073510648725, 0.4166346258854683, 0.24998077553128098, 0.08332692517709366, 0.24998077553128098, 0.6899718452891963, 0.7297482257234256, 0.7297482257234256, 0.10050283372037605, 0.10050283372037605, 0.6030170023222563, 0.10050283372037605, 0.10050283372037605, 0.148977010987487, 0.148977010987487, 0.595908043949948, 0.7297482257234256, 0.7297482257234256, 0.3633277632155917, 0.3633277632155917, 0.20761586469462381, 0.051903966173655953, 0.2724290407375499, 0.2724290407375499, 0.40864356110632494, 0.23937008144092053, 0.47874016288184107, 0.11968504072046027, 0.059842520360230134, 0.059842520360230134, 0.059842520360230134, 0.2762745178619414, 0.2762745178619414, 0.2762745178619414, 0.6899718452891963, 0.7297482257234256, 0.17965076605925603, 0.7186030642370241, 0.6985480313725582, 0.17089903945623633, 0.17089903945623633, 0.6835961578249453, 0.17280856576993145, 0.6912342630797258, 0.6349398832620451, 0.8701890098391485, 0.19371986942232416, 0.14528990206674314, 0.5327296409113915, 0.04842996735558104, 0.04842996735558104, 0.7297482257234256, 0.05075437576811617, 0.05075437576811617, 0.05075437576811617, 0.2030175030724647, 0.05075437576811617, 0.6090525092173941, 0.8262187777069256, 0.058394846851500495, 0.058394846851500495, 0.46715877481200396, 0.058394846851500495, 0.11678969370300099, 0.058394846851500495, 0.058394846851500495, 0.058394846851500495, 0.7062439156381263, 0.8734966574730157, 0.4482331622118329, 0.06895894803258967, 0.03447947401629484, 0.06895894803258967, 0.17239737008147418, 0.03447947401629484, 0.20687684409776902, 0.03447947401629484, 0.915007619424548, 0.7938717868425467, 0.1323119644737578, 0.4750546292244313, 0.6985480313725582, 0.09231159632698217, 0.13846739449047327, 0.6000253761253841, 0.09231159632698217, 0.04615579816349109, 0.8734966574730157, 0.9225178243265747, 0.8326936655103171, 0.23131203307385773, 0.6939360992215732, 0.26911445042164567, 0.6727861260541141, 0.7297482257234256, 0.7297482257234256, 0.6941603417705617, 0.13883206835411235, 0.13883206835411235, 0.46715692828580085, 0.21310961074061419, 0.6393288322218426, 0.47505473749765814, 0.7850861196587974, 0.7821790006096369, 0.6637001376646465, 0.18962861076132756, 0.7062439156381263, 0.2869785097100073, 0.18569197687118122, 0.20257306567765224, 0.15192979925823916, 0.0844054440323551, 0.06752435522588407, 0.016881088806471017, 0.016881088806471017, 0.9225178243265747, 0.8430887822509159, 0.20183845789046592, 0.6055153736713977, 0.16331287514496062, 0.24496931271744093, 0.16331287514496062, 0.08165643757248031, 0.16331287514496062, 0.12248465635872047, 0.040828218786240156, 0.040828218786240156, 0.2324153447831048, 0.4648306895662096, 0.2324153447831048, 0.8430887822509159, 0.2412325721429561, 0.36184885821443413, 0.30154071517869513, 0.12061628607147805, 0.27063566981568393, 0.13531783490784197, 0.16238140188941036, 0.16238140188941036, 0.027063566981568393, 0.10825426792627357, 0.10825426792627357, 0.027063566981568393, 0.37098490228549563, 0.18549245114274782, 0.13911933835706086, 0.09274622557137391, 0.2318655639284348, 0.7297482257234256, 0.6985480313725582, 0.1702433924826422, 0.39723458245949844, 0.11349559498842814, 0.11349559498842814, 0.11349559498842814, 0.05674779749421407, 0.05674779749421407, 0.7297482257234256, 0.09926222324246174, 0.39704889296984697, 0.19852444648492348, 0.04963111162123087, 0.14889333486369263, 0.04963111162123087, 0.04963111162123087, 0.7297482257234256, 0.7297482257234256, 0.3138371396422783, 0.06974158658717296, 0.06974158658717296, 0.3835787262294512, 0.03487079329358648, 0.13948317317434591, 0.6349409196792101, 0.896704307336542, 0.08967043073365422, 0.8139052773414883, 0.10939963068319472, 0.3281988920495842, 0.21879926136638944, 0.3281988920495842, 0.19818033775536828, 0.24772542219421034, 0.04954508443884207, 0.1486352533165262, 0.09909016887768414, 0.1486352533165262, 0.09909016887768414, 0.04954508443884207, 0.2134653178534202, 0.07115510595114007, 0.2134653178534202, 0.3557755297557003, 0.07115510595114007, 0.07115510595114007, 0.4493385507744192, 0.1497795169248064, 0.1497795169248064, 0.2995590338496128, 0.25728466343093065, 0.5145693268618613, 0.8734966574730157, 0.43275286255638123, 0.1731011450225525, 0.08655057251127625, 0.08655057251127625, 0.25965171753382876, 0.8139052773414883, 0.7297482257234256, 0.7839411579127159, 0.13065685965211932, 0.7297482257234256, 0.8897811153406725, 0.6349409196792101, 0.9305977467957647, 0.1531636089814295, 0.3829090224535738, 0.4594908269442885, 0.7297482257234256, 0.7297482257234256, 0.9340860481465936, 0.7297482257234256, 0.7198123786496737, 0.4750546292244313, 0.7297482257234256, 0.09223591292637086, 0.5534154775582252, 0.09223591292637086, 0.09223591292637086, 0.09223591292637086, 0.7297482257234256, 0.46715692828580085, 0.24173849057754895, 0.4834769811550979, 0.16115899371836598, 0.16115899371836598, 0.6349409196792101, 0.7297482257234256, 0.7347046920006749, 0.8897811153406725, 0.7871794402293424, 0.13119657337155705, 0.47505473749765814, 0.2771066575979616, 0.11084266303918465, 0.16626399455877697, 0.11084266303918465, 0.16626399455877697, 0.16626399455877697, 0.055421331519592325, 0.46715692828580085, 0.8734966574730157, 0.8897812081746909, 0.8326922227750785, 0.8897813169596199, 0.6349409196792101, 0.7297482257234256, 0.23300972626189015, 0.23300972626189015, 0.4660194525237803, 0.7383288547242046, 0.09229110684052558, 0.09229110684052558, 0.09229110684052558, 0.1653186695679448, 0.1653186695679448, 0.1653186695679448, 0.4959560087038344, 0.7297482257234256, 0.16807894518735578, 0.39218420543716354, 0.05602631506245193, 0.11205263012490387, 0.11205263012490387, 0.11205263012490387, 0.05602631506245193, 0.4021955416252398, 0.1340651805417466, 0.1340651805417466, 0.4021955416252398, 0.8734966574730157, 0.8326936655103171], \"Term\": [\"academy\", \"accountability\", \"accountability\", \"accountability\", \"accountability\", \"accountability\", \"adjusting\", \"administration\", \"administration\", \"administration\", \"administration\", \"administrative\", \"advancing\", \"africa\", \"againstcorruption\", \"agency\", \"agency\", \"aging\", \"aid\", \"alcohol\", \"alina\", \"also\", \"also\", \"also\", \"also\", \"also\", \"also\", \"also\", \"also\", \"analysis\", \"analysis\", \"analysis\", \"analysis\", \"analysis\", \"analysis\", \"analysis\", \"analysis\", \"angeles\", \"annals\", \"anti\", \"anticorruption\", \"appointment\", \"approach\", \"approach\", \"approach\", \"approach\", \"approach\", \"approach\", \"approach\", \"approach\", \"appropriately\", \"appropriateness\", \"area\", \"area\", \"area\", \"area\", \"arxiv\", \"asean\", \"asylum\", \"australia\", \"author\", \"author\", \"authoritarian\", \"awarded\", \"backlash\", \"backslide\", \"balancing\", \"barometer\", \"based\", \"based\", \"based\", \"based\", \"based\", \"based\", \"based\", \"based\", \"bath\", \"battery\", \"beginning\", \"behavior\", \"behavior\", \"behavior\", \"believe\", \"berlin\", \"berlin\", \"beyond\", \"biotechnology\", \"bit\", \"bit\", \"blavatnik\", \"board\", \"board\", \"brics\", \"brussels\", \"bureaucrat\", \"cambridge\", \"cambridge\", \"capacity\", \"capacity\", \"capacity\", \"capacity\", \"capacity\", \"capstone\", \"car\", \"carbon\", \"carry\", \"case\", \"case\", \"case\", \"case\", \"case\", \"case\", \"case\", \"catalyst\", \"category\", \"change\", \"change\", \"change\", \"change\", \"change\", \"change\", \"change\", \"changed\", \"china\", \"china\", \"china\", \"chinese\", \"cipe\", \"city\", \"city\", \"city\", \"client\", \"climate\", \"climate\", \"climate\", \"climate\", \"climate\", \"climate\", \"coal\", \"collaborative\", \"colloquium\", \"colloquium\", \"colloquium\", \"colloquium\", \"colloquium\", \"colloquium\", \"colloquium\", \"combat\", \"comparative\", \"comparative\", \"comparative\", \"comparative\", \"comparative\", \"comparative\", \"comparative\", \"compensation\", \"concerning\", \"concerning\", \"conference\", \"confirming\", \"congestion\", \"constituting\", \"constraining\", \"contact\", \"contestation\", \"context\", \"context\", \"context\", \"context\", \"context\", \"context\", \"convention\", \"cooperative\", \"coordination\", \"coronavirus\", \"corporate\", \"corruption\", \"corruption\", \"corruption\", \"country\", \"country\", \"country\", \"country\", \"country\", \"country\", \"country\", \"court\", \"court\", \"crime\", \"data\", \"data\", \"data\", \"data\", \"data\", \"data\", \"database\", \"database\", \"dataset\", \"dataset\", \"dawson\", \"deeper\", \"delivery\", \"democratisation\", \"den\", \"deriving\", \"designing\", \"development\", \"development\", \"development\", \"development\", \"development\", \"development\", \"development\", \"different\", \"different\", \"different\", \"different\", \"different\", \"different\", \"different\", \"different\", \"digital\", \"digital\", \"digital\", \"digital\", \"digital\", \"digitalisation\", \"digitalisation\", \"digitalization\", \"digitalization\", \"dimension\", \"dimension\", \"diplomatic\", \"discourse\", \"discourse\", \"discourse\", \"discovering\", \"displacement\", \"displacement\", \"disproving\", \"dissertation\", \"dissertation\", \"dissertation\", \"doctoral\", \"doctrinal\", \"domestically\", \"done\", \"done\", \"draft\", \"draft\", \"draft\", \"draft\", \"draft\", \"drawing\", \"dublin\", \"earlier\", \"ecology\", \"econometrics\", \"econometrics\", \"economic\", \"economic\", \"economic\", \"economic\", \"economic\", \"economics\", \"economics\", \"economics\", \"economics\", \"economics\", \"economy\", \"economy\", \"economy\", \"economy\", \"economy\", \"ecpr\", \"edition\", \"education\", \"education\", \"education\", \"education\", \"educational\", \"effect\", \"effect\", \"effect\", \"effect\", \"effect\", \"election\", \"election\", \"electoral\", \"electoral\", \"electricity\", \"embeddings\", \"emergence\", \"emergence\", \"emission\", \"empirical\", \"empirical\", \"empirical\", \"empirical\", \"empirical\", \"empirical\", \"employment\", \"employment\", \"emu\", \"endeavour\", \"energy\", \"energy\", \"energy\", \"engineering\", \"enlarge\", \"environment\", \"environmental\", \"environmental\", \"environmental\", \"ercas\", \"essay\", \"europam\", \"european\", \"european\", \"european\", \"european\", \"european\", \"european\", \"european\", \"european\", \"evaluation\", \"evaluation\", \"evaluation\", \"evaluation\", \"evidence\", \"evidence\", \"evidence\", \"evidence\", \"evidence\", \"evidence\", \"exception\", \"explicitly\", \"exporting\", \"facebook\", \"fake\", \"family\", \"family\", \"feasibility\", \"february\", \"fellow\", \"fellow\", \"fellow\", \"feminist\", \"field\", \"field\", \"field\", \"field\", \"field\", \"field\", \"field\", \"filing\", \"financing\", \"financing\", \"finland\", \"firm\", \"fiscal\", \"fiscal\", \"flexibility\", \"florence\", \"focus\", \"focus\", \"focus\", \"focus\", \"focus\", \"focus\", \"focus\", \"focus\", \"focused\", \"food\", \"forced\", \"forced\", \"forecasting\", \"former\", \"foundation\", \"foundation\", \"foundation\", \"freedom\", \"f\\u00fcr\", \"gender\", \"gender\", \"gender\", \"gender\", \"gender\", \"gender\", \"general\", \"general\", \"general\", \"general\", \"general\", \"general\", \"general\", \"generation\", \"generation\", \"generation\", \"german\", \"german\", \"german\", \"german\", \"german\", \"germany\", \"germany\", \"germany\", \"germany\", \"germany\", \"give\", \"give\", \"give\", \"global\", \"global\", \"global\", \"global\", \"global\", \"global\", \"global\", \"global\", \"goal\", \"goal\", \"goal\", \"goldilocks\", \"good\", \"good\", \"good\", \"good\", \"governance\", \"governance\", \"governance\", \"governance\", \"governance\", \"governance\", \"governance\", \"governance\", \"government\", \"government\", \"government\", \"government\", \"government\", \"government\", \"government\", \"governs\", \"grader\", \"gsoep\", \"guiding\", \"hackathon\", \"health\", \"health\", \"health\", \"healthcare\", \"heen\", \"help\", \"help\", \"hertie\", \"hertie\", \"hertie\", \"hertie\", \"hertie\", \"hertie\", \"hertie\", \"hertie\", \"historical\", \"homelessness\", \"hospital\", \"http\", \"http\", \"http\", \"http\", \"http\", \"human\", \"human\", \"human\", \"human\", \"human\", \"human\", \"humanitarian\", \"humanitarian\", \"hyper\", \"identified\", \"identify\", \"identity\", \"ihds\", \"incentive\", \"inclination\", \"including\", \"including\", \"including\", \"including\", \"including\", \"including\", \"indicate\", \"indicator\", \"indicator\", \"indigenous\", \"individual\", \"individual\", \"individual\", \"individual\", \"individual\", \"individual\", \"induced\", \"inequality\", \"inequality\", \"inequality\", \"inflation\", \"inflationunemployment\", \"innovation\", \"innovation\", \"innovation\", \"innovation\", \"innovation\", \"innovative\", \"inquiry\", \"instance\", \"instance\", \"institut\", \"institution\", \"institution\", \"institution\", \"institution\", \"institution\", \"institution\", \"institution\", \"institution\", \"instrument\", \"instrument\", \"integrity\", \"intellectual\", \"intelligence\", \"intelligence\", \"intensity\", \"interaction\", \"interaction\", \"interaction\", \"interest\", \"interest\", \"interest\", \"interest\", \"interest\", \"interest\", \"interest\", \"interested\", \"interested\", \"interested\", \"interested\", \"interested\", \"interested\", \"interested\", \"international\", \"international\", \"international\", \"international\", \"international\", \"international\", \"international\", \"international\", \"interpretation\", \"involved\", \"involved\", \"io\", \"iom\", \"issue\", \"issue\", \"issue\", \"issue\", \"judgment\", \"judicial\", \"justice\", \"justice\", \"karabakh\", \"kellstedt\", \"kennedy\", \"key\", \"key\", \"key\", \"kind\", \"kpmg\", \"lab\", \"lab\", \"labor\", \"labor\", \"labor\", \"large\", \"large\", \"large\", \"large\", \"largely\", \"law\", \"law\", \"law\", \"law\", \"legal\", \"legal\", \"legal\", \"legal\", \"legislation\", \"level\", \"level\", \"level\", \"level\", \"level\", \"level\", \"leviathan\", \"linked\", \"listening\", \"literature\", \"literature\", \"literature\", \"literature\", \"literature\", \"little\", \"little\", \"lobbying\", \"locational\", \"los\", \"luxembourg\", \"maastricht\", \"machine\", \"macro\", \"macroeconomics\", \"mainstreaming\", \"mair\", \"making\", \"making\", \"making\", \"making\", \"making\", \"management\", \"management\", \"management\", \"managing\", \"marginal\", \"market\", \"market\", \"market\", \"market\", \"market\", \"market\", \"mass\", \"master\", \"master\", \"master\", \"master\", \"master\", \"maximization\", \"may\", \"may\", \"may\", \"may\", \"may\", \"mcc\", \"medium\", \"medium\", \"medium\", \"medium\", \"meeting\", \"meeting\", \"meeting\", \"meeting\", \"meeting\", \"meeting\", \"meeting\", \"men\", \"mentoring\", \"mercosur\", \"meter\", \"method\", \"method\", \"method\", \"method\", \"method\", \"method\", \"method\", \"method\", \"migrant\", \"migrant\", \"migrant\", \"migration\", \"migration\", \"migration\", \"migration\", \"military\", \"military\", \"military\", \"mobility\", \"mobility\", \"mobility\", \"moderate\", \"monitoring\", \"morale\", \"msc\", \"multi\", \"multi\", \"nagorno\", \"nation\", \"nation\", \"nation\", \"nation\", \"natural\", \"near\", \"network\", \"network\", \"network\", \"network\", \"network\", \"ngo\", \"nlp\", \"norad\", \"norm\", \"norm\", \"norm\", \"norm\", \"numerous\", \"occasionally\", \"one\", \"one\", \"one\", \"one\", \"one\", \"one\", \"one\", \"operation\", \"opinion\", \"opinion\", \"opinion\", \"option\", \"option\", \"option\", \"option\", \"org\", \"org\", \"org\", \"org\", \"org\", \"organization\", \"organization\", \"organization\", \"organization\", \"organization\", \"organizational\", \"organizational\", \"organizational\", \"organizing\", \"otherwise\", \"outline\", \"outline\", \"oxford\", \"oxford\", \"oxford\", \"palestine\", \"pandemic\", \"participation\", \"participation\", \"participation\", \"participative\", \"particular\", \"particular\", \"particular\", \"particular\", \"particular\", \"particular\", \"particular\", \"partnership\", \"partnership\", \"past\", \"past\", \"past\", \"pattern\", \"paul\", \"paving\", \"peaceful\", \"peak\", \"performance\", \"persistentid\", \"personnel\", \"persuade\", \"pharmaceutical\", \"phase\", \"phd\", \"phd\", \"phd\", \"phd\", \"philosophy\", \"physician\", \"pick\", \"pick\", \"polarisation\", \"policy\", \"policy\", \"policy\", \"policy\", \"policy\", \"policy\", \"policy\", \"policy\", \"political\", \"political\", \"political\", \"political\", \"political\", \"political\", \"political\", \"political\", \"politically\", \"politics\", \"politics\", \"politics\", \"politics\", \"politics\", \"position\", \"positive\", \"power\", \"power\", \"power\", \"power\", \"press\", \"press\", \"press\", \"press\", \"press\", \"press\", \"price\", \"price\", \"price\", \"pricing\", \"pricing\", \"principle\", \"principle\", \"principle\", \"problem\", \"problem\", \"problem\", \"problem\", \"problem\", \"processing\", \"procurement\", \"progress\", \"progress\", \"progress\", \"progress\", \"project\", \"project\", \"project\", \"project\", \"project\", \"project\", \"project\", \"proof\", \"property\", \"prospect\", \"protecting\", \"protecting\", \"psychological\", \"psychology\", \"public\", \"public\", \"public\", \"public\", \"public\", \"public\", \"public\", \"publish\", \"published\", \"published\", \"qualitative\", \"qualitative\", \"qualitative\", \"qualitative\", \"qualitative\", \"qualitative\", \"qualitative\", \"quantitative\", \"quantitative\", \"quantitative\", \"quantitative\", \"quantitative\", \"quantitative\", \"quantitative\", \"question\", \"question\", \"question\", \"question\", \"question\", \"question\", \"question\", \"reading\", \"reading\", \"reading\", \"reading\", \"real\", \"reconciliation\", \"redress\", \"refugee\", \"refugee\", \"refugee\", \"refugee\", \"refugee\", \"regime\", \"regime\", \"regime\", \"regionalism\", \"regionally\", \"regulation\", \"regulation\", \"regulation\", \"regulation\", \"regulatory\", \"regulatory\", \"regulatory\", \"related\", \"related\", \"related\", \"related\", \"related\", \"related\", \"relationship\", \"relationship\", \"relationship\", \"relatively\", \"remedial\", \"renewable\", \"renewable\", \"replacing\", \"report\", \"report\", \"report\", \"reporting\", \"reporting\", \"responsibility\", \"retirement\", \"review\", \"review\", \"review\", \"review\", \"review\", \"reviewing\", \"right\", \"right\", \"right\", \"right\", \"right\", \"right\", \"risky\", \"role\", \"role\", \"role\", \"role\", \"role\", \"role\", \"role\", \"role\", \"rsc\", \"sanitation\", \"science\", \"science\", \"science\", \"science\", \"science\", \"science\", \"science\", \"science\", \"sdg\", \"sdgs\", \"sdgs\", \"secrecy\", \"sectionid\", \"sector\", \"sector\", \"sector\", \"sector\", \"sector\", \"seek\", \"seelos\", \"sektor\", \"semester\", \"semester\", \"service\", \"service\", \"settlement\", \"shaping\", \"share\", \"share\", \"share\", \"shareholder\", \"shift\", \"shift\", \"show\", \"significant\", \"skill\", \"smart\", \"smart\", \"smuggling\", \"social\", \"social\", \"social\", \"social\", \"social\", \"social\", \"social\", \"social\", \"societal\", \"solar\", \"stanford\", \"stanford\", \"state\", \"state\", \"state\", \"state\", \"state\", \"state\", \"state\", \"state\", \"status\", \"status\", \"status\", \"storage\", \"strategy\", \"strategy\", \"strategy\", \"strategy\", \"student\", \"student\", \"student\", \"student\", \"student\", \"student\", \"student\", \"student\", \"study\", \"study\", \"study\", \"study\", \"study\", \"submission\", \"suggested\", \"support\", \"support\", \"support\", \"support\", \"support\", \"support\", \"support\", \"supported\", \"survey\", \"survey\", \"survey\", \"survey\", \"survey\", \"survey\", \"survey\", \"swim\", \"syria\", \"system\", \"system\", \"system\", \"system\", \"system\", \"system\", \"tariff\", \"tax\", \"tax\", \"taxation\", \"technology\", \"technology\", \"technology\", \"technology\", \"thesis\", \"thesis\", \"thesis\", \"thesis\", \"thesis\", \"thesis\", \"thesis\", \"thesis\", \"time\", \"time\", \"time\", \"time\", \"time\", \"time\", \"towards\", \"towards\", \"towards\", \"towards\", \"tracing\", \"tracing\", \"track\", \"trade\", \"trade\", \"trade\", \"trade\", \"trade\", \"traffic\", \"trained\", \"training\", \"training\", \"trans\", \"transfer\", \"transmission\", \"transnational\", \"transparency\", \"transparency\", \"transparency\", \"tribunal\", \"trip\", \"trust\", \"uncac\", \"undergraduate\", \"unhcr\", \"unification\", \"union\", \"union\", \"union\", \"union\", \"union\", \"unique\", \"usually\", \"value\", \"value\", \"value\", \"value\", \"variable\", \"venezuela\", \"violation\", \"vocational\", \"voting\", \"voting\", \"week\", \"well\", \"well\", \"well\", \"well\", \"well\", \"well\", \"well\", \"wellbeing\", \"whistleblower\", \"whitten\", \"wicked\", \"wikipedia\", \"wind\", \"wisconsin\", \"woman\", \"woman\", \"woman\", \"working\", \"working\", \"working\", \"working\", \"write\", \"write\", \"write\", \"write\", \"wto\", \"www\", \"www\", \"www\", \"www\", \"www\", \"www\", \"www\", \"year\", \"year\", \"year\", \"year\", \"yet\", \"\\u00f6ffentlichen\"]}, \"R\": 30, \"lambda.step\": 0.01, \"plot.opts\": {\"xlab\": \"PC1\", \"ylab\": \"PC2\"}, \"topic.order\": [6, 7, 8, 2, 3, 4, 1, 5]};\n",
              "\n",
              "function LDAvis_load_lib(url, callback){\n",
              "  var s = document.createElement('script');\n",
              "  s.src = url;\n",
              "  s.async = true;\n",
              "  s.onreadystatechange = s.onload = callback;\n",
              "  s.onerror = function(){console.warn(\"failed to load library \" + url);};\n",
              "  document.getElementsByTagName(\"head\")[0].appendChild(s);\n",
              "}\n",
              "\n",
              "if(typeof(LDAvis) !== \"undefined\"){\n",
              "   // already loaded: just create the visualization\n",
              "   !function(LDAvis){\n",
              "       new LDAvis(\"#\" + \"ldavis_el961397644940158487155554505\", ldavis_el961397644940158487155554505_data);\n",
              "   }(LDAvis);\n",
              "}else if(typeof define === \"function\" && define.amd){\n",
              "   // require.js is available: use it to load d3/LDAvis\n",
              "   require.config({paths: {d3: \"https://cdnjs.cloudflare.com/ajax/libs/d3/3.5.5/d3.min\"}});\n",
              "   require([\"d3\"], function(d3){\n",
              "      window.d3 = d3;\n",
              "      LDAvis_load_lib(\"https://cdn.rawgit.com/bmabey/pyLDAvis/files/ldavis.v1.0.0.js\", function(){\n",
              "        new LDAvis(\"#\" + \"ldavis_el961397644940158487155554505\", ldavis_el961397644940158487155554505_data);\n",
              "      });\n",
              "    });\n",
              "}else{\n",
              "    // require.js not available: dynamically load d3 & LDAvis\n",
              "    LDAvis_load_lib(\"https://cdnjs.cloudflare.com/ajax/libs/d3/3.5.5/d3.min.js\", function(){\n",
              "         LDAvis_load_lib(\"https://cdn.rawgit.com/bmabey/pyLDAvis/files/ldavis.v1.0.0.js\", function(){\n",
              "                 new LDAvis(\"#\" + \"ldavis_el961397644940158487155554505\", ldavis_el961397644940158487155554505_data);\n",
              "            })\n",
              "         });\n",
              "}\n",
              "</script>"
            ],
            "text/plain": [
              "PreparedData(topic_coordinates=              x         y  topics  cluster       Freq\n",
              "topic                                                \n",
              "5      0.040223  0.029571       1        1  23.268522\n",
              "6     -0.026441  0.027343       2        1  16.751161\n",
              "7     -0.008400  0.131264       3        1  15.744916\n",
              "1      0.180858 -0.064889       4        1  13.329623\n",
              "2     -0.012957  0.080600       5        1  11.035421\n",
              "3     -0.069435 -0.054380       6        1   7.579534\n",
              "0     -0.021138 -0.044262       7        1   6.961252\n",
              "4     -0.082708 -0.105246       8        1   5.329571, topic_info=               Term       Freq      Total Category  logprob  loglift\n",
              "519             law  29.000000  29.000000  Default  30.0000  30.0000\n",
              "150          public  77.000000  77.000000  Default  29.0000  29.0000\n",
              "89    international  46.000000  46.000000  Default  28.0000  28.0000\n",
              "1311         health  31.000000  31.000000  Default  27.0000  27.0000\n",
              "378           right  19.000000  19.000000  Default  26.0000  26.0000\n",
              "...             ...        ...        ...      ...      ...      ...\n",
              "113          method   2.525644  45.756440   Topic8  -5.3386   0.0351\n",
              "140       political   2.525642  60.025486   Topic8  -5.3386  -0.2364\n",
              "770        economic   1.913361  21.411503   Topic8  -5.6162   0.5168\n",
              "73           hertie   1.913371  21.895874   Topic8  -5.6162   0.4945\n",
              "497          gender   1.301104   9.857419   Topic8  -6.0018   0.9069\n",
              "\n",
              "[614 rows x 6 columns], token_table=      Topic      Freq            Term\n",
              "term                                 \n",
              "1842      2  0.826219         academy\n",
              "202       1  0.097754  accountability\n",
              "202       3  0.195508  accountability\n",
              "202       5  0.391016  accountability\n",
              "202       7  0.097754  accountability\n",
              "...     ...       ...             ...\n",
              "437       3  0.134065            year\n",
              "437       6  0.134065            year\n",
              "437       7  0.402196            year\n",
              "1745      5  0.873497             yet\n",
              "1301      3  0.832694    öffentlichen\n",
              "\n",
              "[1169 rows x 3 columns], R=30, lambda_step=0.01, plot_opts={'xlab': 'PC1', 'ylab': 'PC2'}, topic_order=[6, 7, 8, 2, 3, 4, 1, 5])"
            ]
          },
          "metadata": {
            "tags": []
          },
          "execution_count": 46
        }
      ]
    },
    {
      "cell_type": "markdown",
      "metadata": {
        "id": "dIZcN_ZZOQ51"
      },
      "source": [
        "### LDA Comparison"
      ]
    },
    {
      "cell_type": "code",
      "metadata": {
        "cellView": "form",
        "id": "ekH-wIuYfpWC"
      },
      "source": [
        "#@title Add Text { run: \"auto\", vertical-output: true }\n",
        "\n",
        "yr_text = \"Family Policy, Health Policy, Education Policy, Social Inequality, Child Outcomes, Poverty 2.\\tWhat is your research question?  What are the effects of social inequalities on child outcomes? What are the effects of social inequalities on child development? What are the effects of social inequalities on child well-being? To define the specific question the definition of \\\"child outcomes\\\", \\\"child development\\\" and child \\\"well-being\\\" still need to be defined. 3.\\tWhy would you like to explore this topic and question? Please let us know why you are curious about your research topic, and why you think your question(s) are worth exploring. I have always been interested in social policy, especially topics related to Child, Youth, and Family Policies. In the past years, I worked with public education and early childhood development in Brazil. Now, I want to expand my view beyond the education area but still analyze the current situation of marginalized children and teenagers. However, I am still not sure if this will be related to the Brazilian or an International context. \" #@param {type:\"string\"}\n",
        "\n"
      ],
      "execution_count": null,
      "outputs": []
    },
    {
      "cell_type": "code",
      "metadata": {
        "id": "c7oQ6SJh7mtl",
        "cellView": "both"
      },
      "source": [
        "#@title Add Document\n",
        "path = \"/content/drive/My Drive/docs/ana.txt\" #@param {type:\"string\"}\n",
        "yr_p = open(path)\n",
        "yr_path = yr_p.read()"
      ],
      "execution_count": null,
      "outputs": []
    },
    {
      "cell_type": "code",
      "metadata": {
        "id": "tqH6P0bMOZhv"
      },
      "source": [
        "yr_tokens = nltk.word_tokenize(yr_path)\n",
        "yr_bow_vector = dictionary.doc2bow(yr_tokens)"
      ],
      "execution_count": null,
      "outputs": []
    },
    {
      "cell_type": "code",
      "metadata": {
        "id": "kzSFvVvAMaE7",
        "outputId": "4abafe92-f503-4839-a54d-20afc06a66ae",
        "colab": {
          "base_uri": "https://localhost:8080/",
          "height": 85
        }
      },
      "source": [
        "# model comparison result\n",
        "#print(model[yr_bow_vector])\n",
        "\n",
        "# data frame\n",
        "results = pd.DataFrame(model[yr_bow_vector])\n",
        "results.columns = ['topic', 'proximity']\n",
        "results.sort_values(['proximity'], ascending=False, inplace=True)\n",
        "print(results.nlargest(3,['proximity']))\n"
      ],
      "execution_count": null,
      "outputs": [
        {
          "output_type": "stream",
          "text": [
            "   topic  proximity\n",
            "6     10   0.273963\n",
            "8     12   0.192127\n",
            "7     11   0.156723\n"
          ],
          "name": "stdout"
        }
      ]
    },
    {
      "cell_type": "code",
      "metadata": {
        "id": "B85_J9UIV54x"
      },
      "source": [
        "# table with documents and topic probability\n",
        "topics = [model[documents_bow[i]] for i in range(len(documents))]\n",
        "num_topics = 8\n",
        "\n",
        "def topics_document_to_dataframe(topics_document, num_topics):\n",
        "    res = pd.DataFrame(columns=range(num_topics))\n",
        "    for topic_weight in topics_document:\n",
        "        res.loc[0, topic_weight[0]] = topic_weight[1]\n",
        "    return res\n",
        "\n",
        "document_topic = \\\n",
        "pd.concat([topics_document_to_dataframe(topics_document, num_topics=num_topics) for topics_document in topics]) \\\n",
        "  .reset_index(drop=True).fillna(0)\n",
        "\n",
        "#document_topic"
      ],
      "execution_count": null,
      "outputs": []
    },
    {
      "cell_type": "code",
      "metadata": {
        "id": "mDHjiUe2gErg",
        "outputId": "b041b5d6-cbec-4b65-d7e5-e09385a38b03",
        "colab": {
          "base_uri": "https://localhost:8080/",
          "height": 204
        }
      },
      "source": [
        "document_topic.sort_values(5, ascending=False)[5].head(10)"
      ],
      "execution_count": null,
      "outputs": [
        {
          "output_type": "execute_result",
          "data": {
            "text/plain": [
              "8     0.997766\n",
              "17    0.996927\n",
              "0     0.996838\n",
              "7     0.996579\n",
              "24    0.996274\n",
              "14    0.995213\n",
              "22    0.973272\n",
              "30    0.657838\n",
              "25    0.568304\n",
              "13    0.246172\n",
              "Name: 5, dtype: float64"
            ]
          },
          "metadata": {
            "tags": []
          },
          "execution_count": 40
        }
      ]
    },
    {
      "cell_type": "code",
      "metadata": {
        "id": "IvtkdozSibix",
        "outputId": "2a056b37-58e6-4cdd-de8e-c1f70dd805d3",
        "colab": {
          "base_uri": "https://localhost:8080/",
          "height": 1000
        }
      },
      "source": [
        "topic_dt = pd.DataFrame(documents_lda)\n",
        "doc_dt = pd.DataFrame(file_ids)\n",
        "conc = pd.concat([doc_dt, topic_dt], axis=1)\n",
        "conc.columns = ['doc_id', 'topic1', 'topic2']\n",
        "conc.sort_values(['topic1'], ascending=True, inplace=True)\n",
        "conc"
      ],
      "execution_count": null,
      "outputs": [
        {
          "output_type": "execute_result",
          "data": {
            "text/html": [
              "<div>\n",
              "<style scoped>\n",
              "    .dataframe tbody tr th:only-of-type {\n",
              "        vertical-align: middle;\n",
              "    }\n",
              "\n",
              "    .dataframe tbody tr th {\n",
              "        vertical-align: top;\n",
              "    }\n",
              "\n",
              "    .dataframe thead th {\n",
              "        text-align: right;\n",
              "    }\n",
              "</style>\n",
              "<table border=\"1\" class=\"dataframe\">\n",
              "  <thead>\n",
              "    <tr style=\"text-align: right;\">\n",
              "      <th></th>\n",
              "      <th>doc_id</th>\n",
              "      <th>topic1</th>\n",
              "      <th>topic2</th>\n",
              "    </tr>\n",
              "  </thead>\n",
              "  <tbody>\n",
              "    <tr>\n",
              "      <th>23</th>\n",
              "      <td>Patz.txt</td>\n",
              "      <td>(0, 0.9967921)</td>\n",
              "      <td>None</td>\n",
              "    </tr>\n",
              "    <tr>\n",
              "      <th>1</th>\n",
              "      <td>Bryson.txt</td>\n",
              "      <td>(0, 0.99788487)</td>\n",
              "      <td>None</td>\n",
              "    </tr>\n",
              "    <tr>\n",
              "      <th>20</th>\n",
              "      <td>Mena.txt</td>\n",
              "      <td>(1, 0.4181468)</td>\n",
              "      <td>(7, 0.57836205)</td>\n",
              "    </tr>\n",
              "    <tr>\n",
              "      <th>11</th>\n",
              "      <td>Hassel.txt</td>\n",
              "      <td>(1, 0.99026465)</td>\n",
              "      <td>None</td>\n",
              "    </tr>\n",
              "    <tr>\n",
              "      <th>6</th>\n",
              "      <td>Flachsland.txt</td>\n",
              "      <td>(1, 0.99768275)</td>\n",
              "      <td>None</td>\n",
              "    </tr>\n",
              "    <tr>\n",
              "      <th>12</th>\n",
              "      <td>Hirth.txt</td>\n",
              "      <td>(1, 0.99884796)</td>\n",
              "      <td>None</td>\n",
              "    </tr>\n",
              "    <tr>\n",
              "      <th>16</th>\n",
              "      <td>Jankin.txt</td>\n",
              "      <td>(2, 0.99776053)</td>\n",
              "      <td>None</td>\n",
              "    </tr>\n",
              "    <tr>\n",
              "      <th>21</th>\n",
              "      <td>MungiuPippidi.txt</td>\n",
              "      <td>(2, 0.9987454)</td>\n",
              "      <td>None</td>\n",
              "    </tr>\n",
              "    <tr>\n",
              "      <th>27</th>\n",
              "      <td>Snower.txt</td>\n",
              "      <td>(3, 0.99513483)</td>\n",
              "      <td>None</td>\n",
              "    </tr>\n",
              "    <tr>\n",
              "      <th>4</th>\n",
              "      <td>Costello.txt</td>\n",
              "      <td>(3, 0.99672)</td>\n",
              "      <td>None</td>\n",
              "    </tr>\n",
              "    <tr>\n",
              "      <th>9</th>\n",
              "      <td>Hallerberg.txt</td>\n",
              "      <td>(3, 0.9971094)</td>\n",
              "      <td>None</td>\n",
              "    </tr>\n",
              "    <tr>\n",
              "      <th>5</th>\n",
              "      <td>Dawson.txt</td>\n",
              "      <td>(4, 0.99584925)</td>\n",
              "      <td>None</td>\n",
              "    </tr>\n",
              "    <tr>\n",
              "      <th>2</th>\n",
              "      <td>Cali.txt</td>\n",
              "      <td>(4, 0.9972203)</td>\n",
              "      <td>None</td>\n",
              "    </tr>\n",
              "    <tr>\n",
              "      <th>29</th>\n",
              "      <td>Traxler.txt</td>\n",
              "      <td>(5, 0.04217892)</td>\n",
              "      <td>(6, 0.95684505)</td>\n",
              "    </tr>\n",
              "    <tr>\n",
              "      <th>13</th>\n",
              "      <td>Hustedt.txt</td>\n",
              "      <td>(5, 0.24617131)</td>\n",
              "      <td>(7, 0.7505218)</td>\n",
              "    </tr>\n",
              "    <tr>\n",
              "      <th>25</th>\n",
              "      <td>Roemmele.txt</td>\n",
              "      <td>(5, 0.5683027)</td>\n",
              "      <td>(6, 0.42533386)</td>\n",
              "    </tr>\n",
              "    <tr>\n",
              "      <th>30</th>\n",
              "      <td>Wegrich.txt</td>\n",
              "      <td>(5, 0.6578335)</td>\n",
              "      <td>(7, 0.3374744)</td>\n",
              "    </tr>\n",
              "    <tr>\n",
              "      <th>22</th>\n",
              "      <td>Munzert.txt</td>\n",
              "      <td>(5, 0.9732737)</td>\n",
              "      <td>(6, 0.02498065)</td>\n",
              "    </tr>\n",
              "    <tr>\n",
              "      <th>14</th>\n",
              "      <td>Iacovone.txt</td>\n",
              "      <td>(5, 0.9952133)</td>\n",
              "      <td>None</td>\n",
              "    </tr>\n",
              "    <tr>\n",
              "      <th>24</th>\n",
              "      <td>Reh.txt</td>\n",
              "      <td>(5, 0.9962735)</td>\n",
              "      <td>None</td>\n",
              "    </tr>\n",
              "    <tr>\n",
              "      <th>7</th>\n",
              "      <td>GohdesHW.txt</td>\n",
              "      <td>(5, 0.99657863)</td>\n",
              "      <td>None</td>\n",
              "    </tr>\n",
              "    <tr>\n",
              "      <th>0</th>\n",
              "      <td>Anheier.txt</td>\n",
              "      <td>(5, 0.996838)</td>\n",
              "      <td>None</td>\n",
              "    </tr>\n",
              "    <tr>\n",
              "      <th>17</th>\n",
              "      <td>Kayser.txt</td>\n",
              "      <td>(5, 0.99692714)</td>\n",
              "      <td>None</td>\n",
              "    </tr>\n",
              "    <tr>\n",
              "      <th>8</th>\n",
              "      <td>Graf.txt</td>\n",
              "      <td>(5, 0.9977658)</td>\n",
              "      <td>None</td>\n",
              "    </tr>\n",
              "    <tr>\n",
              "      <th>15</th>\n",
              "      <td>Jachtenfuchs.txt</td>\n",
              "      <td>(6, 0.99534017)</td>\n",
              "      <td>None</td>\n",
              "    </tr>\n",
              "    <tr>\n",
              "      <th>19</th>\n",
              "      <td>Mair.txt</td>\n",
              "      <td>(6, 0.9972716)</td>\n",
              "      <td>None</td>\n",
              "    </tr>\n",
              "    <tr>\n",
              "      <th>26</th>\n",
              "      <td>Shaikh.txt</td>\n",
              "      <td>(6, 0.99750495)</td>\n",
              "      <td>None</td>\n",
              "    </tr>\n",
              "    <tr>\n",
              "      <th>18</th>\n",
              "      <td>Kreyenfeld.txt</td>\n",
              "      <td>(7, 0.99431175)</td>\n",
              "      <td>None</td>\n",
              "    </tr>\n",
              "    <tr>\n",
              "      <th>3</th>\n",
              "      <td>Cingolani.txt</td>\n",
              "      <td>(7, 0.994594)</td>\n",
              "      <td>None</td>\n",
              "    </tr>\n",
              "    <tr>\n",
              "      <th>10</th>\n",
              "      <td>Hammerschmid.txt</td>\n",
              "      <td>(7, 0.9977832)</td>\n",
              "      <td>None</td>\n",
              "    </tr>\n",
              "    <tr>\n",
              "      <th>28</th>\n",
              "      <td>Stockman.txt</td>\n",
              "      <td>(7, 0.9982486)</td>\n",
              "      <td>None</td>\n",
              "    </tr>\n",
              "    <tr>\n",
              "      <th>31</th>\n",
              "      <td>docs/ana.txt</td>\n",
              "      <td>NaN</td>\n",
              "      <td>NaN</td>\n",
              "    </tr>\n",
              "  </tbody>\n",
              "</table>\n",
              "</div>"
            ],
            "text/plain": [
              "               doc_id           topic1           topic2\n",
              "23           Patz.txt   (0, 0.9967921)             None\n",
              "1          Bryson.txt  (0, 0.99788487)             None\n",
              "20           Mena.txt   (1, 0.4181468)  (7, 0.57836205)\n",
              "11         Hassel.txt  (1, 0.99026465)             None\n",
              "6      Flachsland.txt  (1, 0.99768275)             None\n",
              "12          Hirth.txt  (1, 0.99884796)             None\n",
              "16         Jankin.txt  (2, 0.99776053)             None\n",
              "21  MungiuPippidi.txt   (2, 0.9987454)             None\n",
              "27         Snower.txt  (3, 0.99513483)             None\n",
              "4        Costello.txt     (3, 0.99672)             None\n",
              "9      Hallerberg.txt   (3, 0.9971094)             None\n",
              "5          Dawson.txt  (4, 0.99584925)             None\n",
              "2            Cali.txt   (4, 0.9972203)             None\n",
              "29        Traxler.txt  (5, 0.04217892)  (6, 0.95684505)\n",
              "13        Hustedt.txt  (5, 0.24617131)   (7, 0.7505218)\n",
              "25       Roemmele.txt   (5, 0.5683027)  (6, 0.42533386)\n",
              "30        Wegrich.txt   (5, 0.6578335)   (7, 0.3374744)\n",
              "22        Munzert.txt   (5, 0.9732737)  (6, 0.02498065)\n",
              "14       Iacovone.txt   (5, 0.9952133)             None\n",
              "24            Reh.txt   (5, 0.9962735)             None\n",
              "7        GohdesHW.txt  (5, 0.99657863)             None\n",
              "0         Anheier.txt    (5, 0.996838)             None\n",
              "17         Kayser.txt  (5, 0.99692714)             None\n",
              "8            Graf.txt   (5, 0.9977658)             None\n",
              "15   Jachtenfuchs.txt  (6, 0.99534017)             None\n",
              "19           Mair.txt   (6, 0.9972716)             None\n",
              "26         Shaikh.txt  (6, 0.99750495)             None\n",
              "18     Kreyenfeld.txt  (7, 0.99431175)             None\n",
              "3       Cingolani.txt    (7, 0.994594)             None\n",
              "10   Hammerschmid.txt   (7, 0.9977832)             None\n",
              "28       Stockman.txt   (7, 0.9982486)             None\n",
              "31       docs/ana.txt              NaN              NaN"
            ]
          },
          "metadata": {
            "tags": []
          },
          "execution_count": 115
        }
      ]
    },
    {
      "cell_type": "markdown",
      "metadata": {
        "id": "CjWKu9FTOuOm"
      },
      "source": [
        "## TF-IDF\n"
      ]
    },
    {
      "cell_type": "code",
      "metadata": {
        "id": "dJVIF3SpOx8V"
      },
      "source": [
        "from gensim import corpora, models\n",
        "\n",
        "documents_idf = models.TfidfModel(documents_bow)\n",
        "corpus_tfidf = documents_idf[documents_bow]\n",
        "\n",
        "model_tfidf = gensim.models.LdaMulticore(corpus_tfidf, num_topics=5, id2word=dictionary, passes=500, workers=4)"
      ],
      "execution_count": null,
      "outputs": []
    },
    {
      "cell_type": "code",
      "metadata": {
        "id": "c1kP-NOmN8gJ",
        "outputId": "ae57b95e-04e2-4818-d6af-9730ca0fe1ce",
        "colab": {
          "base_uri": "https://localhost:8080/",
          "height": 122
        }
      },
      "source": [
        "for idx, topic in model_tfidf.print_topics(-1):\n",
        "    print('Topic: {} Word: {}'.format(idx, topic))"
      ],
      "execution_count": null,
      "outputs": [
        {
          "output_type": "stream",
          "text": [
            "Topic: 0 Word: 0.001*\"public\" + 0.001*\"management\" + 0.001*\"migration\" + 0.001*\"digital\" + 0.001*\"sector\" + 0.001*\"administration\" + 0.001*\"http\" + 0.001*\"government\" + 0.001*\"refugee\" + 0.001*\"union\"\n",
            "Topic: 1 Word: 0.002*\"health\" + 0.001*\"law\" + 0.001*\"climate\" + 0.001*\"educational\" + 0.001*\"economic\" + 0.001*\"education\" + 0.001*\"labor\" + 0.001*\"fellow\" + 0.001*\"ercas\" + 0.001*\"economics\"\n",
            "Topic: 2 Word: 0.001*\"lab\" + 0.001*\"innovation\" + 0.001*\"sdg\" + 0.001*\"labour\" + 0.001*\"aid\" + 0.001*\"ministry\" + 0.001*\"politics\" + 0.001*\"colomb\" + 0.001*\"federal\" + 0.001*\"hightech\"\n",
            "Topic: 3 Word: 0.001*\"tax\" + 0.001*\"corporate\" + 0.001*\"mair\" + 0.001*\"organizational\" + 0.001*\"electoral\" + 0.001*\"stanford\" + 0.001*\"business\" + 0.001*\"former\" + 0.001*\"inequality\" + 0.001*\"election\"\n",
            "Topic: 4 Word: 0.001*\"law\" + 0.001*\"electricity\" + 0.001*\"right\" + 0.001*\"human\" + 0.001*\"security\" + 0.001*\"firm\" + 0.001*\"international\" + 0.001*\"medium\" + 0.001*\"energy\" + 0.001*\"empirical\"\n"
          ],
          "name": "stdout"
        }
      ]
    },
    {
      "cell_type": "code",
      "metadata": {
        "id": "bE-ivICQiuWw",
        "outputId": "1b31d652-83c0-4861-cf12-441b7e04ecd7",
        "colab": {
          "base_uri": "https://localhost:8080/",
          "height": 34
        }
      },
      "source": [
        "documents_tfidf = model_tfidf[documents_bow]\n",
        "documents_tfidf[5]  # 2 = Cali, 5 Dawson"
      ],
      "execution_count": null,
      "outputs": [
        {
          "output_type": "execute_result",
          "data": {
            "text/plain": [
              "[(0, 0.072317116), (1, 0.9247959)]"
            ]
          },
          "metadata": {
            "tags": []
          },
          "execution_count": 61
        }
      ]
    },
    {
      "cell_type": "code",
      "metadata": {
        "id": "MpBDAv6Si6s0"
      },
      "source": [
        ""
      ],
      "execution_count": null,
      "outputs": []
    },
    {
      "cell_type": "markdown",
      "metadata": {
        "id": "p15y3tFnlmkG"
      },
      "source": [
        "### TF_IDF Vis"
      ]
    },
    {
      "cell_type": "code",
      "metadata": {
        "id": "QgxmJHVQlmPa",
        "outputId": "127a8d79-f2a2-4789-c3b6-f99dbfc46307",
        "colab": {
          "base_uri": "https://localhost:8080/",
          "height": 204
        }
      },
      "source": [
        "n_words = 10\n",
        "\n",
        "topic_words = pd.DataFrame({})\n",
        "\n",
        "for i, topic in enumerate(model_tfidf.get_topics()):\n",
        "    top_feature_ids = topic.argsort()[-n_words:][::-1]\n",
        "    feature_values = topic[top_feature_ids]\n",
        "    words = [dictionary[id] for id in top_feature_ids]\n",
        "    topic_df = pd.DataFrame({'value': feature_values, 'word': words, 'topic': i})\n",
        "    topic_words = pd.concat([topic_words, topic_df], ignore_index=True)\n",
        "\n",
        "topic_words.head()"
      ],
      "execution_count": null,
      "outputs": [
        {
          "output_type": "execute_result",
          "data": {
            "text/html": [
              "<div>\n",
              "<style scoped>\n",
              "    .dataframe tbody tr th:only-of-type {\n",
              "        vertical-align: middle;\n",
              "    }\n",
              "\n",
              "    .dataframe tbody tr th {\n",
              "        vertical-align: top;\n",
              "    }\n",
              "\n",
              "    .dataframe thead th {\n",
              "        text-align: right;\n",
              "    }\n",
              "</style>\n",
              "<table border=\"1\" class=\"dataframe\">\n",
              "  <thead>\n",
              "    <tr style=\"text-align: right;\">\n",
              "      <th></th>\n",
              "      <th>value</th>\n",
              "      <th>word</th>\n",
              "      <th>topic</th>\n",
              "    </tr>\n",
              "  </thead>\n",
              "  <tbody>\n",
              "    <tr>\n",
              "      <th>0</th>\n",
              "      <td>0.001404</td>\n",
              "      <td>public</td>\n",
              "      <td>0</td>\n",
              "    </tr>\n",
              "    <tr>\n",
              "      <th>1</th>\n",
              "      <td>0.001266</td>\n",
              "      <td>management</td>\n",
              "      <td>0</td>\n",
              "    </tr>\n",
              "    <tr>\n",
              "      <th>2</th>\n",
              "      <td>0.001245</td>\n",
              "      <td>migration</td>\n",
              "      <td>0</td>\n",
              "    </tr>\n",
              "    <tr>\n",
              "      <th>3</th>\n",
              "      <td>0.001184</td>\n",
              "      <td>digital</td>\n",
              "      <td>0</td>\n",
              "    </tr>\n",
              "    <tr>\n",
              "      <th>4</th>\n",
              "      <td>0.001093</td>\n",
              "      <td>sector</td>\n",
              "      <td>0</td>\n",
              "    </tr>\n",
              "  </tbody>\n",
              "</table>\n",
              "</div>"
            ],
            "text/plain": [
              "      value        word  topic\n",
              "0  0.001404      public      0\n",
              "1  0.001266  management      0\n",
              "2  0.001245   migration      0\n",
              "3  0.001184     digital      0\n",
              "4  0.001093      sector      0"
            ]
          },
          "metadata": {
            "tags": []
          },
          "execution_count": 62
        }
      ]
    },
    {
      "cell_type": "code",
      "metadata": {
        "id": "iAH7mmF4lsKC",
        "outputId": "e8ad44f1-c1f6-449d-d328-84b8913fcb80",
        "colab": {
          "base_uri": "https://localhost:8080/",
          "height": 458
        }
      },
      "source": [
        "import seaborn as sns\n",
        "\n",
        "g = sns.FacetGrid(topic_words, col=\"topic\", col_wrap=3, sharey=False)\n",
        "g.map(plt.barh, \"word\", \"value\")"
      ],
      "execution_count": null,
      "outputs": [
        {
          "output_type": "execute_result",
          "data": {
            "text/plain": [
              "<seaborn.axisgrid.FacetGrid at 0x7f1d7505cd30>"
            ]
          },
          "metadata": {
            "tags": []
          },
          "execution_count": 63
        },
        {
          "output_type": "display_data",
          "data": {
            "image/png": "[encoded data removed]",
            "text/plain": [
              "<Figure size 648x432 with 5 Axes>"
            ]
          },
          "metadata": {
            "tags": [],
            "needs_background": "light"
          }
        }
      ]
    },
    {
      "cell_type": "code",
      "metadata": {
        "id": "lBLzWmlHlspq",
        "outputId": "de64d93c-31d0-41f5-c712-d4e730a278c9",
        "colab": {
          "base_uri": "https://localhost:8080/",
          "height": 861
        }
      },
      "source": [
        "import pyLDAvis\n",
        "import pyLDAvis.gensim\n",
        "\n",
        "pyLDAvis.enable_notebook()\n",
        "vis = pyLDAvis.gensim.prepare(model_tfidf, corpus_tfidf, dictionary)\n",
        "vis"
      ],
      "execution_count": null,
      "outputs": [
        {
          "output_type": "execute_result",
          "data": {
            "text/html": [
              "\n",
              "<link rel=\"stylesheet\" type=\"text/css\" href=\"https://cdn.rawgit.com/bmabey/pyLDAvis/files/ldavis.v1.0.0.css\">\n",
              "\n",
              "\n",
              "<div id=\"ldavis_el961397644941476564596079143\"></div>\n",
              "<script type=\"text/javascript\">\n",
              "\n",
              "var ldavis_el961397644941476564596079143_data = {\"mdsDat\": {\"x\": [-0.007549748261524047, 0.0020828187917259432, 0.0020700361134241797, 0.00183853528541621, 0.0015583580709577166], \"y\": [-0.0002249156406803654, -0.0042458843576664755, -0.0001795742545803414, 0.0009641333716176191, 0.0036862408813095617], \"topics\": [1, 2, 3, 4, 5], \"cluster\": [1, 1, 1, 1, 1], \"Freq\": [30.057529585747893, 21.551290406368846, 19.163700226417227, 14.922962624602068, 14.30451715686398]}, \"tinfo\": {\"Term\": [\"lab\", \"health\", \"tax\", \"corporate\", \"sdg\", \"mair\", \"aid\", \"educational\", \"ministry\", \"innovation\", \"colomb\", \"electricity\", \"organizational\", \"hightech\", \"labour\", \"economic\", \"urban\", \"federal\", \"climate\", \"sdgs\", \"regulating\", \"monitoring\", \"stanford\", \"politics\", \"williams\", \"business\", \"electoral\", \"former\", \"fellow\", \"law\", \"migration\", \"management\", \"digital\", \"public\", \"administration\", \"sector\", \"refugee\", \"family\", \"union\", \"lobbying\", \"submit\", \"campaigning\", \"http\", \"prefer\", \"communication\", \"government\", \"participation\", \"delivery\", \"performance\", \"internet\", \"behaviour\", \"aging\", \"advice\", \"brussels\", \"single\", \"digitalisation\", \"add\", \"financing\", \"bit\", \"demographic\", \"digitalization\", \"smart\", \"organization\", \"power\", \"preference\", \"angeles\", \"los\", \"international\", \"sociology\", \"law\", \"medium\", \"study\", \"electricity\", \"firm\", \"semester\", \"right\", \"arxiv\", \"security\", \"chinese\", \"mexico\", \"human\", \"think\", \"intensity\", \"authoritarianism\", \"youth\", \"fdi\", \"ask\", \"tweet\", \"affected\", \"productivity\", \"foreign\", \"supervisor\", \"suitable\", \"supervising\", \"concerning\", \"conflict\", \"opinion\", \"pick\", \"undergraduate\", \"polarisation\", \"men\", \"technology\", \"dissertation\", \"like\", \"law\", \"china\", \"empirical\", \"regime\", \"energy\", \"medium\", \"international\", \"health\", \"educational\", \"ercas\", \"climate\", \"database\", \"macroeconomics\", \"mcc\", \"client\", \"fellow\", \"economic\", \"dawson\", \"leviathan\", \"dimension\", \"education\", \"index\", \"trust\", \"labor\", \"training\", \"coal\", \"share\", \"integrity\", \"procurement\", \"foundation\", \"welfare\", \"transfer\", \"vocational\", \"physician\", \"shareholder\", \"psychological\", \"wellbeing\", \"economics\", \"law\", \"energy\", \"corruption\", \"european\", \"legal\", \"medium\", \"hertie\", \"institutional\", \"tax\", \"corporate\", \"mair\", \"organizational\", \"stanford\", \"former\", \"electoral\", \"reporting\", \"homelessness\", \"societal\", \"seelos\", \"organizing\", \"business\", \"traffic\", \"alcohol\", \"crime\", \"taxation\", \"memory\", \"election\", \"identity\", \"violation\", \"car\", \"hackathon\", \"category\", \"annals\", \"academy\", \"center\", \"advanced\", \"behavioral\", \"attempt\", \"author\", \"effort\", \"inequality\", \"theory\", \"sage\", \"economic\", \"regulation\", \"society\", \"social\", \"organization\", \"behavior\", \"lab\", \"sdg\", \"aid\", \"colomb\", \"hightech\", \"ministry\", \"monitoring\", \"urban\", \"regulating\", \"sdgs\", \"williams\", \"federal\", \"booth\", \"chicago\", \"craft\", \"informal\", \"labour\", \"innovation\", \"task\", \"platform\", \"christine\", \"chapter\", \"contested\", \"significant\", \"politics\", \"report\", \"national\", \"place\", \"safety\", \"pension\", \"wayne\", \"enforcing\", \"era\", \"affair\", \"analytics\", \"policymaking\", \"indicator\", \"regulation\", \"public\", \"evaluation\"], \"Freq\": [0.0, 0.0, 0.0, 0.0, 0.0, 0.0, 0.0, 0.0, 0.0, 0.0, 0.0, 0.0, 0.0, 0.0, 0.0, 0.0, 0.0, 0.0, 0.0, 0.0, 0.0, 0.0, 0.0, 0.0, 0.0, 0.0, 0.0, 0.0, 0.0, 0.0, 0.1277918802862255, 0.12994521276743193, 0.1215323184612159, 0.14413466112395296, 0.10290360118186632, 0.11225317229174343, 0.0938067914332701, 0.08970944139215155, 0.09147256855490862, 0.07863379000824201, 0.07656729065396248, 0.07656729065396248, 0.0998710623769591, 0.07304821266931256, 0.08209544531536872, 0.09743309625955934, 0.08385141406317546, 0.06982375305489774, 0.0693271395115438, 0.08039971958887197, 0.07526555261374776, 0.06810109663042004, 0.0731068722348948, 0.06696988183382209, 0.07406465978982431, 0.0683541627322372, 0.06641845682106957, 0.06924646094838893, 0.07541313666287842, 0.0675326539500727, 0.07225423211559234, 0.07787760325632556, 0.08012873354846042, 0.07815072248049111, 0.07703087271330515, 0.07165388728380938, 0.07165388728380938, 0.08853522232810986, 0.07363697138541211, 0.09020803276133901, 0.07899216487891131, 0.07328938193960541, 0.08360826783751538, 0.0594586316328799, 0.05439827579504379, 0.0749146570615537, 0.05101698492480437, 0.06251232337283902, 0.05064172293799667, 0.052344797132378044, 0.0667884720570131, 0.04944267113402522, 0.04918947747154821, 0.04881413836730972, 0.04822546674370712, 0.04769105580126583, 0.04769105580126583, 0.04769105580126583, 0.04769105580126583, 0.04769105580126583, 0.055008416054516854, 0.04621549088060805, 0.04621549088060805, 0.04600677683848767, 0.045768085537300114, 0.05502516338990253, 0.051204221762450874, 0.045370772249589346, 0.04430205747224953, 0.04430205747224953, 0.04430205747224953, 0.05048870481811057, 0.05158933335889063, 0.04841519704494903, 0.08387380885752155, 0.05139763656316367, 0.055891976164841393, 0.04896731929066082, 0.05589752861985798, 0.057660578753882245, 0.05846593322078644, 0.09985747872363132, 0.07232251096114482, 0.052991366369365016, 0.07314862033902253, 0.051539333780194825, 0.05009724059210596, 0.04918508243989936, 0.04908936475029854, 0.05343635362245249, 0.06389455029591179, 0.04807909263279923, 0.04807909263279923, 0.049781873186619606, 0.056951987215889704, 0.045791636048793154, 0.045187340273276345, 0.05393922483875567, 0.047582038766228206, 0.042332453986679515, 0.043730789428191065, 0.04128527769966127, 0.04128527769966127, 0.04749153650019211, 0.04622733916219676, 0.04072993604599005, 0.04072993604599005, 0.040683046759478335, 0.040655861030802064, 0.040655861030802064, 0.040655861030802064, 0.052978680203937326, 0.07819478074159153, 0.04912573556751721, 0.04302815491748358, 0.04567461093479683, 0.04508413660317541, 0.043345507155458776, 0.04210065526732583, 0.04217268830513567, 0.06440929831065033, 0.056078254031200155, 0.05091964124403286, 0.04967310637561626, 0.04077797426728257, 0.038209949926938526, 0.04102078612464646, 0.034426914014976204, 0.034173710090165996, 0.034173710090165996, 0.034173710090165996, 0.034173710090165996, 0.038799055256471406, 0.03179857533742092, 0.03179857533742092, 0.03179857533742092, 0.03179857533742092, 0.03125306744528199, 0.03629133338686135, 0.03398566795852115, 0.028924443350094222, 0.028924443350094222, 0.02859156196383011, 0.02859156196383011, 0.02859156196383011, 0.02859156196383011, 0.02848925513027216, 0.027544852638961517, 0.027544852638961517, 0.027411971826784755, 0.03398404521775805, 0.02913442363154366, 0.037418874188095815, 0.03381529797811172, 0.033976800733400675, 0.03571127327960761, 0.032587257014479676, 0.03171569689373048, 0.033413935151673284, 0.03249009726542625, 0.029995271289960965, 0.06795975641576044, 0.05095041065128432, 0.04714958014172581, 0.0430366705112758, 0.04194639980091956, 0.046943581475759236, 0.03834230326393964, 0.041120582341331445, 0.039158395354777935, 0.04103204451793214, 0.0370842926920496, 0.042491034669284826, 0.03491826823258503, 0.03491826823258503, 0.03491826823258503, 0.0351025127842428, 0.05028980786976514, 0.052321317967249384, 0.03510367584734767, 0.03640824875488378, 0.03207142246183192, 0.03207142246183192, 0.03201094886772851, 0.031945933924533446, 0.046056164326738785, 0.03512273984503738, 0.03357351703994185, 0.03293156307955171, 0.029343038507271796, 0.029343038507271796, 0.029343038507271796, 0.029343038507271796, 0.029343038507271796, 0.03930547022955591, 0.029343038507271796, 0.03298038044953071, 0.03485081625985236, 0.034184824714069764, 0.038716451280650536, 0.03316313207177512], \"Total\": [0.0, 0.0, 0.0, 0.0, 0.0, 0.0, 0.0, 0.0, 0.0, 0.0, 0.0, 0.0, 0.0, 0.0, 0.0, 0.0, 0.0, 0.0, 0.0, 0.0, 0.0, 0.0, 0.0, 0.0, 0.0, 0.0, 0.0, 0.0, 0.0, 0.0, 0.22513406320405216, 0.23352930350803128, 0.22964684410927394, 0.2727906495228375, 0.19614768480964234, 0.2181375733667392, 0.18435527838129173, 0.1767791436861663, 0.1836573820224589, 0.1587511967332243, 0.15668563409369213, 0.15668563409369213, 0.20566961100269845, 0.1531659840900862, 0.17436214296163863, 0.20797356448333637, 0.17918728903744086, 0.14994149785167693, 0.14944476701831466, 0.1740072394145759, 0.16290227795875495, 0.1482195076875345, 0.1597801719072739, 0.14708762883422424, 0.1627768209033024, 0.15058874758337792, 0.1465369050257067, 0.15311633817848158, 0.16772286381252277, 0.150847496498384, 0.16173224255088997, 0.17568380045831428, 0.1822780195348091, 0.1773081352112637, 0.17590676685616682, 0.16034680837698212, 0.16034680837698212, 0.23142621111862824, 0.17003941749630236, 0.287778183340729, 0.22014087075085037, 0.171825744781283, 0.17154809104655921, 0.1473996361459071, 0.14233859616082406, 0.20045982870627274, 0.13895735614252858, 0.17102180242245013, 0.13858201478723675, 0.14338966646017348, 0.18429507903848397, 0.13738394334930298, 0.13713013418855977, 0.1367546361780368, 0.13616678069157354, 0.13563266697254647, 0.13563266697254647, 0.13563266697254647, 0.13563266697254647, 0.13563266697254647, 0.15670243154293784, 0.13415636563516628, 0.13415636563516628, 0.13394798342857014, 0.1337089241254754, 0.16101816074415976, 0.14997075619225547, 0.1333113141974539, 0.13224273106668566, 0.13224273106668566, 0.13224273106668566, 0.15197876296962848, 0.15529508662323052, 0.1470901970322425, 0.287778183340729, 0.15844423909965236, 0.17720124321747927, 0.14998099798299638, 0.19035979736329842, 0.22014087075085037, 0.23142621111862824, 0.20908467335248382, 0.16264563519405967, 0.14331434811064647, 0.19852400190200523, 0.14380747077821948, 0.14042154558762118, 0.13950853119658083, 0.1394124713428202, 0.15316996367307578, 0.18339779946097762, 0.13840388201204717, 0.13840388201204717, 0.14468380774496375, 0.1685668504735354, 0.13611578574365266, 0.13551059645969746, 0.16446584120425636, 0.14620009255789815, 0.1326562348339577, 0.1377184876198433, 0.13160871860743562, 0.13160871860743562, 0.15204575293176675, 0.14823090535659433, 0.13105421263657996, 0.13105421263657996, 0.13100821069816862, 0.13098082439721637, 0.13098082439721637, 0.13098082439721637, 0.1777055811260636, 0.287778183340729, 0.19035979736329842, 0.14666538102356186, 0.18756195595963449, 0.18627497217975494, 0.22014087075085037, 0.16519780428807337, 0.16961584308232835, 0.16577450686323822, 0.1559952433497693, 0.145590426919133, 0.16421770144489817, 0.1354491077680557, 0.1328810784459571, 0.15136062815787685, 0.12909801817285155, 0.12884531082017023, 0.12884531082017023, 0.12884531082017023, 0.12884531082017023, 0.14732445670841687, 0.12646972454676822, 0.12646972454676822, 0.12646972454676822, 0.12646972454676822, 0.12592570431050168, 0.1478349309445391, 0.13921885782754134, 0.12359580977903323, 0.12359580977903323, 0.12326367312076815, 0.12326367312076815, 0.12326367312076815, 0.12326367312076815, 0.12627140219558092, 0.12221658877355102, 0.12221658877355102, 0.12208405477470806, 0.15169848781014783, 0.13007153776478653, 0.1733520141532411, 0.1557369966519746, 0.16667933219535638, 0.18339779946097762, 0.1640785946020476, 0.15508482405042828, 0.19703495157623988, 0.1822780195348091, 0.14755287215224716, 0.1633156158378377, 0.146306606676058, 0.1425059045734447, 0.13839405428149149, 0.13730488244120861, 0.1551150078779177, 0.13369904994875006, 0.14399240958776183, 0.13900178763831833, 0.1456578872239491, 0.13244143026398525, 0.15346423264200174, 0.1302766628690075, 0.1302766628690075, 0.1302766628690075, 0.13356349894976766, 0.1920075980410704, 0.20011008178891942, 0.13573168962248044, 0.14340079719637225, 0.1274282848044212, 0.1274282848044212, 0.1273678930016032, 0.1273032075498994, 0.18540262332391752, 0.14266367697894033, 0.13802256454506617, 0.13558927064393575, 0.1247032301401025, 0.1247032301401025, 0.1247032301401025, 0.1247032301401025, 0.1247032301401025, 0.17127419301272342, 0.1247032301401025, 0.14446512898781394, 0.159922266715795, 0.1640785946020476, 0.2727906495228375, 0.1505767966413302], \"Category\": [\"Default\", \"Default\", \"Default\", \"Default\", \"Default\", \"Default\", \"Default\", \"Default\", \"Default\", \"Default\", \"Default\", \"Default\", \"Default\", \"Default\", \"Default\", \"Default\", \"Default\", \"Default\", \"Default\", \"Default\", \"Default\", \"Default\", \"Default\", \"Default\", \"Default\", \"Default\", \"Default\", \"Default\", \"Default\", \"Default\", \"Topic1\", \"Topic1\", \"Topic1\", \"Topic1\", \"Topic1\", \"Topic1\", \"Topic1\", \"Topic1\", \"Topic1\", \"Topic1\", \"Topic1\", \"Topic1\", \"Topic1\", \"Topic1\", \"Topic1\", \"Topic1\", \"Topic1\", \"Topic1\", \"Topic1\", \"Topic1\", \"Topic1\", \"Topic1\", \"Topic1\", \"Topic1\", \"Topic1\", \"Topic1\", \"Topic1\", \"Topic1\", \"Topic1\", \"Topic1\", \"Topic1\", \"Topic1\", \"Topic1\", \"Topic1\", \"Topic1\", \"Topic1\", \"Topic1\", \"Topic1\", \"Topic1\", \"Topic1\", \"Topic1\", \"Topic1\", \"Topic2\", \"Topic2\", \"Topic2\", \"Topic2\", \"Topic2\", \"Topic2\", \"Topic2\", \"Topic2\", \"Topic2\", \"Topic2\", \"Topic2\", \"Topic2\", \"Topic2\", \"Topic2\", \"Topic2\", \"Topic2\", \"Topic2\", \"Topic2\", \"Topic2\", \"Topic2\", \"Topic2\", \"Topic2\", \"Topic2\", \"Topic2\", \"Topic2\", \"Topic2\", \"Topic2\", \"Topic2\", \"Topic2\", \"Topic2\", \"Topic2\", \"Topic2\", \"Topic2\", \"Topic2\", \"Topic2\", \"Topic2\", \"Topic2\", \"Topic2\", \"Topic2\", \"Topic3\", \"Topic3\", \"Topic3\", \"Topic3\", \"Topic3\", \"Topic3\", \"Topic3\", \"Topic3\", \"Topic3\", \"Topic3\", \"Topic3\", \"Topic3\", \"Topic3\", \"Topic3\", \"Topic3\", \"Topic3\", \"Topic3\", \"Topic3\", \"Topic3\", \"Topic3\", \"Topic3\", \"Topic3\", \"Topic3\", \"Topic3\", \"Topic3\", \"Topic3\", \"Topic3\", \"Topic3\", \"Topic3\", \"Topic3\", \"Topic3\", \"Topic3\", \"Topic3\", \"Topic3\", \"Topic3\", \"Topic3\", \"Topic3\", \"Topic3\", \"Topic3\", \"Topic4\", \"Topic4\", \"Topic4\", \"Topic4\", \"Topic4\", \"Topic4\", \"Topic4\", \"Topic4\", \"Topic4\", \"Topic4\", \"Topic4\", \"Topic4\", \"Topic4\", \"Topic4\", \"Topic4\", \"Topic4\", \"Topic4\", \"Topic4\", \"Topic4\", \"Topic4\", \"Topic4\", \"Topic4\", \"Topic4\", \"Topic4\", \"Topic4\", \"Topic4\", \"Topic4\", \"Topic4\", \"Topic4\", \"Topic4\", \"Topic4\", \"Topic4\", \"Topic4\", \"Topic4\", \"Topic4\", \"Topic4\", \"Topic4\", \"Topic4\", \"Topic4\", \"Topic4\", \"Topic4\", \"Topic5\", \"Topic5\", \"Topic5\", \"Topic5\", \"Topic5\", \"Topic5\", \"Topic5\", \"Topic5\", \"Topic5\", \"Topic5\", \"Topic5\", \"Topic5\", \"Topic5\", \"Topic5\", \"Topic5\", \"Topic5\", \"Topic5\", \"Topic5\", \"Topic5\", \"Topic5\", \"Topic5\", \"Topic5\", \"Topic5\", \"Topic5\", \"Topic5\", \"Topic5\", \"Topic5\", \"Topic5\", \"Topic5\", \"Topic5\", \"Topic5\", \"Topic5\", \"Topic5\", \"Topic5\", \"Topic5\", \"Topic5\", \"Topic5\", \"Topic5\", \"Topic5\", \"Topic5\"], \"logprob\": [30.0, 29.0, 28.0, 27.0, 26.0, 25.0, 24.0, 23.0, 22.0, 21.0, 20.0, 19.0, 18.0, 17.0, 16.0, 15.0, 14.0, 13.0, 12.0, 11.0, 10.0, 9.0, 8.0, 7.0, 6.0, 5.0, 4.0, 3.0, 2.0, 1.0, -6.688700199127197, -6.671999931335449, -6.738900184631348, -6.568399906158447, -6.905300140380859, -6.818399906158447, -6.997900009155273, -7.042600154876709, -7.023099899291992, -7.174300193786621, -7.201000213623047, -7.201000213623047, -6.935200214385986, -7.248000144958496, -7.131199836730957, -6.960000038146973, -7.110099792480469, -7.2932000160217285, -7.300300121307373, -7.152100086212158, -7.218100070953369, -7.3180999755859375, -7.247200012207031, -7.33489990234375, -7.2342000007629395, -7.3144001960754395, -7.343200206756592, -7.301499843597412, -7.216100215911865, -7.326499938964844, -7.258900165557861, -7.184000015258789, -7.1554999351501465, -7.180500030517578, -7.194900035858154, -7.267300128936768, -7.267300128936768, -7.055699825286865, -7.239999771118164, -7.0370001792907715, -7.1697998046875, -7.244699954986572, -6.780300140380859, -7.121200084686279, -7.210100173950195, -6.890100002288818, -7.2743000984191895, -7.071100234985352, -7.281700134277344, -7.248600006103516, -7.004899978637695, -7.305600166320801, -7.310800075531006, -7.318399906158447, -7.330599784851074, -7.341700077056885, -7.341700077056885, -7.341700077056885, -7.341700077056885, -7.341700077056885, -7.198999881744385, -7.3730998039245605, -7.3730998039245605, -7.377699851989746, -7.382900238037109, -7.198699951171875, -7.270599842071533, -7.391600131988525, -7.41540002822876, -7.41540002822876, -7.41540002822876, -7.2846999168396, -7.2631001472473145, -7.326600074768066, -6.777100086212158, -7.266900062561035, -7.183000087738037, -7.315299987792969, -7.1828999519348145, -7.151899814605713, -7.138000011444092, -6.485300064086914, -6.8078999519348145, -7.118899822235107, -6.796500205993652, -7.146699905395508, -7.175099849700928, -7.193399906158447, -7.195400238037109, -7.110499858856201, -6.93179988861084, -7.21619987487793, -7.21619987487793, -7.181399822235107, -7.046800136566162, -7.264900207519531, -7.278200149536133, -7.101200103759766, -7.226600170135498, -7.343500137329102, -7.310999870300293, -7.368500232696533, -7.368500232696533, -7.228499889373779, -7.255499839782715, -7.3821001052856445, -7.3821001052856445, -7.383200168609619, -7.383900165557861, -7.383900165557861, -7.383900165557861, -7.119100093841553, -6.729800224304199, -7.1946001052856445, -7.327199935913086, -7.267499923706055, -7.2804999351501465, -7.319799900054932, -7.348999977111816, -7.347300052642822, -6.673699855804443, -6.81220006942749, -6.908699989318848, -6.933499813079834, -7.130799770355225, -7.195799827575684, -7.124800205230713, -7.300099849700928, -7.307499885559082, -7.307499885559082, -7.307499885559082, -7.307499885559082, -7.180500030517578, -7.379499912261963, -7.379499912261963, -7.379499912261963, -7.379499912261963, -7.3968000411987305, -7.247300148010254, -7.313000202178955, -7.4741997718811035, -7.4741997718811035, -7.485799789428711, -7.485799789428711, -7.485799789428711, -7.485799789428711, -7.4893999099731445, -7.523099899291992, -7.523099899291992, -7.527900218963623, -7.313000202178955, -7.4670000076293945, -7.216700077056885, -7.317999839782715, -7.313199996948242, -7.263400077819824, -7.355000019073486, -7.3821001052856445, -7.329899787902832, -7.357999801635742, -7.437900066375732, -6.577700138092041, -6.865699768066406, -6.943299770355225, -7.0345001220703125, -7.060200214385986, -6.9475998878479, -7.150000095367432, -7.080100059509277, -7.129000186920166, -7.082200050354004, -7.1834001541137695, -7.047299861907959, -7.243599891662598, -7.243599891662598, -7.243599891662598, -7.23829984664917, -6.878799915313721, -6.839200019836426, -7.23829984664917, -7.2017998695373535, -7.32859992980957, -7.32859992980957, -7.33050012588501, -7.332499980926514, -6.966700077056885, -7.23769998550415, -7.282899856567383, -7.302199840545654, -7.417500019073486, -7.417500019073486, -7.417500019073486, -7.417500019073486, -7.417500019073486, -7.125199794769287, -7.417500019073486, -7.3007001876831055, -7.245500087738037, -7.264800071716309, -7.1402997970581055, -7.295199871063232], \"loglift\": [30.0, 29.0, 28.0, 27.0, 26.0, 25.0, 24.0, 23.0, 22.0, 21.0, 20.0, 19.0, 18.0, 17.0, 16.0, 15.0, 14.0, 13.0, 12.0, 11.0, 10.0, 9.0, 8.0, 7.0, 6.0, 5.0, 4.0, 3.0, 2.0, 1.0, 0.6358, 0.6159, 0.5657, 0.5641, 0.557, 0.5377, 0.5264, 0.5237, 0.505, 0.4995, 0.486, 0.486, 0.4797, 0.4617, 0.4488, 0.4438, 0.4427, 0.4378, 0.434, 0.43, 0.4299, 0.4244, 0.4202, 0.4153, 0.4146, 0.4122, 0.4108, 0.4085, 0.4027, 0.3984, 0.3963, 0.3885, 0.3802, 0.3828, 0.3763, 0.3966, 0.3966, 0.2412, 0.3652, 0.042, 0.1771, 0.35, 0.816, 0.6269, 0.5729, 0.5505, 0.5327, 0.5283, 0.528, 0.527, 0.5197, 0.5128, 0.5095, 0.5046, 0.4967, 0.4895, 0.4895, 0.4895, 0.4895, 0.4895, 0.4879, 0.469, 0.469, 0.4661, 0.4627, 0.461, 0.4601, 0.4569, 0.4411, 0.4411, 0.4411, 0.4327, 0.4327, 0.4235, 0.3019, 0.4089, 0.3809, 0.4154, 0.3093, 0.195, 0.1589, 0.9132, 0.8417, 0.6572, 0.6537, 0.626, 0.6215, 0.6096, 0.6084, 0.5991, 0.5977, 0.5948, 0.5948, 0.5853, 0.567, 0.5627, 0.5539, 0.5373, 0.5296, 0.5099, 0.505, 0.4928, 0.4928, 0.4885, 0.487, 0.4835, 0.4835, 0.4827, 0.4822, 0.4822, 0.4822, 0.4419, 0.3492, 0.2976, 0.4259, 0.2396, 0.2335, 0.0271, 0.2851, 0.2604, 0.9569, 0.8792, 0.8517, 0.7065, 0.7018, 0.6559, 0.5967, 0.5805, 0.5751, 0.5751, 0.5751, 0.5751, 0.568, 0.5217, 0.5217, 0.5217, 0.5217, 0.5087, 0.4978, 0.4922, 0.4499, 0.4499, 0.4411, 0.4411, 0.4411, 0.4411, 0.4134, 0.4123, 0.4123, 0.4085, 0.4063, 0.4061, 0.3691, 0.375, 0.3119, 0.2661, 0.2858, 0.3151, 0.1279, 0.1777, 0.3091, 1.0678, 0.8897, 0.8385, 0.7765, 0.7588, 0.7494, 0.6956, 0.6913, 0.6777, 0.6777, 0.6716, 0.6604, 0.6279, 0.6279, 0.6279, 0.6083, 0.6049, 0.6031, 0.5922, 0.5737, 0.565, 0.565, 0.5636, 0.5621, 0.5519, 0.543, 0.5309, 0.5294, 0.4977, 0.4977, 0.4977, 0.4977, 0.4977, 0.4727, 0.4977, 0.4675, 0.421, 0.376, -0.0078, 0.4316]}, \"token.table\": {\"Topic\": [], \"Freq\": [], \"Term\": []}, \"R\": 30, \"lambda.step\": 0.01, \"plot.opts\": {\"xlab\": \"PC1\", \"ylab\": \"PC2\"}, \"topic.order\": [1, 5, 2, 4, 3]};\n",
              "\n",
              "function LDAvis_load_lib(url, callback){\n",
              "  var s = document.createElement('script');\n",
              "  s.src = url;\n",
              "  s.async = true;\n",
              "  s.onreadystatechange = s.onload = callback;\n",
              "  s.onerror = function(){console.warn(\"failed to load library \" + url);};\n",
              "  document.getElementsByTagName(\"head\")[0].appendChild(s);\n",
              "}\n",
              "\n",
              "if(typeof(LDAvis) !== \"undefined\"){\n",
              "   // already loaded: just create the visualization\n",
              "   !function(LDAvis){\n",
              "       new LDAvis(\"#\" + \"ldavis_el961397644941476564596079143\", ldavis_el961397644941476564596079143_data);\n",
              "   }(LDAvis);\n",
              "}else if(typeof define === \"function\" && define.amd){\n",
              "   // require.js is available: use it to load d3/LDAvis\n",
              "   require.config({paths: {d3: \"https://cdnjs.cloudflare.com/ajax/libs/d3/3.5.5/d3.min\"}});\n",
              "   require([\"d3\"], function(d3){\n",
              "      window.d3 = d3;\n",
              "      LDAvis_load_lib(\"https://cdn.rawgit.com/bmabey/pyLDAvis/files/ldavis.v1.0.0.js\", function(){\n",
              "        new LDAvis(\"#\" + \"ldavis_el961397644941476564596079143\", ldavis_el961397644941476564596079143_data);\n",
              "      });\n",
              "    });\n",
              "}else{\n",
              "    // require.js not available: dynamically load d3 & LDAvis\n",
              "    LDAvis_load_lib(\"https://cdnjs.cloudflare.com/ajax/libs/d3/3.5.5/d3.min.js\", function(){\n",
              "         LDAvis_load_lib(\"https://cdn.rawgit.com/bmabey/pyLDAvis/files/ldavis.v1.0.0.js\", function(){\n",
              "                 new LDAvis(\"#\" + \"ldavis_el961397644941476564596079143\", ldavis_el961397644941476564596079143_data);\n",
              "            })\n",
              "         });\n",
              "}\n",
              "</script>"
            ],
            "text/plain": [
              "PreparedData(topic_coordinates=              x         y  topics  cluster       Freq\n",
              "topic                                                \n",
              "0     -0.007550 -0.000225       1        1  30.057530\n",
              "4      0.002083 -0.004246       2        1  21.551290\n",
              "1      0.002070 -0.000180       3        1  19.163700\n",
              "3      0.001839  0.000964       4        1  14.922963\n",
              "2      0.001558  0.003686       5        1  14.304517, topic_info=              Term      Freq     Total Category  logprob  loglift\n",
              "1175           lab  0.000000  0.000000  Default  30.0000  30.0000\n",
              "1311        health  0.000000  0.000000  Default  29.0000  29.0000\n",
              "951            tax  0.000000  0.000000  Default  28.0000  28.0000\n",
              "1928     corporate  0.000000  0.000000  Default  27.0000  27.0000\n",
              "1729           sdg  0.000000  0.000000  Default  26.0000  26.0000\n",
              "...            ...       ...       ...      ...      ...      ...\n",
              "800   policymaking  0.032980  0.144465   Topic5  -7.3007   0.4675\n",
              "79       indicator  0.034851  0.159922   Topic5  -7.2455   0.4210\n",
              "1278    regulation  0.034185  0.164079   Topic5  -7.2648   0.3760\n",
              "150         public  0.038716  0.272791   Topic5  -7.1403  -0.0078\n",
              "1157    evaluation  0.033163  0.150577   Topic5  -7.2952   0.4316\n",
              "\n",
              "[231 rows x 6 columns], token_table=Empty DataFrame\n",
              "Columns: [Topic, Freq, Term]\n",
              "Index: [], R=30, lambda_step=0.01, plot_opts={'xlab': 'PC1', 'ylab': 'PC2'}, topic_order=[1, 5, 2, 4, 3])"
            ]
          },
          "metadata": {
            "tags": []
          },
          "execution_count": 64
        }
      ]
    },
    {
      "cell_type": "markdown",
      "metadata": {
        "id": "DlpwYwr6Qw-X"
      },
      "source": [
        "### TF-IDF Comparison\n"
      ]
    },
    {
      "cell_type": "code",
      "metadata": {
        "cellView": "form",
        "id": "yKR1c6LsQzbK"
      },
      "source": [
        "#@title Add Document{ run: \"auto\", vertical-output: true }\n",
        "\n",
        "your_research = \"Social Policy  Research topic: Family Policy, Health Policy, Education Policy, Social Inequality, Child Outcomes, Poverty 2.\\tWhat is your research question?  What are the effects of social inequalities on child outcomes? What are the effects of social inequalities on child development? What are the effects of social inequalities on child well-being? To define the specific question the definition of \\\"child outcomes\\\", \\\"child development\\\" and child \\\"well-being\\\" still need to be defined. 3.\\tWhy would you like to explore this topic and question? Please let us know why you are curious about your research topic, and why you think your question(s) are worth exploring. I have always been interested in social policy, especially topics related to Child, Youth, and Family Policies. In the past years, I worked with public education and early childhood development in Brazil. Now, I want to expand my view beyond the education area but still analyze the current situation of marginalized children and teenagers. However, I am still not sure if this will be related to the Brazilian or an International context. \" #@param {type:\"string\"}\n",
        "\n"
      ],
      "execution_count": null,
      "outputs": []
    },
    {
      "cell_type": "code",
      "metadata": {
        "id": "gAPZxFMAdLq9"
      },
      "source": [
        "# pre-process\n",
        "yr_tokens = nltk.word_tokenize(your_research)\n",
        "yr_bow_vector = dictionary.doc2bow(yr_tokens)"
      ],
      "execution_count": null,
      "outputs": []
    },
    {
      "cell_type": "code",
      "metadata": {
        "id": "Edcan-zbbwzv",
        "outputId": "97430dca-9ba4-448a-d924-9f87dd2206c0",
        "colab": {
          "base_uri": "https://localhost:8080/"
        }
      },
      "source": [
        "print(model_tfidf[yr_bow_vector])"
      ],
      "execution_count": null,
      "outputs": [
        {
          "output_type": "stream",
          "text": [
            "[(0, 0.87860644), (4, 0.10908989)]\n"
          ],
          "name": "stdout"
        }
      ]
    },
    {
      "cell_type": "code",
      "metadata": {
        "id": "2BK-QWERd9Zt"
      },
      "source": [
        "# on a scale X, how much do you think these topics relate to your research topic?\n",
        "integer_slider = 0 #@param {type:\"slider\", min:0, max:5, step:1}"
      ],
      "execution_count": null,
      "outputs": []
    }
  ]
}