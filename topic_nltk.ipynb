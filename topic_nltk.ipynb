{
  "nbformat": 4,
  "nbformat_minor": 0,
  "metadata": {
    "colab": {
      "name": "topic_nltk",
      "provenance": [],
      "collapsed_sections": [
        "E7xm0rWsiYAI",
        "CjWKu9FTOuOm",
        "p15y3tFnlmkG",
        "DlpwYwr6Qw-X"
      ],
      "toc_visible": true,
      "mount_file_id": "1d6XizZFqqHvhFRQR8s60jwsFQLl7l93X",
      "authorship_tag": "ABX9TyNaKCXGilZMWCIXzvNJ5x69",
      "include_colab_link": true
    },
    "kernelspec": {
      "display_name": "Python 3",
      "name": "python3"
    }
  },
  "cells": [
    {
      "cell_type": "markdown",
      "metadata": {
        "id": "view-in-github",
        "colab_type": "text"
      },
      "source": [
        "<a href=\"https://colab.research.google.com/github/cbsobral/python/blob/master/topic_nltk.ipynb\" target=\"_parent\"><img src=\"https://colab.research.google.com/assets/colab-badge.svg\" alt=\"Open In Colab\"/></a>"
      ]
    },
    {
      "cell_type": "markdown",
      "metadata": {
        "id": "w30m8ygSecD7"
      },
      "source": [
        "## Data"
      ]
    },
    {
      "cell_type": "code",
      "metadata": {
        "id": "fkuQ6ee1ebES"
      },
      "source": [
        "import nltk\n",
        "from nltk.corpus import PlaintextCorpusReader\n",
        "url = (r'/content/drive/My Drive/data/')\n",
        "corpus_list = PlaintextCorpusReader(url, '.*txt')  # all files ending in 'txt'\n",
        "\n",
        "file_ids = corpus_list.fileids()"
      ],
      "execution_count": null,
      "outputs": []
    },
    {
      "cell_type": "markdown",
      "metadata": {
        "id": "J_08VzPlhs-w"
      },
      "source": [
        "## LDA\n"
      ]
    },
    {
      "cell_type": "markdown",
      "metadata": {
        "id": "hv3XXtjJvr1d"
      },
      "source": [
        "### Model"
      ]
    },
    {
      "cell_type": "code",
      "metadata": {
        "id": "_KtePiVtA4Hf",
        "outputId": "2f83413e-3114-4d48-8103-07e1724f5e8c",
        "colab": {
          "base_uri": "https://localhost:8080/",
          "height": 119
        }
      },
      "source": [
        "import matplotlib.pyplot as plt\n",
        "import nltk\n",
        "from nltk.corpus import stopwords\n",
        "import gensim\n",
        "import pandas as pd\n",
        "nltk.download('stopwords')\n",
        "nltk.download('wordnet')\n",
        "nltk.download('punkt')\n",
        "\n",
        "\n",
        "wordnet = nltk.WordNetLemmatizer()\n",
        "\n",
        "stoplist = stopwords.words('english')\n",
        "additional_stopwords = \"\"\"question impact professor school dissertation paper take following http nuffield\n",
        "                          title school session study work topics project partner practice happy plan see supervise\n",
        "                          research thesis issue design student topic supervision university lab mia mpp\"\"\"  # define additional stopwords in a string\n",
        "stoplist += additional_stopwords.split()"
      ],
      "execution_count": null,
      "outputs": [
        {
          "output_type": "stream",
          "text": [
            "[nltk_data] Downloading package stopwords to /root/nltk_data...\n",
            "[nltk_data]   Package stopwords is already up-to-date!\n",
            "[nltk_data] Downloading package wordnet to /root/nltk_data...\n",
            "[nltk_data]   Package wordnet is already up-to-date!\n",
            "[nltk_data] Downloading package punkt to /root/nltk_data...\n",
            "[nltk_data]   Package punkt is already up-to-date!\n"
          ],
          "name": "stdout"
        }
      ]
    },
    {
      "cell_type": "code",
      "metadata": {
        "id": "NLx3rLWMBHyu"
      },
      "source": [
        "def normalize_token(token):\n",
        "    \"\"\"\n",
        "    Convert token to lowercase, and stem using the Porter algorithm.\n",
        "    \"\"\"\n",
        "    return wordnet.lemmatize(token.lower())\n",
        "\n",
        "def filter_token(token):\n",
        "    \"\"\"\n",
        "    Evaluate whether or not to retain ``token``.\n",
        "    \"\"\"\n",
        "    token = token.lower()\n",
        "    return token not in stoplist and token.isalpha() and len(token) > 2"
      ],
      "execution_count": null,
      "outputs": []
    },
    {
      "cell_type": "code",
      "metadata": {
        "id": "jpj9VPt7BOTG"
      },
      "source": [
        "documents=[[normalize_token(token) \n",
        "            for token in corpus_list.words(fileids=[fileid])\n",
        "            if filter_token(token)]\n",
        "            for fileid in corpus_list.fileids()]\n",
        "\n",
        "dictionary = gensim.corpora.Dictionary(documents)         \n",
        "documents_bow = [dictionary.doc2bow(document) for document in documents]"
      ],
      "execution_count": null,
      "outputs": []
    },
    {
      "cell_type": "code",
      "metadata": {
        "id": "uz9jL-ZKB0t2"
      },
      "source": [
        "model = gensim.models.LdaModel(documents_bow, \n",
        "                               id2word=dictionary,\n",
        "                               num_topics=15, \n",
        "                               update_every=0,\n",
        "                               random_state=123,\n",
        "                               passes=500)"
      ],
      "execution_count": null,
      "outputs": []
    },
    {
      "cell_type": "code",
      "metadata": {
        "id": "fZ6Z7Q1uB6Rn",
        "outputId": "2fcc98d2-efa3-4359-da0e-2a4ff2de4279",
        "colab": {
          "base_uri": "https://localhost:8080/",
          "height": 173
        }
      },
      "source": [
        "for i, topic in enumerate(model.print_topics(num_topics=8, num_words=7)):\n",
        "    print (i, ':', topic)"
      ],
      "execution_count": null,
      "outputs": [
        {
          "output_type": "stream",
          "text": [
            "0 : (6, '0.031*\"health\" + 0.013*\"data\" + 0.010*\"social\" + 0.010*\"http\" + 0.009*\"inequality\" + 0.008*\"org\" + 0.008*\"policy\"')\n",
            "1 : (1, '0.020*\"electricity\" + 0.019*\"market\" + 0.018*\"energy\" + 0.014*\"review\" + 0.013*\"system\" + 0.011*\"generation\" + 0.010*\"emission\"')\n",
            "2 : (0, '0.000*\"partisan\" + 0.000*\"observational\" + 0.000*\"polish\" + 0.000*\"persuading\" + 0.000*\"postdoctoral\" + 0.000*\"motivate\" + 0.000*\"postwar\"')\n",
            "3 : (12, '0.030*\"law\" + 0.018*\"right\" + 0.014*\"international\" + 0.014*\"human\" + 0.012*\"european\" + 0.010*\"legal\" + 0.009*\"migration\"')\n",
            "4 : (7, '0.000*\"partisan\" + 0.000*\"observational\" + 0.000*\"polish\" + 0.000*\"persuading\" + 0.000*\"postdoctoral\" + 0.000*\"motivate\" + 0.000*\"postwar\"')\n",
            "5 : (11, '0.033*\"public\" + 0.020*\"management\" + 0.014*\"innovation\" + 0.012*\"government\" + 0.012*\"social\" + 0.012*\"sector\" + 0.010*\"administration\"')\n",
            "6 : (5, '0.016*\"policy\" + 0.016*\"political\" + 0.014*\"analysis\" + 0.012*\"social\" + 0.009*\"data\" + 0.009*\"comparative\" + 0.008*\"governance\"')\n",
            "7 : (13, '0.000*\"partisan\" + 0.000*\"observational\" + 0.000*\"polish\" + 0.000*\"persuading\" + 0.000*\"postdoctoral\" + 0.000*\"motivate\" + 0.000*\"postwar\"')\n"
          ],
          "name": "stdout"
        }
      ]
    },
    {
      "cell_type": "markdown",
      "metadata": {
        "id": "dIZcN_ZZOQ51"
      },
      "source": [
        "### LDA Comparison"
      ]
    },
    {
      "cell_type": "code",
      "metadata": {
        "cellView": "form",
        "id": "ekH-wIuYfpWC"
      },
      "source": [
        "#@title Add Text { run: \"auto\", vertical-output: true }\n",
        "\n",
        "yr_text = \"Family Policy, Health Policy, Education Policy, Social Inequality, Child Outcomes, Poverty 2.\\tWhat is your research question?  What are the effects of social inequalities on child outcomes? What are the effects of social inequalities on child development? What are the effects of social inequalities on child well-being? To define the specific question the definition of \\\"child outcomes\\\", \\\"child development\\\" and child \\\"well-being\\\" still need to be defined. 3.\\tWhy would you like to explore this topic and question? Please let us know why you are curious about your research topic, and why you think your question(s) are worth exploring. I have always been interested in social policy, especially topics related to Child, Youth, and Family Policies. In the past years, I worked with public education and early childhood development in Brazil. Now, I want to expand my view beyond the education area but still analyze the current situation of marginalized children and teenagers. However, I am still not sure if this will be related to the Brazilian or an International context. \" #@param {type:\"string\"}\n",
        "\n"
      ],
      "execution_count": null,
      "outputs": []
    },
    {
      "cell_type": "code",
      "metadata": {
        "id": "c7oQ6SJh7mtl",
        "cellView": "both"
      },
      "source": [
        "#@title Add Document\n",
        "path = \"/content/drive/My Drive/docs/ana.txt\" #@param {type:\"string\"}\n",
        "yr_p = open(path)\n",
        "yr_path = yr_p.read()"
      ],
      "execution_count": null,
      "outputs": []
    },
    {
      "cell_type": "code",
      "metadata": {
        "id": "tqH6P0bMOZhv"
      },
      "source": [
        "yr_tokens = nltk.word_tokenize(yr_path)\n",
        "yr_bow_vector = dictionary.doc2bow(yr_tokens)"
      ],
      "execution_count": null,
      "outputs": []
    },
    {
      "cell_type": "code",
      "metadata": {
        "id": "kzSFvVvAMaE7",
        "outputId": "b3861bad-581a-4723-8f1f-2f680a02b606",
        "colab": {
          "base_uri": "https://localhost:8080/",
          "height": 85
        }
      },
      "source": [
        "# model comparison result\n",
        "#print(model[yr_bow_vector])\n",
        "\n",
        "# pd data frame\n",
        "results = pd.DataFrame(model[yr_bow_vector])\n",
        "results.columns = ['topic', 'proximity']\n",
        "results.sort_values(['proximity'], ascending=False, inplace=True)\n",
        "print(results.nlargest(3,['proximity']))\n"
      ],
      "execution_count": null,
      "outputs": [
        {
          "output_type": "stream",
          "text": [
            "   topic  proximity\n",
            "6     10   0.273964\n",
            "8     12   0.192131\n",
            "7     11   0.156727\n"
          ],
          "name": "stdout"
        }
      ]
    },
    {
      "cell_type": "code",
      "metadata": {
        "id": "B85_J9UIV54x"
      },
      "source": [
        "# table with documents and topic probability\n",
        "topics = [model[documents_bow[i]] for i in range(len(documents))]\n",
        "num_topics = 8\n",
        "\n",
        "def topics_document_to_dataframe(topics_document, num_topics):\n",
        "    res = pd.DataFrame(columns=range(num_topics))\n",
        "    for topic_weight in topics_document:\n",
        "        res.loc[0, topic_weight[0]] = topic_weight[1]\n",
        "    return res\n",
        "\n",
        "document_topic = \\\n",
        "pd.concat([topics_document_to_dataframe(topics_document, num_topics=num_topics) for topics_document in topics]) \\\n",
        "  .reset_index(drop=True).fillna(0)\n",
        "\n",
        "#document_topic"
      ],
      "execution_count": null,
      "outputs": []
    },
    {
      "cell_type": "code",
      "metadata": {
        "id": "mDHjiUe2gErg",
        "outputId": "11a74e7f-0aed-4b38-b22f-cd22291a2006",
        "colab": {
          "base_uri": "https://localhost:8080/",
          "height": 204
        }
      },
      "source": [
        "document_topic.sort_values(5, ascending=False)[5].head(10)"
      ],
      "execution_count": null,
      "outputs": [
        {
          "output_type": "execute_result",
          "data": {
            "text/plain": [
              "8     0.997619\n",
              "17    0.996725\n",
              "0     0.996631\n",
              "7     0.996354\n",
              "24    0.996028\n",
              "14    0.994900\n",
              "11    0.989630\n",
              "22    0.927352\n",
              "13    0.263976\n",
              "27    0.242323\n",
              "Name: 5, dtype: float64"
            ]
          },
          "metadata": {
            "tags": []
          },
          "execution_count": 28
        }
      ]
    },
    {
      "cell_type": "code",
      "metadata": {
        "id": "IvtkdozSibix",
        "outputId": "5e60258e-ae5b-49d8-e98a-f7b4a7b84dc2",
        "colab": {
          "base_uri": "https://localhost:8080/",
          "height": 1000
        }
      },
      "source": [
        "documents_lda = model[documents_bow]\n",
        "\n",
        "topic_dt = pd.DataFrame(documents_lda)\n",
        "doc_dt = pd.DataFrame(file_ids)\n",
        "conc = pd.concat([doc_dt, topic_dt], axis=1)\n",
        "conc.columns = ['doc_id', 'topic1', 'topic2', 'topic3']\n",
        "conc.sort_values(['topic1'], ascending=True, inplace=True)\n",
        "conc"
      ],
      "execution_count": null,
      "outputs": [
        {
          "output_type": "execute_result",
          "data": {
            "text/html": [
              "<div>\n",
              "<style scoped>\n",
              "    .dataframe tbody tr th:only-of-type {\n",
              "        vertical-align: middle;\n",
              "    }\n",
              "\n",
              "    .dataframe tbody tr th {\n",
              "        vertical-align: top;\n",
              "    }\n",
              "\n",
              "    .dataframe thead th {\n",
              "        text-align: right;\n",
              "    }\n",
              "</style>\n",
              "<table border=\"1\" class=\"dataframe\">\n",
              "  <thead>\n",
              "    <tr style=\"text-align: right;\">\n",
              "      <th></th>\n",
              "      <th>doc_id</th>\n",
              "      <th>topic1</th>\n",
              "      <th>topic2</th>\n",
              "      <th>topic3</th>\n",
              "    </tr>\n",
              "  </thead>\n",
              "  <tbody>\n",
              "    <tr>\n",
              "      <th>12</th>\n",
              "      <td>Hirth.txt</td>\n",
              "      <td>(1, 0.9987719)</td>\n",
              "      <td>None</td>\n",
              "      <td>None</td>\n",
              "    </tr>\n",
              "    <tr>\n",
              "      <th>27</th>\n",
              "      <td>Snower.txt</td>\n",
              "      <td>(3, 0.7528624)</td>\n",
              "      <td>(5, 0.24232279)</td>\n",
              "      <td>None</td>\n",
              "    </tr>\n",
              "    <tr>\n",
              "      <th>13</th>\n",
              "      <td>Hustedt.txt</td>\n",
              "      <td>(5, 0.26397434)</td>\n",
              "      <td>(10, 0.4501205)</td>\n",
              "      <td>(11, 0.2823809)</td>\n",
              "    </tr>\n",
              "    <tr>\n",
              "      <th>22</th>\n",
              "      <td>Munzert.txt</td>\n",
              "      <td>(5, 0.9273515)</td>\n",
              "      <td>(10, 0.070632994)</td>\n",
              "      <td>None</td>\n",
              "    </tr>\n",
              "    <tr>\n",
              "      <th>11</th>\n",
              "      <td>Hassel.txt</td>\n",
              "      <td>(5, 0.9896296)</td>\n",
              "      <td>None</td>\n",
              "      <td>None</td>\n",
              "    </tr>\n",
              "    <tr>\n",
              "      <th>14</th>\n",
              "      <td>Iacovone.txt</td>\n",
              "      <td>(5, 0.9948998)</td>\n",
              "      <td>None</td>\n",
              "      <td>None</td>\n",
              "    </tr>\n",
              "    <tr>\n",
              "      <th>24</th>\n",
              "      <td>Reh.txt</td>\n",
              "      <td>(5, 0.99602836)</td>\n",
              "      <td>None</td>\n",
              "      <td>None</td>\n",
              "    </tr>\n",
              "    <tr>\n",
              "      <th>7</th>\n",
              "      <td>GohdesHW.txt</td>\n",
              "      <td>(5, 0.99635416)</td>\n",
              "      <td>None</td>\n",
              "      <td>None</td>\n",
              "    </tr>\n",
              "    <tr>\n",
              "      <th>0</th>\n",
              "      <td>Anheier.txt</td>\n",
              "      <td>(5, 0.9966306)</td>\n",
              "      <td>None</td>\n",
              "      <td>None</td>\n",
              "    </tr>\n",
              "    <tr>\n",
              "      <th>17</th>\n",
              "      <td>Kayser.txt</td>\n",
              "      <td>(5, 0.9967252)</td>\n",
              "      <td>None</td>\n",
              "      <td>None</td>\n",
              "    </tr>\n",
              "    <tr>\n",
              "      <th>8</th>\n",
              "      <td>Graf.txt</td>\n",
              "      <td>(5, 0.9976191)</td>\n",
              "      <td>None</td>\n",
              "      <td>None</td>\n",
              "    </tr>\n",
              "    <tr>\n",
              "      <th>29</th>\n",
              "      <td>Traxler.txt</td>\n",
              "      <td>(6, 0.01236416)</td>\n",
              "      <td>(8, 0.98650885)</td>\n",
              "      <td>None</td>\n",
              "    </tr>\n",
              "    <tr>\n",
              "      <th>15</th>\n",
              "      <td>Jachtenfuchs.txt</td>\n",
              "      <td>(6, 0.99503547)</td>\n",
              "      <td>None</td>\n",
              "      <td>None</td>\n",
              "    </tr>\n",
              "    <tr>\n",
              "      <th>19</th>\n",
              "      <td>Mair.txt</td>\n",
              "      <td>(6, 0.9970925)</td>\n",
              "      <td>None</td>\n",
              "      <td>None</td>\n",
              "    </tr>\n",
              "    <tr>\n",
              "      <th>26</th>\n",
              "      <td>Shaikh.txt</td>\n",
              "      <td>(6, 0.997341)</td>\n",
              "      <td>None</td>\n",
              "      <td>None</td>\n",
              "    </tr>\n",
              "    <tr>\n",
              "      <th>30</th>\n",
              "      <td>Wegrich.txt</td>\n",
              "      <td>(8, 0.7068859)</td>\n",
              "      <td>(11, 0.2876975)</td>\n",
              "      <td>None</td>\n",
              "    </tr>\n",
              "    <tr>\n",
              "      <th>6</th>\n",
              "      <td>Flachsland.txt</td>\n",
              "      <td>(8, 0.9975309)</td>\n",
              "      <td>None</td>\n",
              "      <td>None</td>\n",
              "    </tr>\n",
              "    <tr>\n",
              "      <th>3</th>\n",
              "      <td>Cingolani.txt</td>\n",
              "      <td>(9, 0.58638835)</td>\n",
              "      <td>(11, 0.4082619)</td>\n",
              "      <td>None</td>\n",
              "    </tr>\n",
              "    <tr>\n",
              "      <th>23</th>\n",
              "      <td>Patz.txt</td>\n",
              "      <td>(9, 0.99658126)</td>\n",
              "      <td>None</td>\n",
              "      <td>None</td>\n",
              "    </tr>\n",
              "    <tr>\n",
              "      <th>28</th>\n",
              "      <td>Stockman.txt</td>\n",
              "      <td>(9, 0.99813336)</td>\n",
              "      <td>None</td>\n",
              "      <td>None</td>\n",
              "    </tr>\n",
              "    <tr>\n",
              "      <th>16</th>\n",
              "      <td>Jankin.txt</td>\n",
              "      <td>(10, 0.997613)</td>\n",
              "      <td>None</td>\n",
              "      <td>None</td>\n",
              "    </tr>\n",
              "    <tr>\n",
              "      <th>21</th>\n",
              "      <td>MungiuPippidi.txt</td>\n",
              "      <td>(10, 0.9986628)</td>\n",
              "      <td>None</td>\n",
              "      <td>None</td>\n",
              "    </tr>\n",
              "    <tr>\n",
              "      <th>25</th>\n",
              "      <td>Roemmele.txt</td>\n",
              "      <td>(11, 0.9920904)</td>\n",
              "      <td>None</td>\n",
              "      <td>None</td>\n",
              "    </tr>\n",
              "    <tr>\n",
              "      <th>18</th>\n",
              "      <td>Kreyenfeld.txt</td>\n",
              "      <td>(11, 0.9939394)</td>\n",
              "      <td>None</td>\n",
              "      <td>None</td>\n",
              "    </tr>\n",
              "    <tr>\n",
              "      <th>20</th>\n",
              "      <td>Mena.txt</td>\n",
              "      <td>(11, 0.99565893)</td>\n",
              "      <td>None</td>\n",
              "      <td>None</td>\n",
              "    </tr>\n",
              "    <tr>\n",
              "      <th>9</th>\n",
              "      <td>Hallerberg.txt</td>\n",
              "      <td>(11, 0.99691975)</td>\n",
              "      <td>None</td>\n",
              "      <td>None</td>\n",
              "    </tr>\n",
              "    <tr>\n",
              "      <th>10</th>\n",
              "      <td>Hammerschmid.txt</td>\n",
              "      <td>(11, 0.99763715)</td>\n",
              "      <td>None</td>\n",
              "      <td>None</td>\n",
              "    </tr>\n",
              "    <tr>\n",
              "      <th>5</th>\n",
              "      <td>Dawson.txt</td>\n",
              "      <td>(12, 0.9955766)</td>\n",
              "      <td>None</td>\n",
              "      <td>None</td>\n",
              "    </tr>\n",
              "    <tr>\n",
              "      <th>4</th>\n",
              "      <td>Costello.txt</td>\n",
              "      <td>(12, 0.9965044)</td>\n",
              "      <td>None</td>\n",
              "      <td>None</td>\n",
              "    </tr>\n",
              "    <tr>\n",
              "      <th>2</th>\n",
              "      <td>Cali.txt</td>\n",
              "      <td>(12, 0.9970371)</td>\n",
              "      <td>None</td>\n",
              "      <td>None</td>\n",
              "    </tr>\n",
              "    <tr>\n",
              "      <th>1</th>\n",
              "      <td>Bryson.txt</td>\n",
              "      <td>(12, 0.9977456)</td>\n",
              "      <td>None</td>\n",
              "      <td>None</td>\n",
              "    </tr>\n",
              "  </tbody>\n",
              "</table>\n",
              "</div>"
            ],
            "text/plain": [
              "               doc_id            topic1             topic2           topic3\n",
              "12          Hirth.txt    (1, 0.9987719)               None             None\n",
              "27         Snower.txt    (3, 0.7528624)    (5, 0.24232279)             None\n",
              "13        Hustedt.txt   (5, 0.26397434)    (10, 0.4501205)  (11, 0.2823809)\n",
              "22        Munzert.txt    (5, 0.9273515)  (10, 0.070632994)             None\n",
              "11         Hassel.txt    (5, 0.9896296)               None             None\n",
              "14       Iacovone.txt    (5, 0.9948998)               None             None\n",
              "24            Reh.txt   (5, 0.99602836)               None             None\n",
              "7        GohdesHW.txt   (5, 0.99635416)               None             None\n",
              "0         Anheier.txt    (5, 0.9966306)               None             None\n",
              "17         Kayser.txt    (5, 0.9967252)               None             None\n",
              "8            Graf.txt    (5, 0.9976191)               None             None\n",
              "29        Traxler.txt   (6, 0.01236416)    (8, 0.98650885)             None\n",
              "15   Jachtenfuchs.txt   (6, 0.99503547)               None             None\n",
              "19           Mair.txt    (6, 0.9970925)               None             None\n",
              "26         Shaikh.txt     (6, 0.997341)               None             None\n",
              "30        Wegrich.txt    (8, 0.7068859)    (11, 0.2876975)             None\n",
              "6      Flachsland.txt    (8, 0.9975309)               None             None\n",
              "3       Cingolani.txt   (9, 0.58638835)    (11, 0.4082619)             None\n",
              "23           Patz.txt   (9, 0.99658126)               None             None\n",
              "28       Stockman.txt   (9, 0.99813336)               None             None\n",
              "16         Jankin.txt    (10, 0.997613)               None             None\n",
              "21  MungiuPippidi.txt   (10, 0.9986628)               None             None\n",
              "25       Roemmele.txt   (11, 0.9920904)               None             None\n",
              "18     Kreyenfeld.txt   (11, 0.9939394)               None             None\n",
              "20           Mena.txt  (11, 0.99565893)               None             None\n",
              "9      Hallerberg.txt  (11, 0.99691975)               None             None\n",
              "10   Hammerschmid.txt  (11, 0.99763715)               None             None\n",
              "5          Dawson.txt   (12, 0.9955766)               None             None\n",
              "4        Costello.txt   (12, 0.9965044)               None             None\n",
              "2            Cali.txt   (12, 0.9970371)               None             None\n",
              "1          Bryson.txt   (12, 0.9977456)               None             None"
            ]
          },
          "metadata": {
            "tags": []
          },
          "execution_count": 32
        }
      ]
    }
  ]
}